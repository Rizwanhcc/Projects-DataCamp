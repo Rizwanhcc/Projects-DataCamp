{
 "cells": [
  {
   "cell_type": "markdown",
   "metadata": {
    "papermill": {
     "duration": 0.04769,
     "end_time": "2021-02-20T21:52:22.309589",
     "exception": false,
     "start_time": "2021-02-20T21:52:22.261899",
     "status": "completed"
    },
    "tags": []
   },
   "source": [
    "<img src=\"https://res.cloudinary.com/cognitives-s3/image/upload/c_limit,dpr_auto,f_auto,fl_lossy,q_auto,w_1200/v1/cog-live/n/1271/2020/May/21/cgWhR4ArheoPsIKgoFRl.jpg\" width=\"500px\">"
   ]
  },
  {
   "cell_type": "markdown",
   "metadata": {
    "papermill": {
     "duration": 0.045176,
     "end_time": "2021-02-20T21:52:22.400725",
     "exception": false,
     "start_time": "2021-02-20T21:52:22.355549",
     "status": "completed"
    },
    "tags": []
   },
   "source": [
    "# COVID-19 Vaccination Progress - The Big Picture\n",
    "___"
   ]
  },
  {
   "cell_type": "markdown",
   "metadata": {
    "papermill": {
     "duration": 0.044187,
     "end_time": "2021-02-20T21:52:22.489635",
     "exception": false,
     "start_time": "2021-02-20T21:52:22.445448",
     "status": "completed"
    },
    "tags": []
   },
   "source": [
    "The vaccination campaign started around three months ago already and with so many information in the media, it may be difficult to get the big picture.\n",
    "\n",
    "This data analysis is focused on summarizing how the COVID-19 vaccination is going around the world. More accurately, it is focused on answering the following questions: \n",
    "\n",
    "* How many types of vaccine are used? Where a specific vaccine is used in the world?\n",
    "* Where are vaccinated more people per day?\n",
    "* Where is the vaccination program more advanced? When will we have 25% of the population immunized?"
   ]
  },
  {
   "cell_type": "code",
   "execution_count": 1,
   "metadata": {
    "_cell_guid": "b1076dfc-b9ad-4769-8c92-a6c4dae69d19",
    "_uuid": "8f2839f25d086af736a60e9eeb907d3b93b6e0e5",
    "papermill": {
     "duration": 1.384874,
     "end_time": "2021-02-20T21:52:23.919050",
     "exception": false,
     "start_time": "2021-02-20T21:52:22.534176",
     "status": "completed"
    },
    "tags": []
   },
   "outputs": [],
   "source": [
    "import numpy as np\n",
    "import pandas as pd\n",
    "import matplotlib.pyplot as plt\n",
    "import plotly.express as px\n",
    "from fbprophet import Prophet\n",
    "from fbprophet.plot import plot_plotly\n",
    "pd.set_option('display.float_format', lambda x: '%.2f' % x)"
   ]
  },
  {
   "cell_type": "code",
   "execution_count": null,
   "metadata": {},
   "outputs": [],
   "source": [
    "#pip install fbprophet"
   ]
  },
  {
   "cell_type": "markdown",
   "metadata": {
    "papermill": {
     "duration": 0.044696,
     "end_time": "2021-02-20T21:52:24.010684",
     "exception": false,
     "start_time": "2021-02-20T21:52:23.965988",
     "status": "completed"
    },
    "tags": []
   },
   "source": [
    "## 1. Data Preparation\n",
    "___\n"
   ]
  },
  {
   "cell_type": "markdown",
   "metadata": {
    "papermill": {
     "duration": 0.044469,
     "end_time": "2021-02-20T21:52:24.099695",
     "exception": false,
     "start_time": "2021-02-20T21:52:24.055226",
     "status": "completed"
    },
    "tags": []
   },
   "source": [
    "### 1.1. Importing and merging the data sources"
   ]
  },
  {
   "cell_type": "code",
   "execution_count": 2,
   "metadata": {
    "papermill": {
     "duration": 0.130803,
     "end_time": "2021-02-20T21:52:24.275639",
     "exception": false,
     "start_time": "2021-02-20T21:52:24.144836",
     "status": "completed"
    },
    "tags": []
   },
   "outputs": [
    {
     "data": {
      "text/html": [
       "<div>\n",
       "<style scoped>\n",
       "    .dataframe tbody tr th:only-of-type {\n",
       "        vertical-align: middle;\n",
       "    }\n",
       "\n",
       "    .dataframe tbody tr th {\n",
       "        vertical-align: top;\n",
       "    }\n",
       "\n",
       "    .dataframe thead th {\n",
       "        text-align: right;\n",
       "    }\n",
       "</style>\n",
       "<table border=\"1\" class=\"dataframe\">\n",
       "  <thead>\n",
       "    <tr style=\"text-align: right;\">\n",
       "      <th></th>\n",
       "      <th>country</th>\n",
       "      <th>iso_code</th>\n",
       "      <th>date</th>\n",
       "      <th>total_vaccinations</th>\n",
       "      <th>people_vaccinated</th>\n",
       "      <th>people_fully_vaccinated</th>\n",
       "      <th>daily_vaccinations_raw</th>\n",
       "      <th>daily_vaccinations</th>\n",
       "      <th>total_vaccinations_per_hundred</th>\n",
       "      <th>people_vaccinated_per_hundred</th>\n",
       "      <th>people_fully_vaccinated_per_hundred</th>\n",
       "      <th>daily_vaccinations_per_million</th>\n",
       "      <th>vaccines</th>\n",
       "      <th>source_name</th>\n",
       "      <th>source_website</th>\n",
       "    </tr>\n",
       "  </thead>\n",
       "  <tbody>\n",
       "    <tr>\n",
       "      <th>0</th>\n",
       "      <td>Albania</td>\n",
       "      <td>ALB</td>\n",
       "      <td>2021-01-10</td>\n",
       "      <td>0.00</td>\n",
       "      <td>0.00</td>\n",
       "      <td>nan</td>\n",
       "      <td>nan</td>\n",
       "      <td>nan</td>\n",
       "      <td>0.00</td>\n",
       "      <td>0.00</td>\n",
       "      <td>nan</td>\n",
       "      <td>nan</td>\n",
       "      <td>Pfizer/BioNTech</td>\n",
       "      <td>Ministry of Health</td>\n",
       "      <td>https://shendetesia.gov.al/covid19-ministria-e...</td>\n",
       "    </tr>\n",
       "    <tr>\n",
       "      <th>1</th>\n",
       "      <td>Albania</td>\n",
       "      <td>ALB</td>\n",
       "      <td>2021-01-11</td>\n",
       "      <td>nan</td>\n",
       "      <td>nan</td>\n",
       "      <td>nan</td>\n",
       "      <td>nan</td>\n",
       "      <td>64.00</td>\n",
       "      <td>nan</td>\n",
       "      <td>nan</td>\n",
       "      <td>nan</td>\n",
       "      <td>22.00</td>\n",
       "      <td>Pfizer/BioNTech</td>\n",
       "      <td>Ministry of Health</td>\n",
       "      <td>https://shendetesia.gov.al/covid19-ministria-e...</td>\n",
       "    </tr>\n",
       "    <tr>\n",
       "      <th>2</th>\n",
       "      <td>Albania</td>\n",
       "      <td>ALB</td>\n",
       "      <td>2021-01-12</td>\n",
       "      <td>128.00</td>\n",
       "      <td>128.00</td>\n",
       "      <td>nan</td>\n",
       "      <td>nan</td>\n",
       "      <td>64.00</td>\n",
       "      <td>0.00</td>\n",
       "      <td>0.00</td>\n",
       "      <td>nan</td>\n",
       "      <td>22.00</td>\n",
       "      <td>Pfizer/BioNTech</td>\n",
       "      <td>Ministry of Health</td>\n",
       "      <td>https://shendetesia.gov.al/covid19-ministria-e...</td>\n",
       "    </tr>\n",
       "    <tr>\n",
       "      <th>3</th>\n",
       "      <td>Albania</td>\n",
       "      <td>ALB</td>\n",
       "      <td>2021-01-13</td>\n",
       "      <td>188.00</td>\n",
       "      <td>188.00</td>\n",
       "      <td>nan</td>\n",
       "      <td>60.00</td>\n",
       "      <td>63.00</td>\n",
       "      <td>0.01</td>\n",
       "      <td>0.01</td>\n",
       "      <td>nan</td>\n",
       "      <td>22.00</td>\n",
       "      <td>Pfizer/BioNTech</td>\n",
       "      <td>Ministry of Health</td>\n",
       "      <td>https://shendetesia.gov.al/covid19-ministria-e...</td>\n",
       "    </tr>\n",
       "    <tr>\n",
       "      <th>4</th>\n",
       "      <td>Albania</td>\n",
       "      <td>ALB</td>\n",
       "      <td>2021-01-14</td>\n",
       "      <td>266.00</td>\n",
       "      <td>266.00</td>\n",
       "      <td>nan</td>\n",
       "      <td>78.00</td>\n",
       "      <td>66.00</td>\n",
       "      <td>0.01</td>\n",
       "      <td>0.01</td>\n",
       "      <td>nan</td>\n",
       "      <td>23.00</td>\n",
       "      <td>Pfizer/BioNTech</td>\n",
       "      <td>Ministry of Health</td>\n",
       "      <td>https://shendetesia.gov.al/covid19-ministria-e...</td>\n",
       "    </tr>\n",
       "  </tbody>\n",
       "</table>\n",
       "</div>"
      ],
      "text/plain": [
       "   country iso_code        date  total_vaccinations  people_vaccinated  \\\n",
       "0  Albania      ALB  2021-01-10                0.00               0.00   \n",
       "1  Albania      ALB  2021-01-11                 nan                nan   \n",
       "2  Albania      ALB  2021-01-12              128.00             128.00   \n",
       "3  Albania      ALB  2021-01-13              188.00             188.00   \n",
       "4  Albania      ALB  2021-01-14              266.00             266.00   \n",
       "\n",
       "   people_fully_vaccinated  daily_vaccinations_raw  daily_vaccinations  \\\n",
       "0                      nan                     nan                 nan   \n",
       "1                      nan                     nan               64.00   \n",
       "2                      nan                     nan               64.00   \n",
       "3                      nan                   60.00               63.00   \n",
       "4                      nan                   78.00               66.00   \n",
       "\n",
       "   total_vaccinations_per_hundred  people_vaccinated_per_hundred  \\\n",
       "0                            0.00                           0.00   \n",
       "1                             nan                            nan   \n",
       "2                            0.00                           0.00   \n",
       "3                            0.01                           0.01   \n",
       "4                            0.01                           0.01   \n",
       "\n",
       "   people_fully_vaccinated_per_hundred  daily_vaccinations_per_million  \\\n",
       "0                                  nan                             nan   \n",
       "1                                  nan                           22.00   \n",
       "2                                  nan                           22.00   \n",
       "3                                  nan                           22.00   \n",
       "4                                  nan                           23.00   \n",
       "\n",
       "          vaccines         source_name  \\\n",
       "0  Pfizer/BioNTech  Ministry of Health   \n",
       "1  Pfizer/BioNTech  Ministry of Health   \n",
       "2  Pfizer/BioNTech  Ministry of Health   \n",
       "3  Pfizer/BioNTech  Ministry of Health   \n",
       "4  Pfizer/BioNTech  Ministry of Health   \n",
       "\n",
       "                                      source_website  \n",
       "0  https://shendetesia.gov.al/covid19-ministria-e...  \n",
       "1  https://shendetesia.gov.al/covid19-ministria-e...  \n",
       "2  https://shendetesia.gov.al/covid19-ministria-e...  \n",
       "3  https://shendetesia.gov.al/covid19-ministria-e...  \n",
       "4  https://shendetesia.gov.al/covid19-ministria-e...  "
      ]
     },
     "execution_count": 2,
     "metadata": {},
     "output_type": "execute_result"
    }
   ],
   "source": [
    "vaccinations = pd.read_csv('country_vaccinations.csv')\n",
    "vaccinations.head()"
   ]
  },
  {
   "cell_type": "markdown",
   "metadata": {
    "papermill": {
     "duration": 0.057373,
     "end_time": "2021-02-20T21:52:24.390969",
     "exception": false,
     "start_time": "2021-02-20T21:52:24.333596",
     "status": "completed"
    },
    "tags": []
   },
   "source": [
    "I will keep only the columns that I think will help me answer my questions."
   ]
  },
  {
   "cell_type": "code",
   "execution_count": 3,
   "metadata": {
    "papermill": {
     "duration": 0.068045,
     "end_time": "2021-02-20T21:52:24.515884",
     "exception": false,
     "start_time": "2021-02-20T21:52:24.447839",
     "status": "completed"
    },
    "tags": []
   },
   "outputs": [],
   "source": [
    "vaccinations = vaccinations[['date', \n",
    "                             'country', \n",
    "                             'iso_code', \n",
    "                             'daily_vaccinations', \n",
    "                             'people_vaccinated_per_hundred',\n",
    "                             'vaccines',\n",
    "                            ]]"
   ]
  },
  {
   "cell_type": "markdown",
   "metadata": {
    "papermill": {
     "duration": 0.045827,
     "end_time": "2021-02-20T21:52:24.607997",
     "exception": false,
     "start_time": "2021-02-20T21:52:24.562170",
     "status": "completed"
    },
    "tags": []
   },
   "source": [
    "In addition, I would need continent/region information for each country. But, before joining the data, I will check for categorical missing values:"
   ]
  },
  {
   "cell_type": "code",
   "execution_count": 4,
   "metadata": {
    "papermill": {
     "duration": 0.061763,
     "end_time": "2021-02-20T21:52:24.716057",
     "exception": false,
     "start_time": "2021-02-20T21:52:24.654294",
     "status": "completed"
    },
    "tags": []
   },
   "outputs": [
    {
     "data": {
      "text/plain": [
       "date          0\n",
       "country       0\n",
       "iso_code    272\n",
       "vaccines      0\n",
       "dtype: int64"
      ]
     },
     "execution_count": 4,
     "metadata": {},
     "output_type": "execute_result"
    }
   ],
   "source": [
    "vaccinations.select_dtypes(include=['object']).isnull().sum()"
   ]
  },
  {
   "cell_type": "markdown",
   "metadata": {
    "papermill": {
     "duration": 0.046272,
     "end_time": "2021-02-20T21:52:24.808515",
     "exception": false,
     "start_time": "2021-02-20T21:52:24.762243",
     "status": "completed"
    },
    "tags": []
   },
   "source": [
    "We are missing *iso_code* values for the following countries:"
   ]
  },
  {
   "cell_type": "code",
   "execution_count": 5,
   "metadata": {
    "papermill": {
     "duration": 0.063704,
     "end_time": "2021-02-20T21:52:24.918546",
     "exception": false,
     "start_time": "2021-02-20T21:52:24.854842",
     "status": "completed"
    },
    "tags": []
   },
   "outputs": [
    {
     "data": {
      "text/plain": [
       "Wales               68\n",
       "Scotland            68\n",
       "Northern Ireland    68\n",
       "England             68\n",
       "Name: country, dtype: int64"
      ]
     },
     "execution_count": 5,
     "metadata": {},
     "output_type": "execute_result"
    }
   ],
   "source": [
    "vaccinations.loc[vaccinations.iso_code.isnull(), 'country'].value_counts()"
   ]
  },
  {
   "cell_type": "markdown",
   "metadata": {
    "papermill": {
     "duration": 0.059533,
     "end_time": "2021-02-20T21:52:25.030195",
     "exception": false,
     "start_time": "2021-02-20T21:52:24.970662",
     "status": "completed"
    },
    "tags": []
   },
   "source": [
    "All countries are part of the United Kingdom. Let's fill the missing values with United Kingdom's *iso_code*"
   ]
  },
  {
   "cell_type": "code",
   "execution_count": 6,
   "metadata": {
    "papermill": {
     "duration": 0.070012,
     "end_time": "2021-02-20T21:52:25.147895",
     "exception": false,
     "start_time": "2021-02-20T21:52:25.077883",
     "status": "completed"
    },
    "tags": []
   },
   "outputs": [
    {
     "data": {
      "text/plain": [
       "array(['GBR'], dtype=object)"
      ]
     },
     "execution_count": 6,
     "metadata": {},
     "output_type": "execute_result"
    }
   ],
   "source": [
    "vaccinations.loc[vaccinations.country == 'United Kingdom', 'iso_code'].unique()"
   ]
  },
  {
   "cell_type": "code",
   "execution_count": 7,
   "metadata": {
    "papermill": {
     "duration": 0.067403,
     "end_time": "2021-02-20T21:52:25.262850",
     "exception": false,
     "start_time": "2021-02-20T21:52:25.195447",
     "status": "completed"
    },
    "tags": []
   },
   "outputs": [],
   "source": [
    "vaccinations.loc[vaccinations.country.isin(['England', 'Scotland', 'Wales', 'Northern Ireland']), 'iso_code'] = 'GBR'"
   ]
  },
  {
   "cell_type": "markdown",
   "metadata": {
    "papermill": {
     "duration": 0.047289,
     "end_time": "2021-02-20T21:52:25.362366",
     "exception": false,
     "start_time": "2021-02-20T21:52:25.315077",
     "status": "completed"
    },
    "tags": []
   },
   "source": [
    "Now we are ready for the **data enrichment** -> adding *region* and *sub-region* info to be able to analyze data at continent/region level"
   ]
  },
  {
   "cell_type": "code",
   "execution_count": 9,
   "metadata": {
    "papermill": {
     "duration": 0.099729,
     "end_time": "2021-02-20T21:52:25.510712",
     "exception": false,
     "start_time": "2021-02-20T21:52:25.410983",
     "status": "completed"
    },
    "tags": []
   },
   "outputs": [
    {
     "data": {
      "text/html": [
       "<div>\n",
       "<style scoped>\n",
       "    .dataframe tbody tr th:only-of-type {\n",
       "        vertical-align: middle;\n",
       "    }\n",
       "\n",
       "    .dataframe tbody tr th {\n",
       "        vertical-align: top;\n",
       "    }\n",
       "\n",
       "    .dataframe thead th {\n",
       "        text-align: right;\n",
       "    }\n",
       "</style>\n",
       "<table border=\"1\" class=\"dataframe\">\n",
       "  <thead>\n",
       "    <tr style=\"text-align: right;\">\n",
       "      <th></th>\n",
       "      <th>name</th>\n",
       "      <th>alpha-2</th>\n",
       "      <th>alpha-3</th>\n",
       "      <th>country-code</th>\n",
       "      <th>iso_3166-2</th>\n",
       "      <th>region</th>\n",
       "      <th>sub-region</th>\n",
       "      <th>intermediate-region</th>\n",
       "      <th>region-code</th>\n",
       "      <th>sub-region-code</th>\n",
       "      <th>intermediate-region-code</th>\n",
       "    </tr>\n",
       "  </thead>\n",
       "  <tbody>\n",
       "    <tr>\n",
       "      <th>0</th>\n",
       "      <td>Afghanistan</td>\n",
       "      <td>AF</td>\n",
       "      <td>AFG</td>\n",
       "      <td>4</td>\n",
       "      <td>ISO 3166-2:AF</td>\n",
       "      <td>Asia</td>\n",
       "      <td>Southern Asia</td>\n",
       "      <td>NaN</td>\n",
       "      <td>142.00</td>\n",
       "      <td>34.00</td>\n",
       "      <td>nan</td>\n",
       "    </tr>\n",
       "    <tr>\n",
       "      <th>1</th>\n",
       "      <td>Åland Islands</td>\n",
       "      <td>AX</td>\n",
       "      <td>ALA</td>\n",
       "      <td>248</td>\n",
       "      <td>ISO 3166-2:AX</td>\n",
       "      <td>Europe</td>\n",
       "      <td>Northern Europe</td>\n",
       "      <td>NaN</td>\n",
       "      <td>150.00</td>\n",
       "      <td>154.00</td>\n",
       "      <td>nan</td>\n",
       "    </tr>\n",
       "    <tr>\n",
       "      <th>2</th>\n",
       "      <td>Albania</td>\n",
       "      <td>AL</td>\n",
       "      <td>ALB</td>\n",
       "      <td>8</td>\n",
       "      <td>ISO 3166-2:AL</td>\n",
       "      <td>Europe</td>\n",
       "      <td>Southern Europe</td>\n",
       "      <td>NaN</td>\n",
       "      <td>150.00</td>\n",
       "      <td>39.00</td>\n",
       "      <td>nan</td>\n",
       "    </tr>\n",
       "    <tr>\n",
       "      <th>3</th>\n",
       "      <td>Algeria</td>\n",
       "      <td>DZ</td>\n",
       "      <td>DZA</td>\n",
       "      <td>12</td>\n",
       "      <td>ISO 3166-2:DZ</td>\n",
       "      <td>Africa</td>\n",
       "      <td>Northern Africa</td>\n",
       "      <td>NaN</td>\n",
       "      <td>2.00</td>\n",
       "      <td>15.00</td>\n",
       "      <td>nan</td>\n",
       "    </tr>\n",
       "    <tr>\n",
       "      <th>4</th>\n",
       "      <td>American Samoa</td>\n",
       "      <td>AS</td>\n",
       "      <td>ASM</td>\n",
       "      <td>16</td>\n",
       "      <td>ISO 3166-2:AS</td>\n",
       "      <td>Oceania</td>\n",
       "      <td>Polynesia</td>\n",
       "      <td>NaN</td>\n",
       "      <td>9.00</td>\n",
       "      <td>61.00</td>\n",
       "      <td>nan</td>\n",
       "    </tr>\n",
       "  </tbody>\n",
       "</table>\n",
       "</div>"
      ],
      "text/plain": [
       "             name alpha-2 alpha-3  country-code     iso_3166-2   region  \\\n",
       "0     Afghanistan      AF     AFG             4  ISO 3166-2:AF     Asia   \n",
       "1   Åland Islands      AX     ALA           248  ISO 3166-2:AX   Europe   \n",
       "2         Albania      AL     ALB             8  ISO 3166-2:AL   Europe   \n",
       "3         Algeria      DZ     DZA            12  ISO 3166-2:DZ   Africa   \n",
       "4  American Samoa      AS     ASM            16  ISO 3166-2:AS  Oceania   \n",
       "\n",
       "        sub-region intermediate-region  region-code  sub-region-code  \\\n",
       "0    Southern Asia                 NaN       142.00            34.00   \n",
       "1  Northern Europe                 NaN       150.00           154.00   \n",
       "2  Southern Europe                 NaN       150.00            39.00   \n",
       "3  Northern Africa                 NaN         2.00            15.00   \n",
       "4        Polynesia                 NaN         9.00            61.00   \n",
       "\n",
       "   intermediate-region-code  \n",
       "0                       nan  \n",
       "1                       nan  \n",
       "2                       nan  \n",
       "3                       nan  \n",
       "4                       nan  "
      ]
     },
     "execution_count": 9,
     "metadata": {},
     "output_type": "execute_result"
    }
   ],
   "source": [
    "continents = pd.read_csv('continents2.csv')\n",
    "continents.head()"
   ]
  },
  {
   "cell_type": "code",
   "execution_count": 10,
   "metadata": {
    "papermill": {
     "duration": 0.082833,
     "end_time": "2021-02-20T21:52:25.645034",
     "exception": false,
     "start_time": "2021-02-20T21:52:25.562201",
     "status": "completed"
    },
    "tags": []
   },
   "outputs": [
    {
     "data": {
      "text/html": [
       "<div>\n",
       "<style scoped>\n",
       "    .dataframe tbody tr th:only-of-type {\n",
       "        vertical-align: middle;\n",
       "    }\n",
       "\n",
       "    .dataframe tbody tr th {\n",
       "        vertical-align: top;\n",
       "    }\n",
       "\n",
       "    .dataframe thead th {\n",
       "        text-align: right;\n",
       "    }\n",
       "</style>\n",
       "<table border=\"1\" class=\"dataframe\">\n",
       "  <thead>\n",
       "    <tr style=\"text-align: right;\">\n",
       "      <th></th>\n",
       "      <th>date</th>\n",
       "      <th>country</th>\n",
       "      <th>iso_code</th>\n",
       "      <th>daily_vaccinations</th>\n",
       "      <th>people_vaccinated_per_hundred</th>\n",
       "      <th>vaccines</th>\n",
       "      <th>region</th>\n",
       "      <th>sub-region</th>\n",
       "    </tr>\n",
       "  </thead>\n",
       "  <tbody>\n",
       "    <tr>\n",
       "      <th>0</th>\n",
       "      <td>2021-01-10</td>\n",
       "      <td>Albania</td>\n",
       "      <td>ALB</td>\n",
       "      <td>nan</td>\n",
       "      <td>0.00</td>\n",
       "      <td>Pfizer/BioNTech</td>\n",
       "      <td>Europe</td>\n",
       "      <td>Southern Europe</td>\n",
       "    </tr>\n",
       "    <tr>\n",
       "      <th>1</th>\n",
       "      <td>2021-01-11</td>\n",
       "      <td>Albania</td>\n",
       "      <td>ALB</td>\n",
       "      <td>64.00</td>\n",
       "      <td>nan</td>\n",
       "      <td>Pfizer/BioNTech</td>\n",
       "      <td>Europe</td>\n",
       "      <td>Southern Europe</td>\n",
       "    </tr>\n",
       "    <tr>\n",
       "      <th>2</th>\n",
       "      <td>2021-01-12</td>\n",
       "      <td>Albania</td>\n",
       "      <td>ALB</td>\n",
       "      <td>64.00</td>\n",
       "      <td>0.00</td>\n",
       "      <td>Pfizer/BioNTech</td>\n",
       "      <td>Europe</td>\n",
       "      <td>Southern Europe</td>\n",
       "    </tr>\n",
       "    <tr>\n",
       "      <th>3</th>\n",
       "      <td>2021-01-13</td>\n",
       "      <td>Albania</td>\n",
       "      <td>ALB</td>\n",
       "      <td>63.00</td>\n",
       "      <td>0.01</td>\n",
       "      <td>Pfizer/BioNTech</td>\n",
       "      <td>Europe</td>\n",
       "      <td>Southern Europe</td>\n",
       "    </tr>\n",
       "    <tr>\n",
       "      <th>4</th>\n",
       "      <td>2021-01-14</td>\n",
       "      <td>Albania</td>\n",
       "      <td>ALB</td>\n",
       "      <td>66.00</td>\n",
       "      <td>0.01</td>\n",
       "      <td>Pfizer/BioNTech</td>\n",
       "      <td>Europe</td>\n",
       "      <td>Southern Europe</td>\n",
       "    </tr>\n",
       "  </tbody>\n",
       "</table>\n",
       "</div>"
      ],
      "text/plain": [
       "         date  country iso_code  daily_vaccinations  \\\n",
       "0  2021-01-10  Albania      ALB                 nan   \n",
       "1  2021-01-11  Albania      ALB               64.00   \n",
       "2  2021-01-12  Albania      ALB               64.00   \n",
       "3  2021-01-13  Albania      ALB               63.00   \n",
       "4  2021-01-14  Albania      ALB               66.00   \n",
       "\n",
       "   people_vaccinated_per_hundred         vaccines  region       sub-region  \n",
       "0                           0.00  Pfizer/BioNTech  Europe  Southern Europe  \n",
       "1                            nan  Pfizer/BioNTech  Europe  Southern Europe  \n",
       "2                           0.00  Pfizer/BioNTech  Europe  Southern Europe  \n",
       "3                           0.01  Pfizer/BioNTech  Europe  Southern Europe  \n",
       "4                           0.01  Pfizer/BioNTech  Europe  Southern Europe  "
      ]
     },
     "execution_count": 10,
     "metadata": {},
     "output_type": "execute_result"
    }
   ],
   "source": [
    "data = vaccinations.merge(continents[['alpha-3', 'region', 'sub-region']],\n",
    "                          how='left',\n",
    "                          left_on = 'iso_code',\n",
    "                          right_on = 'alpha-3',\n",
    "                         ).drop(columns=['alpha-3'])\n",
    "data.head()"
   ]
  },
  {
   "cell_type": "markdown",
   "metadata": {
    "papermill": {
     "duration": 0.064436,
     "end_time": "2021-02-20T21:52:25.760208",
     "exception": false,
     "start_time": "2021-02-20T21:52:25.695772",
     "status": "completed"
    },
    "tags": []
   },
   "source": [
    "Renaming *region* and *sub-region* columns"
   ]
  },
  {
   "cell_type": "code",
   "execution_count": 11,
   "metadata": {
    "papermill": {
     "duration": 0.056367,
     "end_time": "2021-02-20T21:52:25.865089",
     "exception": false,
     "start_time": "2021-02-20T21:52:25.808722",
     "status": "completed"
    },
    "tags": []
   },
   "outputs": [],
   "source": [
    "data.columns = ['date', 'country', 'iso_code', 'daily_vaccinations', 'people_vaccinated_per_hundred', 'vaccines', \n",
    "                'continent', 'region']"
   ]
  },
  {
   "cell_type": "markdown",
   "metadata": {
    "papermill": {
     "duration": 0.049344,
     "end_time": "2021-02-20T21:52:25.962895",
     "exception": false,
     "start_time": "2021-02-20T21:52:25.913551",
     "status": "completed"
    },
    "tags": []
   },
   "source": [
    "I would like to split the Americas into North America and South America"
   ]
  },
  {
   "cell_type": "code",
   "execution_count": 12,
   "metadata": {
    "papermill": {
     "duration": 0.059677,
     "end_time": "2021-02-20T21:52:26.072285",
     "exception": false,
     "start_time": "2021-02-20T21:52:26.012608",
     "status": "completed"
    },
    "tags": []
   },
   "outputs": [
    {
     "data": {
      "text/plain": [
       "Europe      2104\n",
       "Asia         743\n",
       "Americas     594\n",
       "Africa       105\n",
       "Name: continent, dtype: int64"
      ]
     },
     "execution_count": 12,
     "metadata": {},
     "output_type": "execute_result"
    }
   ],
   "source": [
    "data.continent.value_counts()"
   ]
  },
  {
   "cell_type": "code",
   "execution_count": 13,
   "metadata": {
    "papermill": {
     "duration": 0.059548,
     "end_time": "2021-02-20T21:52:26.181124",
     "exception": false,
     "start_time": "2021-02-20T21:52:26.121576",
     "status": "completed"
    },
    "tags": []
   },
   "outputs": [],
   "source": [
    "data.loc[data.region == 'Northern America', 'continent'] = 'North America'\n",
    "data.loc[data.region == 'Latin America and the Caribbean', 'continent'] = 'South America'"
   ]
  },
  {
   "cell_type": "markdown",
   "metadata": {
    "papermill": {
     "duration": 0.051757,
     "end_time": "2021-02-20T21:52:26.282443",
     "exception": false,
     "start_time": "2021-02-20T21:52:26.230686",
     "status": "completed"
    },
    "tags": []
   },
   "source": [
    "### 1.2. Missing values"
   ]
  },
  {
   "cell_type": "code",
   "execution_count": 14,
   "metadata": {
    "papermill": {
     "duration": 0.061219,
     "end_time": "2021-02-20T21:52:26.392950",
     "exception": false,
     "start_time": "2021-02-20T21:52:26.331731",
     "status": "completed"
    },
    "tags": []
   },
   "outputs": [
    {
     "data": {
      "text/plain": [
       "date                                0\n",
       "country                             0\n",
       "iso_code                            0\n",
       "daily_vaccinations                135\n",
       "people_vaccinated_per_hundred    1615\n",
       "vaccines                            0\n",
       "continent                           9\n",
       "region                              9\n",
       "dtype: int64"
      ]
     },
     "execution_count": 14,
     "metadata": {},
     "output_type": "execute_result"
    }
   ],
   "source": [
    "data.isnull().sum()"
   ]
  },
  {
   "cell_type": "markdown",
   "metadata": {
    "papermill": {
     "duration": 0.049697,
     "end_time": "2021-02-20T21:52:26.492950",
     "exception": false,
     "start_time": "2021-02-20T21:52:26.443253",
     "status": "completed"
    },
    "tags": []
   },
   "source": [
    "We are missing *region / sub-region* for Northern Cyprus"
   ]
  },
  {
   "cell_type": "code",
   "execution_count": 15,
   "metadata": {
    "papermill": {
     "duration": 0.063305,
     "end_time": "2021-02-20T21:52:26.606230",
     "exception": false,
     "start_time": "2021-02-20T21:52:26.542925",
     "status": "completed"
    },
    "tags": []
   },
   "outputs": [
    {
     "data": {
      "text/plain": [
       "OWID_NCY    9\n",
       "Name: iso_code, dtype: int64"
      ]
     },
     "execution_count": 15,
     "metadata": {},
     "output_type": "execute_result"
    }
   ],
   "source": [
    "data.loc[data.continent.isnull(), 'iso_code'].value_counts()"
   ]
  },
  {
   "cell_type": "code",
   "execution_count": 16,
   "metadata": {
    "papermill": {
     "duration": 0.080362,
     "end_time": "2021-02-20T21:52:26.749987",
     "exception": false,
     "start_time": "2021-02-20T21:52:26.669625",
     "status": "completed"
    },
    "tags": []
   },
   "outputs": [
    {
     "data": {
      "text/html": [
       "<div>\n",
       "<style scoped>\n",
       "    .dataframe tbody tr th:only-of-type {\n",
       "        vertical-align: middle;\n",
       "    }\n",
       "\n",
       "    .dataframe tbody tr th {\n",
       "        vertical-align: top;\n",
       "    }\n",
       "\n",
       "    .dataframe thead th {\n",
       "        text-align: right;\n",
       "    }\n",
       "</style>\n",
       "<table border=\"1\" class=\"dataframe\">\n",
       "  <thead>\n",
       "    <tr style=\"text-align: right;\">\n",
       "      <th></th>\n",
       "      <th>continent</th>\n",
       "      <th>region</th>\n",
       "    </tr>\n",
       "  </thead>\n",
       "  <tbody>\n",
       "    <tr>\n",
       "      <th>814</th>\n",
       "      <td>Asia</td>\n",
       "      <td>Western Asia</td>\n",
       "    </tr>\n",
       "  </tbody>\n",
       "</table>\n",
       "</div>"
      ],
      "text/plain": [
       "    continent        region\n",
       "814      Asia  Western Asia"
      ]
     },
     "execution_count": 16,
     "metadata": {},
     "output_type": "execute_result"
    }
   ],
   "source": [
    "data[data.country.isin(['Cyprus', 'Turkey'])][['continent', 'region']].drop_duplicates()"
   ]
  },
  {
   "cell_type": "code",
   "execution_count": 17,
   "metadata": {
    "papermill": {
     "duration": 0.061755,
     "end_time": "2021-02-20T21:52:26.875557",
     "exception": false,
     "start_time": "2021-02-20T21:52:26.813802",
     "status": "completed"
    },
    "tags": []
   },
   "outputs": [],
   "source": [
    "data.loc[data.country == 'Northern Cyprus', 'continent'] = 'Asia'\n",
    "data.loc[data.country == 'Northern Cyprus', 'region'] = 'Western Asia'"
   ]
  },
  {
   "cell_type": "markdown",
   "metadata": {
    "papermill": {
     "duration": 0.051423,
     "end_time": "2021-02-20T21:52:26.977932",
     "exception": false,
     "start_time": "2021-02-20T21:52:26.926509",
     "status": "completed"
    },
    "tags": []
   },
   "source": [
    "We are missing *daily_vaccinations* info for 121 records. Let's see for which countries and which dates"
   ]
  },
  {
   "cell_type": "code",
   "execution_count": 18,
   "metadata": {
    "papermill": {
     "duration": 0.064734,
     "end_time": "2021-02-20T21:52:27.093585",
     "exception": false,
     "start_time": "2021-02-20T21:52:27.028851",
     "status": "completed"
    },
    "tags": []
   },
   "outputs": [
    {
     "data": {
      "text/plain": [
       "Latvia            18\n",
       "Albania            7\n",
       "Panama             6\n",
       "Canada             5\n",
       "Austria            4\n",
       "                  ..\n",
       "Indonesia          1\n",
       "Cayman Islands     1\n",
       "Belgium            1\n",
       "Mauritius          1\n",
       "United Kingdom     1\n",
       "Name: country, Length: 97, dtype: int64"
      ]
     },
     "execution_count": 18,
     "metadata": {},
     "output_type": "execute_result"
    }
   ],
   "source": [
    "data.loc[data.daily_vaccinations.isnull(), 'country'].value_counts()"
   ]
  },
  {
   "cell_type": "code",
   "execution_count": 19,
   "metadata": {
    "papermill": {
     "duration": 0.063432,
     "end_time": "2021-02-20T21:52:27.209624",
     "exception": false,
     "start_time": "2021-02-20T21:52:27.146192",
     "status": "completed"
    },
    "tags": []
   },
   "outputs": [
    {
     "data": {
      "text/plain": [
       "2020-12-28    10\n",
       "2020-12-27     9\n",
       "2021-01-10     6\n",
       "2020-12-30     5\n",
       "2021-01-24     5\n",
       "Name: date, dtype: int64"
      ]
     },
     "execution_count": 19,
     "metadata": {},
     "output_type": "execute_result"
    }
   ],
   "source": [
    "data.loc[data.daily_vaccinations.isnull(), 'date'].value_counts().head()"
   ]
  },
  {
   "cell_type": "markdown",
   "metadata": {
    "papermill": {
     "duration": 0.064661,
     "end_time": "2021-02-20T21:52:27.326285",
     "exception": false,
     "start_time": "2021-02-20T21:52:27.261624",
     "status": "completed"
    },
    "tags": []
   },
   "source": [
    "The majority is around Christmas and New Year's Eve and the missing values are distributed to all countries; it can be the case that no vaccinations were performed. However, I will choose not to make any assumption and not to fill the missing values for *daily_vaccinations*."
   ]
  },
  {
   "cell_type": "markdown",
   "metadata": {
    "papermill": {
     "duration": 0.055372,
     "end_time": "2021-02-20T21:52:27.442773",
     "exception": false,
     "start_time": "2021-02-20T21:52:27.387401",
     "status": "completed"
    },
    "tags": []
   },
   "source": [
    "Percentage of missing values for *people_vaccinated_per_hundred*"
   ]
  },
  {
   "cell_type": "code",
   "execution_count": 20,
   "metadata": {
    "papermill": {
     "duration": 0.062509,
     "end_time": "2021-02-20T21:52:27.557115",
     "exception": false,
     "start_time": "2021-02-20T21:52:27.494606",
     "status": "completed"
    },
    "tags": []
   },
   "outputs": [
    {
     "data": {
      "text/plain": [
       "0.4542897327707454"
      ]
     },
     "execution_count": 20,
     "metadata": {},
     "output_type": "execute_result"
    }
   ],
   "source": [
    "data.loc[data.people_vaccinated_per_hundred.isnull()].shape[0] / data.shape[0]"
   ]
  },
  {
   "cell_type": "markdown",
   "metadata": {
    "papermill": {
     "duration": 0.05213,
     "end_time": "2021-02-20T21:52:27.661942",
     "exception": false,
     "start_time": "2021-02-20T21:52:27.609812",
     "status": "completed"
    },
    "tags": []
   },
   "source": [
    "Unfortunately, for *people_vaccinated_per_hundred*, we have ~50% values missing.\n",
    "\n",
    "Let's visualize the missing values percentages per region."
   ]
  },
  {
   "cell_type": "code",
   "execution_count": 22,
   "metadata": {
    "papermill": {
     "duration": 0.321116,
     "end_time": "2021-02-20T21:52:28.035497",
     "exception": false,
     "start_time": "2021-02-20T21:52:27.714381",
     "status": "completed"
    },
    "tags": []
   },
   "outputs": [
    {
     "data": {
      "image/png": "[encoded data removed]",
      "text/plain": [
       "<Figure size 1080x360 with 1 Axes>"
      ]
     },
     "metadata": {
      "needs_background": "light"
     },
     "output_type": "display_data"
    }
   ],
   "source": [
    "(\n",
    "    data[data.people_vaccinated_per_hundred.isnull()].region.value_counts() / data.region.value_counts()\n",
    ").mul(100).plot.barh(color=\"teal\", figsize=(15,5))\n",
    "\n",
    "plt.title('Missing people_vaccinated_per_hundred')\n",
    "plt.xlabel('percentage (%)')\n",
    "plt.show()"
   ]
  },
  {
   "cell_type": "markdown",
   "metadata": {
    "papermill": {
     "duration": 0.053164,
     "end_time": "2021-02-20T21:52:28.142432",
     "exception": false,
     "start_time": "2021-02-20T21:52:28.089268",
     "status": "completed"
    },
    "tags": []
   },
   "source": [
    "*people_vaccinated_per_hundred* represents the ratio (in percent) between population immunized and total population up to the date in the country. Since it contains the cumulative total until that date, I will fill the missing values for each country with the last available value."
   ]
  },
  {
   "cell_type": "code",
   "execution_count": 23,
   "metadata": {
    "papermill": {
     "duration": 0.296249,
     "end_time": "2021-02-20T21:52:28.492481",
     "exception": false,
     "start_time": "2021-02-20T21:52:28.196232",
     "status": "completed"
    },
    "tags": []
   },
   "outputs": [],
   "source": [
    "data.sort_values(by='date', inplace=True)\n",
    "all_countries = list(data.country.unique())\n",
    "\n",
    "for country in all_countries:\n",
    "    data.loc[data.country == country, 'people_vaccinated_per_hundred'] = \\\n",
    "    data.loc[data.country == country, 'people_vaccinated_per_hundred'].fillna(method='bfill').fillna(method='ffill')"
   ]
  },
  {
   "cell_type": "code",
   "execution_count": 24,
   "metadata": {
    "papermill": {
     "duration": 0.333454,
     "end_time": "2021-02-20T21:52:28.879682",
     "exception": false,
     "start_time": "2021-02-20T21:52:28.546228",
     "status": "completed"
    },
    "tags": []
   },
   "outputs": [
    {
     "data": {
      "image/png": "[encoded data removed]",
      "text/plain": [
       "<Figure size 1080x360 with 1 Axes>"
      ]
     },
     "metadata": {
      "needs_background": "light"
     },
     "output_type": "display_data"
    }
   ],
   "source": [
    "(\n",
    "    data[data.people_vaccinated_per_hundred.isnull()].region.value_counts() / data.region.value_counts()\n",
    ").mul(100).plot.barh(color=\"teal\", figsize=(15,5))\n",
    "\n",
    "plt.title('Missing people_vaccinated_per_hundred')\n",
    "plt.xlabel('percentage (%)')\n",
    "plt.show()"
   ]
  },
  {
   "cell_type": "markdown",
   "metadata": {
    "papermill": {
     "duration": 0.058688,
     "end_time": "2021-02-20T21:52:28.997726",
     "exception": false,
     "start_time": "2021-02-20T21:52:28.939038",
     "status": "completed"
    },
    "tags": []
   },
   "source": [
    "Now the remaining countries with missing *people_vaccinated_per_hundred* do not have any value for the variable. Therefore, I will choose to analyze *people_vaccinated_per_hundred* only for Europe and America."
   ]
  },
  {
   "cell_type": "markdown",
   "metadata": {
    "papermill": {
     "duration": 0.059368,
     "end_time": "2021-02-20T21:52:29.117862",
     "exception": false,
     "start_time": "2021-02-20T21:52:29.058494",
     "status": "completed"
    },
    "tags": []
   },
   "source": [
    "## 2. Data Analysis\n",
    "___"
   ]
  },
  {
   "cell_type": "markdown",
   "metadata": {
    "papermill": {
     "duration": 0.058871,
     "end_time": "2021-02-20T21:52:29.236014",
     "exception": false,
     "start_time": "2021-02-20T21:52:29.177143",
     "status": "completed"
    },
    "tags": []
   },
   "source": [
    "Note that in our dataset we do not have data available for all countries in the world.\n",
    "\n",
    "In the map plot below are colored all countries with available data in our dataset. Also, you can visualize which countries belong to each region. "
   ]
  },
  {
   "cell_type": "code",
   "execution_count": 26,
   "metadata": {
    "_kg_hide-input": false,
    "papermill": {
     "duration": 1.435451,
     "end_time": "2021-02-20T21:52:30.730732",
     "exception": false,
     "start_time": "2021-02-20T21:52:29.295281",
     "status": "completed"
    },
    "tags": []
   },
   "outputs": [
    {
     "data": {
      "application/vnd.plotly.v1+json": {
       "config": {
        "plotlyServerURL": "https://plot.ly"
       },
       "data": [
        {
         "colorscale": [
          [
           0,
           "#636efa"
          ],
          [
           1,
           "#636efa"
          ]
         ],
         "geo": "geo",
         "hovertemplate": "color=Northern Europe<br>locations=%{location}<extra></extra>",
         "locations": [
          "GBR",
          "GBR",
          "GBR",
          "GBR",
          "GBR",
          "GBR",
          "GBR",
          "GBR",
          "GBR",
          "GBR",
          "GBR",
          "GBR",
          "GBR",
          "GBR",
          "GBR",
          "GBR",
          "GBR",
          "GBR",
          "GBR",
          "GBR",
          "GBR",
          "GBR",
          "GBR",
          "GBR",
          "GBR",
          "GBR",
          "GBR",
          "GBR",
          "GBR",
          "GBR",
          "GBR",
          "GBR",
          "GBR",
          "GBR",
          "GBR",
          "GBR",
          "GBR",
          "GBR",
          "GBR",
          "GBR",
          "GBR",
          "GBR",
          "GBR",
          "GBR",
          "GBR",
          "GBR",
          "GBR",
          "GBR",
          "GBR",
          "GBR",
          "GBR",
          "GBR",
          "GBR",
          "GBR",
          "GBR",
          "GBR",
          "GBR",
          "GBR",
          "GBR",
          "GBR",
          "GBR",
          "GBR",
          "GBR",
          "GBR",
          "GBR",
          "GBR",
          "GBR",
          "GBR",
          "GBR",
          "GBR",
          "SWE",
          "GBR",
          "GBR",
          "NOR",
          "DNK",
          "GBR",
          "GBR",
          "GBR",
          "LTU",
          "LTU",
          "SWE",
          "NOR",
          "GBR",
          "EST",
          "LVA",
          "GBR",
          "DNK",
          "GBR",
          "GBR",
          "GBR",
          "DNK",
          "GBR",
          "GBR",
          "SWE",
          "GBR",
          "GBR",
          "LTU",
          "NOR",
          "EST",
          "GBR",
          "LVA",
          "DNK",
          "ISL",
          "GBR",
          "SWE",
          "GBR",
          "GBR",
          "GBR",
          "EST",
          "GBR",
          "LTU",
          "NOR",
          "LVA",
          "DNK",
          "GBR",
          "GBR",
          "FIN",
          "NOR",
          "EST",
          "GBR",
          "SWE",
          "IRL",
          "GBR",
          "GBR",
          "LTU",
          "ISL",
          "SWE",
          "ISL",
          "EST",
          "FIN",
          "IRL",
          "DNK",
          "GBR",
          "LTU",
          "NOR",
          "GBR",
          "GBR",
          "GBR",
          "GBR",
          "GBR",
          "EST",
          "LTU",
          "GBR",
          "NOR",
          "GBR",
          "GBR",
          "SWE",
          "ISL",
          "GBR",
          "IRL",
          "DNK",
          "FIN",
          "NOR",
          "IRL",
          "LTU",
          "ISL",
          "GBR",
          "DNK",
          "GBR",
          "GBR",
          "GBR",
          "FIN",
          "EST",
          "GBR",
          "SWE",
          "GBR",
          "GBR",
          "GBR",
          "GBR",
          "LTU",
          "FIN",
          "SWE",
          "IRL",
          "EST",
          "NOR",
          "ISL",
          "DNK",
          "GBR",
          "LVA",
          "LTU",
          "DNK",
          "ISL",
          "GBR",
          "FIN",
          "GBR",
          "LVA",
          "EST",
          "GBR",
          "SWE",
          "NOR",
          "IRL",
          "GBR",
          "GBR",
          "IRL",
          "SWE",
          "FIN",
          "GBR",
          "GBR",
          "LTU",
          "DNK",
          "GBR",
          "GBR",
          "LVA",
          "EST",
          "NOR",
          "GBR",
          "ISL",
          "EST",
          "ISL",
          "GBR",
          "GBR",
          "LVA",
          "GBR",
          "FIN",
          "GBR",
          "DNK",
          "LTU",
          "NOR",
          "GBR",
          "SWE",
          "IRL",
          "GBR",
          "EST",
          "ISL",
          "LVA",
          "SWE",
          "NOR",
          "IRL",
          "FIN",
          "GBR",
          "GBR",
          "DNK",
          "GBR",
          "GBR",
          "LTU",
          "FIN",
          "SWE",
          "LTU",
          "LVA",
          "GBR",
          "ISL",
          "GBR",
          "IRL",
          "GBR",
          "DNK",
          "GBR",
          "EST",
          "NOR",
          "GBR",
          "EST",
          "ISL",
          "IRL",
          "LTU",
          "LVA",
          "GBR",
          "FIN",
          "NOR",
          "GBR",
          "DNK",
          "SWE",
          "GBR",
          "GBR",
          "GBR",
          "GBR",
          "EST",
          "LVA",
          "GBR",
          "ISL",
          "FIN",
          "GBR",
          "DNK",
          "IRL",
          "GBR",
          "NOR",
          "GBR",
          "SWE",
          "LTU",
          "LTU",
          "LVA",
          "FIN",
          "ISL",
          "SWE",
          "GBR",
          "NOR",
          "IRL",
          "GBR",
          "GBR",
          "GBR",
          "GBR",
          "DNK",
          "EST",
          "SWE",
          "DNK",
          "FIN",
          "GBR",
          "LVA",
          "GBR",
          "GBR",
          "GBR",
          "EST",
          "ISL",
          "GBR",
          "NOR",
          "LTU",
          "IRL",
          "NOR",
          "GBR",
          "EST",
          "FIN",
          "LTU",
          "GBR",
          "LVA",
          "ISL",
          "GBR",
          "DNK",
          "GBR",
          "GBR",
          "IRL",
          "SWE",
          "GBR",
          "GBR",
          "IRL",
          "ISL",
          "EST",
          "SWE",
          "FIN",
          "LVA",
          "GBR",
          "GBR",
          "LTU",
          "NOR",
          "DNK",
          "GBR",
          "GBR",
          "GBR",
          "GBR",
          "NOR",
          "LVA",
          "FIN",
          "GBR",
          "ISL",
          "EST",
          "SWE",
          "IRL",
          "DNK",
          "LTU",
          "GBR",
          "DNK",
          "FIN",
          "LTU",
          "LVA",
          "SWE",
          "GBR",
          "EST",
          "ISL",
          "IRL",
          "GBR",
          "GBR",
          "NOR",
          "GBR",
          "GBR",
          "EST",
          "GBR",
          "SWE",
          "GBR",
          "DNK",
          "LTU",
          "GBR",
          "IRL",
          "NOR",
          "GBR",
          "FIN",
          "GBR",
          "ISL",
          "LVA",
          "IRL",
          "LTU",
          "GBR",
          "ISL",
          "GBR",
          "LVA",
          "GBR",
          "DNK",
          "EST",
          "NOR",
          "FIN",
          "GBR",
          "SWE",
          "GBR",
          "NOR",
          "FIN",
          "ISL",
          "LVA",
          "GBR",
          "GBR",
          "EST",
          "IRL",
          "GBR",
          "GBR",
          "LTU",
          "GBR",
          "SWE",
          "DNK",
          "GBR",
          "FIN",
          "GBR",
          "IRL",
          "GBR",
          "IMN",
          "GBR",
          "EST",
          "ISL",
          "NOR",
          "GBR",
          "LVA",
          "SWE",
          "LTU",
          "DNK",
          "EST",
          "GBR",
          "ISL",
          "GBR",
          "DNK",
          "IMN",
          "GBR",
          "IRL",
          "SWE",
          "LTU",
          "NOR",
          "FIN",
          "GBR",
          "GBR",
          "LVA",
          "FIN",
          "GBR",
          "GBR",
          "IRL",
          "GBR",
          "SWE",
          "IMN",
          "EST",
          "ISL",
          "GBR",
          "NOR",
          "LTU",
          "LVA",
          "DNK",
          "GBR",
          "GBR",
          "GBR",
          "LTU",
          "NOR",
          "IMN",
          "JEY",
          "IRL",
          "SWE",
          "LVA",
          "GBR",
          "GBR",
          "DNK",
          "GGY",
          "GBR",
          "EST",
          "FIN",
          "ISL",
          "GBR",
          "GBR",
          "ISL",
          "GBR",
          "EST",
          "JEY",
          "GBR",
          "FIN",
          "SWE",
          "GGY",
          "NOR",
          "IRL",
          "LVA",
          "DNK",
          "IMN",
          "GBR",
          "LTU",
          "SWE",
          "FIN",
          "ISL",
          "LVA",
          "EST",
          "GBR",
          "GBR",
          "GBR",
          "GGY",
          "GBR",
          "NOR",
          "JEY",
          "DNK",
          "LTU",
          "GBR",
          "IRL",
          "IMN",
          "NOR",
          "GBR",
          "LVA",
          "LTU",
          "IRL",
          "GBR",
          "GBR",
          "GBR",
          "IMN",
          "GGY",
          "JEY",
          "GBR",
          "SWE",
          "ISL",
          "FIN",
          "DNK",
          "EST",
          "DNK",
          "GGY",
          "LTU",
          "LVA",
          "NOR",
          "IRL",
          "ISL",
          "GBR",
          "JEY",
          "GBR",
          "SWE",
          "EST",
          "FIN",
          "GBR",
          "IMN",
          "GBR",
          "GBR",
          "FIN",
          "GBR",
          "FRO",
          "LTU",
          "GBR",
          "NOR",
          "EST",
          "GBR",
          "GBR",
          "IRL",
          "GBR",
          "IMN",
          "JEY",
          "ISL",
          "SWE",
          "GGY",
          "DNK",
          "LVA",
          "ISL",
          "FRO",
          "GBR",
          "EST",
          "FIN",
          "IMN",
          "GGY",
          "LTU",
          "LVA",
          "NOR",
          "GBR",
          "DNK",
          "GBR",
          "SWE",
          "GBR",
          "JEY",
          "GBR",
          "IRL",
          "FRO",
          "GBR",
          "GBR",
          "DNK",
          "NOR",
          "SWE",
          "FIN",
          "GBR",
          "EST",
          "IMN",
          "GBR",
          "ISL",
          "LVA",
          "IRL",
          "GGY",
          "LTU",
          "GBR",
          "JEY",
          "IMN",
          "FRO",
          "NOR",
          "GBR",
          "SWE",
          "GGY",
          "GBR",
          "GBR",
          "EST",
          "LTU",
          "GBR",
          "ISL",
          "DNK",
          "GBR",
          "LVA",
          "FIN",
          "IRL",
          "JEY",
          "GBR",
          "LVA",
          "GBR",
          "EST",
          "DNK",
          "NOR",
          "LTU",
          "IMN",
          "GBR",
          "ISL",
          "JEY",
          "SWE",
          "IRL",
          "GBR",
          "GGY",
          "GBR",
          "FRO",
          "FIN",
          "FIN",
          "GGY",
          "LTU",
          "GBR",
          "GBR",
          "GBR",
          "IRL",
          "JEY",
          "NOR",
          "GBR",
          "FRO",
          "EST",
          "SWE",
          "IMN",
          "DNK",
          "LVA",
          "GBR",
          "ISL",
          "ISL",
          "SWE",
          "JEY",
          "LVA",
          "DNK",
          "GBR",
          "GBR",
          "GGY",
          "GBR",
          "IMN",
          "EST",
          "NOR",
          "LTU",
          "GBR",
          "GBR",
          "IRL",
          "FIN",
          "FRO",
          "LVA",
          "IRL",
          "GBR",
          "GBR",
          "FRO",
          "EST",
          "GBR",
          "IMN",
          "DNK",
          "LTU",
          "NOR",
          "ISL",
          "GBR",
          "GGY",
          "GBR",
          "JEY",
          "FIN",
          "SWE",
          "JEY",
          "IRL",
          "FIN",
          "SWE",
          "GBR",
          "LTU",
          "NOR",
          "ISL",
          "GBR",
          "DNK",
          "GBR",
          "GBR",
          "LVA",
          "FRO",
          "EST",
          "IMN",
          "GGY",
          "GBR",
          "SWE",
          "ISL",
          "GBR",
          "JEY",
          "GBR",
          "IMN",
          "IRL",
          "GBR",
          "NOR",
          "GBR",
          "LVA",
          "GGY",
          "GBR",
          "LTU",
          "FIN",
          "EST",
          "DNK",
          "FRO",
          "LVA",
          "GBR",
          "IMN",
          "GBR",
          "LTU",
          "ISL",
          "GBR",
          "NOR",
          "EST",
          "GBR",
          "GBR",
          "DNK",
          "IRL",
          "FIN",
          "GGY",
          "JEY",
          "FRO",
          "SWE",
          "ISL",
          "FIN",
          "GBR",
          "EST",
          "NOR",
          "IMN",
          "FRO",
          "GBR",
          "GBR",
          "LTU",
          "IRL",
          "JEY",
          "LVA",
          "GBR",
          "GGY",
          "SWE",
          "DNK",
          "GBR",
          "GBR",
          "NOR",
          "IMN",
          "EST",
          "GBR",
          "LVA",
          "FRO",
          "GBR",
          "LTU",
          "IRL",
          "FIN",
          "GGY",
          "ISL",
          "GBR",
          "SWE",
          "DNK",
          "JEY",
          "GBR",
          "EST",
          "FIN",
          "GGY",
          "IRL",
          "SWE",
          "JEY",
          "LTU",
          "GBR",
          "NOR",
          "LVA",
          "GBR",
          "GBR",
          "GBR",
          "DNK",
          "IMN",
          "ISL",
          "GBR",
          "FIN",
          "DNK",
          "GBR",
          "ISL",
          "GBR",
          "JEY",
          "GGY",
          "GBR",
          "GBR",
          "IRL",
          "LTU",
          "GBR",
          "EST",
          "IMN",
          "SWE",
          "LVA",
          "NOR",
          "SWE",
          "GBR",
          "LTU",
          "LVA",
          "GBR",
          "GGY",
          "JEY",
          "NOR",
          "GBR",
          "GBR",
          "EST",
          "DNK",
          "FIN",
          "GBR",
          "IMN",
          "ISL",
          "IRL",
          "IMN",
          "GBR",
          "NOR",
          "SWE",
          "DNK",
          "GBR",
          "EST",
          "IRL",
          "GBR",
          "FIN",
          "LVA",
          "GBR",
          "GBR",
          "GGY",
          "JEY",
          "ISL",
          "LTU",
          "GGY",
          "GBR",
          "NOR",
          "LTU",
          "GBR",
          "ISL",
          "LVA",
          "FIN",
          "GBR",
          "IMN",
          "GBR",
          "EST",
          "IRL",
          "GBR",
          "SWE",
          "DNK",
          "ISL",
          "LVA",
          "LTU",
          "GBR",
          "GBR",
          "GBR",
          "IMN",
          "IRL",
          "GGY",
          "NOR",
          "GBR",
          "EST",
          "DNK",
          "SWE",
          "GBR",
          "FIN",
          "GBR",
          "IMN",
          "EST",
          "NOR",
          "DNK",
          "ISL",
          "GBR",
          "GBR",
          "SWE",
          "LVA",
          "LTU",
          "GBR",
          "FIN",
          "GGY",
          "GBR",
          "GBR",
          "LVA",
          "DNK",
          "NOR",
          "GBR",
          "GBR",
          "EST",
          "FIN",
          "LTU",
          "GGY",
          "GBR",
          "IMN",
          "SWE",
          "ISL",
          "GBR",
          "LVA",
          "LTU",
          "IMN",
          "ISL",
          "SWE",
          "FIN",
          "EST"
         ],
         "name": "Northern Europe",
         "showlegend": true,
         "showscale": false,
         "type": "choropleth",
         "z": [
          1,
          1,
          1,
          1,
          1,
          1,
          1,
          1,
          1,
          1,
          1,
          1,
          1,
          1,
          1,
          1,
          1,
          1,
          1,
          1,
          1,
          1,
          1,
          1,
          1,
          1,
          1,
          1,
          1,
          1,
          1,
          1,
          1,
          1,
          1,
          1,
          1,
          1,
          1,
          1,
          1,
          1,
          1,
          1,
          1,
          1,
          1,
          1,
          1,
          1,
          1,
          1,
          1,
          1,
          1,
          1,
          1,
          1,
          1,
          1,
          1,
          1,
          1,
          1,
          1,
          1,
          1,
          1,
          1,
          1,
          1,
          1,
          1,
          1,
          1,
          1,
          1,
          1,
          1,
          1,
          1,
          1,
          1,
          1,
          1,
          1,
          1,
          1,
          1,
          1,
          1,
          1,
          1,
          1,
          1,
          1,
          1,
          1,
          1,
          1,
          1,
          1,
          1,
          1,
          1,
          1,
          1,
          1,
          1,
          1,
          1,
          1,
          1,
          1,
          1,
          1,
          1,
          1,
          1,
          1,
          1,
          1,
          1,
          1,
          1,
          1,
          1,
          1,
          1,
          1,
          1,
          1,
          1,
          1,
          1,
          1,
          1,
          1,
          1,
          1,
          1,
          1,
          1,
          1,
          1,
          1,
          1,
          1,
          1,
          1,
          1,
          1,
          1,
          1,
          1,
          1,
          1,
          1,
          1,
          1,
          1,
          1,
          1,
          1,
          1,
          1,
          1,
          1,
          1,
          1,
          1,
          1,
          1,
          1,
          1,
          1,
          1,
          1,
          1,
          1,
          1,
          1,
          1,
          1,
          1,
          1,
          1,
          1,
          1,
          1,
          1,
          1,
          1,
          1,
          1,
          1,
          1,
          1,
          1,
          1,
          1,
          1,
          1,
          1,
          1,
          1,
          1,
          1,
          1,
          1,
          1,
          1,
          1,
          1,
          1,
          1,
          1,
          1,
          1,
          1,
          1,
          1,
          1,
          1,
          1,
          1,
          1,
          1,
          1,
          1,
          1,
          1,
          1,
          1,
          1,
          1,
          1,
          1,
          1,
          1,
          1,
          1,
          1,
          1,
          1,
          1,
          1,
          1,
          1,
          1,
          1,
          1,
          1,
          1,
          1,
          1,
          1,
          1,
          1,
          1,
          1,
          1,
          1,
          1,
          1,
          1,
          1,
          1,
          1,
          1,
          1,
          1,
          1,
          1,
          1,
          1,
          1,
          1,
          1,
          1,
          1,
          1,
          1,
          1,
          1,
          1,
          1,
          1,
          1,
          1,
          1,
          1,
          1,
          1,
          1,
          1,
          1,
          1,
          1,
          1,
          1,
          1,
          1,
          1,
          1,
          1,
          1,
          1,
          1,
          1,
          1,
          1,
          1,
          1,
          1,
          1,
          1,
          1,
          1,
          1,
          1,
          1,
          1,
          1,
          1,
          1,
          1,
          1,
          1,
          1,
          1,
          1,
          1,
          1,
          1,
          1,
          1,
          1,
          1,
          1,
          1,
          1,
          1,
          1,
          1,
          1,
          1,
          1,
          1,
          1,
          1,
          1,
          1,
          1,
          1,
          1,
          1,
          1,
          1,
          1,
          1,
          1,
          1,
          1,
          1,
          1,
          1,
          1,
          1,
          1,
          1,
          1,
          1,
          1,
          1,
          1,
          1,
          1,
          1,
          1,
          1,
          1,
          1,
          1,
          1,
          1,
          1,
          1,
          1,
          1,
          1,
          1,
          1,
          1,
          1,
          1,
          1,
          1,
          1,
          1,
          1,
          1,
          1,
          1,
          1,
          1,
          1,
          1,
          1,
          1,
          1,
          1,
          1,
          1,
          1,
          1,
          1,
          1,
          1,
          1,
          1,
          1,
          1,
          1,
          1,
          1,
          1,
          1,
          1,
          1,
          1,
          1,
          1,
          1,
          1,
          1,
          1,
          1,
          1,
          1,
          1,
          1,
          1,
          1,
          1,
          1,
          1,
          1,
          1,
          1,
          1,
          1,
          1,
          1,
          1,
          1,
          1,
          1,
          1,
          1,
          1,
          1,
          1,
          1,
          1,
          1,
          1,
          1,
          1,
          1,
          1,
          1,
          1,
          1,
          1,
          1,
          1,
          1,
          1,
          1,
          1,
          1,
          1,
          1,
          1,
          1,
          1,
          1,
          1,
          1,
          1,
          1,
          1,
          1,
          1,
          1,
          1,
          1,
          1,
          1,
          1,
          1,
          1,
          1,
          1,
          1,
          1,
          1,
          1,
          1,
          1,
          1,
          1,
          1,
          1,
          1,
          1,
          1,
          1,
          1,
          1,
          1,
          1,
          1,
          1,
          1,
          1,
          1,
          1,
          1,
          1,
          1,
          1,
          1,
          1,
          1,
          1,
          1,
          1,
          1,
          1,
          1,
          1,
          1,
          1,
          1,
          1,
          1,
          1,
          1,
          1,
          1,
          1,
          1,
          1,
          1,
          1,
          1,
          1,
          1,
          1,
          1,
          1,
          1,
          1,
          1,
          1,
          1,
          1,
          1,
          1,
          1,
          1,
          1,
          1,
          1,
          1,
          1,
          1,
          1,
          1,
          1,
          1,
          1,
          1,
          1,
          1,
          1,
          1,
          1,
          1,
          1,
          1,
          1,
          1,
          1,
          1,
          1,
          1,
          1,
          1,
          1,
          1,
          1,
          1,
          1,
          1,
          1,
          1,
          1,
          1,
          1,
          1,
          1,
          1,
          1,
          1,
          1,
          1,
          1,
          1,
          1,
          1,
          1,
          1,
          1,
          1,
          1,
          1,
          1,
          1,
          1,
          1,
          1,
          1,
          1,
          1,
          1,
          1,
          1,
          1,
          1,
          1,
          1,
          1,
          1,
          1,
          1,
          1,
          1,
          1,
          1,
          1,
          1,
          1,
          1,
          1,
          1,
          1,
          1,
          1,
          1,
          1,
          1,
          1,
          1,
          1,
          1,
          1,
          1,
          1,
          1,
          1,
          1,
          1,
          1,
          1,
          1,
          1,
          1,
          1,
          1,
          1,
          1,
          1,
          1,
          1,
          1,
          1,
          1,
          1,
          1,
          1,
          1,
          1,
          1,
          1,
          1,
          1,
          1,
          1,
          1,
          1,
          1,
          1,
          1,
          1,
          1,
          1,
          1,
          1,
          1,
          1,
          1,
          1,
          1,
          1,
          1,
          1,
          1,
          1,
          1,
          1,
          1,
          1,
          1,
          1,
          1,
          1,
          1,
          1,
          1,
          1,
          1,
          1,
          1,
          1,
          1,
          1,
          1,
          1,
          1,
          1,
          1,
          1,
          1,
          1,
          1,
          1,
          1,
          1,
          1,
          1,
          1,
          1,
          1,
          1,
          1,
          1,
          1,
          1,
          1,
          1,
          1,
          1,
          1,
          1,
          1,
          1,
          1,
          1,
          1,
          1,
          1,
          1,
          1,
          1,
          1,
          1,
          1,
          1,
          1,
          1,
          1,
          1,
          1,
          1,
          1,
          1,
          1,
          1,
          1,
          1,
          1,
          1,
          1,
          1,
          1,
          1,
          1,
          1,
          1,
          1,
          1,
          1,
          1,
          1,
          1,
          1,
          1,
          1,
          1,
          1,
          1,
          1,
          1,
          1,
          1,
          1,
          1,
          1,
          1,
          1,
          1,
          1,
          1,
          1,
          1,
          1,
          1,
          1,
          1,
          1,
          1,
          1,
          1,
          1,
          1,
          1,
          1,
          1,
          1,
          1,
          1,
          1,
          1,
          1,
          1,
          1,
          1,
          1,
          1,
          1,
          1,
          1,
          1,
          1,
          1,
          1,
          1,
          1,
          1,
          1,
          1,
          1,
          1,
          1,
          1,
          1,
          1,
          1,
          1,
          1,
          1,
          1,
          1,
          1,
          1,
          1,
          1,
          1,
          1,
          1,
          1,
          1,
          1,
          1,
          1,
          1,
          1,
          1,
          1,
          1,
          1,
          1,
          1,
          1,
          1,
          1,
          1,
          1,
          1,
          1,
          1
         ]
        },
        {
         "colorscale": [
          [
           0,
           "#EF553B"
          ],
          [
           1,
           "#EF553B"
          ]
         ],
         "geo": "geo",
         "hovertemplate": "color=Eastern Europe<br>locations=%{location}<extra></extra>",
         "locations": [
          "RUS",
          "RUS",
          "RUS",
          "RUS",
          "RUS",
          "RUS",
          "RUS",
          "RUS",
          "RUS",
          "RUS",
          "RUS",
          "RUS",
          "CZE",
          "RUS",
          "RUS",
          "CZE",
          "ROU",
          "POL",
          "HUN",
          "POL",
          "CZE",
          "HUN",
          "BGR",
          "RUS",
          "ROU",
          "ROU",
          "POL",
          "CZE",
          "HUN",
          "BGR",
          "RUS",
          "RUS",
          "CZE",
          "POL",
          "BGR",
          "HUN",
          "ROU",
          "POL",
          "ROU",
          "RUS",
          "BGR",
          "HUN",
          "CZE",
          "HUN",
          "POL",
          "BGR",
          "CZE",
          "RUS",
          "ROU",
          "ROU",
          "BGR",
          "RUS",
          "HUN",
          "POL",
          "CZE",
          "HUN",
          "POL",
          "ROU",
          "SVK",
          "BGR",
          "RUS",
          "CZE",
          "CZE",
          "POL",
          "RUS",
          "BGR",
          "ROU",
          "HUN",
          "SVK",
          "RUS",
          "CZE",
          "ROU",
          "POL",
          "HUN",
          "BGR",
          "SVK",
          "BGR",
          "RUS",
          "HUN",
          "SVK",
          "ROU",
          "POL",
          "CZE",
          "BGR",
          "RUS",
          "ROU",
          "SVK",
          "POL",
          "CZE",
          "HUN",
          "RUS",
          "ROU",
          "HUN",
          "CZE",
          "POL",
          "BGR",
          "SVK",
          "HUN",
          "CZE",
          "POL",
          "ROU",
          "RUS",
          "SVK",
          "BGR",
          "HUN",
          "SVK",
          "RUS",
          "ROU",
          "POL",
          "BGR",
          "CZE",
          "CZE",
          "SVK",
          "POL",
          "HUN",
          "RUS",
          "ROU",
          "BGR",
          "POL",
          "HUN",
          "RUS",
          "SVK",
          "CZE",
          "ROU",
          "BGR",
          "BGR",
          "SVK",
          "RUS",
          "CZE",
          "HUN",
          "POL",
          "ROU",
          "SVK",
          "HUN",
          "POL",
          "BGR",
          "RUS",
          "ROU",
          "CZE",
          "SVK",
          "HUN",
          "CZE",
          "RUS",
          "POL",
          "BGR",
          "ROU",
          "POL",
          "CZE",
          "HUN",
          "ROU",
          "RUS",
          "BGR",
          "SVK",
          "CZE",
          "POL",
          "RUS",
          "ROU",
          "HUN",
          "SVK",
          "BGR",
          "POL",
          "HUN",
          "RUS",
          "CZE",
          "ROU",
          "SVK",
          "BGR",
          "CZE",
          "SVK",
          "BGR",
          "RUS",
          "HUN",
          "ROU",
          "POL",
          "HUN",
          "RUS",
          "BGR",
          "ROU",
          "SVK",
          "CZE",
          "POL",
          "CZE",
          "ROU",
          "SVK",
          "POL",
          "BGR",
          "RUS",
          "HUN",
          "ROU",
          "POL",
          "BGR",
          "RUS",
          "SVK",
          "CZE",
          "HUN",
          "SVK",
          "POL",
          "ROU",
          "RUS",
          "BGR",
          "CZE",
          "HUN",
          "HUN",
          "RUS",
          "ROU",
          "BGR",
          "CZE",
          "SVK",
          "POL",
          "HUN",
          "CZE",
          "ROU",
          "POL",
          "RUS",
          "BGR",
          "SVK",
          "BGR",
          "SVK",
          "HUN",
          "CZE",
          "POL",
          "RUS",
          "ROU",
          "CZE",
          "POL",
          "BGR",
          "ROU",
          "RUS",
          "SVK",
          "HUN",
          "ROU",
          "RUS",
          "SVK",
          "HUN",
          "CZE",
          "BGR",
          "POL",
          "BGR",
          "RUS",
          "CZE",
          "POL",
          "SVK",
          "ROU",
          "HUN",
          "SVK",
          "BGR",
          "CZE",
          "POL",
          "ROU",
          "RUS",
          "HUN",
          "CZE",
          "SVK",
          "POL",
          "BGR",
          "RUS",
          "HUN",
          "ROU",
          "RUS",
          "POL",
          "HUN",
          "BGR",
          "ROU",
          "CZE",
          "SVK",
          "BGR",
          "CZE",
          "HUN",
          "POL",
          "RUS",
          "ROU",
          "SVK",
          "POL",
          "CZE",
          "RUS",
          "HUN",
          "ROU",
          "BGR",
          "SVK",
          "RUS",
          "HUN",
          "SVK",
          "CZE",
          "POL",
          "ROU",
          "BGR",
          "SVK",
          "ROU",
          "POL",
          "BGR",
          "CZE",
          "HUN",
          "RUS",
          "HUN",
          "BGR",
          "ROU",
          "SVK",
          "RUS",
          "CZE",
          "POL",
          "RUS",
          "BGR",
          "HUN",
          "SVK",
          "CZE",
          "ROU",
          "POL",
          "BGR",
          "SVK",
          "ROU",
          "POL",
          "RUS",
          "CZE",
          "HUN",
          "SVK",
          "HUN",
          "CZE",
          "RUS",
          "POL",
          "BGR",
          "ROU",
          "POL",
          "CZE",
          "SVK",
          "ROU",
          "BGR",
          "HUN",
          "BGR",
          "ROU",
          "POL",
          "HUN",
          "CZE",
          "SVK",
          "CZE",
          "ROU",
          "HUN",
          "POL",
          "BGR",
          "SVK",
          "POL",
          "SVK",
          "CZE",
          "BGR",
          "HUN",
          "ROU",
          "HUN",
          "BGR",
          "CZE",
          "ROU",
          "POL",
          "SVK",
          "ROU",
          "SVK",
          "HUN",
          "BGR",
          "POL",
          "CZE",
          "SVK",
          "HUN",
          "ROU",
          "BGR",
          "CZE",
          "POL",
          "ROU",
          "POL",
          "CZE",
          "HUN",
          "SVK",
          "BGR",
          "SVK",
          "BGR",
          "ROU",
          "CZE"
         ],
         "name": "Eastern Europe",
         "showlegend": true,
         "showscale": false,
         "type": "choropleth",
         "z": [
          1,
          1,
          1,
          1,
          1,
          1,
          1,
          1,
          1,
          1,
          1,
          1,
          1,
          1,
          1,
          1,
          1,
          1,
          1,
          1,
          1,
          1,
          1,
          1,
          1,
          1,
          1,
          1,
          1,
          1,
          1,
          1,
          1,
          1,
          1,
          1,
          1,
          1,
          1,
          1,
          1,
          1,
          1,
          1,
          1,
          1,
          1,
          1,
          1,
          1,
          1,
          1,
          1,
          1,
          1,
          1,
          1,
          1,
          1,
          1,
          1,
          1,
          1,
          1,
          1,
          1,
          1,
          1,
          1,
          1,
          1,
          1,
          1,
          1,
          1,
          1,
          1,
          1,
          1,
          1,
          1,
          1,
          1,
          1,
          1,
          1,
          1,
          1,
          1,
          1,
          1,
          1,
          1,
          1,
          1,
          1,
          1,
          1,
          1,
          1,
          1,
          1,
          1,
          1,
          1,
          1,
          1,
          1,
          1,
          1,
          1,
          1,
          1,
          1,
          1,
          1,
          1,
          1,
          1,
          1,
          1,
          1,
          1,
          1,
          1,
          1,
          1,
          1,
          1,
          1,
          1,
          1,
          1,
          1,
          1,
          1,
          1,
          1,
          1,
          1,
          1,
          1,
          1,
          1,
          1,
          1,
          1,
          1,
          1,
          1,
          1,
          1,
          1,
          1,
          1,
          1,
          1,
          1,
          1,
          1,
          1,
          1,
          1,
          1,
          1,
          1,
          1,
          1,
          1,
          1,
          1,
          1,
          1,
          1,
          1,
          1,
          1,
          1,
          1,
          1,
          1,
          1,
          1,
          1,
          1,
          1,
          1,
          1,
          1,
          1,
          1,
          1,
          1,
          1,
          1,
          1,
          1,
          1,
          1,
          1,
          1,
          1,
          1,
          1,
          1,
          1,
          1,
          1,
          1,
          1,
          1,
          1,
          1,
          1,
          1,
          1,
          1,
          1,
          1,
          1,
          1,
          1,
          1,
          1,
          1,
          1,
          1,
          1,
          1,
          1,
          1,
          1,
          1,
          1,
          1,
          1,
          1,
          1,
          1,
          1,
          1,
          1,
          1,
          1,
          1,
          1,
          1,
          1,
          1,
          1,
          1,
          1,
          1,
          1,
          1,
          1,
          1,
          1,
          1,
          1,
          1,
          1,
          1,
          1,
          1,
          1,
          1,
          1,
          1,
          1,
          1,
          1,
          1,
          1,
          1,
          1,
          1,
          1,
          1,
          1,
          1,
          1,
          1,
          1,
          1,
          1,
          1,
          1,
          1,
          1,
          1,
          1,
          1,
          1,
          1,
          1,
          1,
          1,
          1,
          1,
          1,
          1,
          1,
          1,
          1,
          1,
          1,
          1,
          1,
          1,
          1,
          1,
          1,
          1,
          1,
          1,
          1,
          1,
          1,
          1,
          1,
          1,
          1,
          1,
          1,
          1,
          1,
          1,
          1,
          1,
          1,
          1,
          1,
          1,
          1,
          1,
          1,
          1,
          1,
          1,
          1,
          1,
          1,
          1,
          1,
          1,
          1,
          1,
          1,
          1,
          1,
          1,
          1,
          1,
          1,
          1,
          1,
          1,
          1,
          1,
          1,
          1,
          1,
          1,
          1,
          1,
          1,
          1,
          1,
          1,
          1,
          1,
          1
         ]
        },
        {
         "colorscale": [
          [
           0,
           "#00cc96"
          ],
          [
           1,
           "#00cc96"
          ]
         ],
         "geo": "geo",
         "hovertemplate": "color=Eastern Asia<br>locations=%{location}<extra></extra>",
         "locations": [
          "CHN",
          "CHN",
          "CHN",
          "CHN",
          "CHN",
          "CHN",
          "CHN",
          "CHN",
          "CHN",
          "CHN",
          "CHN",
          "CHN",
          "CHN",
          "CHN",
          "CHN",
          "CHN",
          "CHN",
          "CHN",
          "CHN",
          "CHN",
          "CHN",
          "CHN",
          "CHN",
          "CHN",
          "CHN",
          "CHN",
          "CHN",
          "CHN",
          "CHN",
          "CHN",
          "CHN",
          "CHN",
          "CHN",
          "CHN",
          "CHN",
          "CHN",
          "CHN",
          "CHN",
          "CHN",
          "CHN",
          "CHN",
          "CHN",
          "CHN",
          "CHN",
          "CHN",
          "CHN",
          "CHN",
          "CHN",
          "CHN",
          "CHN",
          "CHN",
          "CHN",
          "CHN",
          "CHN",
          "CHN",
          "MAC",
          "CHN",
          "MAC",
          "CHN",
          "MAC",
          "MAC",
          "MAC",
          "MAC",
          "MAC",
          "MAC",
          "MAC",
          "MAC",
          "JPN",
          "MAC",
          "JPN",
          "JPN"
         ],
         "name": "Eastern Asia",
         "showlegend": true,
         "showscale": false,
         "type": "choropleth",
         "z": [
          1,
          1,
          1,
          1,
          1,
          1,
          1,
          1,
          1,
          1,
          1,
          1,
          1,
          1,
          1,
          1,
          1,
          1,
          1,
          1,
          1,
          1,
          1,
          1,
          1,
          1,
          1,
          1,
          1,
          1,
          1,
          1,
          1,
          1,
          1,
          1,
          1,
          1,
          1,
          1,
          1,
          1,
          1,
          1,
          1,
          1,
          1,
          1,
          1,
          1,
          1,
          1,
          1,
          1,
          1,
          1,
          1,
          1,
          1,
          1,
          1,
          1,
          1,
          1,
          1,
          1,
          1,
          1,
          1,
          1,
          1
         ]
        },
        {
         "colorscale": [
          [
           0,
           "#ab63fa"
          ],
          [
           1,
           "#ab63fa"
          ]
         ],
         "geo": "geo",
         "hovertemplate": "color=Northern America<br>locations=%{location}<extra></extra>",
         "locations": [
          "CAN",
          "USA",
          "USA",
          "USA",
          "USA",
          "USA",
          "USA",
          "CAN",
          "USA",
          "USA",
          "USA",
          "USA",
          "USA",
          "USA",
          "USA",
          "CAN",
          "USA",
          "USA",
          "USA",
          "USA",
          "USA",
          "USA",
          "USA",
          "USA",
          "CAN",
          "USA",
          "BMU",
          "BMU",
          "USA",
          "BMU",
          "CAN",
          "USA",
          "USA",
          "BMU",
          "CAN",
          "BMU",
          "CAN",
          "USA",
          "USA",
          "BMU",
          "CAN",
          "USA",
          "BMU",
          "CAN",
          "CAN",
          "USA",
          "BMU",
          "USA",
          "CAN",
          "BMU",
          "USA",
          "CAN",
          "BMU",
          "CAN",
          "BMU",
          "USA",
          "USA",
          "BMU",
          "CAN",
          "CAN",
          "USA",
          "BMU",
          "USA",
          "BMU",
          "CAN",
          "USA",
          "BMU",
          "CAN",
          "CAN",
          "BMU",
          "USA",
          "BMU",
          "CAN",
          "USA",
          "BMU",
          "USA",
          "GRL",
          "CAN",
          "BMU",
          "USA",
          "CAN",
          "CAN",
          "BMU",
          "USA",
          "USA",
          "CAN",
          "BMU",
          "BMU",
          "CAN",
          "USA",
          "BMU",
          "CAN",
          "USA",
          "USA",
          "CAN",
          "BMU",
          "USA",
          "BMU",
          "CAN",
          "CAN",
          "BMU",
          "USA",
          "BMU",
          "CAN",
          "USA",
          "BMU",
          "USA",
          "CAN",
          "USA",
          "BMU",
          "CAN",
          "CAN",
          "USA",
          "BMU",
          "USA",
          "BMU",
          "CAN",
          "USA",
          "BMU",
          "CAN",
          "BMU",
          "USA",
          "CAN",
          "CAN",
          "USA",
          "BMU",
          "USA",
          "CAN",
          "BMU",
          "USA",
          "BMU",
          "CAN",
          "CAN",
          "USA",
          "BMU",
          "CAN",
          "USA",
          "USA",
          "CAN",
          "USA",
          "CAN",
          "USA",
          "CAN"
         ],
         "name": "Northern America",
         "showlegend": true,
         "showscale": false,
         "type": "choropleth",
         "z": [
          1,
          1,
          1,
          1,
          1,
          1,
          1,
          1,
          1,
          1,
          1,
          1,
          1,
          1,
          1,
          1,
          1,
          1,
          1,
          1,
          1,
          1,
          1,
          1,
          1,
          1,
          1,
          1,
          1,
          1,
          1,
          1,
          1,
          1,
          1,
          1,
          1,
          1,
          1,
          1,
          1,
          1,
          1,
          1,
          1,
          1,
          1,
          1,
          1,
          1,
          1,
          1,
          1,
          1,
          1,
          1,
          1,
          1,
          1,
          1,
          1,
          1,
          1,
          1,
          1,
          1,
          1,
          1,
          1,
          1,
          1,
          1,
          1,
          1,
          1,
          1,
          1,
          1,
          1,
          1,
          1,
          1,
          1,
          1,
          1,
          1,
          1,
          1,
          1,
          1,
          1,
          1,
          1,
          1,
          1,
          1,
          1,
          1,
          1,
          1,
          1,
          1,
          1,
          1,
          1,
          1,
          1,
          1,
          1,
          1,
          1,
          1,
          1,
          1,
          1,
          1,
          1,
          1,
          1,
          1,
          1,
          1,
          1,
          1,
          1,
          1,
          1,
          1,
          1,
          1,
          1,
          1,
          1,
          1,
          1,
          1,
          1,
          1,
          1,
          1,
          1,
          1,
          1
         ]
        },
        {
         "colorscale": [
          [
           0,
           "#FFA15A"
          ],
          [
           1,
           "#FFA15A"
          ]
         ],
         "geo": "geo",
         "hovertemplate": "color=Western Asia<br>locations=%{location}<extra></extra>",
         "locations": [
          "ISR",
          "ISR",
          "ISR",
          "ISR",
          "QAT",
          "QAT",
          "BHR",
          "ISR",
          "ISR",
          "BHR",
          "QAT",
          "ISR",
          "QAT",
          "BHR",
          "QAT",
          "ISR",
          "BHR",
          "QAT",
          "ISR",
          "BHR",
          "ISR",
          "BHR",
          "KWT",
          "OMN",
          "QAT",
          "OMN",
          "BHR",
          "ISR",
          "KWT",
          "QAT",
          "KWT",
          "OMN",
          "BHR",
          "ISR",
          "QAT",
          "QAT",
          "OMN",
          "BHR",
          "KWT",
          "ISR",
          "KWT",
          "OMN",
          "BHR",
          "ISR",
          "QAT",
          "BHR",
          "KWT",
          "OMN",
          "QAT",
          "ISR",
          "QAT",
          "ISR",
          "OMN",
          "KWT",
          "BHR",
          "BHR",
          "QAT",
          "KWT",
          "OMN",
          "ISR",
          "KWT",
          "ARE",
          "ISR",
          "OMN",
          "BHR",
          "QAT",
          "ISR",
          "SAU",
          "CYP",
          "OMN",
          "BHR",
          "QAT",
          "KWT",
          "ARE",
          "SAU",
          "BHR",
          "CYP",
          "OMN",
          "ARE",
          "ISR",
          "KWT",
          "QAT",
          "ARE",
          "CYP",
          "KWT",
          "QAT",
          "BHR",
          "SAU",
          "ISR",
          "OMN",
          "QAT",
          "CYP",
          "BHR",
          "KWT",
          "ISR",
          "ARE",
          "OMN",
          "SAU",
          "ISR",
          "CYP",
          "KWT",
          "OMN",
          "QAT",
          "BHR",
          "ARE",
          "SAU",
          "QAT",
          "ARE",
          "CYP",
          "KWT",
          "BHR",
          "SAU",
          "OMN",
          "ISR",
          "OMN",
          "KWT",
          "ARE",
          "BHR",
          "SAU",
          "QAT",
          "ISR",
          "CYP",
          "OMN",
          "TUR",
          "CYP",
          "QAT",
          "KWT",
          "BHR",
          "SAU",
          "ARE",
          "ISR",
          "OWID_NCY",
          "OMN",
          "BHR",
          "SAU",
          "ARE",
          "ISR",
          "KWT",
          "CYP",
          "QAT",
          "TUR",
          "ISR",
          "KWT",
          "TUR",
          "OWID_NCY",
          "BHR",
          "ARE",
          "QAT",
          "SAU",
          "CYP",
          "OMN",
          "QAT",
          "CYP",
          "OWID_NCY",
          "KWT",
          "ARE",
          "SAU",
          "TUR",
          "OMN",
          "BHR",
          "ISR",
          "CYP",
          "OMN",
          "OWID_NCY",
          "TUR",
          "SAU",
          "BHR",
          "ARE",
          "KWT",
          "AZE",
          "QAT",
          "ISR",
          "OMN",
          "SAU",
          "BHR",
          "ISR",
          "TUR",
          "CYP",
          "OWID_NCY",
          "KWT",
          "QAT",
          "AZE",
          "ARE",
          "CYP",
          "KWT",
          "ARE",
          "QAT",
          "AZE",
          "ISR",
          "BHR",
          "SAU",
          "OWID_NCY",
          "TUR",
          "OMN",
          "TUR",
          "KWT",
          "BHR",
          "QAT",
          "OWID_NCY",
          "CYP",
          "OMN",
          "ARE",
          "AZE",
          "ISR",
          "SAU",
          "CYP",
          "OMN",
          "ISR",
          "QAT",
          "OWID_NCY",
          "SAU",
          "AZE",
          "BHR",
          "TUR",
          "ARE",
          "KWT",
          "ISR",
          "TUR",
          "BHR",
          "QAT",
          "SAU",
          "AZE",
          "CYP",
          "OWID_NCY",
          "ARE",
          "KWT",
          "OMN",
          "SAU",
          "CYP",
          "KWT",
          "TUR",
          "ARE",
          "OMN",
          "AZE",
          "QAT",
          "BHR",
          "ISR",
          "ARE",
          "KWT",
          "OMN",
          "QAT",
          "ISR",
          "TUR",
          "SAU",
          "BHR",
          "AZE",
          "CYP",
          "BHR",
          "QAT",
          "SAU",
          "AZE",
          "ISR",
          "KWT",
          "ARE",
          "TUR",
          "CYP",
          "OMN",
          "TUR",
          "SAU",
          "OMN",
          "KWT",
          "QAT",
          "BHR",
          "CYP",
          "ARE",
          "AZE",
          "ISR",
          "AZE",
          "QAT",
          "CYP",
          "KWT",
          "BHR",
          "ISR",
          "SAU",
          "OMN",
          "TUR",
          "ARE",
          "ARE",
          "BHR",
          "OMN",
          "TUR",
          "AZE",
          "ISR",
          "QAT",
          "CYP",
          "KWT",
          "SAU",
          "ARE",
          "AZE",
          "BHR",
          "ISR",
          "CYP",
          "KWT",
          "SAU",
          "TUR",
          "OMN",
          "ARE",
          "SAU",
          "AZE",
          "ISR",
          "CYP",
          "BHR",
          "TUR",
          "OMN",
          "KWT",
          "CYP",
          "BHR",
          "TUR",
          "OMN",
          "AZE",
          "SAU",
          "KWT",
          "ISR",
          "ARE",
          "CYP",
          "ISR",
          "SAU",
          "BHR",
          "TUR",
          "OMN",
          "KWT",
          "AZE",
          "ARE",
          "ISR",
          "TUR",
          "ARE",
          "BHR",
          "SAU",
          "AZE",
          "CYP",
          "KWT",
          "OMN",
          "OMN",
          "KWT",
          "AZE",
          "ISR",
          "BHR",
          "TUR",
          "SAU",
          "CYP",
          "ARE",
          "CYP",
          "OMN",
          "KWT",
          "TUR",
          "ISR",
          "SAU",
          "BHR",
          "AZE",
          "ARE",
          "KWT",
          "ARE",
          "CYP",
          "TUR",
          "ISR",
          "AZE",
          "BHR",
          "SAU",
          "OMN",
          "CYP",
          "KWT",
          "ARE",
          "AZE",
          "BHR",
          "SAU",
          "ISR",
          "TUR",
          "OMN",
          "SAU",
          "ISR",
          "KWT",
          "CYP",
          "BHR",
          "ARE",
          "TUR",
          "OMN",
          "TUR",
          "OMN",
          "ISR",
          "SAU",
          "BHR",
          "ARE",
          "KWT",
          "CYP",
          "OMN",
          "TUR",
          "ARE",
          "ISR",
          "SAU",
          "CYP",
          "BHR",
          "KWT",
          "CYP",
          "BHR",
          "SAU",
          "OMN",
          "ARE",
          "ISR",
          "KWT",
          "TUR",
          "ARE",
          "KWT",
          "CYP",
          "BHR",
          "ISR",
          "SAU",
          "TUR",
          "OMN",
          "TUR",
          "OMN",
          "ISR",
          "KWT",
          "ARE",
          "BHR",
          "SAU",
          "CYP",
          "TUR",
          "ARE",
          "BHR",
          "SAU",
          "KWT",
          "OMN",
          "CYP",
          "ISR",
          "TUR",
          "ARE",
          "OMN",
          "BHR",
          "ISR",
          "KWT",
          "SAU",
          "ISR",
          "ARE",
          "KWT",
          "BHR",
          "SAU",
          "OMN",
          "TUR",
          "SAU",
          "ISR",
          "OMN",
          "BHR",
          "TUR",
          "ARE",
          "TUR",
          "OMN",
          "SAU",
          "BHR",
          "ARE",
          "ISR",
          "SAU",
          "OMN",
          "ISR",
          "ARE",
          "TUR",
          "BHR",
          "ISR",
          "ARE",
          "TUR",
          "BHR",
          "OMN"
         ],
         "name": "Western Asia",
         "showlegend": true,
         "showscale": false,
         "type": "choropleth",
         "z": [
          1,
          1,
          1,
          1,
          1,
          1,
          1,
          1,
          1,
          1,
          1,
          1,
          1,
          1,
          1,
          1,
          1,
          1,
          1,
          1,
          1,
          1,
          1,
          1,
          1,
          1,
          1,
          1,
          1,
          1,
          1,
          1,
          1,
          1,
          1,
          1,
          1,
          1,
          1,
          1,
          1,
          1,
          1,
          1,
          1,
          1,
          1,
          1,
          1,
          1,
          1,
          1,
          1,
          1,
          1,
          1,
          1,
          1,
          1,
          1,
          1,
          1,
          1,
          1,
          1,
          1,
          1,
          1,
          1,
          1,
          1,
          1,
          1,
          1,
          1,
          1,
          1,
          1,
          1,
          1,
          1,
          1,
          1,
          1,
          1,
          1,
          1,
          1,
          1,
          1,
          1,
          1,
          1,
          1,
          1,
          1,
          1,
          1,
          1,
          1,
          1,
          1,
          1,
          1,
          1,
          1,
          1,
          1,
          1,
          1,
          1,
          1,
          1,
          1,
          1,
          1,
          1,
          1,
          1,
          1,
          1,
          1,
          1,
          1,
          1,
          1,
          1,
          1,
          1,
          1,
          1,
          1,
          1,
          1,
          1,
          1,
          1,
          1,
          1,
          1,
          1,
          1,
          1,
          1,
          1,
          1,
          1,
          1,
          1,
          1,
          1,
          1,
          1,
          1,
          1,
          1,
          1,
          1,
          1,
          1,
          1,
          1,
          1,
          1,
          1,
          1,
          1,
          1,
          1,
          1,
          1,
          1,
          1,
          1,
          1,
          1,
          1,
          1,
          1,
          1,
          1,
          1,
          1,
          1,
          1,
          1,
          1,
          1,
          1,
          1,
          1,
          1,
          1,
          1,
          1,
          1,
          1,
          1,
          1,
          1,
          1,
          1,
          1,
          1,
          1,
          1,
          1,
          1,
          1,
          1,
          1,
          1,
          1,
          1,
          1,
          1,
          1,
          1,
          1,
          1,
          1,
          1,
          1,
          1,
          1,
          1,
          1,
          1,
          1,
          1,
          1,
          1,
          1,
          1,
          1,
          1,
          1,
          1,
          1,
          1,
          1,
          1,
          1,
          1,
          1,
          1,
          1,
          1,
          1,
          1,
          1,
          1,
          1,
          1,
          1,
          1,
          1,
          1,
          1,
          1,
          1,
          1,
          1,
          1,
          1,
          1,
          1,
          1,
          1,
          1,
          1,
          1,
          1,
          1,
          1,
          1,
          1,
          1,
          1,
          1,
          1,
          1,
          1,
          1,
          1,
          1,
          1,
          1,
          1,
          1,
          1,
          1,
          1,
          1,
          1,
          1,
          1,
          1,
          1,
          1,
          1,
          1,
          1,
          1,
          1,
          1,
          1,
          1,
          1,
          1,
          1,
          1,
          1,
          1,
          1,
          1,
          1,
          1,
          1,
          1,
          1,
          1,
          1,
          1,
          1,
          1,
          1,
          1,
          1,
          1,
          1,
          1,
          1,
          1,
          1,
          1,
          1,
          1,
          1,
          1,
          1,
          1,
          1,
          1,
          1,
          1,
          1,
          1,
          1,
          1,
          1,
          1,
          1,
          1,
          1,
          1,
          1,
          1,
          1,
          1,
          1,
          1,
          1,
          1,
          1,
          1,
          1,
          1,
          1,
          1,
          1,
          1,
          1,
          1,
          1,
          1,
          1,
          1,
          1,
          1,
          1,
          1,
          1,
          1,
          1,
          1,
          1,
          1,
          1,
          1,
          1,
          1,
          1,
          1,
          1,
          1,
          1,
          1,
          1,
          1,
          1,
          1,
          1,
          1,
          1,
          1,
          1,
          1,
          1,
          1,
          1,
          1,
          1,
          1,
          1,
          1,
          1,
          1,
          1,
          1,
          1,
          1,
          1,
          1,
          1,
          1,
          1,
          1,
          1,
          1,
          1,
          1,
          1,
          1,
          1,
          1,
          1,
          1,
          1,
          1,
          1,
          1,
          1,
          1,
          1,
          1,
          1,
          1,
          1,
          1,
          1,
          1,
          1,
          1,
          1,
          1,
          1,
          1,
          1,
          1,
          1
         ]
        },
        {
         "colorscale": [
          [
           0,
           "#19d3f3"
          ],
          [
           1,
           "#19d3f3"
          ]
         ],
         "geo": "geo",
         "hovertemplate": "color=Latin America and the Caribbean<br>locations=%{location}<extra></extra>",
         "locations": [
          "CHL",
          "MEX",
          "CRI",
          "CHL",
          "CRI",
          "MEX",
          "MEX",
          "CRI",
          "CHL",
          "CYM",
          "CRI",
          "CHL",
          "CYM",
          "MEX",
          "CRI",
          "CHL",
          "CYM",
          "MEX",
          "ARG",
          "CHL",
          "CYM",
          "MEX",
          "CRI",
          "MEX",
          "CHL",
          "CYM",
          "CRI",
          "ARG",
          "CHL",
          "CYM",
          "MEX",
          "ARG",
          "CRI",
          "CHL",
          "CYM",
          "ARG",
          "MEX",
          "CRI",
          "CHL",
          "MEX",
          "CRI",
          "ARG",
          "CYM",
          "CRI",
          "ARG",
          "CYM",
          "CHL",
          "MEX",
          "ARG",
          "CHL",
          "MEX",
          "CYM",
          "CRI",
          "ARG",
          "CYM",
          "CHL",
          "CRI",
          "MEX",
          "CYM",
          "CHL",
          "ARG",
          "MEX",
          "CRI",
          "ARG",
          "CRI",
          "CHL",
          "CYM",
          "MEX",
          "CYM",
          "MEX",
          "CHL",
          "CRI",
          "ARG",
          "CRI",
          "MEX",
          "ARG",
          "CYM",
          "CHL",
          "MEX",
          "ARG",
          "CHL",
          "CRI",
          "CYM",
          "TCA",
          "ARG",
          "CHL",
          "TCA",
          "CYM",
          "MEX",
          "CRI",
          "CYM",
          "CHL",
          "ARG",
          "MEX",
          "CRI",
          "TCA",
          "MEX",
          "CYM",
          "TCA",
          "CRI",
          "ARG",
          "CHL",
          "CHL",
          "ARG",
          "TCA",
          "CYM",
          "MEX",
          "CRI",
          "ARG",
          "MEX",
          "TCA",
          "CRI",
          "CYM",
          "CHL",
          "CHL",
          "BRA",
          "ARG",
          "TCA",
          "CYM",
          "CRI",
          "MEX",
          "MEX",
          "CHL",
          "TCA",
          "CYM",
          "ARG",
          "BRA",
          "CRI",
          "CYM",
          "MEX",
          "TCA",
          "CRI",
          "BRA",
          "CHL",
          "ARG",
          "CYM",
          "CRI",
          "ARG",
          "CHL",
          "TCA",
          "BRA",
          "MEX",
          "PAN",
          "CRI",
          "MEX",
          "CHL",
          "ARG",
          "CYM",
          "PAN",
          "TCA",
          "BRA",
          "CHL",
          "ECU",
          "CRI",
          "BRA",
          "ARG",
          "CYM",
          "PAN",
          "TCA",
          "MEX",
          "CRI",
          "MEX",
          "CYM",
          "BRA",
          "CHL",
          "PAN",
          "TCA",
          "ECU",
          "ARG",
          "CYM",
          "CHL",
          "CRI",
          "ECU",
          "PAN",
          "TCA",
          "MEX",
          "ARG",
          "BRA",
          "MEX",
          "PAN",
          "TCA",
          "CRI",
          "BRA",
          "ARG",
          "CHL",
          "ECU",
          "CYM",
          "CYM",
          "CHL",
          "CRI",
          "TCA",
          "BRA",
          "ARG",
          "MEX",
          "PAN",
          "ECU",
          "ECU",
          "PAN",
          "CHL",
          "ARG",
          "CRI",
          "TCA",
          "MEX",
          "BRA",
          "CYM",
          "CRI",
          "BRA",
          "ARG",
          "MEX",
          "PAN",
          "ECU",
          "CYM",
          "TCA",
          "CHL",
          "BOL",
          "PAN",
          "CYM",
          "CRI",
          "TCA",
          "CHL",
          "BRA",
          "ARG",
          "ECU",
          "MEX",
          "MEX",
          "TCA",
          "BRA",
          "CYM",
          "ARG",
          "CRI",
          "BOL",
          "CHL",
          "PAN",
          "ECU",
          "BOL",
          "ECU",
          "TCA",
          "MEX",
          "BRA",
          "CYM",
          "CHL",
          "PAN",
          "ARG",
          "CRI",
          "BRA",
          "BOL",
          "MEX",
          "CRI",
          "ECU",
          "PAN",
          "CYM",
          "TCA",
          "CHL",
          "ARG",
          "CHL",
          "TCA",
          "BOL",
          "ARG",
          "PAN",
          "CYM",
          "BRA",
          "ECU",
          "CRI",
          "MEX",
          "ECU",
          "BRA",
          "CHL",
          "CYM",
          "MEX",
          "PAN",
          "CRI",
          "TCA",
          "BOL",
          "ARG",
          "MEX",
          "PAN",
          "CRI",
          "ECU",
          "BRA",
          "ARG",
          "BOL",
          "CHL",
          "TCA",
          "CYM",
          "CRI",
          "PAN",
          "ARG",
          "CYM",
          "CHL",
          "BRA",
          "MEX",
          "TCA",
          "BOL",
          "ECU",
          "AIA",
          "AIA",
          "BRA",
          "TCA",
          "ARG",
          "CHL",
          "BOL",
          "PAN",
          "MEX",
          "ECU",
          "CYM",
          "CRI",
          "CRI",
          "MEX",
          "CHL",
          "CYM",
          "AIA",
          "PAN",
          "ECU",
          "TCA",
          "ARG",
          "BOL",
          "BRA",
          "CYM",
          "BOL",
          "CHL",
          "AIA",
          "BRA",
          "ECU",
          "ARG",
          "TCA",
          "CRI",
          "MEX",
          "PAN",
          "CYM",
          "AIA",
          "BRA",
          "PAN",
          "ECU",
          "ARG",
          "MEX",
          "CRI",
          "CHL",
          "BOL",
          "TCA",
          "MEX",
          "BOL",
          "BRA",
          "ECU",
          "AIA",
          "PAN",
          "CHL",
          "CYM",
          "PER",
          "CRI",
          "ARG",
          "ARG",
          "PER",
          "BRA",
          "BOL",
          "CYM",
          "CHL",
          "MEX",
          "PAN",
          "ECU",
          "AIA",
          "CRI",
          "CRI",
          "BOL",
          "MEX",
          "GUY",
          "CHL",
          "AIA",
          "PER",
          "ECU",
          "PAN",
          "CYM",
          "ARG",
          "BRA",
          "AIA",
          "CRI",
          "GUY",
          "ARG",
          "MEX",
          "CYM",
          "BRA",
          "PER",
          "CHL",
          "PAN",
          "ECU",
          "AIA",
          "ARG",
          "CRI",
          "CHL",
          "CYM",
          "GUY",
          "PAN",
          "PER",
          "MEX",
          "ECU",
          "BRA",
          "PAN",
          "PER",
          "MEX",
          "CRI",
          "GUY",
          "ARG",
          "BRA",
          "CYM",
          "CHL",
          "ECU",
          "ECU",
          "GUY",
          "ARG",
          "MEX",
          "BRA",
          "CRI",
          "BRB",
          "PER",
          "CYM",
          "CHL",
          "PAN",
          "CYM",
          "CHL",
          "COL",
          "ARG",
          "BRA",
          "BRB",
          "DOM",
          "PER",
          "PAN",
          "MEX",
          "ECU",
          "BRA",
          "PAN",
          "ECU",
          "PER",
          "ARG",
          "DOM",
          "CYM",
          "COL",
          "MEX",
          "BRB",
          "CYM",
          "COL",
          "PER",
          "PAN",
          "MEX",
          "ARG",
          "BRA",
          "MEX",
          "ARG",
          "BRA",
          "CYM",
          "COL",
          "PAN",
          "PER"
         ],
         "name": "Latin America and the Caribbean",
         "showlegend": true,
         "showscale": false,
         "type": "choropleth",
         "z": [
          1,
          1,
          1,
          1,
          1,
          1,
          1,
          1,
          1,
          1,
          1,
          1,
          1,
          1,
          1,
          1,
          1,
          1,
          1,
          1,
          1,
          1,
          1,
          1,
          1,
          1,
          1,
          1,
          1,
          1,
          1,
          1,
          1,
          1,
          1,
          1,
          1,
          1,
          1,
          1,
          1,
          1,
          1,
          1,
          1,
          1,
          1,
          1,
          1,
          1,
          1,
          1,
          1,
          1,
          1,
          1,
          1,
          1,
          1,
          1,
          1,
          1,
          1,
          1,
          1,
          1,
          1,
          1,
          1,
          1,
          1,
          1,
          1,
          1,
          1,
          1,
          1,
          1,
          1,
          1,
          1,
          1,
          1,
          1,
          1,
          1,
          1,
          1,
          1,
          1,
          1,
          1,
          1,
          1,
          1,
          1,
          1,
          1,
          1,
          1,
          1,
          1,
          1,
          1,
          1,
          1,
          1,
          1,
          1,
          1,
          1,
          1,
          1,
          1,
          1,
          1,
          1,
          1,
          1,
          1,
          1,
          1,
          1,
          1,
          1,
          1,
          1,
          1,
          1,
          1,
          1,
          1,
          1,
          1,
          1,
          1,
          1,
          1,
          1,
          1,
          1,
          1,
          1,
          1,
          1,
          1,
          1,
          1,
          1,
          1,
          1,
          1,
          1,
          1,
          1,
          1,
          1,
          1,
          1,
          1,
          1,
          1,
          1,
          1,
          1,
          1,
          1,
          1,
          1,
          1,
          1,
          1,
          1,
          1,
          1,
          1,
          1,
          1,
          1,
          1,
          1,
          1,
          1,
          1,
          1,
          1,
          1,
          1,
          1,
          1,
          1,
          1,
          1,
          1,
          1,
          1,
          1,
          1,
          1,
          1,
          1,
          1,
          1,
          1,
          1,
          1,
          1,
          1,
          1,
          1,
          1,
          1,
          1,
          1,
          1,
          1,
          1,
          1,
          1,
          1,
          1,
          1,
          1,
          1,
          1,
          1,
          1,
          1,
          1,
          1,
          1,
          1,
          1,
          1,
          1,
          1,
          1,
          1,
          1,
          1,
          1,
          1,
          1,
          1,
          1,
          1,
          1,
          1,
          1,
          1,
          1,
          1,
          1,
          1,
          1,
          1,
          1,
          1,
          1,
          1,
          1,
          1,
          1,
          1,
          1,
          1,
          1,
          1,
          1,
          1,
          1,
          1,
          1,
          1,
          1,
          1,
          1,
          1,
          1,
          1,
          1,
          1,
          1,
          1,
          1,
          1,
          1,
          1,
          1,
          1,
          1,
          1,
          1,
          1,
          1,
          1,
          1,
          1,
          1,
          1,
          1,
          1,
          1,
          1,
          1,
          1,
          1,
          1,
          1,
          1,
          1,
          1,
          1,
          1,
          1,
          1,
          1,
          1,
          1,
          1,
          1,
          1,
          1,
          1,
          1,
          1,
          1,
          1,
          1,
          1,
          1,
          1,
          1,
          1,
          1,
          1,
          1,
          1,
          1,
          1,
          1,
          1,
          1,
          1,
          1,
          1,
          1,
          1,
          1,
          1,
          1,
          1,
          1,
          1,
          1,
          1,
          1,
          1,
          1,
          1,
          1,
          1,
          1,
          1,
          1,
          1,
          1,
          1,
          1,
          1,
          1,
          1,
          1,
          1,
          1,
          1,
          1,
          1,
          1,
          1,
          1,
          1,
          1,
          1,
          1,
          1,
          1,
          1,
          1,
          1,
          1,
          1,
          1,
          1,
          1,
          1,
          1,
          1,
          1,
          1,
          1,
          1,
          1,
          1,
          1,
          1,
          1,
          1,
          1,
          1,
          1,
          1,
          1,
          1,
          1,
          1,
          1,
          1,
          1,
          1,
          1,
          1,
          1,
          1,
          1,
          1,
          1,
          1,
          1,
          1,
          1,
          1,
          1,
          1,
          1,
          1,
          1,
          1,
          1,
          1,
          1,
          1,
          1,
          1,
          1,
          1,
          1,
          1,
          1,
          1,
          1
         ]
        },
        {
         "colorscale": [
          [
           0,
           "#FF6692"
          ],
          [
           1,
           "#FF6692"
          ]
         ],
         "geo": "geo",
         "hovertemplate": "color=Southern Europe<br>locations=%{location}<extra></extra>",
         "locations": [
          "ITA",
          "SVN",
          "SVN",
          "GRC",
          "ITA",
          "PRT",
          "PRT",
          "SVN",
          "GRC",
          "ITA",
          "HRV",
          "GRC",
          "PRT",
          "ITA",
          "SVN",
          "HRV",
          "SVN",
          "PRT",
          "ITA",
          "GRC",
          "ITA",
          "SVN",
          "PRT",
          "HRV",
          "GRC",
          "GRC",
          "SVN",
          "HRV",
          "ITA",
          "PRT",
          "HRV",
          "PRT",
          "ITA",
          "SVN",
          "GRC",
          "SVN",
          "ESP",
          "PRT",
          "ITA",
          "HRV",
          "GRC",
          "PRT",
          "ESP",
          "ITA",
          "GRC",
          "SVN",
          "HRV",
          "ITA",
          "PRT",
          "ESP",
          "SVN",
          "HRV",
          "GRC",
          "ITA",
          "HRV",
          "GRC",
          "ESP",
          "SVN",
          "PRT",
          "ESP",
          "SVN",
          "PRT",
          "GRC",
          "ITA",
          "SRB",
          "HRV",
          "HRV",
          "SVN",
          "GRC",
          "ITA",
          "ESP",
          "SRB",
          "PRT",
          "PRT",
          "ITA",
          "GIB",
          "HRV",
          "GRC",
          "ALB",
          "ESP",
          "SRB",
          "SVN",
          "ESP",
          "ITA",
          "SVN",
          "GRC",
          "GIB",
          "HRV",
          "SRB",
          "ALB",
          "PRT",
          "SVN",
          "PRT",
          "GRC",
          "GIB",
          "SRB",
          "ESP",
          "HRV",
          "ALB",
          "ITA",
          "ESP",
          "GIB",
          "ITA",
          "GRC",
          "ALB",
          "SRB",
          "PRT",
          "SVN",
          "HRV",
          "ESP",
          "SVN",
          "SRB",
          "GRC",
          "PRT",
          "HRV",
          "ITA",
          "ALB",
          "GIB",
          "ALB",
          "ESP",
          "GIB",
          "ITA",
          "SVN",
          "GRC",
          "SRB",
          "PRT",
          "HRV",
          "HRV",
          "ITA",
          "PRT",
          "SVN",
          "SRB",
          "ESP",
          "GRC",
          "ALB",
          "GIB",
          "GIB",
          "GRC",
          "MLT",
          "PRT",
          "ESP",
          "SRB",
          "SVN",
          "ITA",
          "HRV",
          "ALB",
          "GRC",
          "HRV",
          "SRB",
          "ITA",
          "MLT",
          "ALB",
          "SVN",
          "PRT",
          "ESP",
          "GIB",
          "ALB",
          "GIB",
          "ITA",
          "PRT",
          "HRV",
          "GRC",
          "MLT",
          "ESP",
          "SRB",
          "SVN",
          "HRV",
          "ESP",
          "GRC",
          "SVN",
          "ITA",
          "GIB",
          "ALB",
          "MLT",
          "SRB",
          "PRT",
          "MLT",
          "ITA",
          "ALB",
          "SRB",
          "HRV",
          "SVN",
          "PRT",
          "GRC",
          "GIB",
          "ESP",
          "MLT",
          "GRC",
          "HRV",
          "SRB",
          "GIB",
          "ALB",
          "SVN",
          "ITA",
          "ESP",
          "PRT",
          "GIB",
          "ALB",
          "MLT",
          "PRT",
          "ITA",
          "SVN",
          "ESP",
          "HRV",
          "GRC",
          "SRB",
          "SVN",
          "PRT",
          "MLT",
          "SRB",
          "ESP",
          "ITA",
          "GIB",
          "HRV",
          "GRC",
          "ALB",
          "HRV",
          "GIB",
          "ITA",
          "SRB",
          "MLT",
          "AND",
          "GRC",
          "PRT",
          "ESP",
          "SVN",
          "ALB",
          "ITA",
          "GRC",
          "HRV",
          "GIB",
          "PRT",
          "ESP",
          "SRB",
          "MLT",
          "ALB",
          "AND",
          "SVN",
          "MLT",
          "GIB",
          "PRT",
          "HRV",
          "ALB",
          "ESP",
          "AND",
          "GRC",
          "ITA",
          "SRB",
          "SVN",
          "SVN",
          "PRT",
          "GRC",
          "AND",
          "ESP",
          "SRB",
          "ITA",
          "MLT",
          "HRV",
          "GIB",
          "ALB",
          "GIB",
          "ALB",
          "MLT",
          "GRC",
          "HRV",
          "PRT",
          "ITA",
          "SVN",
          "SRB",
          "AND",
          "ESP",
          "SRB",
          "ALB",
          "GRC",
          "ESP",
          "PRT",
          "ITA",
          "SVN",
          "AND",
          "MLT",
          "HRV",
          "GIB",
          "ESP",
          "SVN",
          "HRV",
          "PRT",
          "SRB",
          "ALB",
          "MLT",
          "ITA",
          "GIB",
          "AND",
          "GRC",
          "PRT",
          "ITA",
          "GIB",
          "SRB",
          "GRC",
          "ALB",
          "HRV",
          "MLT",
          "AND",
          "ESP",
          "SVN",
          "MLT",
          "GRC",
          "ITA",
          "SRB",
          "GIB",
          "HRV",
          "SVN",
          "PRT",
          "ALB",
          "AND",
          "ESP",
          "SVN",
          "ESP",
          "SRB",
          "PRT",
          "GRC",
          "MLT",
          "ALB",
          "ITA",
          "HRV",
          "AND",
          "GIB",
          "ITA",
          "HRV",
          "PRT",
          "SRB",
          "GIB",
          "ESP",
          "MLT",
          "SVN",
          "ALB",
          "GRC",
          "AND",
          "AND",
          "ITA",
          "ESP",
          "ALB",
          "PRT",
          "HRV",
          "MLT",
          "GRC",
          "SRB",
          "SVN",
          "GIB",
          "SVN",
          "ESP",
          "PRT",
          "HRV",
          "MLT",
          "ITA",
          "ALB",
          "GIB",
          "SRB",
          "GRC",
          "AND",
          "SVN",
          "AND",
          "ITA",
          "SRB",
          "ESP",
          "PRT",
          "ALB",
          "HRV",
          "GIB",
          "GRC",
          "MLT",
          "GRC",
          "ALB",
          "SRB",
          "GIB",
          "PRT",
          "HRV",
          "SVN",
          "ESP",
          "MLT",
          "ITA",
          "AND",
          "MLT",
          "ALB",
          "SVN",
          "SRB",
          "AND",
          "ESP",
          "GIB",
          "PRT",
          "ITA",
          "HRV",
          "GRC",
          "SRB",
          "GIB",
          "ITA",
          "PRT",
          "ESP",
          "AND",
          "GRC",
          "MLT",
          "SVN",
          "HRV",
          "ALB",
          "MLT",
          "GRC",
          "PRT",
          "HRV",
          "ESP",
          "ITA",
          "SVN",
          "ALB",
          "GIB",
          "SRB",
          "AND",
          "MLT",
          "SVN",
          "AND",
          "GRC",
          "ITA",
          "HRV",
          "GIB",
          "ALB",
          "PRT",
          "SRB",
          "ESP",
          "ESP",
          "GIB",
          "GRC",
          "ITA",
          "HRV",
          "ALB",
          "MLT",
          "PRT",
          "SRB",
          "SVN",
          "MLT",
          "PRT",
          "HRV",
          "SVN",
          "ALB",
          "ESP",
          "GRC",
          "ITA",
          "SRB",
          "GIB",
          "ITA",
          "MLT",
          "GIB",
          "GRC",
          "ALB",
          "SRB",
          "PRT",
          "HRV",
          "ESP",
          "SVN",
          "SVN",
          "SRB",
          "GRC",
          "ITA",
          "ESP",
          "GIB",
          "PRT",
          "ALB",
          "MLT",
          "HRV",
          "SRB",
          "ESP",
          "SVN",
          "PRT",
          "GIB",
          "HRV",
          "ALB",
          "ITA",
          "GRC",
          "MLT",
          "ALB",
          "GRC",
          "HRV",
          "PRT",
          "GIB",
          "ESP",
          "MLT",
          "SVN",
          "ITA",
          "SRB",
          "ITA",
          "GRC",
          "SRB"
         ],
         "name": "Southern Europe",
         "showlegend": true,
         "showscale": false,
         "type": "choropleth",
         "z": [
          1,
          1,
          1,
          1,
          1,
          1,
          1,
          1,
          1,
          1,
          1,
          1,
          1,
          1,
          1,
          1,
          1,
          1,
          1,
          1,
          1,
          1,
          1,
          1,
          1,
          1,
          1,
          1,
          1,
          1,
          1,
          1,
          1,
          1,
          1,
          1,
          1,
          1,
          1,
          1,
          1,
          1,
          1,
          1,
          1,
          1,
          1,
          1,
          1,
          1,
          1,
          1,
          1,
          1,
          1,
          1,
          1,
          1,
          1,
          1,
          1,
          1,
          1,
          1,
          1,
          1,
          1,
          1,
          1,
          1,
          1,
          1,
          1,
          1,
          1,
          1,
          1,
          1,
          1,
          1,
          1,
          1,
          1,
          1,
          1,
          1,
          1,
          1,
          1,
          1,
          1,
          1,
          1,
          1,
          1,
          1,
          1,
          1,
          1,
          1,
          1,
          1,
          1,
          1,
          1,
          1,
          1,
          1,
          1,
          1,
          1,
          1,
          1,
          1,
          1,
          1,
          1,
          1,
          1,
          1,
          1,
          1,
          1,
          1,
          1,
          1,
          1,
          1,
          1,
          1,
          1,
          1,
          1,
          1,
          1,
          1,
          1,
          1,
          1,
          1,
          1,
          1,
          1,
          1,
          1,
          1,
          1,
          1,
          1,
          1,
          1,
          1,
          1,
          1,
          1,
          1,
          1,
          1,
          1,
          1,
          1,
          1,
          1,
          1,
          1,
          1,
          1,
          1,
          1,
          1,
          1,
          1,
          1,
          1,
          1,
          1,
          1,
          1,
          1,
          1,
          1,
          1,
          1,
          1,
          1,
          1,
          1,
          1,
          1,
          1,
          1,
          1,
          1,
          1,
          1,
          1,
          1,
          1,
          1,
          1,
          1,
          1,
          1,
          1,
          1,
          1,
          1,
          1,
          1,
          1,
          1,
          1,
          1,
          1,
          1,
          1,
          1,
          1,
          1,
          1,
          1,
          1,
          1,
          1,
          1,
          1,
          1,
          1,
          1,
          1,
          1,
          1,
          1,
          1,
          1,
          1,
          1,
          1,
          1,
          1,
          1,
          1,
          1,
          1,
          1,
          1,
          1,
          1,
          1,
          1,
          1,
          1,
          1,
          1,
          1,
          1,
          1,
          1,
          1,
          1,
          1,
          1,
          1,
          1,
          1,
          1,
          1,
          1,
          1,
          1,
          1,
          1,
          1,
          1,
          1,
          1,
          1,
          1,
          1,
          1,
          1,
          1,
          1,
          1,
          1,
          1,
          1,
          1,
          1,
          1,
          1,
          1,
          1,
          1,
          1,
          1,
          1,
          1,
          1,
          1,
          1,
          1,
          1,
          1,
          1,
          1,
          1,
          1,
          1,
          1,
          1,
          1,
          1,
          1,
          1,
          1,
          1,
          1,
          1,
          1,
          1,
          1,
          1,
          1,
          1,
          1,
          1,
          1,
          1,
          1,
          1,
          1,
          1,
          1,
          1,
          1,
          1,
          1,
          1,
          1,
          1,
          1,
          1,
          1,
          1,
          1,
          1,
          1,
          1,
          1,
          1,
          1,
          1,
          1,
          1,
          1,
          1,
          1,
          1,
          1,
          1,
          1,
          1,
          1,
          1,
          1,
          1,
          1,
          1,
          1,
          1,
          1,
          1,
          1,
          1,
          1,
          1,
          1,
          1,
          1,
          1,
          1,
          1,
          1,
          1,
          1,
          1,
          1,
          1,
          1,
          1,
          1,
          1,
          1,
          1,
          1,
          1,
          1,
          1,
          1,
          1,
          1,
          1,
          1,
          1,
          1,
          1,
          1,
          1,
          1,
          1,
          1,
          1,
          1,
          1,
          1,
          1,
          1,
          1,
          1,
          1,
          1,
          1,
          1,
          1,
          1,
          1,
          1,
          1,
          1,
          1,
          1,
          1,
          1,
          1,
          1,
          1,
          1,
          1,
          1,
          1,
          1,
          1,
          1,
          1,
          1,
          1,
          1,
          1,
          1,
          1,
          1,
          1,
          1,
          1,
          1,
          1,
          1,
          1,
          1,
          1,
          1,
          1,
          1,
          1,
          1,
          1,
          1,
          1,
          1,
          1,
          1,
          1,
          1,
          1,
          1,
          1,
          1,
          1,
          1,
          1,
          1,
          1,
          1,
          1,
          1,
          1,
          1
         ]
        },
        {
         "colorscale": [
          [
           0,
           "#B6E880"
          ],
          [
           1,
           "#B6E880"
          ]
         ],
         "geo": "geo",
         "hovertemplate": "color=Western Europe<br>locations=%{location}<extra></extra>",
         "locations": [
          "DEU",
          "FRA",
          "DEU",
          "FRA",
          "BEL",
          "DEU",
          "FRA",
          "BEL",
          "FRA",
          "LUX",
          "BEL",
          "DEU",
          "MCO",
          "BEL",
          "FRA",
          "MCO",
          "DEU",
          "LUX",
          "MCO",
          "LUX",
          "FRA",
          "BEL",
          "DEU",
          "DEU",
          "FRA",
          "LUX",
          "BEL",
          "MCO",
          "MCO",
          "FRA",
          "BEL",
          "LUX",
          "DEU",
          "FRA",
          "MCO",
          "DEU",
          "LUX",
          "BEL",
          "MCO",
          "LUX",
          "BEL",
          "DEU",
          "FRA",
          "LUX",
          "BEL",
          "FRA",
          "DEU",
          "MCO",
          "DEU",
          "LUX",
          "FRA",
          "BEL",
          "MCO",
          "MCO",
          "LUX",
          "DEU",
          "BEL",
          "FRA",
          "MCO",
          "FRA",
          "BEL",
          "DEU",
          "LUX",
          "MCO",
          "FRA",
          "DEU",
          "LUX",
          "BEL",
          "AUT",
          "DEU",
          "AUT",
          "MCO",
          "LUX",
          "FRA",
          "BEL",
          "DEU",
          "LUX",
          "AUT",
          "BEL",
          "MCO",
          "FRA",
          "FRA",
          "LUX",
          "BEL",
          "DEU",
          "MCO",
          "AUT",
          "MCO",
          "AUT",
          "FRA",
          "DEU",
          "LUX",
          "BEL",
          "FRA",
          "BEL",
          "DEU",
          "LUX",
          "AUT",
          "MCO",
          "FRA",
          "MCO",
          "AUT",
          "DEU",
          "LUX",
          "BEL",
          "DEU",
          "MCO",
          "LUX",
          "FRA",
          "AUT",
          "BEL",
          "FRA",
          "AUT",
          "MCO",
          "LUX",
          "BEL",
          "DEU",
          "LUX",
          "AUT",
          "FRA",
          "BEL",
          "DEU",
          "LUX",
          "FRA",
          "BEL",
          "DEU",
          "AUT",
          "AUT",
          "BEL",
          "FRA",
          "DEU",
          "LUX",
          "LUX",
          "FRA",
          "DEU",
          "BEL",
          "AUT",
          "LUX",
          "AUT",
          "DEU",
          "BEL",
          "FRA",
          "LUX",
          "NLD",
          "CHE",
          "DEU",
          "FRA",
          "BEL",
          "AUT",
          "NLD",
          "CHE",
          "LUX",
          "FRA",
          "BEL",
          "AUT",
          "DEU",
          "AUT",
          "NLD",
          "CHE",
          "LUX",
          "FRA",
          "DEU",
          "BEL",
          "CHE",
          "DEU",
          "FRA",
          "BEL",
          "NLD",
          "AUT",
          "LUX",
          "FRA",
          "BEL",
          "DEU",
          "AUT",
          "LUX",
          "CHE",
          "NLD",
          "FRA",
          "NLD",
          "AUT",
          "DEU",
          "LUX",
          "CHE",
          "BEL",
          "DEU",
          "NLD",
          "CHE",
          "AUT",
          "BEL",
          "FRA",
          "LUX",
          "CHE",
          "NLD",
          "FRA",
          "BEL",
          "AUT",
          "DEU",
          "LUX",
          "CHE",
          "NLD",
          "AUT",
          "BEL",
          "LUX",
          "DEU",
          "FRA",
          "BEL",
          "LUX",
          "FRA",
          "AUT",
          "CHE",
          "NLD",
          "DEU",
          "FRA",
          "BEL",
          "LIE",
          "AUT",
          "NLD",
          "DEU",
          "LUX",
          "CHE",
          "CHE",
          "LIE",
          "AUT",
          "LUX",
          "BEL",
          "DEU",
          "FRA",
          "NLD",
          "AUT",
          "NLD",
          "CHE",
          "LUX",
          "DEU",
          "BEL",
          "LIE",
          "FRA",
          "NLD",
          "BEL",
          "FRA",
          "LIE",
          "CHE",
          "LUX",
          "DEU",
          "AUT",
          "BEL",
          "FRA",
          "NLD",
          "CHE",
          "LUX",
          "LIE",
          "DEU",
          "AUT",
          "DEU",
          "AUT",
          "LIE",
          "FRA",
          "NLD",
          "LUX",
          "BEL",
          "CHE",
          "FRA",
          "BEL",
          "LIE",
          "LUX",
          "DEU",
          "AUT",
          "NLD",
          "CHE",
          "NLD",
          "CHE",
          "LUX",
          "AUT",
          "DEU",
          "LIE",
          "FRA",
          "BEL",
          "BEL",
          "AUT",
          "FRA",
          "LUX",
          "NLD",
          "LIE",
          "DEU",
          "CHE",
          "FRA",
          "AUT",
          "LIE",
          "BEL",
          "NLD",
          "LUX",
          "CHE",
          "DEU",
          "CHE",
          "AUT",
          "DEU",
          "LIE",
          "LUX",
          "BEL",
          "FRA",
          "NLD",
          "FRA",
          "LUX",
          "BEL",
          "NLD",
          "CHE",
          "AUT",
          "DEU",
          "LIE",
          "DEU",
          "LUX",
          "FRA",
          "AUT",
          "NLD",
          "LIE",
          "CHE",
          "BEL",
          "LIE",
          "DEU",
          "BEL",
          "CHE",
          "NLD",
          "FRA",
          "AUT",
          "LUX",
          "NLD",
          "BEL",
          "LIE",
          "LUX",
          "DEU",
          "CHE",
          "AUT",
          "FRA",
          "FRA",
          "NLD",
          "DEU",
          "LUX",
          "AUT",
          "BEL",
          "AUT"
         ],
         "name": "Western Europe",
         "showlegend": true,
         "showscale": false,
         "type": "choropleth",
         "z": [
          1,
          1,
          1,
          1,
          1,
          1,
          1,
          1,
          1,
          1,
          1,
          1,
          1,
          1,
          1,
          1,
          1,
          1,
          1,
          1,
          1,
          1,
          1,
          1,
          1,
          1,
          1,
          1,
          1,
          1,
          1,
          1,
          1,
          1,
          1,
          1,
          1,
          1,
          1,
          1,
          1,
          1,
          1,
          1,
          1,
          1,
          1,
          1,
          1,
          1,
          1,
          1,
          1,
          1,
          1,
          1,
          1,
          1,
          1,
          1,
          1,
          1,
          1,
          1,
          1,
          1,
          1,
          1,
          1,
          1,
          1,
          1,
          1,
          1,
          1,
          1,
          1,
          1,
          1,
          1,
          1,
          1,
          1,
          1,
          1,
          1,
          1,
          1,
          1,
          1,
          1,
          1,
          1,
          1,
          1,
          1,
          1,
          1,
          1,
          1,
          1,
          1,
          1,
          1,
          1,
          1,
          1,
          1,
          1,
          1,
          1,
          1,
          1,
          1,
          1,
          1,
          1,
          1,
          1,
          1,
          1,
          1,
          1,
          1,
          1,
          1,
          1,
          1,
          1,
          1,
          1,
          1,
          1,
          1,
          1,
          1,
          1,
          1,
          1,
          1,
          1,
          1,
          1,
          1,
          1,
          1,
          1,
          1,
          1,
          1,
          1,
          1,
          1,
          1,
          1,
          1,
          1,
          1,
          1,
          1,
          1,
          1,
          1,
          1,
          1,
          1,
          1,
          1,
          1,
          1,
          1,
          1,
          1,
          1,
          1,
          1,
          1,
          1,
          1,
          1,
          1,
          1,
          1,
          1,
          1,
          1,
          1,
          1,
          1,
          1,
          1,
          1,
          1,
          1,
          1,
          1,
          1,
          1,
          1,
          1,
          1,
          1,
          1,
          1,
          1,
          1,
          1,
          1,
          1,
          1,
          1,
          1,
          1,
          1,
          1,
          1,
          1,
          1,
          1,
          1,
          1,
          1,
          1,
          1,
          1,
          1,
          1,
          1,
          1,
          1,
          1,
          1,
          1,
          1,
          1,
          1,
          1,
          1,
          1,
          1,
          1,
          1,
          1,
          1,
          1,
          1,
          1,
          1,
          1,
          1,
          1,
          1,
          1,
          1,
          1,
          1,
          1,
          1,
          1,
          1,
          1,
          1,
          1,
          1,
          1,
          1,
          1,
          1,
          1,
          1,
          1,
          1,
          1,
          1,
          1,
          1,
          1,
          1,
          1,
          1,
          1,
          1,
          1,
          1,
          1,
          1,
          1,
          1,
          1,
          1,
          1,
          1,
          1,
          1,
          1,
          1,
          1,
          1,
          1,
          1,
          1,
          1,
          1,
          1,
          1,
          1,
          1,
          1,
          1,
          1,
          1,
          1,
          1,
          1,
          1,
          1,
          1,
          1,
          1,
          1,
          1,
          1,
          1,
          1,
          1,
          1,
          1,
          1,
          1,
          1,
          1,
          1,
          1,
          1,
          1,
          1,
          1,
          1,
          1
         ]
        },
        {
         "colorscale": [
          [
           0,
           "#FF97FF"
          ],
          [
           1,
           "#FF97FF"
          ]
         ],
         "geo": "geo",
         "hovertemplate": "color=Sub-Saharan Africa<br>locations=%{location}<extra></extra>",
         "locations": [
          "SYC",
          "SYC",
          "SYC",
          "SYC",
          "SYC",
          "SYC",
          "SYC",
          "SYC",
          "SYC",
          "SYC",
          "SYC",
          "SYC",
          "SYC",
          "SYC",
          "SYC",
          "SYC",
          "SYC",
          "MUS",
          "MUS",
          "SYC",
          "SYC",
          "MUS",
          "MUS",
          "SYC",
          "MUS",
          "SYC",
          "SYC",
          "MUS",
          "SYC",
          "MUS",
          "SYC",
          "MUS",
          "SYC",
          "SHN",
          "SYC",
          "SYC",
          "SYC",
          "SYC",
          "SYC",
          "SYC",
          "SYC",
          "SYC",
          "SYC",
          "SYC",
          "SYC",
          "SYC",
          "SYC",
          "ZAF",
          "SYC",
          "SYC",
          "ZAF",
          "ZAF",
          "ZAF"
         ],
         "name": "Sub-Saharan Africa",
         "showlegend": true,
         "showscale": false,
         "type": "choropleth",
         "z": [
          1,
          1,
          1,
          1,
          1,
          1,
          1,
          1,
          1,
          1,
          1,
          1,
          1,
          1,
          1,
          1,
          1,
          1,
          1,
          1,
          1,
          1,
          1,
          1,
          1,
          1,
          1,
          1,
          1,
          1,
          1,
          1,
          1,
          1,
          1,
          1,
          1,
          1,
          1,
          1,
          1,
          1,
          1,
          1,
          1,
          1,
          1,
          1,
          1,
          1,
          1,
          1,
          1
         ]
        },
        {
         "colorscale": [
          [
           0,
           "#FECB52"
          ],
          [
           1,
           "#FECB52"
          ]
         ],
         "geo": "geo",
         "hovertemplate": "color=South-eastern Asia<br>locations=%{location}<extra></extra>",
         "locations": [
          "SGP",
          "SGP",
          "IDN",
          "IDN",
          "SGP",
          "SGP",
          "IDN",
          "IDN",
          "SGP",
          "IDN",
          "SGP",
          "SGP",
          "IDN",
          "IDN",
          "SGP",
          "IDN",
          "SGP",
          "SGP",
          "IDN",
          "IDN",
          "SGP",
          "IDN",
          "SGP",
          "IDN",
          "SGP",
          "SGP",
          "IDN",
          "SGP",
          "IDN",
          "IDN",
          "SGP",
          "MMR",
          "SGP",
          "IDN",
          "MMR",
          "IDN",
          "MMR",
          "SGP",
          "MMR",
          "IDN",
          "SGP",
          "MMR",
          "SGP",
          "IDN",
          "SGP",
          "MMR",
          "IDN",
          "MMR",
          "SGP",
          "IDN",
          "SGP",
          "IDN",
          "MMR",
          "SGP",
          "IDN",
          "IDN",
          "SGP",
          "SGP",
          "IDN",
          "IDN",
          "SGP",
          "SGP",
          "IDN",
          "SGP",
          "IDN",
          "IDN",
          "KHM",
          "SGP",
          "SGP",
          "KHM",
          "IDN",
          "IDN",
          "KHM",
          "KHM",
          "IDN",
          "KHM",
          "IDN",
          "IDN",
          "KHM",
          "IDN",
          "KHM",
          "KHM",
          "IDN",
          "IDN",
          "KHM",
          "IDN"
         ],
         "name": "South-eastern Asia",
         "showlegend": true,
         "showscale": false,
         "type": "choropleth",
         "z": [
          1,
          1,
          1,
          1,
          1,
          1,
          1,
          1,
          1,
          1,
          1,
          1,
          1,
          1,
          1,
          1,
          1,
          1,
          1,
          1,
          1,
          1,
          1,
          1,
          1,
          1,
          1,
          1,
          1,
          1,
          1,
          1,
          1,
          1,
          1,
          1,
          1,
          1,
          1,
          1,
          1,
          1,
          1,
          1,
          1,
          1,
          1,
          1,
          1,
          1,
          1,
          1,
          1,
          1,
          1,
          1,
          1,
          1,
          1,
          1,
          1,
          1,
          1,
          1,
          1,
          1,
          1,
          1,
          1,
          1,
          1,
          1,
          1,
          1,
          1,
          1,
          1,
          1,
          1,
          1,
          1,
          1,
          1,
          1,
          1,
          1
         ]
        },
        {
         "colorscale": [
          [
           0,
           "#636efa"
          ],
          [
           1,
           "#636efa"
          ]
         ],
         "geo": "geo",
         "hovertemplate": "color=Southern Asia<br>locations=%{location}<extra></extra>",
         "locations": [
          "IND",
          "IND",
          "IND",
          "IND",
          "IND",
          "IND",
          "IND",
          "IND",
          "IND",
          "IND",
          "IND",
          "BGD",
          "NPL",
          "IND",
          "NPL",
          "BGD",
          "IND",
          "NPL",
          "IND",
          "BGD",
          "LKA",
          "NPL",
          "BGD",
          "LKA",
          "IND",
          "LKA",
          "BGD",
          "IND",
          "NPL",
          "LKA",
          "BGD",
          "NPL",
          "IND",
          "IND",
          "BGD",
          "NPL",
          "LKA",
          "IND",
          "PAK",
          "BGD",
          "LKA",
          "MDV",
          "NPL",
          "LKA",
          "PAK",
          "MDV",
          "IND",
          "BGD",
          "NPL",
          "BGD",
          "PAK",
          "IND",
          "NPL",
          "LKA",
          "MDV",
          "MDV",
          "LKA",
          "IND",
          "BGD",
          "PAK",
          "MDV",
          "LKA",
          "IND",
          "PAK",
          "BGD",
          "BGD",
          "IND",
          "LKA",
          "MDV",
          "PAK",
          "PAK",
          "BGD",
          "LKA",
          "IND",
          "MDV",
          "IRN",
          "BGD",
          "IRN",
          "IND",
          "MDV",
          "LKA",
          "PAK",
          "LKA",
          "IND",
          "PAK",
          "IRN",
          "BGD",
          "MDV",
          "IRN",
          "MDV",
          "PAK",
          "IND",
          "BGD",
          "LKA",
          "PAK",
          "LKA",
          "MDV",
          "IRN",
          "BGD",
          "IND",
          "BGD",
          "LKA",
          "MDV",
          "PAK",
          "IND",
          "IRN",
          "MDV",
          "IRN",
          "PAK",
          "BGD",
          "LKA",
          "IND",
          "IRN",
          "MDV",
          "IND",
          "LKA",
          "BGD",
          "PAK",
          "IRN",
          "IND",
          "BGD",
          "LKA",
          "MDV",
          "PAK",
          "IRN",
          "IND",
          "PAK",
          "BGD",
          "LKA",
          "IND",
          "BGD",
          "LKA",
          "IND",
          "LKA"
         ],
         "name": "Southern Asia",
         "showlegend": true,
         "showscale": false,
         "type": "choropleth",
         "z": [
          1,
          1,
          1,
          1,
          1,
          1,
          1,
          1,
          1,
          1,
          1,
          1,
          1,
          1,
          1,
          1,
          1,
          1,
          1,
          1,
          1,
          1,
          1,
          1,
          1,
          1,
          1,
          1,
          1,
          1,
          1,
          1,
          1,
          1,
          1,
          1,
          1,
          1,
          1,
          1,
          1,
          1,
          1,
          1,
          1,
          1,
          1,
          1,
          1,
          1,
          1,
          1,
          1,
          1,
          1,
          1,
          1,
          1,
          1,
          1,
          1,
          1,
          1,
          1,
          1,
          1,
          1,
          1,
          1,
          1,
          1,
          1,
          1,
          1,
          1,
          1,
          1,
          1,
          1,
          1,
          1,
          1,
          1,
          1,
          1,
          1,
          1,
          1,
          1,
          1,
          1,
          1,
          1,
          1,
          1,
          1,
          1,
          1,
          1,
          1,
          1,
          1,
          1,
          1,
          1,
          1,
          1,
          1,
          1,
          1,
          1,
          1,
          1,
          1,
          1,
          1,
          1,
          1,
          1,
          1,
          1,
          1,
          1,
          1,
          1,
          1,
          1,
          1,
          1,
          1,
          1,
          1,
          1,
          1
         ]
        },
        {
         "colorscale": [
          [
           0,
           "#EF553B"
          ],
          [
           1,
           "#EF553B"
          ]
         ],
         "geo": "geo",
         "hovertemplate": "color=Northern Africa<br>locations=%{location}<extra></extra>",
         "locations": [
          "EGY",
          "EGY",
          "EGY",
          "EGY",
          "MAR",
          "EGY",
          "EGY",
          "MAR",
          "DZA",
          "MAR",
          "EGY",
          "DZA",
          "DZA",
          "MAR",
          "MAR",
          "DZA",
          "MAR",
          "DZA",
          "DZA",
          "MAR",
          "DZA",
          "MAR",
          "MAR",
          "DZA",
          "MAR",
          "DZA",
          "DZA",
          "MAR",
          "DZA",
          "MAR",
          "DZA",
          "MAR",
          "DZA",
          "MAR",
          "MAR",
          "DZA",
          "MAR",
          "DZA",
          "MAR",
          "DZA",
          "MAR",
          "DZA",
          "MAR",
          "DZA",
          "DZA",
          "MAR",
          "MAR",
          "DZA",
          "DZA",
          "MAR",
          "DZA",
          "MAR"
         ],
         "name": "Northern Africa",
         "showlegend": true,
         "showscale": false,
         "type": "choropleth",
         "z": [
          1,
          1,
          1,
          1,
          1,
          1,
          1,
          1,
          1,
          1,
          1,
          1,
          1,
          1,
          1,
          1,
          1,
          1,
          1,
          1,
          1,
          1,
          1,
          1,
          1,
          1,
          1,
          1,
          1,
          1,
          1,
          1,
          1,
          1,
          1,
          1,
          1,
          1,
          1,
          1,
          1,
          1,
          1,
          1,
          1,
          1,
          1,
          1,
          1,
          1,
          1,
          1
         ]
        }
       ],
       "layout": {
        "geo": {
         "center": {},
         "domain": {
          "x": [
           0,
           1
          ],
          "y": [
           0,
           1
          ]
         }
        },
        "legend": {
         "title": {
          "text": "color"
         },
         "tracegroupgap": 0
        },
        "template": {
         "data": {
          "bar": [
           {
            "error_x": {
             "color": "#2a3f5f"
            },
            "error_y": {
             "color": "#2a3f5f"
            },
            "marker": {
             "line": {
              "color": "#E5ECF6",
              "width": 0.5
             }
            },
            "type": "bar"
           }
          ],
          "barpolar": [
           {
            "marker": {
             "line": {
              "color": "#E5ECF6",
              "width": 0.5
             }
            },
            "type": "barpolar"
           }
          ],
          "carpet": [
           {
            "aaxis": {
             "endlinecolor": "#2a3f5f",
             "gridcolor": "white",
             "linecolor": "white",
             "minorgridcolor": "white",
             "startlinecolor": "#2a3f5f"
            },
            "baxis": {
             "endlinecolor": "#2a3f5f",
             "gridcolor": "white",
             "linecolor": "white",
             "minorgridcolor": "white",
             "startlinecolor": "#2a3f5f"
            },
            "type": "carpet"
           }
          ],
          "choropleth": [
           {
            "colorbar": {
             "outlinewidth": 0,
             "ticks": ""
            },
            "type": "choropleth"
           }
          ],
          "contour": [
           {
            "colorbar": {
             "outlinewidth": 0,
             "ticks": ""
            },
            "colorscale": [
             [
              0,
              "#0d0887"
             ],
             [
              0.1111111111111111,
              "#46039f"
             ],
             [
              0.2222222222222222,
              "#7201a8"
             ],
             [
              0.3333333333333333,
              "#9c179e"
             ],
             [
              0.4444444444444444,
              "#bd3786"
             ],
             [
              0.5555555555555556,
              "#d8576b"
             ],
             [
              0.6666666666666666,
              "#ed7953"
             ],
             [
              0.7777777777777778,
              "#fb9f3a"
             ],
             [
              0.8888888888888888,
              "#fdca26"
             ],
             [
              1,
              "#f0f921"
             ]
            ],
            "type": "contour"
           }
          ],
          "contourcarpet": [
           {
            "colorbar": {
             "outlinewidth": 0,
             "ticks": ""
            },
            "type": "contourcarpet"
           }
          ],
          "heatmap": [
           {
            "colorbar": {
             "outlinewidth": 0,
             "ticks": ""
            },
            "colorscale": [
             [
              0,
              "#0d0887"
             ],
             [
              0.1111111111111111,
              "#46039f"
             ],
             [
              0.2222222222222222,
              "#7201a8"
             ],
             [
              0.3333333333333333,
              "#9c179e"
             ],
             [
              0.4444444444444444,
              "#bd3786"
             ],
             [
              0.5555555555555556,
              "#d8576b"
             ],
             [
              0.6666666666666666,
              "#ed7953"
             ],
             [
              0.7777777777777778,
              "#fb9f3a"
             ],
             [
              0.8888888888888888,
              "#fdca26"
             ],
             [
              1,
              "#f0f921"
             ]
            ],
            "type": "heatmap"
           }
          ],
          "heatmapgl": [
           {
            "colorbar": {
             "outlinewidth": 0,
             "ticks": ""
            },
            "colorscale": [
             [
              0,
              "#0d0887"
             ],
             [
              0.1111111111111111,
              "#46039f"
             ],
             [
              0.2222222222222222,
              "#7201a8"
             ],
             [
              0.3333333333333333,
              "#9c179e"
             ],
             [
              0.4444444444444444,
              "#bd3786"
             ],
             [
              0.5555555555555556,
              "#d8576b"
             ],
             [
              0.6666666666666666,
              "#ed7953"
             ],
             [
              0.7777777777777778,
              "#fb9f3a"
             ],
             [
              0.8888888888888888,
              "#fdca26"
             ],
             [
              1,
              "#f0f921"
             ]
            ],
            "type": "heatmapgl"
           }
          ],
          "histogram": [
           {
            "marker": {
             "colorbar": {
              "outlinewidth": 0,
              "ticks": ""
             }
            },
            "type": "histogram"
           }
          ],
          "histogram2d": [
           {
            "colorbar": {
             "outlinewidth": 0,
             "ticks": ""
            },
            "colorscale": [
             [
              0,
              "#0d0887"
             ],
             [
              0.1111111111111111,
              "#46039f"
             ],
             [
              0.2222222222222222,
              "#7201a8"
             ],
             [
              0.3333333333333333,
              "#9c179e"
             ],
             [
              0.4444444444444444,
              "#bd3786"
             ],
             [
              0.5555555555555556,
              "#d8576b"
             ],
             [
              0.6666666666666666,
              "#ed7953"
             ],
             [
              0.7777777777777778,
              "#fb9f3a"
             ],
             [
              0.8888888888888888,
              "#fdca26"
             ],
             [
              1,
              "#f0f921"
             ]
            ],
            "type": "histogram2d"
           }
          ],
          "histogram2dcontour": [
           {
            "colorbar": {
             "outlinewidth": 0,
             "ticks": ""
            },
            "colorscale": [
             [
              0,
              "#0d0887"
             ],
             [
              0.1111111111111111,
              "#46039f"
             ],
             [
              0.2222222222222222,
              "#7201a8"
             ],
             [
              0.3333333333333333,
              "#9c179e"
             ],
             [
              0.4444444444444444,
              "#bd3786"
             ],
             [
              0.5555555555555556,
              "#d8576b"
             ],
             [
              0.6666666666666666,
              "#ed7953"
             ],
             [
              0.7777777777777778,
              "#fb9f3a"
             ],
             [
              0.8888888888888888,
              "#fdca26"
             ],
             [
              1,
              "#f0f921"
             ]
            ],
            "type": "histogram2dcontour"
           }
          ],
          "mesh3d": [
           {
            "colorbar": {
             "outlinewidth": 0,
             "ticks": ""
            },
            "type": "mesh3d"
           }
          ],
          "parcoords": [
           {
            "line": {
             "colorbar": {
              "outlinewidth": 0,
              "ticks": ""
             }
            },
            "type": "parcoords"
           }
          ],
          "pie": [
           {
            "automargin": true,
            "type": "pie"
           }
          ],
          "scatter": [
           {
            "marker": {
             "colorbar": {
              "outlinewidth": 0,
              "ticks": ""
             }
            },
            "type": "scatter"
           }
          ],
          "scatter3d": [
           {
            "line": {
             "colorbar": {
              "outlinewidth": 0,
              "ticks": ""
             }
            },
            "marker": {
             "colorbar": {
              "outlinewidth": 0,
              "ticks": ""
             }
            },
            "type": "scatter3d"
           }
          ],
          "scattercarpet": [
           {
            "marker": {
             "colorbar": {
              "outlinewidth": 0,
              "ticks": ""
             }
            },
            "type": "scattercarpet"
           }
          ],
          "scattergeo": [
           {
            "marker": {
             "colorbar": {
              "outlinewidth": 0,
              "ticks": ""
             }
            },
            "type": "scattergeo"
           }
          ],
          "scattergl": [
           {
            "marker": {
             "colorbar": {
              "outlinewidth": 0,
              "ticks": ""
             }
            },
            "type": "scattergl"
           }
          ],
          "scattermapbox": [
           {
            "marker": {
             "colorbar": {
              "outlinewidth": 0,
              "ticks": ""
             }
            },
            "type": "scattermapbox"
           }
          ],
          "scatterpolar": [
           {
            "marker": {
             "colorbar": {
              "outlinewidth": 0,
              "ticks": ""
             }
            },
            "type": "scatterpolar"
           }
          ],
          "scatterpolargl": [
           {
            "marker": {
             "colorbar": {
              "outlinewidth": 0,
              "ticks": ""
             }
            },
            "type": "scatterpolargl"
           }
          ],
          "scatterternary": [
           {
            "marker": {
             "colorbar": {
              "outlinewidth": 0,
              "ticks": ""
             }
            },
            "type": "scatterternary"
           }
          ],
          "surface": [
           {
            "colorbar": {
             "outlinewidth": 0,
             "ticks": ""
            },
            "colorscale": [
             [
              0,
              "#0d0887"
             ],
             [
              0.1111111111111111,
              "#46039f"
             ],
             [
              0.2222222222222222,
              "#7201a8"
             ],
             [
              0.3333333333333333,
              "#9c179e"
             ],
             [
              0.4444444444444444,
              "#bd3786"
             ],
             [
              0.5555555555555556,
              "#d8576b"
             ],
             [
              0.6666666666666666,
              "#ed7953"
             ],
             [
              0.7777777777777778,
              "#fb9f3a"
             ],
             [
              0.8888888888888888,
              "#fdca26"
             ],
             [
              1,
              "#f0f921"
             ]
            ],
            "type": "surface"
           }
          ],
          "table": [
           {
            "cells": {
             "fill": {
              "color": "#EBF0F8"
             },
             "line": {
              "color": "white"
             }
            },
            "header": {
             "fill": {
              "color": "#C8D4E3"
             },
             "line": {
              "color": "white"
             }
            },
            "type": "table"
           }
          ]
         },
         "layout": {
          "annotationdefaults": {
           "arrowcolor": "#2a3f5f",
           "arrowhead": 0,
           "arrowwidth": 1
          },
          "autotypenumbers": "strict",
          "coloraxis": {
           "colorbar": {
            "outlinewidth": 0,
            "ticks": ""
           }
          },
          "colorscale": {
           "diverging": [
            [
             0,
             "#8e0152"
            ],
            [
             0.1,
             "#c51b7d"
            ],
            [
             0.2,
             "#de77ae"
            ],
            [
             0.3,
             "#f1b6da"
            ],
            [
             0.4,
             "#fde0ef"
            ],
            [
             0.5,
             "#f7f7f7"
            ],
            [
             0.6,
             "#e6f5d0"
            ],
            [
             0.7,
             "#b8e186"
            ],
            [
             0.8,
             "#7fbc41"
            ],
            [
             0.9,
             "#4d9221"
            ],
            [
             1,
             "#276419"
            ]
           ],
           "sequential": [
            [
             0,
             "#0d0887"
            ],
            [
             0.1111111111111111,
             "#46039f"
            ],
            [
             0.2222222222222222,
             "#7201a8"
            ],
            [
             0.3333333333333333,
             "#9c179e"
            ],
            [
             0.4444444444444444,
             "#bd3786"
            ],
            [
             0.5555555555555556,
             "#d8576b"
            ],
            [
             0.6666666666666666,
             "#ed7953"
            ],
            [
             0.7777777777777778,
             "#fb9f3a"
            ],
            [
             0.8888888888888888,
             "#fdca26"
            ],
            [
             1,
             "#f0f921"
            ]
           ],
           "sequentialminus": [
            [
             0,
             "#0d0887"
            ],
            [
             0.1111111111111111,
             "#46039f"
            ],
            [
             0.2222222222222222,
             "#7201a8"
            ],
            [
             0.3333333333333333,
             "#9c179e"
            ],
            [
             0.4444444444444444,
             "#bd3786"
            ],
            [
             0.5555555555555556,
             "#d8576b"
            ],
            [
             0.6666666666666666,
             "#ed7953"
            ],
            [
             0.7777777777777778,
             "#fb9f3a"
            ],
            [
             0.8888888888888888,
             "#fdca26"
            ],
            [
             1,
             "#f0f921"
            ]
           ]
          },
          "colorway": [
           "#636efa",
           "#EF553B",
           "#00cc96",
           "#ab63fa",
           "#FFA15A",
           "#19d3f3",
           "#FF6692",
           "#B6E880",
           "#FF97FF",
           "#FECB52"
          ],
          "font": {
           "color": "#2a3f5f"
          },
          "geo": {
           "bgcolor": "white",
           "lakecolor": "white",
           "landcolor": "#E5ECF6",
           "showlakes": true,
           "showland": true,
           "subunitcolor": "white"
          },
          "hoverlabel": {
           "align": "left"
          },
          "hovermode": "closest",
          "mapbox": {
           "style": "light"
          },
          "paper_bgcolor": "white",
          "plot_bgcolor": "#E5ECF6",
          "polar": {
           "angularaxis": {
            "gridcolor": "white",
            "linecolor": "white",
            "ticks": ""
           },
           "bgcolor": "#E5ECF6",
           "radialaxis": {
            "gridcolor": "white",
            "linecolor": "white",
            "ticks": ""
           }
          },
          "scene": {
           "xaxis": {
            "backgroundcolor": "#E5ECF6",
            "gridcolor": "white",
            "gridwidth": 2,
            "linecolor": "white",
            "showbackground": true,
            "ticks": "",
            "zerolinecolor": "white"
           },
           "yaxis": {
            "backgroundcolor": "#E5ECF6",
            "gridcolor": "white",
            "gridwidth": 2,
            "linecolor": "white",
            "showbackground": true,
            "ticks": "",
            "zerolinecolor": "white"
           },
           "zaxis": {
            "backgroundcolor": "#E5ECF6",
            "gridcolor": "white",
            "gridwidth": 2,
            "linecolor": "white",
            "showbackground": true,
            "ticks": "",
            "zerolinecolor": "white"
           }
          },
          "shapedefaults": {
           "line": {
            "color": "#2a3f5f"
           }
          },
          "ternary": {
           "aaxis": {
            "gridcolor": "white",
            "linecolor": "white",
            "ticks": ""
           },
           "baxis": {
            "gridcolor": "white",
            "linecolor": "white",
            "ticks": ""
           },
           "bgcolor": "#E5ECF6",
           "caxis": {
            "gridcolor": "white",
            "linecolor": "white",
            "ticks": ""
           }
          },
          "title": {
           "x": 0.05
          },
          "xaxis": {
           "automargin": true,
           "gridcolor": "white",
           "linecolor": "white",
           "ticks": "",
           "title": {
            "standoff": 15
           },
           "zerolinecolor": "white",
           "zerolinewidth": 2
          },
          "yaxis": {
           "automargin": true,
           "gridcolor": "white",
           "linecolor": "white",
           "ticks": "",
           "title": {
            "standoff": 15
           },
           "zerolinecolor": "white",
           "zerolinewidth": 2
          }
         }
        },
        "title": {
         "text": "Regions with available data"
        }
       }
      },
      "text/html": [
       "<div>                            <div id=\"d7ca2219-2ca1-4e1f-a509-42cbbafcc67c\" class=\"plotly-graph-div\" style=\"height:525px; width:100%;\"></div>            <script type=\"text/javascript\">                require([\"plotly\"], function(Plotly) {                    window.PLOTLYENV=window.PLOTLYENV || {};                                    if (document.getElementById(\"d7ca2219-2ca1-4e1f-a509-42cbbafcc67c\")) {                    Plotly.newPlot(                        \"d7ca2219-2ca1-4e1f-a509-42cbbafcc67c\",                        [{\"colorscale\": [[0.0, \"#636efa\"], [1.0, \"#636efa\"]], \"geo\": \"geo\", \"hovertemplate\": \"color=Northern Europe<br>locations=%{location}<extra></extra>\", \"locations\": [\"GBR\", \"GBR\", \"GBR\", \"GBR\", \"GBR\", \"GBR\", \"GBR\", \"GBR\", \"GBR\", \"GBR\", \"GBR\", \"GBR\", \"GBR\", \"GBR\", \"GBR\", \"GBR\", \"GBR\", \"GBR\", \"GBR\", \"GBR\", \"GBR\", \"GBR\", \"GBR\", \"GBR\", \"GBR\", \"GBR\", \"GBR\", \"GBR\", \"GBR\", \"GBR\", \"GBR\", \"GBR\", \"GBR\", \"GBR\", \"GBR\", \"GBR\", \"GBR\", \"GBR\", \"GBR\", \"GBR\", \"GBR\", \"GBR\", \"GBR\", \"GBR\", \"GBR\", \"GBR\", \"GBR\", \"GBR\", \"GBR\", \"GBR\", \"GBR\", \"GBR\", \"GBR\", \"GBR\", \"GBR\", \"GBR\", \"GBR\", \"GBR\", \"GBR\", \"GBR\", \"GBR\", \"GBR\", \"GBR\", \"GBR\", \"GBR\", \"GBR\", \"GBR\", \"GBR\", \"GBR\", \"GBR\", \"SWE\", \"GBR\", \"GBR\", \"NOR\", \"DNK\", \"GBR\", \"GBR\", \"GBR\", \"LTU\", \"LTU\", \"SWE\", \"NOR\", \"GBR\", \"EST\", \"LVA\", \"GBR\", \"DNK\", \"GBR\", \"GBR\", \"GBR\", \"DNK\", \"GBR\", \"GBR\", \"SWE\", \"GBR\", \"GBR\", \"LTU\", \"NOR\", \"EST\", \"GBR\", \"LVA\", \"DNK\", \"ISL\", \"GBR\", \"SWE\", \"GBR\", \"GBR\", \"GBR\", \"EST\", \"GBR\", \"LTU\", \"NOR\", \"LVA\", \"DNK\", \"GBR\", \"GBR\", \"FIN\", \"NOR\", \"EST\", \"GBR\", \"SWE\", \"IRL\", \"GBR\", \"GBR\", \"LTU\", \"ISL\", \"SWE\", \"ISL\", \"EST\", \"FIN\", \"IRL\", \"DNK\", \"GBR\", \"LTU\", \"NOR\", \"GBR\", \"GBR\", \"GBR\", \"GBR\", \"GBR\", \"EST\", \"LTU\", \"GBR\", \"NOR\", \"GBR\", \"GBR\", \"SWE\", \"ISL\", \"GBR\", \"IRL\", \"DNK\", \"FIN\", \"NOR\", \"IRL\", \"LTU\", \"ISL\", \"GBR\", \"DNK\", \"GBR\", \"GBR\", \"GBR\", \"FIN\", \"EST\", \"GBR\", \"SWE\", \"GBR\", \"GBR\", \"GBR\", \"GBR\", \"LTU\", \"FIN\", \"SWE\", \"IRL\", \"EST\", \"NOR\", \"ISL\", \"DNK\", \"GBR\", \"LVA\", \"LTU\", \"DNK\", \"ISL\", \"GBR\", \"FIN\", \"GBR\", \"LVA\", \"EST\", \"GBR\", \"SWE\", \"NOR\", \"IRL\", \"GBR\", \"GBR\", \"IRL\", \"SWE\", \"FIN\", \"GBR\", \"GBR\", \"LTU\", \"DNK\", \"GBR\", \"GBR\", \"LVA\", \"EST\", \"NOR\", \"GBR\", \"ISL\", \"EST\", \"ISL\", \"GBR\", \"GBR\", \"LVA\", \"GBR\", \"FIN\", \"GBR\", \"DNK\", \"LTU\", \"NOR\", \"GBR\", \"SWE\", \"IRL\", \"GBR\", \"EST\", \"ISL\", \"LVA\", \"SWE\", \"NOR\", \"IRL\", \"FIN\", \"GBR\", \"GBR\", \"DNK\", \"GBR\", \"GBR\", \"LTU\", \"FIN\", \"SWE\", \"LTU\", \"LVA\", \"GBR\", \"ISL\", \"GBR\", \"IRL\", \"GBR\", \"DNK\", \"GBR\", \"EST\", \"NOR\", \"GBR\", \"EST\", \"ISL\", \"IRL\", \"LTU\", \"LVA\", \"GBR\", \"FIN\", \"NOR\", \"GBR\", \"DNK\", \"SWE\", \"GBR\", \"GBR\", \"GBR\", \"GBR\", \"EST\", \"LVA\", \"GBR\", \"ISL\", \"FIN\", \"GBR\", \"DNK\", \"IRL\", \"GBR\", \"NOR\", \"GBR\", \"SWE\", \"LTU\", \"LTU\", \"LVA\", \"FIN\", \"ISL\", \"SWE\", \"GBR\", \"NOR\", \"IRL\", \"GBR\", \"GBR\", \"GBR\", \"GBR\", \"DNK\", \"EST\", \"SWE\", \"DNK\", \"FIN\", \"GBR\", \"LVA\", \"GBR\", \"GBR\", \"GBR\", \"EST\", \"ISL\", \"GBR\", \"NOR\", \"LTU\", \"IRL\", \"NOR\", \"GBR\", \"EST\", \"FIN\", \"LTU\", \"GBR\", \"LVA\", \"ISL\", \"GBR\", \"DNK\", \"GBR\", \"GBR\", \"IRL\", \"SWE\", \"GBR\", \"GBR\", \"IRL\", \"ISL\", \"EST\", \"SWE\", \"FIN\", \"LVA\", \"GBR\", \"GBR\", \"LTU\", \"NOR\", \"DNK\", \"GBR\", \"GBR\", \"GBR\", \"GBR\", \"NOR\", \"LVA\", \"FIN\", \"GBR\", \"ISL\", \"EST\", \"SWE\", \"IRL\", \"DNK\", \"LTU\", \"GBR\", \"DNK\", \"FIN\", \"LTU\", \"LVA\", \"SWE\", \"GBR\", \"EST\", \"ISL\", \"IRL\", \"GBR\", \"GBR\", \"NOR\", \"GBR\", \"GBR\", \"EST\", \"GBR\", \"SWE\", \"GBR\", \"DNK\", \"LTU\", \"GBR\", \"IRL\", \"NOR\", \"GBR\", \"FIN\", \"GBR\", \"ISL\", \"LVA\", \"IRL\", \"LTU\", \"GBR\", \"ISL\", \"GBR\", \"LVA\", \"GBR\", \"DNK\", \"EST\", \"NOR\", \"FIN\", \"GBR\", \"SWE\", \"GBR\", \"NOR\", \"FIN\", \"ISL\", \"LVA\", \"GBR\", \"GBR\", \"EST\", \"IRL\", \"GBR\", \"GBR\", \"LTU\", \"GBR\", \"SWE\", \"DNK\", \"GBR\", \"FIN\", \"GBR\", \"IRL\", \"GBR\", \"IMN\", \"GBR\", \"EST\", \"ISL\", \"NOR\", \"GBR\", \"LVA\", \"SWE\", \"LTU\", \"DNK\", \"EST\", \"GBR\", \"ISL\", \"GBR\", \"DNK\", \"IMN\", \"GBR\", \"IRL\", \"SWE\", \"LTU\", \"NOR\", \"FIN\", \"GBR\", \"GBR\", \"LVA\", \"FIN\", \"GBR\", \"GBR\", \"IRL\", \"GBR\", \"SWE\", \"IMN\", \"EST\", \"ISL\", \"GBR\", \"NOR\", \"LTU\", \"LVA\", \"DNK\", \"GBR\", \"GBR\", \"GBR\", \"LTU\", \"NOR\", \"IMN\", \"JEY\", \"IRL\", \"SWE\", \"LVA\", \"GBR\", \"GBR\", \"DNK\", \"GGY\", \"GBR\", \"EST\", \"FIN\", \"ISL\", \"GBR\", \"GBR\", \"ISL\", \"GBR\", \"EST\", \"JEY\", \"GBR\", \"FIN\", \"SWE\", \"GGY\", \"NOR\", \"IRL\", \"LVA\", \"DNK\", \"IMN\", \"GBR\", \"LTU\", \"SWE\", \"FIN\", \"ISL\", \"LVA\", \"EST\", \"GBR\", \"GBR\", \"GBR\", \"GGY\", \"GBR\", \"NOR\", \"JEY\", \"DNK\", \"LTU\", \"GBR\", \"IRL\", \"IMN\", \"NOR\", \"GBR\", \"LVA\", \"LTU\", \"IRL\", \"GBR\", \"GBR\", \"GBR\", \"IMN\", \"GGY\", \"JEY\", \"GBR\", \"SWE\", \"ISL\", \"FIN\", \"DNK\", \"EST\", \"DNK\", \"GGY\", \"LTU\", \"LVA\", \"NOR\", \"IRL\", \"ISL\", \"GBR\", \"JEY\", \"GBR\", \"SWE\", \"EST\", \"FIN\", \"GBR\", \"IMN\", \"GBR\", \"GBR\", \"FIN\", \"GBR\", \"FRO\", \"LTU\", \"GBR\", \"NOR\", \"EST\", \"GBR\", \"GBR\", \"IRL\", \"GBR\", \"IMN\", \"JEY\", \"ISL\", \"SWE\", \"GGY\", \"DNK\", \"LVA\", \"ISL\", \"FRO\", \"GBR\", \"EST\", \"FIN\", \"IMN\", \"GGY\", \"LTU\", \"LVA\", \"NOR\", \"GBR\", \"DNK\", \"GBR\", \"SWE\", \"GBR\", \"JEY\", \"GBR\", \"IRL\", \"FRO\", \"GBR\", \"GBR\", \"DNK\", \"NOR\", \"SWE\", \"FIN\", \"GBR\", \"EST\", \"IMN\", \"GBR\", \"ISL\", \"LVA\", \"IRL\", \"GGY\", \"LTU\", \"GBR\", \"JEY\", \"IMN\", \"FRO\", \"NOR\", \"GBR\", \"SWE\", \"GGY\", \"GBR\", \"GBR\", \"EST\", \"LTU\", \"GBR\", \"ISL\", \"DNK\", \"GBR\", \"LVA\", \"FIN\", \"IRL\", \"JEY\", \"GBR\", \"LVA\", \"GBR\", \"EST\", \"DNK\", \"NOR\", \"LTU\", \"IMN\", \"GBR\", \"ISL\", \"JEY\", \"SWE\", \"IRL\", \"GBR\", \"GGY\", \"GBR\", \"FRO\", \"FIN\", \"FIN\", \"GGY\", \"LTU\", \"GBR\", \"GBR\", \"GBR\", \"IRL\", \"JEY\", \"NOR\", \"GBR\", \"FRO\", \"EST\", \"SWE\", \"IMN\", \"DNK\", \"LVA\", \"GBR\", \"ISL\", \"ISL\", \"SWE\", \"JEY\", \"LVA\", \"DNK\", \"GBR\", \"GBR\", \"GGY\", \"GBR\", \"IMN\", \"EST\", \"NOR\", \"LTU\", \"GBR\", \"GBR\", \"IRL\", \"FIN\", \"FRO\", \"LVA\", \"IRL\", \"GBR\", \"GBR\", \"FRO\", \"EST\", \"GBR\", \"IMN\", \"DNK\", \"LTU\", \"NOR\", \"ISL\", \"GBR\", \"GGY\", \"GBR\", \"JEY\", \"FIN\", \"SWE\", \"JEY\", \"IRL\", \"FIN\", \"SWE\", \"GBR\", \"LTU\", \"NOR\", \"ISL\", \"GBR\", \"DNK\", \"GBR\", \"GBR\", \"LVA\", \"FRO\", \"EST\", \"IMN\", \"GGY\", \"GBR\", \"SWE\", \"ISL\", \"GBR\", \"JEY\", \"GBR\", \"IMN\", \"IRL\", \"GBR\", \"NOR\", \"GBR\", \"LVA\", \"GGY\", \"GBR\", \"LTU\", \"FIN\", \"EST\", \"DNK\", \"FRO\", \"LVA\", \"GBR\", \"IMN\", \"GBR\", \"LTU\", \"ISL\", \"GBR\", \"NOR\", \"EST\", \"GBR\", \"GBR\", \"DNK\", \"IRL\", \"FIN\", \"GGY\", \"JEY\", \"FRO\", \"SWE\", \"ISL\", \"FIN\", \"GBR\", \"EST\", \"NOR\", \"IMN\", \"FRO\", \"GBR\", \"GBR\", \"LTU\", \"IRL\", \"JEY\", \"LVA\", \"GBR\", \"GGY\", \"SWE\", \"DNK\", \"GBR\", \"GBR\", \"NOR\", \"IMN\", \"EST\", \"GBR\", \"LVA\", \"FRO\", \"GBR\", \"LTU\", \"IRL\", \"FIN\", \"GGY\", \"ISL\", \"GBR\", \"SWE\", \"DNK\", \"JEY\", \"GBR\", \"EST\", \"FIN\", \"GGY\", \"IRL\", \"SWE\", \"JEY\", \"LTU\", \"GBR\", \"NOR\", \"LVA\", \"GBR\", \"GBR\", \"GBR\", \"DNK\", \"IMN\", \"ISL\", \"GBR\", \"FIN\", \"DNK\", \"GBR\", \"ISL\", \"GBR\", \"JEY\", \"GGY\", \"GBR\", \"GBR\", \"IRL\", \"LTU\", \"GBR\", \"EST\", \"IMN\", \"SWE\", \"LVA\", \"NOR\", \"SWE\", \"GBR\", \"LTU\", \"LVA\", \"GBR\", \"GGY\", \"JEY\", \"NOR\", \"GBR\", \"GBR\", \"EST\", \"DNK\", \"FIN\", \"GBR\", \"IMN\", \"ISL\", \"IRL\", \"IMN\", \"GBR\", \"NOR\", \"SWE\", \"DNK\", \"GBR\", \"EST\", \"IRL\", \"GBR\", \"FIN\", \"LVA\", \"GBR\", \"GBR\", \"GGY\", \"JEY\", \"ISL\", \"LTU\", \"GGY\", \"GBR\", \"NOR\", \"LTU\", \"GBR\", \"ISL\", \"LVA\", \"FIN\", \"GBR\", \"IMN\", \"GBR\", \"EST\", \"IRL\", \"GBR\", \"SWE\", \"DNK\", \"ISL\", \"LVA\", \"LTU\", \"GBR\", \"GBR\", \"GBR\", \"IMN\", \"IRL\", \"GGY\", \"NOR\", \"GBR\", \"EST\", \"DNK\", \"SWE\", \"GBR\", \"FIN\", \"GBR\", \"IMN\", \"EST\", \"NOR\", \"DNK\", \"ISL\", \"GBR\", \"GBR\", \"SWE\", \"LVA\", \"LTU\", \"GBR\", \"FIN\", \"GGY\", \"GBR\", \"GBR\", \"LVA\", \"DNK\", \"NOR\", \"GBR\", \"GBR\", \"EST\", \"FIN\", \"LTU\", \"GGY\", \"GBR\", \"IMN\", \"SWE\", \"ISL\", \"GBR\", \"LVA\", \"LTU\", \"IMN\", \"ISL\", \"SWE\", \"FIN\", \"EST\"], \"name\": \"Northern Europe\", \"showlegend\": true, \"showscale\": false, \"type\": \"choropleth\", \"z\": [1, 1, 1, 1, 1, 1, 1, 1, 1, 1, 1, 1, 1, 1, 1, 1, 1, 1, 1, 1, 1, 1, 1, 1, 1, 1, 1, 1, 1, 1, 1, 1, 1, 1, 1, 1, 1, 1, 1, 1, 1, 1, 1, 1, 1, 1, 1, 1, 1, 1, 1, 1, 1, 1, 1, 1, 1, 1, 1, 1, 1, 1, 1, 1, 1, 1, 1, 1, 1, 1, 1, 1, 1, 1, 1, 1, 1, 1, 1, 1, 1, 1, 1, 1, 1, 1, 1, 1, 1, 1, 1, 1, 1, 1, 1, 1, 1, 1, 1, 1, 1, 1, 1, 1, 1, 1, 1, 1, 1, 1, 1, 1, 1, 1, 1, 1, 1, 1, 1, 1, 1, 1, 1, 1, 1, 1, 1, 1, 1, 1, 1, 1, 1, 1, 1, 1, 1, 1, 1, 1, 1, 1, 1, 1, 1, 1, 1, 1, 1, 1, 1, 1, 1, 1, 1, 1, 1, 1, 1, 1, 1, 1, 1, 1, 1, 1, 1, 1, 1, 1, 1, 1, 1, 1, 1, 1, 1, 1, 1, 1, 1, 1, 1, 1, 1, 1, 1, 1, 1, 1, 1, 1, 1, 1, 1, 1, 1, 1, 1, 1, 1, 1, 1, 1, 1, 1, 1, 1, 1, 1, 1, 1, 1, 1, 1, 1, 1, 1, 1, 1, 1, 1, 1, 1, 1, 1, 1, 1, 1, 1, 1, 1, 1, 1, 1, 1, 1, 1, 1, 1, 1, 1, 1, 1, 1, 1, 1, 1, 1, 1, 1, 1, 1, 1, 1, 1, 1, 1, 1, 1, 1, 1, 1, 1, 1, 1, 1, 1, 1, 1, 1, 1, 1, 1, 1, 1, 1, 1, 1, 1, 1, 1, 1, 1, 1, 1, 1, 1, 1, 1, 1, 1, 1, 1, 1, 1, 1, 1, 1, 1, 1, 1, 1, 1, 1, 1, 1, 1, 1, 1, 1, 1, 1, 1, 1, 1, 1, 1, 1, 1, 1, 1, 1, 1, 1, 1, 1, 1, 1, 1, 1, 1, 1, 1, 1, 1, 1, 1, 1, 1, 1, 1, 1, 1, 1, 1, 1, 1, 1, 1, 1, 1, 1, 1, 1, 1, 1, 1, 1, 1, 1, 1, 1, 1, 1, 1, 1, 1, 1, 1, 1, 1, 1, 1, 1, 1, 1, 1, 1, 1, 1, 1, 1, 1, 1, 1, 1, 1, 1, 1, 1, 1, 1, 1, 1, 1, 1, 1, 1, 1, 1, 1, 1, 1, 1, 1, 1, 1, 1, 1, 1, 1, 1, 1, 1, 1, 1, 1, 1, 1, 1, 1, 1, 1, 1, 1, 1, 1, 1, 1, 1, 1, 1, 1, 1, 1, 1, 1, 1, 1, 1, 1, 1, 1, 1, 1, 1, 1, 1, 1, 1, 1, 1, 1, 1, 1, 1, 1, 1, 1, 1, 1, 1, 1, 1, 1, 1, 1, 1, 1, 1, 1, 1, 1, 1, 1, 1, 1, 1, 1, 1, 1, 1, 1, 1, 1, 1, 1, 1, 1, 1, 1, 1, 1, 1, 1, 1, 1, 1, 1, 1, 1, 1, 1, 1, 1, 1, 1, 1, 1, 1, 1, 1, 1, 1, 1, 1, 1, 1, 1, 1, 1, 1, 1, 1, 1, 1, 1, 1, 1, 1, 1, 1, 1, 1, 1, 1, 1, 1, 1, 1, 1, 1, 1, 1, 1, 1, 1, 1, 1, 1, 1, 1, 1, 1, 1, 1, 1, 1, 1, 1, 1, 1, 1, 1, 1, 1, 1, 1, 1, 1, 1, 1, 1, 1, 1, 1, 1, 1, 1, 1, 1, 1, 1, 1, 1, 1, 1, 1, 1, 1, 1, 1, 1, 1, 1, 1, 1, 1, 1, 1, 1, 1, 1, 1, 1, 1, 1, 1, 1, 1, 1, 1, 1, 1, 1, 1, 1, 1, 1, 1, 1, 1, 1, 1, 1, 1, 1, 1, 1, 1, 1, 1, 1, 1, 1, 1, 1, 1, 1, 1, 1, 1, 1, 1, 1, 1, 1, 1, 1, 1, 1, 1, 1, 1, 1, 1, 1, 1, 1, 1, 1, 1, 1, 1, 1, 1, 1, 1, 1, 1, 1, 1, 1, 1, 1, 1, 1, 1, 1, 1, 1, 1, 1, 1, 1, 1, 1, 1, 1, 1, 1, 1, 1, 1, 1, 1, 1, 1, 1, 1, 1, 1, 1, 1, 1, 1, 1, 1, 1, 1, 1, 1, 1, 1, 1, 1, 1, 1, 1, 1, 1, 1, 1, 1, 1, 1, 1, 1, 1, 1, 1, 1, 1, 1, 1, 1, 1, 1, 1, 1, 1, 1, 1, 1, 1, 1, 1, 1, 1, 1, 1, 1, 1, 1, 1, 1, 1, 1, 1, 1, 1, 1, 1, 1, 1, 1, 1, 1, 1, 1, 1, 1, 1, 1, 1, 1, 1, 1, 1, 1, 1, 1, 1, 1, 1, 1, 1, 1, 1, 1, 1, 1, 1, 1, 1, 1, 1, 1, 1, 1, 1, 1, 1, 1, 1, 1, 1, 1, 1, 1, 1, 1, 1, 1, 1, 1, 1, 1, 1, 1, 1, 1, 1, 1, 1, 1, 1, 1, 1, 1, 1, 1, 1, 1, 1, 1, 1, 1, 1, 1, 1, 1, 1, 1, 1, 1, 1, 1, 1, 1, 1, 1, 1, 1, 1, 1, 1, 1, 1, 1, 1, 1, 1, 1, 1, 1, 1, 1, 1, 1, 1, 1, 1, 1, 1, 1, 1, 1, 1, 1, 1, 1, 1, 1, 1, 1, 1, 1, 1, 1, 1, 1, 1, 1, 1, 1, 1, 1, 1, 1, 1, 1, 1]}, {\"colorscale\": [[0.0, \"#EF553B\"], [1.0, \"#EF553B\"]], \"geo\": \"geo\", \"hovertemplate\": \"color=Eastern Europe<br>locations=%{location}<extra></extra>\", \"locations\": [\"RUS\", \"RUS\", \"RUS\", \"RUS\", \"RUS\", \"RUS\", \"RUS\", \"RUS\", \"RUS\", \"RUS\", \"RUS\", \"RUS\", \"CZE\", \"RUS\", \"RUS\", \"CZE\", \"ROU\", \"POL\", \"HUN\", \"POL\", \"CZE\", \"HUN\", \"BGR\", \"RUS\", \"ROU\", \"ROU\", \"POL\", \"CZE\", \"HUN\", \"BGR\", \"RUS\", \"RUS\", \"CZE\", \"POL\", \"BGR\", \"HUN\", \"ROU\", \"POL\", \"ROU\", \"RUS\", \"BGR\", \"HUN\", \"CZE\", \"HUN\", \"POL\", \"BGR\", \"CZE\", \"RUS\", \"ROU\", \"ROU\", \"BGR\", \"RUS\", \"HUN\", \"POL\", \"CZE\", \"HUN\", \"POL\", \"ROU\", \"SVK\", \"BGR\", \"RUS\", \"CZE\", \"CZE\", \"POL\", \"RUS\", \"BGR\", \"ROU\", \"HUN\", \"SVK\", \"RUS\", \"CZE\", \"ROU\", \"POL\", \"HUN\", \"BGR\", \"SVK\", \"BGR\", \"RUS\", \"HUN\", \"SVK\", \"ROU\", \"POL\", \"CZE\", \"BGR\", \"RUS\", \"ROU\", \"SVK\", \"POL\", \"CZE\", \"HUN\", \"RUS\", \"ROU\", \"HUN\", \"CZE\", \"POL\", \"BGR\", \"SVK\", \"HUN\", \"CZE\", \"POL\", \"ROU\", \"RUS\", \"SVK\", \"BGR\", \"HUN\", \"SVK\", \"RUS\", \"ROU\", \"POL\", \"BGR\", \"CZE\", \"CZE\", \"SVK\", \"POL\", \"HUN\", \"RUS\", \"ROU\", \"BGR\", \"POL\", \"HUN\", \"RUS\", \"SVK\", \"CZE\", \"ROU\", \"BGR\", \"BGR\", \"SVK\", \"RUS\", \"CZE\", \"HUN\", \"POL\", \"ROU\", \"SVK\", \"HUN\", \"POL\", \"BGR\", \"RUS\", \"ROU\", \"CZE\", \"SVK\", \"HUN\", \"CZE\", \"RUS\", \"POL\", \"BGR\", \"ROU\", \"POL\", \"CZE\", \"HUN\", \"ROU\", \"RUS\", \"BGR\", \"SVK\", \"CZE\", \"POL\", \"RUS\", \"ROU\", \"HUN\", \"SVK\", \"BGR\", \"POL\", \"HUN\", \"RUS\", \"CZE\", \"ROU\", \"SVK\", \"BGR\", \"CZE\", \"SVK\", \"BGR\", \"RUS\", \"HUN\", \"ROU\", \"POL\", \"HUN\", \"RUS\", \"BGR\", \"ROU\", \"SVK\", \"CZE\", \"POL\", \"CZE\", \"ROU\", \"SVK\", \"POL\", \"BGR\", \"RUS\", \"HUN\", \"ROU\", \"POL\", \"BGR\", \"RUS\", \"SVK\", \"CZE\", \"HUN\", \"SVK\", \"POL\", \"ROU\", \"RUS\", \"BGR\", \"CZE\", \"HUN\", \"HUN\", \"RUS\", \"ROU\", \"BGR\", \"CZE\", \"SVK\", \"POL\", \"HUN\", \"CZE\", \"ROU\", \"POL\", \"RUS\", \"BGR\", \"SVK\", \"BGR\", \"SVK\", \"HUN\", \"CZE\", \"POL\", \"RUS\", \"ROU\", \"CZE\", \"POL\", \"BGR\", \"ROU\", \"RUS\", \"SVK\", \"HUN\", \"ROU\", \"RUS\", \"SVK\", \"HUN\", \"CZE\", \"BGR\", \"POL\", \"BGR\", \"RUS\", \"CZE\", \"POL\", \"SVK\", \"ROU\", \"HUN\", \"SVK\", \"BGR\", \"CZE\", \"POL\", \"ROU\", \"RUS\", \"HUN\", \"CZE\", \"SVK\", \"POL\", \"BGR\", \"RUS\", \"HUN\", \"ROU\", \"RUS\", \"POL\", \"HUN\", \"BGR\", \"ROU\", \"CZE\", \"SVK\", \"BGR\", \"CZE\", \"HUN\", \"POL\", \"RUS\", \"ROU\", \"SVK\", \"POL\", \"CZE\", \"RUS\", \"HUN\", \"ROU\", \"BGR\", \"SVK\", \"RUS\", \"HUN\", \"SVK\", \"CZE\", \"POL\", \"ROU\", \"BGR\", \"SVK\", \"ROU\", \"POL\", \"BGR\", \"CZE\", \"HUN\", \"RUS\", \"HUN\", \"BGR\", \"ROU\", \"SVK\", \"RUS\", \"CZE\", \"POL\", \"RUS\", \"BGR\", \"HUN\", \"SVK\", \"CZE\", \"ROU\", \"POL\", \"BGR\", \"SVK\", \"ROU\", \"POL\", \"RUS\", \"CZE\", \"HUN\", \"SVK\", \"HUN\", \"CZE\", \"RUS\", \"POL\", \"BGR\", \"ROU\", \"POL\", \"CZE\", \"SVK\", \"ROU\", \"BGR\", \"HUN\", \"BGR\", \"ROU\", \"POL\", \"HUN\", \"CZE\", \"SVK\", \"CZE\", \"ROU\", \"HUN\", \"POL\", \"BGR\", \"SVK\", \"POL\", \"SVK\", \"CZE\", \"BGR\", \"HUN\", \"ROU\", \"HUN\", \"BGR\", \"CZE\", \"ROU\", \"POL\", \"SVK\", \"ROU\", \"SVK\", \"HUN\", \"BGR\", \"POL\", \"CZE\", \"SVK\", \"HUN\", \"ROU\", \"BGR\", \"CZE\", \"POL\", \"ROU\", \"POL\", \"CZE\", \"HUN\", \"SVK\", \"BGR\", \"SVK\", \"BGR\", \"ROU\", \"CZE\"], \"name\": \"Eastern Europe\", \"showlegend\": true, \"showscale\": false, \"type\": \"choropleth\", \"z\": [1, 1, 1, 1, 1, 1, 1, 1, 1, 1, 1, 1, 1, 1, 1, 1, 1, 1, 1, 1, 1, 1, 1, 1, 1, 1, 1, 1, 1, 1, 1, 1, 1, 1, 1, 1, 1, 1, 1, 1, 1, 1, 1, 1, 1, 1, 1, 1, 1, 1, 1, 1, 1, 1, 1, 1, 1, 1, 1, 1, 1, 1, 1, 1, 1, 1, 1, 1, 1, 1, 1, 1, 1, 1, 1, 1, 1, 1, 1, 1, 1, 1, 1, 1, 1, 1, 1, 1, 1, 1, 1, 1, 1, 1, 1, 1, 1, 1, 1, 1, 1, 1, 1, 1, 1, 1, 1, 1, 1, 1, 1, 1, 1, 1, 1, 1, 1, 1, 1, 1, 1, 1, 1, 1, 1, 1, 1, 1, 1, 1, 1, 1, 1, 1, 1, 1, 1, 1, 1, 1, 1, 1, 1, 1, 1, 1, 1, 1, 1, 1, 1, 1, 1, 1, 1, 1, 1, 1, 1, 1, 1, 1, 1, 1, 1, 1, 1, 1, 1, 1, 1, 1, 1, 1, 1, 1, 1, 1, 1, 1, 1, 1, 1, 1, 1, 1, 1, 1, 1, 1, 1, 1, 1, 1, 1, 1, 1, 1, 1, 1, 1, 1, 1, 1, 1, 1, 1, 1, 1, 1, 1, 1, 1, 1, 1, 1, 1, 1, 1, 1, 1, 1, 1, 1, 1, 1, 1, 1, 1, 1, 1, 1, 1, 1, 1, 1, 1, 1, 1, 1, 1, 1, 1, 1, 1, 1, 1, 1, 1, 1, 1, 1, 1, 1, 1, 1, 1, 1, 1, 1, 1, 1, 1, 1, 1, 1, 1, 1, 1, 1, 1, 1, 1, 1, 1, 1, 1, 1, 1, 1, 1, 1, 1, 1, 1, 1, 1, 1, 1, 1, 1, 1, 1, 1, 1, 1, 1, 1, 1, 1, 1, 1, 1, 1, 1, 1, 1, 1, 1, 1, 1, 1, 1, 1, 1, 1, 1, 1, 1, 1, 1, 1, 1, 1, 1, 1, 1, 1, 1, 1, 1, 1, 1, 1, 1, 1, 1, 1, 1, 1, 1, 1, 1, 1, 1, 1, 1, 1, 1, 1, 1, 1, 1, 1, 1, 1, 1, 1, 1, 1, 1, 1, 1, 1, 1, 1, 1, 1, 1, 1, 1, 1, 1]}, {\"colorscale\": [[0.0, \"#00cc96\"], [1.0, \"#00cc96\"]], \"geo\": \"geo\", \"hovertemplate\": \"color=Eastern Asia<br>locations=%{location}<extra></extra>\", \"locations\": [\"CHN\", \"CHN\", \"CHN\", \"CHN\", \"CHN\", \"CHN\", \"CHN\", \"CHN\", \"CHN\", \"CHN\", \"CHN\", \"CHN\", \"CHN\", \"CHN\", \"CHN\", \"CHN\", \"CHN\", \"CHN\", \"CHN\", \"CHN\", \"CHN\", \"CHN\", \"CHN\", \"CHN\", \"CHN\", \"CHN\", \"CHN\", \"CHN\", \"CHN\", \"CHN\", \"CHN\", \"CHN\", \"CHN\", \"CHN\", \"CHN\", \"CHN\", \"CHN\", \"CHN\", \"CHN\", \"CHN\", \"CHN\", \"CHN\", \"CHN\", \"CHN\", \"CHN\", \"CHN\", \"CHN\", \"CHN\", \"CHN\", \"CHN\", \"CHN\", \"CHN\", \"CHN\", \"CHN\", \"CHN\", \"MAC\", \"CHN\", \"MAC\", \"CHN\", \"MAC\", \"MAC\", \"MAC\", \"MAC\", \"MAC\", \"MAC\", \"MAC\", \"MAC\", \"JPN\", \"MAC\", \"JPN\", \"JPN\"], \"name\": \"Eastern Asia\", \"showlegend\": true, \"showscale\": false, \"type\": \"choropleth\", \"z\": [1, 1, 1, 1, 1, 1, 1, 1, 1, 1, 1, 1, 1, 1, 1, 1, 1, 1, 1, 1, 1, 1, 1, 1, 1, 1, 1, 1, 1, 1, 1, 1, 1, 1, 1, 1, 1, 1, 1, 1, 1, 1, 1, 1, 1, 1, 1, 1, 1, 1, 1, 1, 1, 1, 1, 1, 1, 1, 1, 1, 1, 1, 1, 1, 1, 1, 1, 1, 1, 1, 1]}, {\"colorscale\": [[0.0, \"#ab63fa\"], [1.0, \"#ab63fa\"]], \"geo\": \"geo\", \"hovertemplate\": \"color=Northern America<br>locations=%{location}<extra></extra>\", \"locations\": [\"CAN\", \"USA\", \"USA\", \"USA\", \"USA\", \"USA\", \"USA\", \"CAN\", \"USA\", \"USA\", \"USA\", \"USA\", \"USA\", \"USA\", \"USA\", \"CAN\", \"USA\", \"USA\", \"USA\", \"USA\", \"USA\", \"USA\", \"USA\", \"USA\", \"CAN\", \"USA\", \"BMU\", \"BMU\", \"USA\", \"BMU\", \"CAN\", \"USA\", \"USA\", \"BMU\", \"CAN\", \"BMU\", \"CAN\", \"USA\", \"USA\", \"BMU\", \"CAN\", \"USA\", \"BMU\", \"CAN\", \"CAN\", \"USA\", \"BMU\", \"USA\", \"CAN\", \"BMU\", \"USA\", \"CAN\", \"BMU\", \"CAN\", \"BMU\", \"USA\", \"USA\", \"BMU\", \"CAN\", \"CAN\", \"USA\", \"BMU\", \"USA\", \"BMU\", \"CAN\", \"USA\", \"BMU\", \"CAN\", \"CAN\", \"BMU\", \"USA\", \"BMU\", \"CAN\", \"USA\", \"BMU\", \"USA\", \"GRL\", \"CAN\", \"BMU\", \"USA\", \"CAN\", \"CAN\", \"BMU\", \"USA\", \"USA\", \"CAN\", \"BMU\", \"BMU\", \"CAN\", \"USA\", \"BMU\", \"CAN\", \"USA\", \"USA\", \"CAN\", \"BMU\", \"USA\", \"BMU\", \"CAN\", \"CAN\", \"BMU\", \"USA\", \"BMU\", \"CAN\", \"USA\", \"BMU\", \"USA\", \"CAN\", \"USA\", \"BMU\", \"CAN\", \"CAN\", \"USA\", \"BMU\", \"USA\", \"BMU\", \"CAN\", \"USA\", \"BMU\", \"CAN\", \"BMU\", \"USA\", \"CAN\", \"CAN\", \"USA\", \"BMU\", \"USA\", \"CAN\", \"BMU\", \"USA\", \"BMU\", \"CAN\", \"CAN\", \"USA\", \"BMU\", \"CAN\", \"USA\", \"USA\", \"CAN\", \"USA\", \"CAN\", \"USA\", \"CAN\"], \"name\": \"Northern America\", \"showlegend\": true, \"showscale\": false, \"type\": \"choropleth\", \"z\": [1, 1, 1, 1, 1, 1, 1, 1, 1, 1, 1, 1, 1, 1, 1, 1, 1, 1, 1, 1, 1, 1, 1, 1, 1, 1, 1, 1, 1, 1, 1, 1, 1, 1, 1, 1, 1, 1, 1, 1, 1, 1, 1, 1, 1, 1, 1, 1, 1, 1, 1, 1, 1, 1, 1, 1, 1, 1, 1, 1, 1, 1, 1, 1, 1, 1, 1, 1, 1, 1, 1, 1, 1, 1, 1, 1, 1, 1, 1, 1, 1, 1, 1, 1, 1, 1, 1, 1, 1, 1, 1, 1, 1, 1, 1, 1, 1, 1, 1, 1, 1, 1, 1, 1, 1, 1, 1, 1, 1, 1, 1, 1, 1, 1, 1, 1, 1, 1, 1, 1, 1, 1, 1, 1, 1, 1, 1, 1, 1, 1, 1, 1, 1, 1, 1, 1, 1, 1, 1, 1, 1, 1, 1]}, {\"colorscale\": [[0.0, \"#FFA15A\"], [1.0, \"#FFA15A\"]], \"geo\": \"geo\", \"hovertemplate\": \"color=Western Asia<br>locations=%{location}<extra></extra>\", \"locations\": [\"ISR\", \"ISR\", \"ISR\", \"ISR\", \"QAT\", \"QAT\", \"BHR\", \"ISR\", \"ISR\", \"BHR\", \"QAT\", \"ISR\", \"QAT\", \"BHR\", \"QAT\", \"ISR\", \"BHR\", \"QAT\", \"ISR\", \"BHR\", \"ISR\", \"BHR\", \"KWT\", \"OMN\", \"QAT\", \"OMN\", \"BHR\", \"ISR\", \"KWT\", \"QAT\", \"KWT\", \"OMN\", \"BHR\", \"ISR\", \"QAT\", \"QAT\", \"OMN\", \"BHR\", \"KWT\", \"ISR\", \"KWT\", \"OMN\", \"BHR\", \"ISR\", \"QAT\", \"BHR\", \"KWT\", \"OMN\", \"QAT\", \"ISR\", \"QAT\", \"ISR\", \"OMN\", \"KWT\", \"BHR\", \"BHR\", \"QAT\", \"KWT\", \"OMN\", \"ISR\", \"KWT\", \"ARE\", \"ISR\", \"OMN\", \"BHR\", \"QAT\", \"ISR\", \"SAU\", \"CYP\", \"OMN\", \"BHR\", \"QAT\", \"KWT\", \"ARE\", \"SAU\", \"BHR\", \"CYP\", \"OMN\", \"ARE\", \"ISR\", \"KWT\", \"QAT\", \"ARE\", \"CYP\", \"KWT\", \"QAT\", \"BHR\", \"SAU\", \"ISR\", \"OMN\", \"QAT\", \"CYP\", \"BHR\", \"KWT\", \"ISR\", \"ARE\", \"OMN\", \"SAU\", \"ISR\", \"CYP\", \"KWT\", \"OMN\", \"QAT\", \"BHR\", \"ARE\", \"SAU\", \"QAT\", \"ARE\", \"CYP\", \"KWT\", \"BHR\", \"SAU\", \"OMN\", \"ISR\", \"OMN\", \"KWT\", \"ARE\", \"BHR\", \"SAU\", \"QAT\", \"ISR\", \"CYP\", \"OMN\", \"TUR\", \"CYP\", \"QAT\", \"KWT\", \"BHR\", \"SAU\", \"ARE\", \"ISR\", \"OWID_NCY\", \"OMN\", \"BHR\", \"SAU\", \"ARE\", \"ISR\", \"KWT\", \"CYP\", \"QAT\", \"TUR\", \"ISR\", \"KWT\", \"TUR\", \"OWID_NCY\", \"BHR\", \"ARE\", \"QAT\", \"SAU\", \"CYP\", \"OMN\", \"QAT\", \"CYP\", \"OWID_NCY\", \"KWT\", \"ARE\", \"SAU\", \"TUR\", \"OMN\", \"BHR\", \"ISR\", \"CYP\", \"OMN\", \"OWID_NCY\", \"TUR\", \"SAU\", \"BHR\", \"ARE\", \"KWT\", \"AZE\", \"QAT\", \"ISR\", \"OMN\", \"SAU\", \"BHR\", \"ISR\", \"TUR\", \"CYP\", \"OWID_NCY\", \"KWT\", \"QAT\", \"AZE\", \"ARE\", \"CYP\", \"KWT\", \"ARE\", \"QAT\", \"AZE\", \"ISR\", \"BHR\", \"SAU\", \"OWID_NCY\", \"TUR\", \"OMN\", \"TUR\", \"KWT\", \"BHR\", \"QAT\", \"OWID_NCY\", \"CYP\", \"OMN\", \"ARE\", \"AZE\", \"ISR\", \"SAU\", \"CYP\", \"OMN\", \"ISR\", \"QAT\", \"OWID_NCY\", \"SAU\", \"AZE\", \"BHR\", \"TUR\", \"ARE\", \"KWT\", \"ISR\", \"TUR\", \"BHR\", \"QAT\", \"SAU\", \"AZE\", \"CYP\", \"OWID_NCY\", \"ARE\", \"KWT\", \"OMN\", \"SAU\", \"CYP\", \"KWT\", \"TUR\", \"ARE\", \"OMN\", \"AZE\", \"QAT\", \"BHR\", \"ISR\", \"ARE\", \"KWT\", \"OMN\", \"QAT\", \"ISR\", \"TUR\", \"SAU\", \"BHR\", \"AZE\", \"CYP\", \"BHR\", \"QAT\", \"SAU\", \"AZE\", \"ISR\", \"KWT\", \"ARE\", \"TUR\", \"CYP\", \"OMN\", \"TUR\", \"SAU\", \"OMN\", \"KWT\", \"QAT\", \"BHR\", \"CYP\", \"ARE\", \"AZE\", \"ISR\", \"AZE\", \"QAT\", \"CYP\", \"KWT\", \"BHR\", \"ISR\", \"SAU\", \"OMN\", \"TUR\", \"ARE\", \"ARE\", \"BHR\", \"OMN\", \"TUR\", \"AZE\", \"ISR\", \"QAT\", \"CYP\", \"KWT\", \"SAU\", \"ARE\", \"AZE\", \"BHR\", \"ISR\", \"CYP\", \"KWT\", \"SAU\", \"TUR\", \"OMN\", \"ARE\", \"SAU\", \"AZE\", \"ISR\", \"CYP\", \"BHR\", \"TUR\", \"OMN\", \"KWT\", \"CYP\", \"BHR\", \"TUR\", \"OMN\", \"AZE\", \"SAU\", \"KWT\", \"ISR\", \"ARE\", \"CYP\", \"ISR\", \"SAU\", \"BHR\", \"TUR\", \"OMN\", \"KWT\", \"AZE\", \"ARE\", \"ISR\", \"TUR\", \"ARE\", \"BHR\", \"SAU\", \"AZE\", \"CYP\", \"KWT\", \"OMN\", \"OMN\", \"KWT\", \"AZE\", \"ISR\", \"BHR\", \"TUR\", \"SAU\", \"CYP\", \"ARE\", \"CYP\", \"OMN\", \"KWT\", \"TUR\", \"ISR\", \"SAU\", \"BHR\", \"AZE\", \"ARE\", \"KWT\", \"ARE\", \"CYP\", \"TUR\", \"ISR\", \"AZE\", \"BHR\", \"SAU\", \"OMN\", \"CYP\", \"KWT\", \"ARE\", \"AZE\", \"BHR\", \"SAU\", \"ISR\", \"TUR\", \"OMN\", \"SAU\", \"ISR\", \"KWT\", \"CYP\", \"BHR\", \"ARE\", \"TUR\", \"OMN\", \"TUR\", \"OMN\", \"ISR\", \"SAU\", \"BHR\", \"ARE\", \"KWT\", \"CYP\", \"OMN\", \"TUR\", \"ARE\", \"ISR\", \"SAU\", \"CYP\", \"BHR\", \"KWT\", \"CYP\", \"BHR\", \"SAU\", \"OMN\", \"ARE\", \"ISR\", \"KWT\", \"TUR\", \"ARE\", \"KWT\", \"CYP\", \"BHR\", \"ISR\", \"SAU\", \"TUR\", \"OMN\", \"TUR\", \"OMN\", \"ISR\", \"KWT\", \"ARE\", \"BHR\", \"SAU\", \"CYP\", \"TUR\", \"ARE\", \"BHR\", \"SAU\", \"KWT\", \"OMN\", \"CYP\", \"ISR\", \"TUR\", \"ARE\", \"OMN\", \"BHR\", \"ISR\", \"KWT\", \"SAU\", \"ISR\", \"ARE\", \"KWT\", \"BHR\", \"SAU\", \"OMN\", \"TUR\", \"SAU\", \"ISR\", \"OMN\", \"BHR\", \"TUR\", \"ARE\", \"TUR\", \"OMN\", \"SAU\", \"BHR\", \"ARE\", \"ISR\", \"SAU\", \"OMN\", \"ISR\", \"ARE\", \"TUR\", \"BHR\", \"ISR\", \"ARE\", \"TUR\", \"BHR\", \"OMN\"], \"name\": \"Western Asia\", \"showlegend\": true, \"showscale\": false, \"type\": \"choropleth\", \"z\": [1, 1, 1, 1, 1, 1, 1, 1, 1, 1, 1, 1, 1, 1, 1, 1, 1, 1, 1, 1, 1, 1, 1, 1, 1, 1, 1, 1, 1, 1, 1, 1, 1, 1, 1, 1, 1, 1, 1, 1, 1, 1, 1, 1, 1, 1, 1, 1, 1, 1, 1, 1, 1, 1, 1, 1, 1, 1, 1, 1, 1, 1, 1, 1, 1, 1, 1, 1, 1, 1, 1, 1, 1, 1, 1, 1, 1, 1, 1, 1, 1, 1, 1, 1, 1, 1, 1, 1, 1, 1, 1, 1, 1, 1, 1, 1, 1, 1, 1, 1, 1, 1, 1, 1, 1, 1, 1, 1, 1, 1, 1, 1, 1, 1, 1, 1, 1, 1, 1, 1, 1, 1, 1, 1, 1, 1, 1, 1, 1, 1, 1, 1, 1, 1, 1, 1, 1, 1, 1, 1, 1, 1, 1, 1, 1, 1, 1, 1, 1, 1, 1, 1, 1, 1, 1, 1, 1, 1, 1, 1, 1, 1, 1, 1, 1, 1, 1, 1, 1, 1, 1, 1, 1, 1, 1, 1, 1, 1, 1, 1, 1, 1, 1, 1, 1, 1, 1, 1, 1, 1, 1, 1, 1, 1, 1, 1, 1, 1, 1, 1, 1, 1, 1, 1, 1, 1, 1, 1, 1, 1, 1, 1, 1, 1, 1, 1, 1, 1, 1, 1, 1, 1, 1, 1, 1, 1, 1, 1, 1, 1, 1, 1, 1, 1, 1, 1, 1, 1, 1, 1, 1, 1, 1, 1, 1, 1, 1, 1, 1, 1, 1, 1, 1, 1, 1, 1, 1, 1, 1, 1, 1, 1, 1, 1, 1, 1, 1, 1, 1, 1, 1, 1, 1, 1, 1, 1, 1, 1, 1, 1, 1, 1, 1, 1, 1, 1, 1, 1, 1, 1, 1, 1, 1, 1, 1, 1, 1, 1, 1, 1, 1, 1, 1, 1, 1, 1, 1, 1, 1, 1, 1, 1, 1, 1, 1, 1, 1, 1, 1, 1, 1, 1, 1, 1, 1, 1, 1, 1, 1, 1, 1, 1, 1, 1, 1, 1, 1, 1, 1, 1, 1, 1, 1, 1, 1, 1, 1, 1, 1, 1, 1, 1, 1, 1, 1, 1, 1, 1, 1, 1, 1, 1, 1, 1, 1, 1, 1, 1, 1, 1, 1, 1, 1, 1, 1, 1, 1, 1, 1, 1, 1, 1, 1, 1, 1, 1, 1, 1, 1, 1, 1, 1, 1, 1, 1, 1, 1, 1, 1, 1, 1, 1, 1, 1, 1, 1, 1, 1, 1, 1, 1, 1, 1, 1, 1, 1, 1, 1, 1, 1, 1, 1, 1, 1, 1, 1, 1, 1, 1, 1, 1, 1, 1, 1, 1, 1, 1, 1, 1, 1, 1, 1, 1, 1, 1, 1, 1, 1, 1, 1, 1, 1, 1, 1, 1, 1, 1, 1, 1, 1, 1]}, {\"colorscale\": [[0.0, \"#19d3f3\"], [1.0, \"#19d3f3\"]], \"geo\": \"geo\", \"hovertemplate\": \"color=Latin America and the Caribbean<br>locations=%{location}<extra></extra>\", \"locations\": [\"CHL\", \"MEX\", \"CRI\", \"CHL\", \"CRI\", \"MEX\", \"MEX\", \"CRI\", \"CHL\", \"CYM\", \"CRI\", \"CHL\", \"CYM\", \"MEX\", \"CRI\", \"CHL\", \"CYM\", \"MEX\", \"ARG\", \"CHL\", \"CYM\", \"MEX\", \"CRI\", \"MEX\", \"CHL\", \"CYM\", \"CRI\", \"ARG\", \"CHL\", \"CYM\", \"MEX\", \"ARG\", \"CRI\", \"CHL\", \"CYM\", \"ARG\", \"MEX\", \"CRI\", \"CHL\", \"MEX\", \"CRI\", \"ARG\", \"CYM\", \"CRI\", \"ARG\", \"CYM\", \"CHL\", \"MEX\", \"ARG\", \"CHL\", \"MEX\", \"CYM\", \"CRI\", \"ARG\", \"CYM\", \"CHL\", \"CRI\", \"MEX\", \"CYM\", \"CHL\", \"ARG\", \"MEX\", \"CRI\", \"ARG\", \"CRI\", \"CHL\", \"CYM\", \"MEX\", \"CYM\", \"MEX\", \"CHL\", \"CRI\", \"ARG\", \"CRI\", \"MEX\", \"ARG\", \"CYM\", \"CHL\", \"MEX\", \"ARG\", \"CHL\", \"CRI\", \"CYM\", \"TCA\", \"ARG\", \"CHL\", \"TCA\", \"CYM\", \"MEX\", \"CRI\", \"CYM\", \"CHL\", \"ARG\", \"MEX\", \"CRI\", \"TCA\", \"MEX\", \"CYM\", \"TCA\", \"CRI\", \"ARG\", \"CHL\", \"CHL\", \"ARG\", \"TCA\", \"CYM\", \"MEX\", \"CRI\", \"ARG\", \"MEX\", \"TCA\", \"CRI\", \"CYM\", \"CHL\", \"CHL\", \"BRA\", \"ARG\", \"TCA\", \"CYM\", \"CRI\", \"MEX\", \"MEX\", \"CHL\", \"TCA\", \"CYM\", \"ARG\", \"BRA\", \"CRI\", \"CYM\", \"MEX\", \"TCA\", \"CRI\", \"BRA\", \"CHL\", \"ARG\", \"CYM\", \"CRI\", \"ARG\", \"CHL\", \"TCA\", \"BRA\", \"MEX\", \"PAN\", \"CRI\", \"MEX\", \"CHL\", \"ARG\", \"CYM\", \"PAN\", \"TCA\", \"BRA\", \"CHL\", \"ECU\", \"CRI\", \"BRA\", \"ARG\", \"CYM\", \"PAN\", \"TCA\", \"MEX\", \"CRI\", \"MEX\", \"CYM\", \"BRA\", \"CHL\", \"PAN\", \"TCA\", \"ECU\", \"ARG\", \"CYM\", \"CHL\", \"CRI\", \"ECU\", \"PAN\", \"TCA\", \"MEX\", \"ARG\", \"BRA\", \"MEX\", \"PAN\", \"TCA\", \"CRI\", \"BRA\", \"ARG\", \"CHL\", \"ECU\", \"CYM\", \"CYM\", \"CHL\", \"CRI\", \"TCA\", \"BRA\", \"ARG\", \"MEX\", \"PAN\", \"ECU\", \"ECU\", \"PAN\", \"CHL\", \"ARG\", \"CRI\", \"TCA\", \"MEX\", \"BRA\", \"CYM\", \"CRI\", \"BRA\", \"ARG\", \"MEX\", \"PAN\", \"ECU\", \"CYM\", \"TCA\", \"CHL\", \"BOL\", \"PAN\", \"CYM\", \"CRI\", \"TCA\", \"CHL\", \"BRA\", \"ARG\", \"ECU\", \"MEX\", \"MEX\", \"TCA\", \"BRA\", \"CYM\", \"ARG\", \"CRI\", \"BOL\", \"CHL\", \"PAN\", \"ECU\", \"BOL\", \"ECU\", \"TCA\", \"MEX\", \"BRA\", \"CYM\", \"CHL\", \"PAN\", \"ARG\", \"CRI\", \"BRA\", \"BOL\", \"MEX\", \"CRI\", \"ECU\", \"PAN\", \"CYM\", \"TCA\", \"CHL\", \"ARG\", \"CHL\", \"TCA\", \"BOL\", \"ARG\", \"PAN\", \"CYM\", \"BRA\", \"ECU\", \"CRI\", \"MEX\", \"ECU\", \"BRA\", \"CHL\", \"CYM\", \"MEX\", \"PAN\", \"CRI\", \"TCA\", \"BOL\", \"ARG\", \"MEX\", \"PAN\", \"CRI\", \"ECU\", \"BRA\", \"ARG\", \"BOL\", \"CHL\", \"TCA\", \"CYM\", \"CRI\", \"PAN\", \"ARG\", \"CYM\", \"CHL\", \"BRA\", \"MEX\", \"TCA\", \"BOL\", \"ECU\", \"AIA\", \"AIA\", \"BRA\", \"TCA\", \"ARG\", \"CHL\", \"BOL\", \"PAN\", \"MEX\", \"ECU\", \"CYM\", \"CRI\", \"CRI\", \"MEX\", \"CHL\", \"CYM\", \"AIA\", \"PAN\", \"ECU\", \"TCA\", \"ARG\", \"BOL\", \"BRA\", \"CYM\", \"BOL\", \"CHL\", \"AIA\", \"BRA\", \"ECU\", \"ARG\", \"TCA\", \"CRI\", \"MEX\", \"PAN\", \"CYM\", \"AIA\", \"BRA\", \"PAN\", \"ECU\", \"ARG\", \"MEX\", \"CRI\", \"CHL\", \"BOL\", \"TCA\", \"MEX\", \"BOL\", \"BRA\", \"ECU\", \"AIA\", \"PAN\", \"CHL\", \"CYM\", \"PER\", \"CRI\", \"ARG\", \"ARG\", \"PER\", \"BRA\", \"BOL\", \"CYM\", \"CHL\", \"MEX\", \"PAN\", \"ECU\", \"AIA\", \"CRI\", \"CRI\", \"BOL\", \"MEX\", \"GUY\", \"CHL\", \"AIA\", \"PER\", \"ECU\", \"PAN\", \"CYM\", \"ARG\", \"BRA\", \"AIA\", \"CRI\", \"GUY\", \"ARG\", \"MEX\", \"CYM\", \"BRA\", \"PER\", \"CHL\", \"PAN\", \"ECU\", \"AIA\", \"ARG\", \"CRI\", \"CHL\", \"CYM\", \"GUY\", \"PAN\", \"PER\", \"MEX\", \"ECU\", \"BRA\", \"PAN\", \"PER\", \"MEX\", \"CRI\", \"GUY\", \"ARG\", \"BRA\", \"CYM\", \"CHL\", \"ECU\", \"ECU\", \"GUY\", \"ARG\", \"MEX\", \"BRA\", \"CRI\", \"BRB\", \"PER\", \"CYM\", \"CHL\", \"PAN\", \"CYM\", \"CHL\", \"COL\", \"ARG\", \"BRA\", \"BRB\", \"DOM\", \"PER\", \"PAN\", \"MEX\", \"ECU\", \"BRA\", \"PAN\", \"ECU\", \"PER\", \"ARG\", \"DOM\", \"CYM\", \"COL\", \"MEX\", \"BRB\", \"CYM\", \"COL\", \"PER\", \"PAN\", \"MEX\", \"ARG\", \"BRA\", \"MEX\", \"ARG\", \"BRA\", \"CYM\", \"COL\", \"PAN\", \"PER\"], \"name\": \"Latin America and the Caribbean\", \"showlegend\": true, \"showscale\": false, \"type\": \"choropleth\", \"z\": [1, 1, 1, 1, 1, 1, 1, 1, 1, 1, 1, 1, 1, 1, 1, 1, 1, 1, 1, 1, 1, 1, 1, 1, 1, 1, 1, 1, 1, 1, 1, 1, 1, 1, 1, 1, 1, 1, 1, 1, 1, 1, 1, 1, 1, 1, 1, 1, 1, 1, 1, 1, 1, 1, 1, 1, 1, 1, 1, 1, 1, 1, 1, 1, 1, 1, 1, 1, 1, 1, 1, 1, 1, 1, 1, 1, 1, 1, 1, 1, 1, 1, 1, 1, 1, 1, 1, 1, 1, 1, 1, 1, 1, 1, 1, 1, 1, 1, 1, 1, 1, 1, 1, 1, 1, 1, 1, 1, 1, 1, 1, 1, 1, 1, 1, 1, 1, 1, 1, 1, 1, 1, 1, 1, 1, 1, 1, 1, 1, 1, 1, 1, 1, 1, 1, 1, 1, 1, 1, 1, 1, 1, 1, 1, 1, 1, 1, 1, 1, 1, 1, 1, 1, 1, 1, 1, 1, 1, 1, 1, 1, 1, 1, 1, 1, 1, 1, 1, 1, 1, 1, 1, 1, 1, 1, 1, 1, 1, 1, 1, 1, 1, 1, 1, 1, 1, 1, 1, 1, 1, 1, 1, 1, 1, 1, 1, 1, 1, 1, 1, 1, 1, 1, 1, 1, 1, 1, 1, 1, 1, 1, 1, 1, 1, 1, 1, 1, 1, 1, 1, 1, 1, 1, 1, 1, 1, 1, 1, 1, 1, 1, 1, 1, 1, 1, 1, 1, 1, 1, 1, 1, 1, 1, 1, 1, 1, 1, 1, 1, 1, 1, 1, 1, 1, 1, 1, 1, 1, 1, 1, 1, 1, 1, 1, 1, 1, 1, 1, 1, 1, 1, 1, 1, 1, 1, 1, 1, 1, 1, 1, 1, 1, 1, 1, 1, 1, 1, 1, 1, 1, 1, 1, 1, 1, 1, 1, 1, 1, 1, 1, 1, 1, 1, 1, 1, 1, 1, 1, 1, 1, 1, 1, 1, 1, 1, 1, 1, 1, 1, 1, 1, 1, 1, 1, 1, 1, 1, 1, 1, 1, 1, 1, 1, 1, 1, 1, 1, 1, 1, 1, 1, 1, 1, 1, 1, 1, 1, 1, 1, 1, 1, 1, 1, 1, 1, 1, 1, 1, 1, 1, 1, 1, 1, 1, 1, 1, 1, 1, 1, 1, 1, 1, 1, 1, 1, 1, 1, 1, 1, 1, 1, 1, 1, 1, 1, 1, 1, 1, 1, 1, 1, 1, 1, 1, 1, 1, 1, 1, 1, 1, 1, 1, 1, 1, 1, 1, 1, 1, 1, 1, 1, 1, 1, 1, 1, 1, 1, 1, 1, 1, 1, 1, 1, 1, 1, 1, 1, 1, 1, 1, 1, 1, 1, 1, 1, 1, 1, 1, 1, 1, 1, 1, 1, 1, 1, 1, 1, 1, 1, 1, 1]}, {\"colorscale\": [[0.0, \"#FF6692\"], [1.0, \"#FF6692\"]], \"geo\": \"geo\", \"hovertemplate\": \"color=Southern Europe<br>locations=%{location}<extra></extra>\", \"locations\": [\"ITA\", \"SVN\", \"SVN\", \"GRC\", \"ITA\", \"PRT\", \"PRT\", \"SVN\", \"GRC\", \"ITA\", \"HRV\", \"GRC\", \"PRT\", \"ITA\", \"SVN\", \"HRV\", \"SVN\", \"PRT\", \"ITA\", \"GRC\", \"ITA\", \"SVN\", \"PRT\", \"HRV\", \"GRC\", \"GRC\", \"SVN\", \"HRV\", \"ITA\", \"PRT\", \"HRV\", \"PRT\", \"ITA\", \"SVN\", \"GRC\", \"SVN\", \"ESP\", \"PRT\", \"ITA\", \"HRV\", \"GRC\", \"PRT\", \"ESP\", \"ITA\", \"GRC\", \"SVN\", \"HRV\", \"ITA\", \"PRT\", \"ESP\", \"SVN\", \"HRV\", \"GRC\", \"ITA\", \"HRV\", \"GRC\", \"ESP\", \"SVN\", \"PRT\", \"ESP\", \"SVN\", \"PRT\", \"GRC\", \"ITA\", \"SRB\", \"HRV\", \"HRV\", \"SVN\", \"GRC\", \"ITA\", \"ESP\", \"SRB\", \"PRT\", \"PRT\", \"ITA\", \"GIB\", \"HRV\", \"GRC\", \"ALB\", \"ESP\", \"SRB\", \"SVN\", \"ESP\", \"ITA\", \"SVN\", \"GRC\", \"GIB\", \"HRV\", \"SRB\", \"ALB\", \"PRT\", \"SVN\", \"PRT\", \"GRC\", \"GIB\", \"SRB\", \"ESP\", \"HRV\", \"ALB\", \"ITA\", \"ESP\", \"GIB\", \"ITA\", \"GRC\", \"ALB\", \"SRB\", \"PRT\", \"SVN\", \"HRV\", \"ESP\", \"SVN\", \"SRB\", \"GRC\", \"PRT\", \"HRV\", \"ITA\", \"ALB\", \"GIB\", \"ALB\", \"ESP\", \"GIB\", \"ITA\", \"SVN\", \"GRC\", \"SRB\", \"PRT\", \"HRV\", \"HRV\", \"ITA\", \"PRT\", \"SVN\", \"SRB\", \"ESP\", \"GRC\", \"ALB\", \"GIB\", \"GIB\", \"GRC\", \"MLT\", \"PRT\", \"ESP\", \"SRB\", \"SVN\", \"ITA\", \"HRV\", \"ALB\", \"GRC\", \"HRV\", \"SRB\", \"ITA\", \"MLT\", \"ALB\", \"SVN\", \"PRT\", \"ESP\", \"GIB\", \"ALB\", \"GIB\", \"ITA\", \"PRT\", \"HRV\", \"GRC\", \"MLT\", \"ESP\", \"SRB\", \"SVN\", \"HRV\", \"ESP\", \"GRC\", \"SVN\", \"ITA\", \"GIB\", \"ALB\", \"MLT\", \"SRB\", \"PRT\", \"MLT\", \"ITA\", \"ALB\", \"SRB\", \"HRV\", \"SVN\", \"PRT\", \"GRC\", \"GIB\", \"ESP\", \"MLT\", \"GRC\", \"HRV\", \"SRB\", \"GIB\", \"ALB\", \"SVN\", \"ITA\", \"ESP\", \"PRT\", \"GIB\", \"ALB\", \"MLT\", \"PRT\", \"ITA\", \"SVN\", \"ESP\", \"HRV\", \"GRC\", \"SRB\", \"SVN\", \"PRT\", \"MLT\", \"SRB\", \"ESP\", \"ITA\", \"GIB\", \"HRV\", \"GRC\", \"ALB\", \"HRV\", \"GIB\", \"ITA\", \"SRB\", \"MLT\", \"AND\", \"GRC\", \"PRT\", \"ESP\", \"SVN\", \"ALB\", \"ITA\", \"GRC\", \"HRV\", \"GIB\", \"PRT\", \"ESP\", \"SRB\", \"MLT\", \"ALB\", \"AND\", \"SVN\", \"MLT\", \"GIB\", \"PRT\", \"HRV\", \"ALB\", \"ESP\", \"AND\", \"GRC\", \"ITA\", \"SRB\", \"SVN\", \"SVN\", \"PRT\", \"GRC\", \"AND\", \"ESP\", \"SRB\", \"ITA\", \"MLT\", \"HRV\", \"GIB\", \"ALB\", \"GIB\", \"ALB\", \"MLT\", \"GRC\", \"HRV\", \"PRT\", \"ITA\", \"SVN\", \"SRB\", \"AND\", \"ESP\", \"SRB\", \"ALB\", \"GRC\", \"ESP\", \"PRT\", \"ITA\", \"SVN\", \"AND\", \"MLT\", \"HRV\", \"GIB\", \"ESP\", \"SVN\", \"HRV\", \"PRT\", \"SRB\", \"ALB\", \"MLT\", \"ITA\", \"GIB\", \"AND\", \"GRC\", \"PRT\", \"ITA\", \"GIB\", \"SRB\", \"GRC\", \"ALB\", \"HRV\", \"MLT\", \"AND\", \"ESP\", \"SVN\", \"MLT\", \"GRC\", \"ITA\", \"SRB\", \"GIB\", \"HRV\", \"SVN\", \"PRT\", \"ALB\", \"AND\", \"ESP\", \"SVN\", \"ESP\", \"SRB\", \"PRT\", \"GRC\", \"MLT\", \"ALB\", \"ITA\", \"HRV\", \"AND\", \"GIB\", \"ITA\", \"HRV\", \"PRT\", \"SRB\", \"GIB\", \"ESP\", \"MLT\", \"SVN\", \"ALB\", \"GRC\", \"AND\", \"AND\", \"ITA\", \"ESP\", \"ALB\", \"PRT\", \"HRV\", \"MLT\", \"GRC\", \"SRB\", \"SVN\", \"GIB\", \"SVN\", \"ESP\", \"PRT\", \"HRV\", \"MLT\", \"ITA\", \"ALB\", \"GIB\", \"SRB\", \"GRC\", \"AND\", \"SVN\", \"AND\", \"ITA\", \"SRB\", \"ESP\", \"PRT\", \"ALB\", \"HRV\", \"GIB\", \"GRC\", \"MLT\", \"GRC\", \"ALB\", \"SRB\", \"GIB\", \"PRT\", \"HRV\", \"SVN\", \"ESP\", \"MLT\", \"ITA\", \"AND\", \"MLT\", \"ALB\", \"SVN\", \"SRB\", \"AND\", \"ESP\", \"GIB\", \"PRT\", \"ITA\", \"HRV\", \"GRC\", \"SRB\", \"GIB\", \"ITA\", \"PRT\", \"ESP\", \"AND\", \"GRC\", \"MLT\", \"SVN\", \"HRV\", \"ALB\", \"MLT\", \"GRC\", \"PRT\", \"HRV\", \"ESP\", \"ITA\", \"SVN\", \"ALB\", \"GIB\", \"SRB\", \"AND\", \"MLT\", \"SVN\", \"AND\", \"GRC\", \"ITA\", \"HRV\", \"GIB\", \"ALB\", \"PRT\", \"SRB\", \"ESP\", \"ESP\", \"GIB\", \"GRC\", \"ITA\", \"HRV\", \"ALB\", \"MLT\", \"PRT\", \"SRB\", \"SVN\", \"MLT\", \"PRT\", \"HRV\", \"SVN\", \"ALB\", \"ESP\", \"GRC\", \"ITA\", \"SRB\", \"GIB\", \"ITA\", \"MLT\", \"GIB\", \"GRC\", \"ALB\", \"SRB\", \"PRT\", \"HRV\", \"ESP\", \"SVN\", \"SVN\", \"SRB\", \"GRC\", \"ITA\", \"ESP\", \"GIB\", \"PRT\", \"ALB\", \"MLT\", \"HRV\", \"SRB\", \"ESP\", \"SVN\", \"PRT\", \"GIB\", \"HRV\", \"ALB\", \"ITA\", \"GRC\", \"MLT\", \"ALB\", \"GRC\", \"HRV\", \"PRT\", \"GIB\", \"ESP\", \"MLT\", \"SVN\", \"ITA\", \"SRB\", \"ITA\", \"GRC\", \"SRB\"], \"name\": \"Southern Europe\", \"showlegend\": true, \"showscale\": false, \"type\": \"choropleth\", \"z\": [1, 1, 1, 1, 1, 1, 1, 1, 1, 1, 1, 1, 1, 1, 1, 1, 1, 1, 1, 1, 1, 1, 1, 1, 1, 1, 1, 1, 1, 1, 1, 1, 1, 1, 1, 1, 1, 1, 1, 1, 1, 1, 1, 1, 1, 1, 1, 1, 1, 1, 1, 1, 1, 1, 1, 1, 1, 1, 1, 1, 1, 1, 1, 1, 1, 1, 1, 1, 1, 1, 1, 1, 1, 1, 1, 1, 1, 1, 1, 1, 1, 1, 1, 1, 1, 1, 1, 1, 1, 1, 1, 1, 1, 1, 1, 1, 1, 1, 1, 1, 1, 1, 1, 1, 1, 1, 1, 1, 1, 1, 1, 1, 1, 1, 1, 1, 1, 1, 1, 1, 1, 1, 1, 1, 1, 1, 1, 1, 1, 1, 1, 1, 1, 1, 1, 1, 1, 1, 1, 1, 1, 1, 1, 1, 1, 1, 1, 1, 1, 1, 1, 1, 1, 1, 1, 1, 1, 1, 1, 1, 1, 1, 1, 1, 1, 1, 1, 1, 1, 1, 1, 1, 1, 1, 1, 1, 1, 1, 1, 1, 1, 1, 1, 1, 1, 1, 1, 1, 1, 1, 1, 1, 1, 1, 1, 1, 1, 1, 1, 1, 1, 1, 1, 1, 1, 1, 1, 1, 1, 1, 1, 1, 1, 1, 1, 1, 1, 1, 1, 1, 1, 1, 1, 1, 1, 1, 1, 1, 1, 1, 1, 1, 1, 1, 1, 1, 1, 1, 1, 1, 1, 1, 1, 1, 1, 1, 1, 1, 1, 1, 1, 1, 1, 1, 1, 1, 1, 1, 1, 1, 1, 1, 1, 1, 1, 1, 1, 1, 1, 1, 1, 1, 1, 1, 1, 1, 1, 1, 1, 1, 1, 1, 1, 1, 1, 1, 1, 1, 1, 1, 1, 1, 1, 1, 1, 1, 1, 1, 1, 1, 1, 1, 1, 1, 1, 1, 1, 1, 1, 1, 1, 1, 1, 1, 1, 1, 1, 1, 1, 1, 1, 1, 1, 1, 1, 1, 1, 1, 1, 1, 1, 1, 1, 1, 1, 1, 1, 1, 1, 1, 1, 1, 1, 1, 1, 1, 1, 1, 1, 1, 1, 1, 1, 1, 1, 1, 1, 1, 1, 1, 1, 1, 1, 1, 1, 1, 1, 1, 1, 1, 1, 1, 1, 1, 1, 1, 1, 1, 1, 1, 1, 1, 1, 1, 1, 1, 1, 1, 1, 1, 1, 1, 1, 1, 1, 1, 1, 1, 1, 1, 1, 1, 1, 1, 1, 1, 1, 1, 1, 1, 1, 1, 1, 1, 1, 1, 1, 1, 1, 1, 1, 1, 1, 1, 1, 1, 1, 1, 1, 1, 1, 1, 1, 1, 1, 1, 1, 1, 1, 1, 1, 1, 1, 1, 1, 1, 1, 1, 1, 1, 1, 1, 1, 1, 1, 1, 1, 1, 1, 1, 1, 1, 1, 1, 1, 1, 1, 1, 1, 1, 1, 1, 1, 1, 1, 1, 1, 1, 1, 1, 1, 1, 1, 1, 1, 1, 1, 1]}, {\"colorscale\": [[0.0, \"#B6E880\"], [1.0, \"#B6E880\"]], \"geo\": \"geo\", \"hovertemplate\": \"color=Western Europe<br>locations=%{location}<extra></extra>\", \"locations\": [\"DEU\", \"FRA\", \"DEU\", \"FRA\", \"BEL\", \"DEU\", \"FRA\", \"BEL\", \"FRA\", \"LUX\", \"BEL\", \"DEU\", \"MCO\", \"BEL\", \"FRA\", \"MCO\", \"DEU\", \"LUX\", \"MCO\", \"LUX\", \"FRA\", \"BEL\", \"DEU\", \"DEU\", \"FRA\", \"LUX\", \"BEL\", \"MCO\", \"MCO\", \"FRA\", \"BEL\", \"LUX\", \"DEU\", \"FRA\", \"MCO\", \"DEU\", \"LUX\", \"BEL\", \"MCO\", \"LUX\", \"BEL\", \"DEU\", \"FRA\", \"LUX\", \"BEL\", \"FRA\", \"DEU\", \"MCO\", \"DEU\", \"LUX\", \"FRA\", \"BEL\", \"MCO\", \"MCO\", \"LUX\", \"DEU\", \"BEL\", \"FRA\", \"MCO\", \"FRA\", \"BEL\", \"DEU\", \"LUX\", \"MCO\", \"FRA\", \"DEU\", \"LUX\", \"BEL\", \"AUT\", \"DEU\", \"AUT\", \"MCO\", \"LUX\", \"FRA\", \"BEL\", \"DEU\", \"LUX\", \"AUT\", \"BEL\", \"MCO\", \"FRA\", \"FRA\", \"LUX\", \"BEL\", \"DEU\", \"MCO\", \"AUT\", \"MCO\", \"AUT\", \"FRA\", \"DEU\", \"LUX\", \"BEL\", \"FRA\", \"BEL\", \"DEU\", \"LUX\", \"AUT\", \"MCO\", \"FRA\", \"MCO\", \"AUT\", \"DEU\", \"LUX\", \"BEL\", \"DEU\", \"MCO\", \"LUX\", \"FRA\", \"AUT\", \"BEL\", \"FRA\", \"AUT\", \"MCO\", \"LUX\", \"BEL\", \"DEU\", \"LUX\", \"AUT\", \"FRA\", \"BEL\", \"DEU\", \"LUX\", \"FRA\", \"BEL\", \"DEU\", \"AUT\", \"AUT\", \"BEL\", \"FRA\", \"DEU\", \"LUX\", \"LUX\", \"FRA\", \"DEU\", \"BEL\", \"AUT\", \"LUX\", \"AUT\", \"DEU\", \"BEL\", \"FRA\", \"LUX\", \"NLD\", \"CHE\", \"DEU\", \"FRA\", \"BEL\", \"AUT\", \"NLD\", \"CHE\", \"LUX\", \"FRA\", \"BEL\", \"AUT\", \"DEU\", \"AUT\", \"NLD\", \"CHE\", \"LUX\", \"FRA\", \"DEU\", \"BEL\", \"CHE\", \"DEU\", \"FRA\", \"BEL\", \"NLD\", \"AUT\", \"LUX\", \"FRA\", \"BEL\", \"DEU\", \"AUT\", \"LUX\", \"CHE\", \"NLD\", \"FRA\", \"NLD\", \"AUT\", \"DEU\", \"LUX\", \"CHE\", \"BEL\", \"DEU\", \"NLD\", \"CHE\", \"AUT\", \"BEL\", \"FRA\", \"LUX\", \"CHE\", \"NLD\", \"FRA\", \"BEL\", \"AUT\", \"DEU\", \"LUX\", \"CHE\", \"NLD\", \"AUT\", \"BEL\", \"LUX\", \"DEU\", \"FRA\", \"BEL\", \"LUX\", \"FRA\", \"AUT\", \"CHE\", \"NLD\", \"DEU\", \"FRA\", \"BEL\", \"LIE\", \"AUT\", \"NLD\", \"DEU\", \"LUX\", \"CHE\", \"CHE\", \"LIE\", \"AUT\", \"LUX\", \"BEL\", \"DEU\", \"FRA\", \"NLD\", \"AUT\", \"NLD\", \"CHE\", \"LUX\", \"DEU\", \"BEL\", \"LIE\", \"FRA\", \"NLD\", \"BEL\", \"FRA\", \"LIE\", \"CHE\", \"LUX\", \"DEU\", \"AUT\", \"BEL\", \"FRA\", \"NLD\", \"CHE\", \"LUX\", \"LIE\", \"DEU\", \"AUT\", \"DEU\", \"AUT\", \"LIE\", \"FRA\", \"NLD\", \"LUX\", \"BEL\", \"CHE\", \"FRA\", \"BEL\", \"LIE\", \"LUX\", \"DEU\", \"AUT\", \"NLD\", \"CHE\", \"NLD\", \"CHE\", \"LUX\", \"AUT\", \"DEU\", \"LIE\", \"FRA\", \"BEL\", \"BEL\", \"AUT\", \"FRA\", \"LUX\", \"NLD\", \"LIE\", \"DEU\", \"CHE\", \"FRA\", \"AUT\", \"LIE\", \"BEL\", \"NLD\", \"LUX\", \"CHE\", \"DEU\", \"CHE\", \"AUT\", \"DEU\", \"LIE\", \"LUX\", \"BEL\", \"FRA\", \"NLD\", \"FRA\", \"LUX\", \"BEL\", \"NLD\", \"CHE\", \"AUT\", \"DEU\", \"LIE\", \"DEU\", \"LUX\", \"FRA\", \"AUT\", \"NLD\", \"LIE\", \"CHE\", \"BEL\", \"LIE\", \"DEU\", \"BEL\", \"CHE\", \"NLD\", \"FRA\", \"AUT\", \"LUX\", \"NLD\", \"BEL\", \"LIE\", \"LUX\", \"DEU\", \"CHE\", \"AUT\", \"FRA\", \"FRA\", \"NLD\", \"DEU\", \"LUX\", \"AUT\", \"BEL\", \"AUT\"], \"name\": \"Western Europe\", \"showlegend\": true, \"showscale\": false, \"type\": \"choropleth\", \"z\": [1, 1, 1, 1, 1, 1, 1, 1, 1, 1, 1, 1, 1, 1, 1, 1, 1, 1, 1, 1, 1, 1, 1, 1, 1, 1, 1, 1, 1, 1, 1, 1, 1, 1, 1, 1, 1, 1, 1, 1, 1, 1, 1, 1, 1, 1, 1, 1, 1, 1, 1, 1, 1, 1, 1, 1, 1, 1, 1, 1, 1, 1, 1, 1, 1, 1, 1, 1, 1, 1, 1, 1, 1, 1, 1, 1, 1, 1, 1, 1, 1, 1, 1, 1, 1, 1, 1, 1, 1, 1, 1, 1, 1, 1, 1, 1, 1, 1, 1, 1, 1, 1, 1, 1, 1, 1, 1, 1, 1, 1, 1, 1, 1, 1, 1, 1, 1, 1, 1, 1, 1, 1, 1, 1, 1, 1, 1, 1, 1, 1, 1, 1, 1, 1, 1, 1, 1, 1, 1, 1, 1, 1, 1, 1, 1, 1, 1, 1, 1, 1, 1, 1, 1, 1, 1, 1, 1, 1, 1, 1, 1, 1, 1, 1, 1, 1, 1, 1, 1, 1, 1, 1, 1, 1, 1, 1, 1, 1, 1, 1, 1, 1, 1, 1, 1, 1, 1, 1, 1, 1, 1, 1, 1, 1, 1, 1, 1, 1, 1, 1, 1, 1, 1, 1, 1, 1, 1, 1, 1, 1, 1, 1, 1, 1, 1, 1, 1, 1, 1, 1, 1, 1, 1, 1, 1, 1, 1, 1, 1, 1, 1, 1, 1, 1, 1, 1, 1, 1, 1, 1, 1, 1, 1, 1, 1, 1, 1, 1, 1, 1, 1, 1, 1, 1, 1, 1, 1, 1, 1, 1, 1, 1, 1, 1, 1, 1, 1, 1, 1, 1, 1, 1, 1, 1, 1, 1, 1, 1, 1, 1, 1, 1, 1, 1, 1, 1, 1, 1, 1, 1, 1, 1, 1, 1, 1, 1, 1, 1, 1, 1, 1, 1, 1, 1, 1, 1, 1, 1, 1, 1, 1, 1, 1, 1, 1, 1, 1, 1, 1, 1, 1, 1, 1, 1, 1, 1, 1, 1, 1, 1, 1, 1, 1, 1, 1, 1, 1, 1, 1]}, {\"colorscale\": [[0.0, \"#FF97FF\"], [1.0, \"#FF97FF\"]], \"geo\": \"geo\", \"hovertemplate\": \"color=Sub-Saharan Africa<br>locations=%{location}<extra></extra>\", \"locations\": [\"SYC\", \"SYC\", \"SYC\", \"SYC\", \"SYC\", \"SYC\", \"SYC\", \"SYC\", \"SYC\", \"SYC\", \"SYC\", \"SYC\", \"SYC\", \"SYC\", \"SYC\", \"SYC\", \"SYC\", \"MUS\", \"MUS\", \"SYC\", \"SYC\", \"MUS\", \"MUS\", \"SYC\", \"MUS\", \"SYC\", \"SYC\", \"MUS\", \"SYC\", \"MUS\", \"SYC\", \"MUS\", \"SYC\", \"SHN\", \"SYC\", \"SYC\", \"SYC\", \"SYC\", \"SYC\", \"SYC\", \"SYC\", \"SYC\", \"SYC\", \"SYC\", \"SYC\", \"SYC\", \"SYC\", \"ZAF\", \"SYC\", \"SYC\", \"ZAF\", \"ZAF\", \"ZAF\"], \"name\": \"Sub-Saharan Africa\", \"showlegend\": true, \"showscale\": false, \"type\": \"choropleth\", \"z\": [1, 1, 1, 1, 1, 1, 1, 1, 1, 1, 1, 1, 1, 1, 1, 1, 1, 1, 1, 1, 1, 1, 1, 1, 1, 1, 1, 1, 1, 1, 1, 1, 1, 1, 1, 1, 1, 1, 1, 1, 1, 1, 1, 1, 1, 1, 1, 1, 1, 1, 1, 1, 1]}, {\"colorscale\": [[0.0, \"#FECB52\"], [1.0, \"#FECB52\"]], \"geo\": \"geo\", \"hovertemplate\": \"color=South-eastern Asia<br>locations=%{location}<extra></extra>\", \"locations\": [\"SGP\", \"SGP\", \"IDN\", \"IDN\", \"SGP\", \"SGP\", \"IDN\", \"IDN\", \"SGP\", \"IDN\", \"SGP\", \"SGP\", \"IDN\", \"IDN\", \"SGP\", \"IDN\", \"SGP\", \"SGP\", \"IDN\", \"IDN\", \"SGP\", \"IDN\", \"SGP\", \"IDN\", \"SGP\", \"SGP\", \"IDN\", \"SGP\", \"IDN\", \"IDN\", \"SGP\", \"MMR\", \"SGP\", \"IDN\", \"MMR\", \"IDN\", \"MMR\", \"SGP\", \"MMR\", \"IDN\", \"SGP\", \"MMR\", \"SGP\", \"IDN\", \"SGP\", \"MMR\", \"IDN\", \"MMR\", \"SGP\", \"IDN\", \"SGP\", \"IDN\", \"MMR\", \"SGP\", \"IDN\", \"IDN\", \"SGP\", \"SGP\", \"IDN\", \"IDN\", \"SGP\", \"SGP\", \"IDN\", \"SGP\", \"IDN\", \"IDN\", \"KHM\", \"SGP\", \"SGP\", \"KHM\", \"IDN\", \"IDN\", \"KHM\", \"KHM\", \"IDN\", \"KHM\", \"IDN\", \"IDN\", \"KHM\", \"IDN\", \"KHM\", \"KHM\", \"IDN\", \"IDN\", \"KHM\", \"IDN\"], \"name\": \"South-eastern Asia\", \"showlegend\": true, \"showscale\": false, \"type\": \"choropleth\", \"z\": [1, 1, 1, 1, 1, 1, 1, 1, 1, 1, 1, 1, 1, 1, 1, 1, 1, 1, 1, 1, 1, 1, 1, 1, 1, 1, 1, 1, 1, 1, 1, 1, 1, 1, 1, 1, 1, 1, 1, 1, 1, 1, 1, 1, 1, 1, 1, 1, 1, 1, 1, 1, 1, 1, 1, 1, 1, 1, 1, 1, 1, 1, 1, 1, 1, 1, 1, 1, 1, 1, 1, 1, 1, 1, 1, 1, 1, 1, 1, 1, 1, 1, 1, 1, 1, 1]}, {\"colorscale\": [[0.0, \"#636efa\"], [1.0, \"#636efa\"]], \"geo\": \"geo\", \"hovertemplate\": \"color=Southern Asia<br>locations=%{location}<extra></extra>\", \"locations\": [\"IND\", \"IND\", \"IND\", \"IND\", \"IND\", \"IND\", \"IND\", \"IND\", \"IND\", \"IND\", \"IND\", \"BGD\", \"NPL\", \"IND\", \"NPL\", \"BGD\", \"IND\", \"NPL\", \"IND\", \"BGD\", \"LKA\", \"NPL\", \"BGD\", \"LKA\", \"IND\", \"LKA\", \"BGD\", \"IND\", \"NPL\", \"LKA\", \"BGD\", \"NPL\", \"IND\", \"IND\", \"BGD\", \"NPL\", \"LKA\", \"IND\", \"PAK\", \"BGD\", \"LKA\", \"MDV\", \"NPL\", \"LKA\", \"PAK\", \"MDV\", \"IND\", \"BGD\", \"NPL\", \"BGD\", \"PAK\", \"IND\", \"NPL\", \"LKA\", \"MDV\", \"MDV\", \"LKA\", \"IND\", \"BGD\", \"PAK\", \"MDV\", \"LKA\", \"IND\", \"PAK\", \"BGD\", \"BGD\", \"IND\", \"LKA\", \"MDV\", \"PAK\", \"PAK\", \"BGD\", \"LKA\", \"IND\", \"MDV\", \"IRN\", \"BGD\", \"IRN\", \"IND\", \"MDV\", \"LKA\", \"PAK\", \"LKA\", \"IND\", \"PAK\", \"IRN\", \"BGD\", \"MDV\", \"IRN\", \"MDV\", \"PAK\", \"IND\", \"BGD\", \"LKA\", \"PAK\", \"LKA\", \"MDV\", \"IRN\", \"BGD\", \"IND\", \"BGD\", \"LKA\", \"MDV\", \"PAK\", \"IND\", \"IRN\", \"MDV\", \"IRN\", \"PAK\", \"BGD\", \"LKA\", \"IND\", \"IRN\", \"MDV\", \"IND\", \"LKA\", \"BGD\", \"PAK\", \"IRN\", \"IND\", \"BGD\", \"LKA\", \"MDV\", \"PAK\", \"IRN\", \"IND\", \"PAK\", \"BGD\", \"LKA\", \"IND\", \"BGD\", \"LKA\", \"IND\", \"LKA\"], \"name\": \"Southern Asia\", \"showlegend\": true, \"showscale\": false, \"type\": \"choropleth\", \"z\": [1, 1, 1, 1, 1, 1, 1, 1, 1, 1, 1, 1, 1, 1, 1, 1, 1, 1, 1, 1, 1, 1, 1, 1, 1, 1, 1, 1, 1, 1, 1, 1, 1, 1, 1, 1, 1, 1, 1, 1, 1, 1, 1, 1, 1, 1, 1, 1, 1, 1, 1, 1, 1, 1, 1, 1, 1, 1, 1, 1, 1, 1, 1, 1, 1, 1, 1, 1, 1, 1, 1, 1, 1, 1, 1, 1, 1, 1, 1, 1, 1, 1, 1, 1, 1, 1, 1, 1, 1, 1, 1, 1, 1, 1, 1, 1, 1, 1, 1, 1, 1, 1, 1, 1, 1, 1, 1, 1, 1, 1, 1, 1, 1, 1, 1, 1, 1, 1, 1, 1, 1, 1, 1, 1, 1, 1, 1, 1, 1, 1, 1, 1, 1, 1]}, {\"colorscale\": [[0.0, \"#EF553B\"], [1.0, \"#EF553B\"]], \"geo\": \"geo\", \"hovertemplate\": \"color=Northern Africa<br>locations=%{location}<extra></extra>\", \"locations\": [\"EGY\", \"EGY\", \"EGY\", \"EGY\", \"MAR\", \"EGY\", \"EGY\", \"MAR\", \"DZA\", \"MAR\", \"EGY\", \"DZA\", \"DZA\", \"MAR\", \"MAR\", \"DZA\", \"MAR\", \"DZA\", \"DZA\", \"MAR\", \"DZA\", \"MAR\", \"MAR\", \"DZA\", \"MAR\", \"DZA\", \"DZA\", \"MAR\", \"DZA\", \"MAR\", \"DZA\", \"MAR\", \"DZA\", \"MAR\", \"MAR\", \"DZA\", \"MAR\", \"DZA\", \"MAR\", \"DZA\", \"MAR\", \"DZA\", \"MAR\", \"DZA\", \"DZA\", \"MAR\", \"MAR\", \"DZA\", \"DZA\", \"MAR\", \"DZA\", \"MAR\"], \"name\": \"Northern Africa\", \"showlegend\": true, \"showscale\": false, \"type\": \"choropleth\", \"z\": [1, 1, 1, 1, 1, 1, 1, 1, 1, 1, 1, 1, 1, 1, 1, 1, 1, 1, 1, 1, 1, 1, 1, 1, 1, 1, 1, 1, 1, 1, 1, 1, 1, 1, 1, 1, 1, 1, 1, 1, 1, 1, 1, 1, 1, 1, 1, 1, 1, 1, 1, 1]}],                        {\"geo\": {\"center\": {}, \"domain\": {\"x\": [0.0, 1.0], \"y\": [0.0, 1.0]}}, \"legend\": {\"title\": {\"text\": \"color\"}, \"tracegroupgap\": 0}, \"template\": {\"data\": {\"bar\": [{\"error_x\": {\"color\": \"#2a3f5f\"}, \"error_y\": {\"color\": \"#2a3f5f\"}, \"marker\": {\"line\": {\"color\": \"#E5ECF6\", \"width\": 0.5}}, \"type\": \"bar\"}], \"barpolar\": [{\"marker\": {\"line\": {\"color\": \"#E5ECF6\", \"width\": 0.5}}, \"type\": \"barpolar\"}], \"carpet\": [{\"aaxis\": {\"endlinecolor\": \"#2a3f5f\", \"gridcolor\": \"white\", \"linecolor\": \"white\", \"minorgridcolor\": \"white\", \"startlinecolor\": \"#2a3f5f\"}, \"baxis\": {\"endlinecolor\": \"#2a3f5f\", \"gridcolor\": \"white\", \"linecolor\": \"white\", \"minorgridcolor\": \"white\", \"startlinecolor\": \"#2a3f5f\"}, \"type\": \"carpet\"}], \"choropleth\": [{\"colorbar\": {\"outlinewidth\": 0, \"ticks\": \"\"}, \"type\": \"choropleth\"}], \"contour\": [{\"colorbar\": {\"outlinewidth\": 0, \"ticks\": \"\"}, \"colorscale\": [[0.0, \"#0d0887\"], [0.1111111111111111, \"#46039f\"], [0.2222222222222222, \"#7201a8\"], [0.3333333333333333, \"#9c179e\"], [0.4444444444444444, \"#bd3786\"], [0.5555555555555556, \"#d8576b\"], [0.6666666666666666, \"#ed7953\"], [0.7777777777777778, \"#fb9f3a\"], [0.8888888888888888, \"#fdca26\"], [1.0, \"#f0f921\"]], \"type\": \"contour\"}], \"contourcarpet\": [{\"colorbar\": {\"outlinewidth\": 0, \"ticks\": \"\"}, \"type\": \"contourcarpet\"}], \"heatmap\": [{\"colorbar\": {\"outlinewidth\": 0, \"ticks\": \"\"}, \"colorscale\": [[0.0, \"#0d0887\"], [0.1111111111111111, \"#46039f\"], [0.2222222222222222, \"#7201a8\"], [0.3333333333333333, \"#9c179e\"], [0.4444444444444444, \"#bd3786\"], [0.5555555555555556, \"#d8576b\"], [0.6666666666666666, \"#ed7953\"], [0.7777777777777778, \"#fb9f3a\"], [0.8888888888888888, \"#fdca26\"], [1.0, \"#f0f921\"]], \"type\": \"heatmap\"}], \"heatmapgl\": [{\"colorbar\": {\"outlinewidth\": 0, \"ticks\": \"\"}, \"colorscale\": [[0.0, \"#0d0887\"], [0.1111111111111111, \"#46039f\"], [0.2222222222222222, \"#7201a8\"], [0.3333333333333333, \"#9c179e\"], [0.4444444444444444, \"#bd3786\"], [0.5555555555555556, \"#d8576b\"], [0.6666666666666666, \"#ed7953\"], [0.7777777777777778, \"#fb9f3a\"], [0.8888888888888888, \"#fdca26\"], [1.0, \"#f0f921\"]], \"type\": \"heatmapgl\"}], \"histogram\": [{\"marker\": {\"colorbar\": {\"outlinewidth\": 0, \"ticks\": \"\"}}, \"type\": \"histogram\"}], \"histogram2d\": [{\"colorbar\": {\"outlinewidth\": 0, \"ticks\": \"\"}, \"colorscale\": [[0.0, \"#0d0887\"], [0.1111111111111111, \"#46039f\"], [0.2222222222222222, \"#7201a8\"], [0.3333333333333333, \"#9c179e\"], [0.4444444444444444, \"#bd3786\"], [0.5555555555555556, \"#d8576b\"], [0.6666666666666666, \"#ed7953\"], [0.7777777777777778, \"#fb9f3a\"], [0.8888888888888888, \"#fdca26\"], [1.0, \"#f0f921\"]], \"type\": \"histogram2d\"}], \"histogram2dcontour\": [{\"colorbar\": {\"outlinewidth\": 0, \"ticks\": \"\"}, \"colorscale\": [[0.0, \"#0d0887\"], [0.1111111111111111, \"#46039f\"], [0.2222222222222222, \"#7201a8\"], [0.3333333333333333, \"#9c179e\"], [0.4444444444444444, \"#bd3786\"], [0.5555555555555556, \"#d8576b\"], [0.6666666666666666, \"#ed7953\"], [0.7777777777777778, \"#fb9f3a\"], [0.8888888888888888, \"#fdca26\"], [1.0, \"#f0f921\"]], \"type\": \"histogram2dcontour\"}], \"mesh3d\": [{\"colorbar\": {\"outlinewidth\": 0, \"ticks\": \"\"}, \"type\": \"mesh3d\"}], \"parcoords\": [{\"line\": {\"colorbar\": {\"outlinewidth\": 0, \"ticks\": \"\"}}, \"type\": \"parcoords\"}], \"pie\": [{\"automargin\": true, \"type\": \"pie\"}], \"scatter\": [{\"marker\": {\"colorbar\": {\"outlinewidth\": 0, \"ticks\": \"\"}}, \"type\": \"scatter\"}], \"scatter3d\": [{\"line\": {\"colorbar\": {\"outlinewidth\": 0, \"ticks\": \"\"}}, \"marker\": {\"colorbar\": {\"outlinewidth\": 0, \"ticks\": \"\"}}, \"type\": \"scatter3d\"}], \"scattercarpet\": [{\"marker\": {\"colorbar\": {\"outlinewidth\": 0, \"ticks\": \"\"}}, \"type\": \"scattercarpet\"}], \"scattergeo\": [{\"marker\": {\"colorbar\": {\"outlinewidth\": 0, \"ticks\": \"\"}}, \"type\": \"scattergeo\"}], \"scattergl\": [{\"marker\": {\"colorbar\": {\"outlinewidth\": 0, \"ticks\": \"\"}}, \"type\": \"scattergl\"}], \"scattermapbox\": [{\"marker\": {\"colorbar\": {\"outlinewidth\": 0, \"ticks\": \"\"}}, \"type\": \"scattermapbox\"}], \"scatterpolar\": [{\"marker\": {\"colorbar\": {\"outlinewidth\": 0, \"ticks\": \"\"}}, \"type\": \"scatterpolar\"}], \"scatterpolargl\": [{\"marker\": {\"colorbar\": {\"outlinewidth\": 0, \"ticks\": \"\"}}, \"type\": \"scatterpolargl\"}], \"scatterternary\": [{\"marker\": {\"colorbar\": {\"outlinewidth\": 0, \"ticks\": \"\"}}, \"type\": \"scatterternary\"}], \"surface\": [{\"colorbar\": {\"outlinewidth\": 0, \"ticks\": \"\"}, \"colorscale\": [[0.0, \"#0d0887\"], [0.1111111111111111, \"#46039f\"], [0.2222222222222222, \"#7201a8\"], [0.3333333333333333, \"#9c179e\"], [0.4444444444444444, \"#bd3786\"], [0.5555555555555556, \"#d8576b\"], [0.6666666666666666, \"#ed7953\"], [0.7777777777777778, \"#fb9f3a\"], [0.8888888888888888, \"#fdca26\"], [1.0, \"#f0f921\"]], \"type\": \"surface\"}], \"table\": [{\"cells\": {\"fill\": {\"color\": \"#EBF0F8\"}, \"line\": {\"color\": \"white\"}}, \"header\": {\"fill\": {\"color\": \"#C8D4E3\"}, \"line\": {\"color\": \"white\"}}, \"type\": \"table\"}]}, \"layout\": {\"annotationdefaults\": {\"arrowcolor\": \"#2a3f5f\", \"arrowhead\": 0, \"arrowwidth\": 1}, \"autotypenumbers\": \"strict\", \"coloraxis\": {\"colorbar\": {\"outlinewidth\": 0, \"ticks\": \"\"}}, \"colorscale\": {\"diverging\": [[0, \"#8e0152\"], [0.1, \"#c51b7d\"], [0.2, \"#de77ae\"], [0.3, \"#f1b6da\"], [0.4, \"#fde0ef\"], [0.5, \"#f7f7f7\"], [0.6, \"#e6f5d0\"], [0.7, \"#b8e186\"], [0.8, \"#7fbc41\"], [0.9, \"#4d9221\"], [1, \"#276419\"]], \"sequential\": [[0.0, \"#0d0887\"], [0.1111111111111111, \"#46039f\"], [0.2222222222222222, \"#7201a8\"], [0.3333333333333333, \"#9c179e\"], [0.4444444444444444, \"#bd3786\"], [0.5555555555555556, \"#d8576b\"], [0.6666666666666666, \"#ed7953\"], [0.7777777777777778, \"#fb9f3a\"], [0.8888888888888888, \"#fdca26\"], [1.0, \"#f0f921\"]], \"sequentialminus\": [[0.0, \"#0d0887\"], [0.1111111111111111, \"#46039f\"], [0.2222222222222222, \"#7201a8\"], [0.3333333333333333, \"#9c179e\"], [0.4444444444444444, \"#bd3786\"], [0.5555555555555556, \"#d8576b\"], [0.6666666666666666, \"#ed7953\"], [0.7777777777777778, \"#fb9f3a\"], [0.8888888888888888, \"#fdca26\"], [1.0, \"#f0f921\"]]}, \"colorway\": [\"#636efa\", \"#EF553B\", \"#00cc96\", \"#ab63fa\", \"#FFA15A\", \"#19d3f3\", \"#FF6692\", \"#B6E880\", \"#FF97FF\", \"#FECB52\"], \"font\": {\"color\": \"#2a3f5f\"}, \"geo\": {\"bgcolor\": \"white\", \"lakecolor\": \"white\", \"landcolor\": \"#E5ECF6\", \"showlakes\": true, \"showland\": true, \"subunitcolor\": \"white\"}, \"hoverlabel\": {\"align\": \"left\"}, \"hovermode\": \"closest\", \"mapbox\": {\"style\": \"light\"}, \"paper_bgcolor\": \"white\", \"plot_bgcolor\": \"#E5ECF6\", \"polar\": {\"angularaxis\": {\"gridcolor\": \"white\", \"linecolor\": \"white\", \"ticks\": \"\"}, \"bgcolor\": \"#E5ECF6\", \"radialaxis\": {\"gridcolor\": \"white\", \"linecolor\": \"white\", \"ticks\": \"\"}}, \"scene\": {\"xaxis\": {\"backgroundcolor\": \"#E5ECF6\", \"gridcolor\": \"white\", \"gridwidth\": 2, \"linecolor\": \"white\", \"showbackground\": true, \"ticks\": \"\", \"zerolinecolor\": \"white\"}, \"yaxis\": {\"backgroundcolor\": \"#E5ECF6\", \"gridcolor\": \"white\", \"gridwidth\": 2, \"linecolor\": \"white\", \"showbackground\": true, \"ticks\": \"\", \"zerolinecolor\": \"white\"}, \"zaxis\": {\"backgroundcolor\": \"#E5ECF6\", \"gridcolor\": \"white\", \"gridwidth\": 2, \"linecolor\": \"white\", \"showbackground\": true, \"ticks\": \"\", \"zerolinecolor\": \"white\"}}, \"shapedefaults\": {\"line\": {\"color\": \"#2a3f5f\"}}, \"ternary\": {\"aaxis\": {\"gridcolor\": \"white\", \"linecolor\": \"white\", \"ticks\": \"\"}, \"baxis\": {\"gridcolor\": \"white\", \"linecolor\": \"white\", \"ticks\": \"\"}, \"bgcolor\": \"#E5ECF6\", \"caxis\": {\"gridcolor\": \"white\", \"linecolor\": \"white\", \"ticks\": \"\"}}, \"title\": {\"x\": 0.05}, \"xaxis\": {\"automargin\": true, \"gridcolor\": \"white\", \"linecolor\": \"white\", \"ticks\": \"\", \"title\": {\"standoff\": 15}, \"zerolinecolor\": \"white\", \"zerolinewidth\": 2}, \"yaxis\": {\"automargin\": true, \"gridcolor\": \"white\", \"linecolor\": \"white\", \"ticks\": \"\", \"title\": {\"standoff\": 15}, \"zerolinecolor\": \"white\", \"zerolinewidth\": 2}}}, \"title\": {\"text\": \"Regions with available data\"}},                        {\"responsive\": true}                    ).then(function(){\n",
       "                            \n",
       "var gd = document.getElementById('d7ca2219-2ca1-4e1f-a509-42cbbafcc67c');\n",
       "var x = new MutationObserver(function (mutations, observer) {{\n",
       "        var display = window.getComputedStyle(gd).display;\n",
       "        if (!display || display === 'none') {{\n",
       "            console.log([gd, 'removed!']);\n",
       "            Plotly.purge(gd);\n",
       "            observer.disconnect();\n",
       "        }}\n",
       "}});\n",
       "\n",
       "// Listen for the removal of the full notebook cells\n",
       "var notebookContainer = gd.closest('#notebook-container');\n",
       "if (notebookContainer) {{\n",
       "    x.observe(notebookContainer, {childList: true});\n",
       "}}\n",
       "\n",
       "// Listen for the clearing of the current output cell\n",
       "var outputEl = gd.closest('.output');\n",
       "if (outputEl) {{\n",
       "    x.observe(outputEl, {childList: true});\n",
       "}}\n",
       "\n",
       "                        })                };                });            </script>        </div>"
      ]
     },
     "metadata": {},
     "output_type": "display_data"
    }
   ],
   "source": [
    "fig = px.choropleth(locations = data.iso_code, \n",
    "                    color = data.region,\n",
    "                    color_continuous_scale = 'rainbow',\n",
    "                    title = 'Regions with available data', \n",
    "                   )\n",
    "fig.show()"
   ]
  },
  {
   "cell_type": "markdown",
   "metadata": {
    "papermill": {
     "duration": 0.057051,
     "end_time": "2021-02-20T21:52:30.845392",
     "exception": false,
     "start_time": "2021-02-20T21:52:30.788341",
     "status": "completed"
    },
    "tags": []
   },
   "source": [
    "### 2.1. What vaccines are used around the world?"
   ]
  },
  {
   "cell_type": "markdown",
   "metadata": {
    "papermill": {
     "duration": 0.056803,
     "end_time": "2021-02-20T21:52:30.959459",
     "exception": false,
     "start_time": "2021-02-20T21:52:30.902656",
     "status": "completed"
    },
    "tags": []
   },
   "source": [
    "In order to illustrate where a specific vaccine is used in the world, I will create an interactive plotly map plot, as above.\n",
    "\n",
    "Since in some countries there is used more than one vaccine, some preprocessing will be needed."
   ]
  },
  {
   "cell_type": "code",
   "execution_count": 27,
   "metadata": {
    "papermill": {
     "duration": 0.070436,
     "end_time": "2021-02-20T21:52:31.088079",
     "exception": false,
     "start_time": "2021-02-20T21:52:31.017643",
     "status": "completed"
    },
    "tags": []
   },
   "outputs": [
    {
     "data": {
      "text/plain": [
       "Moderna, Oxford/AstraZeneca, Pfizer/BioNTech                                          1013\n",
       "Pfizer/BioNTech                                                                        789\n",
       "Oxford/AstraZeneca, Pfizer/BioNTech                                                    613\n",
       "Moderna, Pfizer/BioNTech                                                               315\n",
       "Sputnik V                                                                              158\n",
       "Oxford/AstraZeneca                                                                     109\n",
       "Sinovac                                                                                 76\n",
       "Pfizer/BioNTech, Sinovac                                                                64\n",
       "Oxford/AstraZeneca, Sinopharm/Beijing                                                   63\n",
       "Pfizer/BioNTech, Sinopharm/Beijing                                                      59\n",
       "Sinopharm/Beijing, Sinopharm/Wuhan, Sinovac                                             57\n",
       "Oxford/AstraZeneca, Pfizer/BioNTech, Sinopharm/Beijing, Sinopharm/Wuhan, Sputnik V      46\n",
       "Pfizer/BioNTech, Sinopharm/Beijing, Sputnik V                                           43\n",
       "Sinopharm/Beijing                                                                       38\n",
       "Covaxin, Oxford/AstraZeneca                                                             36\n",
       "Oxford/AstraZeneca, Sinovac                                                             35\n",
       "Oxford/AstraZeneca, Sputnik V                                                           21\n",
       "Oxford/AstraZeneca, Sinopharm/Beijing, Sputnik V                                        16\n",
       "Johnson&Johnson                                                                          4\n",
       "Name: vaccines, dtype: int64"
      ]
     },
     "execution_count": 27,
     "metadata": {},
     "output_type": "execute_result"
    }
   ],
   "source": [
    "data.vaccines.value_counts()"
   ]
  },
  {
   "cell_type": "markdown",
   "metadata": {
    "papermill": {
     "duration": 0.057287,
     "end_time": "2021-02-20T21:52:31.203178",
     "exception": false,
     "start_time": "2021-02-20T21:52:31.145891",
     "status": "completed"
    },
    "tags": []
   },
   "source": [
    "I will start by creating a dataframe with unique *iso_code* - *vaccines* pairs. \n",
    "\n",
    "Vaccines is a detail column for each country, so my dataframe will have the number of rows equal to the number of countries in the dataset."
   ]
  },
  {
   "cell_type": "code",
   "execution_count": 28,
   "metadata": {
    "papermill": {
     "duration": 0.070853,
     "end_time": "2021-02-20T21:52:31.331463",
     "exception": false,
     "start_time": "2021-02-20T21:52:31.260610",
     "status": "completed"
    },
    "tags": []
   },
   "outputs": [
    {
     "data": {
      "text/plain": [
       "(93, 2)"
      ]
     },
     "execution_count": 28,
     "metadata": {},
     "output_type": "execute_result"
    }
   ],
   "source": [
    "df = data[['iso_code', 'vaccines']].drop_duplicates()\n",
    "df.shape"
   ]
  },
  {
   "cell_type": "code",
   "execution_count": 29,
   "metadata": {
    "papermill": {
     "duration": 0.069308,
     "end_time": "2021-02-20T21:52:31.458906",
     "exception": false,
     "start_time": "2021-02-20T21:52:31.389598",
     "status": "completed"
    },
    "tags": []
   },
   "outputs": [
    {
     "data": {
      "text/plain": [
       "(93,)"
      ]
     },
     "execution_count": 29,
     "metadata": {},
     "output_type": "execute_result"
    }
   ],
   "source": [
    "data.iso_code.unique().shape"
   ]
  },
  {
   "cell_type": "markdown",
   "metadata": {
    "papermill": {
     "duration": 0.058501,
     "end_time": "2021-02-20T21:52:31.576360",
     "exception": false,
     "start_time": "2021-02-20T21:52:31.517859",
     "status": "completed"
    },
    "tags": []
   },
   "source": [
    "Next, I will create a dataframe to be used for plotting. \n",
    "\n",
    "The dataframe will have one record for each country and type of vaccine used. This way, we can get the big picture for each type of vaccine."
   ]
  },
  {
   "cell_type": "code",
   "execution_count": 30,
   "metadata": {
    "papermill": {
     "duration": 0.117819,
     "end_time": "2021-02-20T21:52:31.752426",
     "exception": false,
     "start_time": "2021-02-20T21:52:31.634607",
     "status": "completed"
    },
    "tags": []
   },
   "outputs": [
    {
     "data": {
      "text/plain": [
       "Pfizer/BioNTech       63\n",
       "Oxford/AstraZeneca    45\n",
       "Moderna               27\n",
       "Sinopharm/Beijing     11\n",
       "Sputnik V              9\n",
       "Sinovac                6\n",
       "Sinopharm/Wuhan        2\n",
       "Covaxin                1\n",
       "Johnson&Johnson        1\n",
       "Name: vaccine, dtype: int64"
      ]
     },
     "execution_count": 30,
     "metadata": {},
     "output_type": "execute_result"
    }
   ],
   "source": [
    "#create dataframe with one record for each country and type of vaccine used\n",
    "map_plot_df = pd.concat([pd.Series(row['iso_code'], row['vaccines'].split(','))              \n",
    "                         for _, row in df.iterrows()]).reset_index()\n",
    "\n",
    "#rename columns\n",
    "map_plot_df.columns = ['vaccine', 'iso_code']\n",
    "\n",
    "#strip white spaces\n",
    "map_plot_df['vaccine'] = map_plot_df['vaccine'].str.strip(' ')\n",
    "\n",
    "map_plot_df.vaccine.value_counts()"
   ]
  },
  {
   "cell_type": "markdown",
   "metadata": {
    "papermill": {
     "duration": 0.058792,
     "end_time": "2021-02-20T21:52:31.870369",
     "exception": false,
     "start_time": "2021-02-20T21:52:31.811577",
     "status": "completed"
    },
    "tags": []
   },
   "source": [
    "<img src=\"https://cdn.pixabay.com/photo/2016/03/31/19/17/cartoon-1294877_960_720.png\" width=\"25px\" style=”float:left;margin:0;”> **Tip**:\n",
    "\n",
    "\n",
    "You can interact with the map. If you want to see where a specific vaccine is used, you can deselect all the other categories from the legend, and select only one at a time (or you can double click a category)."
   ]
  },
  {
   "cell_type": "code",
   "execution_count": 31,
   "metadata": {
    "papermill": {
     "duration": 0.153078,
     "end_time": "2021-02-20T21:52:32.095335",
     "exception": false,
     "start_time": "2021-02-20T21:52:31.942257",
     "status": "completed"
    },
    "tags": []
   },
   "outputs": [
    {
     "data": {
      "application/vnd.plotly.v1+json": {
       "config": {
        "plotlyServerURL": "https://plot.ly"
       },
       "data": [
        {
         "colorscale": [
          [
           0,
           "#636efa"
          ],
          [
           1,
           "#636efa"
          ]
         ],
         "geo": "geo",
         "hovertemplate": "color=Oxford/AstraZeneca<br>locations=%{location}<extra></extra>",
         "locations": [
          "GBR",
          "MEX",
          "SWE",
          "ITA",
          "NOR",
          "CZE",
          "DEU",
          "SVN",
          "FRA",
          "LTU",
          "EST",
          "GRC",
          "LVA",
          "BEL",
          "ROU",
          "POL",
          "OMN",
          "BGR",
          "LUX",
          "ISL",
          "FIN",
          "IRL",
          "ESP",
          "ARE",
          "SYC",
          "AUT",
          "IND",
          "BRA",
          "AZE",
          "IMN",
          "JEY",
          "NLD",
          "MUS",
          "BGD",
          "NPL",
          "MMR",
          "MAR",
          "LKA",
          "PAK",
          "MDV",
          "SHN",
          "AIA",
          "GUY",
          "BRB",
          "DOM"
         ],
         "name": "Oxford/AstraZeneca",
         "showlegend": true,
         "showscale": false,
         "type": "choropleth",
         "z": [
          1,
          1,
          1,
          1,
          1,
          1,
          1,
          1,
          1,
          1,
          1,
          1,
          1,
          1,
          1,
          1,
          1,
          1,
          1,
          1,
          1,
          1,
          1,
          1,
          1,
          1,
          1,
          1,
          1,
          1,
          1,
          1,
          1,
          1,
          1,
          1,
          1,
          1,
          1,
          1,
          1,
          1,
          1,
          1,
          1
         ]
        },
        {
         "colorscale": [
          [
           0,
           "#EF553B"
          ],
          [
           1,
           "#EF553B"
          ]
         ],
         "geo": "geo",
         "hovertemplate": "color=Pfizer/BioNTech<br>locations=%{location}<extra></extra>",
         "locations": [
          "GBR",
          "CAN",
          "ISR",
          "USA",
          "QAT",
          "BHR",
          "CHL",
          "MEX",
          "CRI",
          "CYM",
          "SWE",
          "ITA",
          "NOR",
          "DNK",
          "CZE",
          "DEU",
          "SVN",
          "FRA",
          "LTU",
          "EST",
          "GRC",
          "LVA",
          "PRT",
          "BEL",
          "KWT",
          "ROU",
          "POL",
          "OMN",
          "HUN",
          "BGR",
          "HRV",
          "LUX",
          "MCO",
          "ISL",
          "FIN",
          "IRL",
          "ESP",
          "SVK",
          "ARE",
          "SAU",
          "CYP",
          "SRB",
          "GIB",
          "ALB",
          "TCA",
          "BMU",
          "AUT",
          "SGP",
          "OWID_NCY",
          "MLT",
          "PAN",
          "ECU",
          "IMN",
          "JEY",
          "NLD",
          "CHE",
          "GGY",
          "AND",
          "GRL",
          "FRO",
          "LIE",
          "COL",
          "JPN"
         ],
         "name": "Pfizer/BioNTech",
         "showlegend": true,
         "showscale": false,
         "type": "choropleth",
         "z": [
          1,
          1,
          1,
          1,
          1,
          1,
          1,
          1,
          1,
          1,
          1,
          1,
          1,
          1,
          1,
          1,
          1,
          1,
          1,
          1,
          1,
          1,
          1,
          1,
          1,
          1,
          1,
          1,
          1,
          1,
          1,
          1,
          1,
          1,
          1,
          1,
          1,
          1,
          1,
          1,
          1,
          1,
          1,
          1,
          1,
          1,
          1,
          1,
          1,
          1,
          1,
          1,
          1,
          1,
          1,
          1,
          1,
          1,
          1,
          1,
          1,
          1,
          1
         ]
        },
        {
         "colorscale": [
          [
           0,
           "#00cc96"
          ],
          [
           1,
           "#00cc96"
          ]
         ],
         "geo": "geo",
         "hovertemplate": "color=Sputnik V<br>locations=%{location}<extra></extra>",
         "locations": [
          "RUS",
          "ARG",
          "ARE",
          "SRB",
          "AZE",
          "BOL",
          "DZA",
          "PAK",
          "IRN"
         ],
         "name": "Sputnik V",
         "showlegend": true,
         "showscale": false,
         "type": "choropleth",
         "z": [
          1,
          1,
          1,
          1,
          1,
          1,
          1,
          1,
          1
         ]
        },
        {
         "colorscale": [
          [
           0,
           "#ab63fa"
          ],
          [
           1,
           "#ab63fa"
          ]
         ],
         "geo": "geo",
         "hovertemplate": "color=Sinopharm/Beijing<br>locations=%{location}<extra></extra>",
         "locations": [
          "CHN",
          "BHR",
          "ARE",
          "SRB",
          "SYC",
          "EGY",
          "MAR",
          "PAK",
          "MAC",
          "KHM",
          "PER"
         ],
         "name": "Sinopharm/Beijing",
         "showlegend": true,
         "showscale": false,
         "type": "choropleth",
         "z": [
          1,
          1,
          1,
          1,
          1,
          1,
          1,
          1,
          1,
          1,
          1
         ]
        },
        {
         "colorscale": [
          [
           0,
           "#FFA15A"
          ],
          [
           1,
           "#FFA15A"
          ]
         ],
         "geo": "geo",
         "hovertemplate": "color=Sinopharm/Wuhan<br>locations=%{location}<extra></extra>",
         "locations": [
          "CHN",
          "ARE"
         ],
         "name": "Sinopharm/Wuhan",
         "showlegend": true,
         "showscale": false,
         "type": "choropleth",
         "z": [
          1,
          1
         ]
        },
        {
         "colorscale": [
          [
           0,
           "#19d3f3"
          ],
          [
           1,
           "#19d3f3"
          ]
         ],
         "geo": "geo",
         "hovertemplate": "color=Sinovac<br>locations=%{location}<extra></extra>",
         "locations": [
          "CHN",
          "CHL",
          "IDN",
          "TUR",
          "OWID_NCY",
          "BRA"
         ],
         "name": "Sinovac",
         "showlegend": true,
         "showscale": false,
         "type": "choropleth",
         "z": [
          1,
          1,
          1,
          1,
          1,
          1
         ]
        },
        {
         "colorscale": [
          [
           0,
           "#FF6692"
          ],
          [
           1,
           "#FF6692"
          ]
         ],
         "geo": "geo",
         "hovertemplate": "color=Moderna<br>locations=%{location}<extra></extra>",
         "locations": [
          "CAN",
          "ISR",
          "USA",
          "ITA",
          "NOR",
          "DNK",
          "CZE",
          "DEU",
          "FRA",
          "LTU",
          "EST",
          "GRC",
          "LVA",
          "PRT",
          "BEL",
          "ROU",
          "POL",
          "BGR",
          "LUX",
          "ISL",
          "FIN",
          "IRL",
          "ESP",
          "AUT",
          "NLD",
          "CHE",
          "LIE"
         ],
         "name": "Moderna",
         "showlegend": true,
         "showscale": false,
         "type": "choropleth",
         "z": [
          1,
          1,
          1,
          1,
          1,
          1,
          1,
          1,
          1,
          1,
          1,
          1,
          1,
          1,
          1,
          1,
          1,
          1,
          1,
          1,
          1,
          1,
          1,
          1,
          1,
          1,
          1
         ]
        },
        {
         "colorscale": [
          [
           0,
           "#B6E880"
          ],
          [
           1,
           "#B6E880"
          ]
         ],
         "geo": "geo",
         "hovertemplate": "color=Covaxin<br>locations=%{location}<extra></extra>",
         "locations": [
          "IND"
         ],
         "name": "Covaxin",
         "showlegend": true,
         "showscale": false,
         "type": "choropleth",
         "z": [
          1
         ]
        },
        {
         "colorscale": [
          [
           0,
           "#FF97FF"
          ],
          [
           1,
           "#FF97FF"
          ]
         ],
         "geo": "geo",
         "hovertemplate": "color=Johnson&Johnson<br>locations=%{location}<extra></extra>",
         "locations": [
          "ZAF"
         ],
         "name": "Johnson&Johnson",
         "showlegend": true,
         "showscale": false,
         "type": "choropleth",
         "z": [
          1
         ]
        }
       ],
       "layout": {
        "geo": {
         "center": {},
         "domain": {
          "x": [
           0,
           1
          ],
          "y": [
           0,
           1
          ]
         }
        },
        "legend": {
         "title": {
          "text": "color"
         },
         "tracegroupgap": 0
        },
        "template": {
         "data": {
          "bar": [
           {
            "error_x": {
             "color": "#2a3f5f"
            },
            "error_y": {
             "color": "#2a3f5f"
            },
            "marker": {
             "line": {
              "color": "#E5ECF6",
              "width": 0.5
             }
            },
            "type": "bar"
           }
          ],
          "barpolar": [
           {
            "marker": {
             "line": {
              "color": "#E5ECF6",
              "width": 0.5
             }
            },
            "type": "barpolar"
           }
          ],
          "carpet": [
           {
            "aaxis": {
             "endlinecolor": "#2a3f5f",
             "gridcolor": "white",
             "linecolor": "white",
             "minorgridcolor": "white",
             "startlinecolor": "#2a3f5f"
            },
            "baxis": {
             "endlinecolor": "#2a3f5f",
             "gridcolor": "white",
             "linecolor": "white",
             "minorgridcolor": "white",
             "startlinecolor": "#2a3f5f"
            },
            "type": "carpet"
           }
          ],
          "choropleth": [
           {
            "colorbar": {
             "outlinewidth": 0,
             "ticks": ""
            },
            "type": "choropleth"
           }
          ],
          "contour": [
           {
            "colorbar": {
             "outlinewidth": 0,
             "ticks": ""
            },
            "colorscale": [
             [
              0,
              "#0d0887"
             ],
             [
              0.1111111111111111,
              "#46039f"
             ],
             [
              0.2222222222222222,
              "#7201a8"
             ],
             [
              0.3333333333333333,
              "#9c179e"
             ],
             [
              0.4444444444444444,
              "#bd3786"
             ],
             [
              0.5555555555555556,
              "#d8576b"
             ],
             [
              0.6666666666666666,
              "#ed7953"
             ],
             [
              0.7777777777777778,
              "#fb9f3a"
             ],
             [
              0.8888888888888888,
              "#fdca26"
             ],
             [
              1,
              "#f0f921"
             ]
            ],
            "type": "contour"
           }
          ],
          "contourcarpet": [
           {
            "colorbar": {
             "outlinewidth": 0,
             "ticks": ""
            },
            "type": "contourcarpet"
           }
          ],
          "heatmap": [
           {
            "colorbar": {
             "outlinewidth": 0,
             "ticks": ""
            },
            "colorscale": [
             [
              0,
              "#0d0887"
             ],
             [
              0.1111111111111111,
              "#46039f"
             ],
             [
              0.2222222222222222,
              "#7201a8"
             ],
             [
              0.3333333333333333,
              "#9c179e"
             ],
             [
              0.4444444444444444,
              "#bd3786"
             ],
             [
              0.5555555555555556,
              "#d8576b"
             ],
             [
              0.6666666666666666,
              "#ed7953"
             ],
             [
              0.7777777777777778,
              "#fb9f3a"
             ],
             [
              0.8888888888888888,
              "#fdca26"
             ],
             [
              1,
              "#f0f921"
             ]
            ],
            "type": "heatmap"
           }
          ],
          "heatmapgl": [
           {
            "colorbar": {
             "outlinewidth": 0,
             "ticks": ""
            },
            "colorscale": [
             [
              0,
              "#0d0887"
             ],
             [
              0.1111111111111111,
              "#46039f"
             ],
             [
              0.2222222222222222,
              "#7201a8"
             ],
             [
              0.3333333333333333,
              "#9c179e"
             ],
             [
              0.4444444444444444,
              "#bd3786"
             ],
             [
              0.5555555555555556,
              "#d8576b"
             ],
             [
              0.6666666666666666,
              "#ed7953"
             ],
             [
              0.7777777777777778,
              "#fb9f3a"
             ],
             [
              0.8888888888888888,
              "#fdca26"
             ],
             [
              1,
              "#f0f921"
             ]
            ],
            "type": "heatmapgl"
           }
          ],
          "histogram": [
           {
            "marker": {
             "colorbar": {
              "outlinewidth": 0,
              "ticks": ""
             }
            },
            "type": "histogram"
           }
          ],
          "histogram2d": [
           {
            "colorbar": {
             "outlinewidth": 0,
             "ticks": ""
            },
            "colorscale": [
             [
              0,
              "#0d0887"
             ],
             [
              0.1111111111111111,
              "#46039f"
             ],
             [
              0.2222222222222222,
              "#7201a8"
             ],
             [
              0.3333333333333333,
              "#9c179e"
             ],
             [
              0.4444444444444444,
              "#bd3786"
             ],
             [
              0.5555555555555556,
              "#d8576b"
             ],
             [
              0.6666666666666666,
              "#ed7953"
             ],
             [
              0.7777777777777778,
              "#fb9f3a"
             ],
             [
              0.8888888888888888,
              "#fdca26"
             ],
             [
              1,
              "#f0f921"
             ]
            ],
            "type": "histogram2d"
           }
          ],
          "histogram2dcontour": [
           {
            "colorbar": {
             "outlinewidth": 0,
             "ticks": ""
            },
            "colorscale": [
             [
              0,
              "#0d0887"
             ],
             [
              0.1111111111111111,
              "#46039f"
             ],
             [
              0.2222222222222222,
              "#7201a8"
             ],
             [
              0.3333333333333333,
              "#9c179e"
             ],
             [
              0.4444444444444444,
              "#bd3786"
             ],
             [
              0.5555555555555556,
              "#d8576b"
             ],
             [
              0.6666666666666666,
              "#ed7953"
             ],
             [
              0.7777777777777778,
              "#fb9f3a"
             ],
             [
              0.8888888888888888,
              "#fdca26"
             ],
             [
              1,
              "#f0f921"
             ]
            ],
            "type": "histogram2dcontour"
           }
          ],
          "mesh3d": [
           {
            "colorbar": {
             "outlinewidth": 0,
             "ticks": ""
            },
            "type": "mesh3d"
           }
          ],
          "parcoords": [
           {
            "line": {
             "colorbar": {
              "outlinewidth": 0,
              "ticks": ""
             }
            },
            "type": "parcoords"
           }
          ],
          "pie": [
           {
            "automargin": true,
            "type": "pie"
           }
          ],
          "scatter": [
           {
            "marker": {
             "colorbar": {
              "outlinewidth": 0,
              "ticks": ""
             }
            },
            "type": "scatter"
           }
          ],
          "scatter3d": [
           {
            "line": {
             "colorbar": {
              "outlinewidth": 0,
              "ticks": ""
             }
            },
            "marker": {
             "colorbar": {
              "outlinewidth": 0,
              "ticks": ""
             }
            },
            "type": "scatter3d"
           }
          ],
          "scattercarpet": [
           {
            "marker": {
             "colorbar": {
              "outlinewidth": 0,
              "ticks": ""
             }
            },
            "type": "scattercarpet"
           }
          ],
          "scattergeo": [
           {
            "marker": {
             "colorbar": {
              "outlinewidth": 0,
              "ticks": ""
             }
            },
            "type": "scattergeo"
           }
          ],
          "scattergl": [
           {
            "marker": {
             "colorbar": {
              "outlinewidth": 0,
              "ticks": ""
             }
            },
            "type": "scattergl"
           }
          ],
          "scattermapbox": [
           {
            "marker": {
             "colorbar": {
              "outlinewidth": 0,
              "ticks": ""
             }
            },
            "type": "scattermapbox"
           }
          ],
          "scatterpolar": [
           {
            "marker": {
             "colorbar": {
              "outlinewidth": 0,
              "ticks": ""
             }
            },
            "type": "scatterpolar"
           }
          ],
          "scatterpolargl": [
           {
            "marker": {
             "colorbar": {
              "outlinewidth": 0,
              "ticks": ""
             }
            },
            "type": "scatterpolargl"
           }
          ],
          "scatterternary": [
           {
            "marker": {
             "colorbar": {
              "outlinewidth": 0,
              "ticks": ""
             }
            },
            "type": "scatterternary"
           }
          ],
          "surface": [
           {
            "colorbar": {
             "outlinewidth": 0,
             "ticks": ""
            },
            "colorscale": [
             [
              0,
              "#0d0887"
             ],
             [
              0.1111111111111111,
              "#46039f"
             ],
             [
              0.2222222222222222,
              "#7201a8"
             ],
             [
              0.3333333333333333,
              "#9c179e"
             ],
             [
              0.4444444444444444,
              "#bd3786"
             ],
             [
              0.5555555555555556,
              "#d8576b"
             ],
             [
              0.6666666666666666,
              "#ed7953"
             ],
             [
              0.7777777777777778,
              "#fb9f3a"
             ],
             [
              0.8888888888888888,
              "#fdca26"
             ],
             [
              1,
              "#f0f921"
             ]
            ],
            "type": "surface"
           }
          ],
          "table": [
           {
            "cells": {
             "fill": {
              "color": "#EBF0F8"
             },
             "line": {
              "color": "white"
             }
            },
            "header": {
             "fill": {
              "color": "#C8D4E3"
             },
             "line": {
              "color": "white"
             }
            },
            "type": "table"
           }
          ]
         },
         "layout": {
          "annotationdefaults": {
           "arrowcolor": "#2a3f5f",
           "arrowhead": 0,
           "arrowwidth": 1
          },
          "autotypenumbers": "strict",
          "coloraxis": {
           "colorbar": {
            "outlinewidth": 0,
            "ticks": ""
           }
          },
          "colorscale": {
           "diverging": [
            [
             0,
             "#8e0152"
            ],
            [
             0.1,
             "#c51b7d"
            ],
            [
             0.2,
             "#de77ae"
            ],
            [
             0.3,
             "#f1b6da"
            ],
            [
             0.4,
             "#fde0ef"
            ],
            [
             0.5,
             "#f7f7f7"
            ],
            [
             0.6,
             "#e6f5d0"
            ],
            [
             0.7,
             "#b8e186"
            ],
            [
             0.8,
             "#7fbc41"
            ],
            [
             0.9,
             "#4d9221"
            ],
            [
             1,
             "#276419"
            ]
           ],
           "sequential": [
            [
             0,
             "#0d0887"
            ],
            [
             0.1111111111111111,
             "#46039f"
            ],
            [
             0.2222222222222222,
             "#7201a8"
            ],
            [
             0.3333333333333333,
             "#9c179e"
            ],
            [
             0.4444444444444444,
             "#bd3786"
            ],
            [
             0.5555555555555556,
             "#d8576b"
            ],
            [
             0.6666666666666666,
             "#ed7953"
            ],
            [
             0.7777777777777778,
             "#fb9f3a"
            ],
            [
             0.8888888888888888,
             "#fdca26"
            ],
            [
             1,
             "#f0f921"
            ]
           ],
           "sequentialminus": [
            [
             0,
             "#0d0887"
            ],
            [
             0.1111111111111111,
             "#46039f"
            ],
            [
             0.2222222222222222,
             "#7201a8"
            ],
            [
             0.3333333333333333,
             "#9c179e"
            ],
            [
             0.4444444444444444,
             "#bd3786"
            ],
            [
             0.5555555555555556,
             "#d8576b"
            ],
            [
             0.6666666666666666,
             "#ed7953"
            ],
            [
             0.7777777777777778,
             "#fb9f3a"
            ],
            [
             0.8888888888888888,
             "#fdca26"
            ],
            [
             1,
             "#f0f921"
            ]
           ]
          },
          "colorway": [
           "#636efa",
           "#EF553B",
           "#00cc96",
           "#ab63fa",
           "#FFA15A",
           "#19d3f3",
           "#FF6692",
           "#B6E880",
           "#FF97FF",
           "#FECB52"
          ],
          "font": {
           "color": "#2a3f5f"
          },
          "geo": {
           "bgcolor": "white",
           "lakecolor": "white",
           "landcolor": "#E5ECF6",
           "showlakes": true,
           "showland": true,
           "subunitcolor": "white"
          },
          "hoverlabel": {
           "align": "left"
          },
          "hovermode": "closest",
          "mapbox": {
           "style": "light"
          },
          "paper_bgcolor": "white",
          "plot_bgcolor": "#E5ECF6",
          "polar": {
           "angularaxis": {
            "gridcolor": "white",
            "linecolor": "white",
            "ticks": ""
           },
           "bgcolor": "#E5ECF6",
           "radialaxis": {
            "gridcolor": "white",
            "linecolor": "white",
            "ticks": ""
           }
          },
          "scene": {
           "xaxis": {
            "backgroundcolor": "#E5ECF6",
            "gridcolor": "white",
            "gridwidth": 2,
            "linecolor": "white",
            "showbackground": true,
            "ticks": "",
            "zerolinecolor": "white"
           },
           "yaxis": {
            "backgroundcolor": "#E5ECF6",
            "gridcolor": "white",
            "gridwidth": 2,
            "linecolor": "white",
            "showbackground": true,
            "ticks": "",
            "zerolinecolor": "white"
           },
           "zaxis": {
            "backgroundcolor": "#E5ECF6",
            "gridcolor": "white",
            "gridwidth": 2,
            "linecolor": "white",
            "showbackground": true,
            "ticks": "",
            "zerolinecolor": "white"
           }
          },
          "shapedefaults": {
           "line": {
            "color": "#2a3f5f"
           }
          },
          "ternary": {
           "aaxis": {
            "gridcolor": "white",
            "linecolor": "white",
            "ticks": ""
           },
           "baxis": {
            "gridcolor": "white",
            "linecolor": "white",
            "ticks": ""
           },
           "bgcolor": "#E5ECF6",
           "caxis": {
            "gridcolor": "white",
            "linecolor": "white",
            "ticks": ""
           }
          },
          "title": {
           "x": 0.05
          },
          "xaxis": {
           "automargin": true,
           "gridcolor": "white",
           "linecolor": "white",
           "ticks": "",
           "title": {
            "standoff": 15
           },
           "zerolinecolor": "white",
           "zerolinewidth": 2
          },
          "yaxis": {
           "automargin": true,
           "gridcolor": "white",
           "linecolor": "white",
           "ticks": "",
           "title": {
            "standoff": 15
           },
           "zerolinecolor": "white",
           "zerolinewidth": 2
          }
         }
        },
        "title": {
         "text": "Where is each vaccine used?"
        }
       }
      },
      "text/html": [
       "<div>                            <div id=\"149274e6-8d42-43bb-8e78-f05485bd65aa\" class=\"plotly-graph-div\" style=\"height:525px; width:100%;\"></div>            <script type=\"text/javascript\">                require([\"plotly\"], function(Plotly) {                    window.PLOTLYENV=window.PLOTLYENV || {};                                    if (document.getElementById(\"149274e6-8d42-43bb-8e78-f05485bd65aa\")) {                    Plotly.newPlot(                        \"149274e6-8d42-43bb-8e78-f05485bd65aa\",                        [{\"colorscale\": [[0.0, \"#636efa\"], [1.0, \"#636efa\"]], \"geo\": \"geo\", \"hovertemplate\": \"color=Oxford/AstraZeneca<br>locations=%{location}<extra></extra>\", \"locations\": [\"GBR\", \"MEX\", \"SWE\", \"ITA\", \"NOR\", \"CZE\", \"DEU\", \"SVN\", \"FRA\", \"LTU\", \"EST\", \"GRC\", \"LVA\", \"BEL\", \"ROU\", \"POL\", \"OMN\", \"BGR\", \"LUX\", \"ISL\", \"FIN\", \"IRL\", \"ESP\", \"ARE\", \"SYC\", \"AUT\", \"IND\", \"BRA\", \"AZE\", \"IMN\", \"JEY\", \"NLD\", \"MUS\", \"BGD\", \"NPL\", \"MMR\", \"MAR\", \"LKA\", \"PAK\", \"MDV\", \"SHN\", \"AIA\", \"GUY\", \"BRB\", \"DOM\"], \"name\": \"Oxford/AstraZeneca\", \"showlegend\": true, \"showscale\": false, \"type\": \"choropleth\", \"z\": [1, 1, 1, 1, 1, 1, 1, 1, 1, 1, 1, 1, 1, 1, 1, 1, 1, 1, 1, 1, 1, 1, 1, 1, 1, 1, 1, 1, 1, 1, 1, 1, 1, 1, 1, 1, 1, 1, 1, 1, 1, 1, 1, 1, 1]}, {\"colorscale\": [[0.0, \"#EF553B\"], [1.0, \"#EF553B\"]], \"geo\": \"geo\", \"hovertemplate\": \"color=Pfizer/BioNTech<br>locations=%{location}<extra></extra>\", \"locations\": [\"GBR\", \"CAN\", \"ISR\", \"USA\", \"QAT\", \"BHR\", \"CHL\", \"MEX\", \"CRI\", \"CYM\", \"SWE\", \"ITA\", \"NOR\", \"DNK\", \"CZE\", \"DEU\", \"SVN\", \"FRA\", \"LTU\", \"EST\", \"GRC\", \"LVA\", \"PRT\", \"BEL\", \"KWT\", \"ROU\", \"POL\", \"OMN\", \"HUN\", \"BGR\", \"HRV\", \"LUX\", \"MCO\", \"ISL\", \"FIN\", \"IRL\", \"ESP\", \"SVK\", \"ARE\", \"SAU\", \"CYP\", \"SRB\", \"GIB\", \"ALB\", \"TCA\", \"BMU\", \"AUT\", \"SGP\", \"OWID_NCY\", \"MLT\", \"PAN\", \"ECU\", \"IMN\", \"JEY\", \"NLD\", \"CHE\", \"GGY\", \"AND\", \"GRL\", \"FRO\", \"LIE\", \"COL\", \"JPN\"], \"name\": \"Pfizer/BioNTech\", \"showlegend\": true, \"showscale\": false, \"type\": \"choropleth\", \"z\": [1, 1, 1, 1, 1, 1, 1, 1, 1, 1, 1, 1, 1, 1, 1, 1, 1, 1, 1, 1, 1, 1, 1, 1, 1, 1, 1, 1, 1, 1, 1, 1, 1, 1, 1, 1, 1, 1, 1, 1, 1, 1, 1, 1, 1, 1, 1, 1, 1, 1, 1, 1, 1, 1, 1, 1, 1, 1, 1, 1, 1, 1, 1]}, {\"colorscale\": [[0.0, \"#00cc96\"], [1.0, \"#00cc96\"]], \"geo\": \"geo\", \"hovertemplate\": \"color=Sputnik V<br>locations=%{location}<extra></extra>\", \"locations\": [\"RUS\", \"ARG\", \"ARE\", \"SRB\", \"AZE\", \"BOL\", \"DZA\", \"PAK\", \"IRN\"], \"name\": \"Sputnik V\", \"showlegend\": true, \"showscale\": false, \"type\": \"choropleth\", \"z\": [1, 1, 1, 1, 1, 1, 1, 1, 1]}, {\"colorscale\": [[0.0, \"#ab63fa\"], [1.0, \"#ab63fa\"]], \"geo\": \"geo\", \"hovertemplate\": \"color=Sinopharm/Beijing<br>locations=%{location}<extra></extra>\", \"locations\": [\"CHN\", \"BHR\", \"ARE\", \"SRB\", \"SYC\", \"EGY\", \"MAR\", \"PAK\", \"MAC\", \"KHM\", \"PER\"], \"name\": \"Sinopharm/Beijing\", \"showlegend\": true, \"showscale\": false, \"type\": \"choropleth\", \"z\": [1, 1, 1, 1, 1, 1, 1, 1, 1, 1, 1]}, {\"colorscale\": [[0.0, \"#FFA15A\"], [1.0, \"#FFA15A\"]], \"geo\": \"geo\", \"hovertemplate\": \"color=Sinopharm/Wuhan<br>locations=%{location}<extra></extra>\", \"locations\": [\"CHN\", \"ARE\"], \"name\": \"Sinopharm/Wuhan\", \"showlegend\": true, \"showscale\": false, \"type\": \"choropleth\", \"z\": [1, 1]}, {\"colorscale\": [[0.0, \"#19d3f3\"], [1.0, \"#19d3f3\"]], \"geo\": \"geo\", \"hovertemplate\": \"color=Sinovac<br>locations=%{location}<extra></extra>\", \"locations\": [\"CHN\", \"CHL\", \"IDN\", \"TUR\", \"OWID_NCY\", \"BRA\"], \"name\": \"Sinovac\", \"showlegend\": true, \"showscale\": false, \"type\": \"choropleth\", \"z\": [1, 1, 1, 1, 1, 1]}, {\"colorscale\": [[0.0, \"#FF6692\"], [1.0, \"#FF6692\"]], \"geo\": \"geo\", \"hovertemplate\": \"color=Moderna<br>locations=%{location}<extra></extra>\", \"locations\": [\"CAN\", \"ISR\", \"USA\", \"ITA\", \"NOR\", \"DNK\", \"CZE\", \"DEU\", \"FRA\", \"LTU\", \"EST\", \"GRC\", \"LVA\", \"PRT\", \"BEL\", \"ROU\", \"POL\", \"BGR\", \"LUX\", \"ISL\", \"FIN\", \"IRL\", \"ESP\", \"AUT\", \"NLD\", \"CHE\", \"LIE\"], \"name\": \"Moderna\", \"showlegend\": true, \"showscale\": false, \"type\": \"choropleth\", \"z\": [1, 1, 1, 1, 1, 1, 1, 1, 1, 1, 1, 1, 1, 1, 1, 1, 1, 1, 1, 1, 1, 1, 1, 1, 1, 1, 1]}, {\"colorscale\": [[0.0, \"#B6E880\"], [1.0, \"#B6E880\"]], \"geo\": \"geo\", \"hovertemplate\": \"color=Covaxin<br>locations=%{location}<extra></extra>\", \"locations\": [\"IND\"], \"name\": \"Covaxin\", \"showlegend\": true, \"showscale\": false, \"type\": \"choropleth\", \"z\": [1]}, {\"colorscale\": [[0.0, \"#FF97FF\"], [1.0, \"#FF97FF\"]], \"geo\": \"geo\", \"hovertemplate\": \"color=Johnson&Johnson<br>locations=%{location}<extra></extra>\", \"locations\": [\"ZAF\"], \"name\": \"Johnson&Johnson\", \"showlegend\": true, \"showscale\": false, \"type\": \"choropleth\", \"z\": [1]}],                        {\"geo\": {\"center\": {}, \"domain\": {\"x\": [0.0, 1.0], \"y\": [0.0, 1.0]}}, \"legend\": {\"title\": {\"text\": \"color\"}, \"tracegroupgap\": 0}, \"template\": {\"data\": {\"bar\": [{\"error_x\": {\"color\": \"#2a3f5f\"}, \"error_y\": {\"color\": \"#2a3f5f\"}, \"marker\": {\"line\": {\"color\": \"#E5ECF6\", \"width\": 0.5}}, \"type\": \"bar\"}], \"barpolar\": [{\"marker\": {\"line\": {\"color\": \"#E5ECF6\", \"width\": 0.5}}, \"type\": \"barpolar\"}], \"carpet\": [{\"aaxis\": {\"endlinecolor\": \"#2a3f5f\", \"gridcolor\": \"white\", \"linecolor\": \"white\", \"minorgridcolor\": \"white\", \"startlinecolor\": \"#2a3f5f\"}, \"baxis\": {\"endlinecolor\": \"#2a3f5f\", \"gridcolor\": \"white\", \"linecolor\": \"white\", \"minorgridcolor\": \"white\", \"startlinecolor\": \"#2a3f5f\"}, \"type\": \"carpet\"}], \"choropleth\": [{\"colorbar\": {\"outlinewidth\": 0, \"ticks\": \"\"}, \"type\": \"choropleth\"}], \"contour\": [{\"colorbar\": {\"outlinewidth\": 0, \"ticks\": \"\"}, \"colorscale\": [[0.0, \"#0d0887\"], [0.1111111111111111, \"#46039f\"], [0.2222222222222222, \"#7201a8\"], [0.3333333333333333, \"#9c179e\"], [0.4444444444444444, \"#bd3786\"], [0.5555555555555556, \"#d8576b\"], [0.6666666666666666, \"#ed7953\"], [0.7777777777777778, \"#fb9f3a\"], [0.8888888888888888, \"#fdca26\"], [1.0, \"#f0f921\"]], \"type\": \"contour\"}], \"contourcarpet\": [{\"colorbar\": {\"outlinewidth\": 0, \"ticks\": \"\"}, \"type\": \"contourcarpet\"}], \"heatmap\": [{\"colorbar\": {\"outlinewidth\": 0, \"ticks\": \"\"}, \"colorscale\": [[0.0, \"#0d0887\"], [0.1111111111111111, \"#46039f\"], [0.2222222222222222, \"#7201a8\"], [0.3333333333333333, \"#9c179e\"], [0.4444444444444444, \"#bd3786\"], [0.5555555555555556, \"#d8576b\"], [0.6666666666666666, \"#ed7953\"], [0.7777777777777778, \"#fb9f3a\"], [0.8888888888888888, \"#fdca26\"], [1.0, \"#f0f921\"]], \"type\": \"heatmap\"}], \"heatmapgl\": [{\"colorbar\": {\"outlinewidth\": 0, \"ticks\": \"\"}, \"colorscale\": [[0.0, \"#0d0887\"], [0.1111111111111111, \"#46039f\"], [0.2222222222222222, \"#7201a8\"], [0.3333333333333333, \"#9c179e\"], [0.4444444444444444, \"#bd3786\"], [0.5555555555555556, \"#d8576b\"], [0.6666666666666666, \"#ed7953\"], [0.7777777777777778, \"#fb9f3a\"], [0.8888888888888888, \"#fdca26\"], [1.0, \"#f0f921\"]], \"type\": \"heatmapgl\"}], \"histogram\": [{\"marker\": {\"colorbar\": {\"outlinewidth\": 0, \"ticks\": \"\"}}, \"type\": \"histogram\"}], \"histogram2d\": [{\"colorbar\": {\"outlinewidth\": 0, \"ticks\": \"\"}, \"colorscale\": [[0.0, \"#0d0887\"], [0.1111111111111111, \"#46039f\"], [0.2222222222222222, \"#7201a8\"], [0.3333333333333333, \"#9c179e\"], [0.4444444444444444, \"#bd3786\"], [0.5555555555555556, \"#d8576b\"], [0.6666666666666666, \"#ed7953\"], [0.7777777777777778, \"#fb9f3a\"], [0.8888888888888888, \"#fdca26\"], [1.0, \"#f0f921\"]], \"type\": \"histogram2d\"}], \"histogram2dcontour\": [{\"colorbar\": {\"outlinewidth\": 0, \"ticks\": \"\"}, \"colorscale\": [[0.0, \"#0d0887\"], [0.1111111111111111, \"#46039f\"], [0.2222222222222222, \"#7201a8\"], [0.3333333333333333, \"#9c179e\"], [0.4444444444444444, \"#bd3786\"], [0.5555555555555556, \"#d8576b\"], [0.6666666666666666, \"#ed7953\"], [0.7777777777777778, \"#fb9f3a\"], [0.8888888888888888, \"#fdca26\"], [1.0, \"#f0f921\"]], \"type\": \"histogram2dcontour\"}], \"mesh3d\": [{\"colorbar\": {\"outlinewidth\": 0, \"ticks\": \"\"}, \"type\": \"mesh3d\"}], \"parcoords\": [{\"line\": {\"colorbar\": {\"outlinewidth\": 0, \"ticks\": \"\"}}, \"type\": \"parcoords\"}], \"pie\": [{\"automargin\": true, \"type\": \"pie\"}], \"scatter\": [{\"marker\": {\"colorbar\": {\"outlinewidth\": 0, \"ticks\": \"\"}}, \"type\": \"scatter\"}], \"scatter3d\": [{\"line\": {\"colorbar\": {\"outlinewidth\": 0, \"ticks\": \"\"}}, \"marker\": {\"colorbar\": {\"outlinewidth\": 0, \"ticks\": \"\"}}, \"type\": \"scatter3d\"}], \"scattercarpet\": [{\"marker\": {\"colorbar\": {\"outlinewidth\": 0, \"ticks\": \"\"}}, \"type\": \"scattercarpet\"}], \"scattergeo\": [{\"marker\": {\"colorbar\": {\"outlinewidth\": 0, \"ticks\": \"\"}}, \"type\": \"scattergeo\"}], \"scattergl\": [{\"marker\": {\"colorbar\": {\"outlinewidth\": 0, \"ticks\": \"\"}}, \"type\": \"scattergl\"}], \"scattermapbox\": [{\"marker\": {\"colorbar\": {\"outlinewidth\": 0, \"ticks\": \"\"}}, \"type\": \"scattermapbox\"}], \"scatterpolar\": [{\"marker\": {\"colorbar\": {\"outlinewidth\": 0, \"ticks\": \"\"}}, \"type\": \"scatterpolar\"}], \"scatterpolargl\": [{\"marker\": {\"colorbar\": {\"outlinewidth\": 0, \"ticks\": \"\"}}, \"type\": \"scatterpolargl\"}], \"scatterternary\": [{\"marker\": {\"colorbar\": {\"outlinewidth\": 0, \"ticks\": \"\"}}, \"type\": \"scatterternary\"}], \"surface\": [{\"colorbar\": {\"outlinewidth\": 0, \"ticks\": \"\"}, \"colorscale\": [[0.0, \"#0d0887\"], [0.1111111111111111, \"#46039f\"], [0.2222222222222222, \"#7201a8\"], [0.3333333333333333, \"#9c179e\"], [0.4444444444444444, \"#bd3786\"], [0.5555555555555556, \"#d8576b\"], [0.6666666666666666, \"#ed7953\"], [0.7777777777777778, \"#fb9f3a\"], [0.8888888888888888, \"#fdca26\"], [1.0, \"#f0f921\"]], \"type\": \"surface\"}], \"table\": [{\"cells\": {\"fill\": {\"color\": \"#EBF0F8\"}, \"line\": {\"color\": \"white\"}}, \"header\": {\"fill\": {\"color\": \"#C8D4E3\"}, \"line\": {\"color\": \"white\"}}, \"type\": \"table\"}]}, \"layout\": {\"annotationdefaults\": {\"arrowcolor\": \"#2a3f5f\", \"arrowhead\": 0, \"arrowwidth\": 1}, \"autotypenumbers\": \"strict\", \"coloraxis\": {\"colorbar\": {\"outlinewidth\": 0, \"ticks\": \"\"}}, \"colorscale\": {\"diverging\": [[0, \"#8e0152\"], [0.1, \"#c51b7d\"], [0.2, \"#de77ae\"], [0.3, \"#f1b6da\"], [0.4, \"#fde0ef\"], [0.5, \"#f7f7f7\"], [0.6, \"#e6f5d0\"], [0.7, \"#b8e186\"], [0.8, \"#7fbc41\"], [0.9, \"#4d9221\"], [1, \"#276419\"]], \"sequential\": [[0.0, \"#0d0887\"], [0.1111111111111111, \"#46039f\"], [0.2222222222222222, \"#7201a8\"], [0.3333333333333333, \"#9c179e\"], [0.4444444444444444, \"#bd3786\"], [0.5555555555555556, \"#d8576b\"], [0.6666666666666666, \"#ed7953\"], [0.7777777777777778, \"#fb9f3a\"], [0.8888888888888888, \"#fdca26\"], [1.0, \"#f0f921\"]], \"sequentialminus\": [[0.0, \"#0d0887\"], [0.1111111111111111, \"#46039f\"], [0.2222222222222222, \"#7201a8\"], [0.3333333333333333, \"#9c179e\"], [0.4444444444444444, \"#bd3786\"], [0.5555555555555556, \"#d8576b\"], [0.6666666666666666, \"#ed7953\"], [0.7777777777777778, \"#fb9f3a\"], [0.8888888888888888, \"#fdca26\"], [1.0, \"#f0f921\"]]}, \"colorway\": [\"#636efa\", \"#EF553B\", \"#00cc96\", \"#ab63fa\", \"#FFA15A\", \"#19d3f3\", \"#FF6692\", \"#B6E880\", \"#FF97FF\", \"#FECB52\"], \"font\": {\"color\": \"#2a3f5f\"}, \"geo\": {\"bgcolor\": \"white\", \"lakecolor\": \"white\", \"landcolor\": \"#E5ECF6\", \"showlakes\": true, \"showland\": true, \"subunitcolor\": \"white\"}, \"hoverlabel\": {\"align\": \"left\"}, \"hovermode\": \"closest\", \"mapbox\": {\"style\": \"light\"}, \"paper_bgcolor\": \"white\", \"plot_bgcolor\": \"#E5ECF6\", \"polar\": {\"angularaxis\": {\"gridcolor\": \"white\", \"linecolor\": \"white\", \"ticks\": \"\"}, \"bgcolor\": \"#E5ECF6\", \"radialaxis\": {\"gridcolor\": \"white\", \"linecolor\": \"white\", \"ticks\": \"\"}}, \"scene\": {\"xaxis\": {\"backgroundcolor\": \"#E5ECF6\", \"gridcolor\": \"white\", \"gridwidth\": 2, \"linecolor\": \"white\", \"showbackground\": true, \"ticks\": \"\", \"zerolinecolor\": \"white\"}, \"yaxis\": {\"backgroundcolor\": \"#E5ECF6\", \"gridcolor\": \"white\", \"gridwidth\": 2, \"linecolor\": \"white\", \"showbackground\": true, \"ticks\": \"\", \"zerolinecolor\": \"white\"}, \"zaxis\": {\"backgroundcolor\": \"#E5ECF6\", \"gridcolor\": \"white\", \"gridwidth\": 2, \"linecolor\": \"white\", \"showbackground\": true, \"ticks\": \"\", \"zerolinecolor\": \"white\"}}, \"shapedefaults\": {\"line\": {\"color\": \"#2a3f5f\"}}, \"ternary\": {\"aaxis\": {\"gridcolor\": \"white\", \"linecolor\": \"white\", \"ticks\": \"\"}, \"baxis\": {\"gridcolor\": \"white\", \"linecolor\": \"white\", \"ticks\": \"\"}, \"bgcolor\": \"#E5ECF6\", \"caxis\": {\"gridcolor\": \"white\", \"linecolor\": \"white\", \"ticks\": \"\"}}, \"title\": {\"x\": 0.05}, \"xaxis\": {\"automargin\": true, \"gridcolor\": \"white\", \"linecolor\": \"white\", \"ticks\": \"\", \"title\": {\"standoff\": 15}, \"zerolinecolor\": \"white\", \"zerolinewidth\": 2}, \"yaxis\": {\"automargin\": true, \"gridcolor\": \"white\", \"linecolor\": \"white\", \"ticks\": \"\", \"title\": {\"standoff\": 15}, \"zerolinecolor\": \"white\", \"zerolinewidth\": 2}}}, \"title\": {\"text\": \"Where is each vaccine used?\"}},                        {\"responsive\": true}                    ).then(function(){\n",
       "                            \n",
       "var gd = document.getElementById('149274e6-8d42-43bb-8e78-f05485bd65aa');\n",
       "var x = new MutationObserver(function (mutations, observer) {{\n",
       "        var display = window.getComputedStyle(gd).display;\n",
       "        if (!display || display === 'none') {{\n",
       "            console.log([gd, 'removed!']);\n",
       "            Plotly.purge(gd);\n",
       "            observer.disconnect();\n",
       "        }}\n",
       "}});\n",
       "\n",
       "// Listen for the removal of the full notebook cells\n",
       "var notebookContainer = gd.closest('#notebook-container');\n",
       "if (notebookContainer) {{\n",
       "    x.observe(notebookContainer, {childList: true});\n",
       "}}\n",
       "\n",
       "// Listen for the clearing of the current output cell\n",
       "var outputEl = gd.closest('.output');\n",
       "if (outputEl) {{\n",
       "    x.observe(outputEl, {childList: true});\n",
       "}}\n",
       "\n",
       "                        })                };                });            </script>        </div>"
      ]
     },
     "metadata": {},
     "output_type": "display_data"
    }
   ],
   "source": [
    "fig = px.choropleth(locations = map_plot_df.iso_code, \n",
    "                    color = map_plot_df.vaccine,\n",
    "                    color_continuous_scale = 'rainbow',\n",
    "                    title = 'Where is each vaccine used?', \n",
    "                   )\n",
    "fig.show()"
   ]
  },
  {
   "cell_type": "markdown",
   "metadata": {
    "papermill": {
     "duration": 0.064243,
     "end_time": "2021-02-20T21:52:32.224921",
     "exception": false,
     "start_time": "2021-02-20T21:52:32.160678",
     "status": "completed"
    },
    "tags": []
   },
   "source": [
    "### 2.2. Where are vaccinated more people per day?"
   ]
  },
  {
   "cell_type": "markdown",
   "metadata": {
    "papermill": {
     "duration": 0.063936,
     "end_time": "2021-02-20T21:52:32.353334",
     "exception": false,
     "start_time": "2021-02-20T21:52:32.289398",
     "status": "completed"
    },
    "tags": []
   },
   "source": [
    "**Daily vaccinations** represent the number of doses administrated in a specific day.\n",
    "\n"
   ]
  },
  {
   "cell_type": "markdown",
   "metadata": {
    "papermill": {
     "duration": 0.06423,
     "end_time": "2021-02-20T21:52:32.484151",
     "exception": false,
     "start_time": "2021-02-20T21:52:32.419921",
     "status": "completed"
    },
    "tags": []
   },
   "source": [
    "Average daily vacinations by country:"
   ]
  },
  {
   "cell_type": "code",
   "execution_count": 32,
   "metadata": {
    "papermill": {
     "duration": 0.276613,
     "end_time": "2021-02-20T21:52:32.825471",
     "exception": false,
     "start_time": "2021-02-20T21:52:32.548858",
     "status": "completed"
    },
    "tags": []
   },
   "outputs": [
    {
     "data": {
      "image/png": "[encoded data removed]",
      "text/plain": [
       "<Figure size 1080x360 with 1 Axes>"
      ]
     },
     "metadata": {
      "needs_background": "light"
     },
     "output_type": "display_data"
    }
   ],
   "source": [
    "data.groupby(['country']).agg({'daily_vaccinations':'mean'}).sort_values(by='daily_vaccinations', ascending=False)[:10].plot.barh(color=\"teal\", figsize=(15,5))\n",
    "plt.title('Average daily vaccinations by country - Top 10')\n",
    "plt.legend('')\n",
    "plt.xlabel('average daily vaccinations')\n",
    "plt.show()"
   ]
  },
  {
   "cell_type": "markdown",
   "metadata": {
    "papermill": {
     "duration": 0.060956,
     "end_time": "2021-02-20T21:52:32.949049",
     "exception": false,
     "start_time": "2021-02-20T21:52:32.888093",
     "status": "completed"
    },
    "tags": []
   },
   "source": [
    "In order to illustrate the evolution of daily vaccinations, I will create interactive Plotly line plots using the function below (more details in its definition)."
   ]
  },
  {
   "cell_type": "code",
   "execution_count": 33,
   "metadata": {
    "papermill": {
     "duration": 0.070859,
     "end_time": "2021-02-20T21:52:33.081107",
     "exception": false,
     "start_time": "2021-02-20T21:52:33.010248",
     "status": "completed"
    },
    "tags": []
   },
   "outputs": [],
   "source": [
    "def plot_daily_vaccination_data(data, region_column, regions_list, vaccination_metric, plot_title, min_date = '2020-12-13', max_date='2021-02-13'):\n",
    "    '''\n",
    "    Plots a vaccination metric using Plotly library\n",
    "    \n",
    "    INPUT \n",
    "        data : Pandas dataframe\n",
    "            a dataframe holding the data to be plotted \n",
    "            must contain a date column (unique dates), a region column and a vaccination related metric\n",
    "        region_column : string\n",
    "            name of the region column \n",
    "            (continent/region/country)\n",
    "        regions_list : list\n",
    "            list of strings with regions to be plotted\n",
    "            must contain values of region_column\n",
    "        vaccination_metric : string\n",
    "            name of the vaccination metric column \n",
    "            (daily_vaccinations/people_fully_vaccinated_per_hundred)\n",
    "        plot_title : string \n",
    "            the title of your plot\n",
    "        min_date : string\n",
    "            lower date limit for the plot\n",
    "        max_date : string\n",
    "            upper date limit for the plot\n",
    "    '''\n",
    "    df = data[(data[region_column].isin(regions_list)) & (data.date <= max_date) & (data.date >= min_date)]\n",
    "    fig = px.line(df, \n",
    "                  x = 'date', \n",
    "                  y = vaccination_metric,\n",
    "                  color = region_column,\n",
    "                  title = plot_title\n",
    "                 )\n",
    "    fig.show()"
   ]
  },
  {
   "cell_type": "markdown",
   "metadata": {
    "papermill": {
     "duration": 0.060288,
     "end_time": "2021-02-20T21:52:33.202000",
     "exception": false,
     "start_time": "2021-02-20T21:52:33.141712",
     "status": "completed"
    },
    "tags": []
   },
   "source": [
    "Preparing data for the plots -> aggregating at date and continent/region level"
   ]
  },
  {
   "cell_type": "code",
   "execution_count": 34,
   "metadata": {
    "papermill": {
     "duration": 0.084664,
     "end_time": "2021-02-20T21:52:33.347338",
     "exception": false,
     "start_time": "2021-02-20T21:52:33.262674",
     "status": "completed"
    },
    "tags": []
   },
   "outputs": [],
   "source": [
    "continents_daily_df = data.groupby(['date', 'continent']).agg({'daily_vaccinations':'sum',\n",
    "                                                               'people_vaccinated_per_hundred':'mean',\n",
    "                                                              }).reset_index()\n",
    "regions_daily_df = data.groupby(['date', 'region']).agg({'daily_vaccinations':'sum',\n",
    "                                                         'people_vaccinated_per_hundred':'mean',\n",
    "                                                        }).reset_index()"
   ]
  },
  {
   "cell_type": "code",
   "execution_count": 35,
   "metadata": {
    "papermill": {
     "duration": 0.071968,
     "end_time": "2021-02-20T21:52:33.481029",
     "exception": false,
     "start_time": "2021-02-20T21:52:33.409061",
     "status": "completed"
    },
    "tags": []
   },
   "outputs": [],
   "source": [
    "all_continents = list(continents_daily_df.continent.unique())\n",
    "all_regions = list(regions_daily_df.region.unique())"
   ]
  },
  {
   "cell_type": "code",
   "execution_count": 37,
   "metadata": {
    "papermill": {
     "duration": 0.186497,
     "end_time": "2021-02-20T21:52:33.728592",
     "exception": false,
     "start_time": "2021-02-20T21:52:33.542095",
     "status": "completed"
    },
    "tags": []
   },
   "outputs": [
    {
     "data": {
      "application/vnd.plotly.v1+json": {
       "config": {
        "plotlyServerURL": "https://plot.ly"
       },
       "data": [
        {
         "hovertemplate": "continent=Europe<br>date=%{x}<br>daily_vaccinations=%{y}<extra></extra>",
         "legendgroup": "Europe",
         "line": {
          "color": "#636efa",
          "dash": "solid"
         },
         "mode": "lines",
         "name": "Europe",
         "orientation": "v",
         "showlegend": true,
         "type": "scatter",
         "x": [
          "2020-12-13",
          "2020-12-14",
          "2020-12-15",
          "2020-12-16",
          "2020-12-17",
          "2020-12-18",
          "2020-12-19",
          "2020-12-20",
          "2020-12-21",
          "2020-12-22",
          "2020-12-23",
          "2020-12-24",
          "2020-12-25",
          "2020-12-26",
          "2020-12-27",
          "2020-12-28",
          "2020-12-29",
          "2020-12-30",
          "2020-12-31",
          "2021-01-01",
          "2021-01-02",
          "2021-01-03",
          "2021-01-04",
          "2021-01-05",
          "2021-01-06",
          "2021-01-07",
          "2021-01-08",
          "2021-01-09",
          "2021-01-10",
          "2021-01-11",
          "2021-01-12",
          "2021-01-13",
          "2021-01-14",
          "2021-01-15",
          "2021-01-16",
          "2021-01-17",
          "2021-01-18",
          "2021-01-19",
          "2021-01-20",
          "2021-01-21",
          "2021-01-22",
          "2021-01-23",
          "2021-01-24",
          "2021-01-25",
          "2021-01-26",
          "2021-01-27",
          "2021-01-28",
          "2021-01-29",
          "2021-01-30",
          "2021-01-31",
          "2021-02-01",
          "2021-02-02",
          "2021-02-03",
          "2021-02-04",
          "2021-02-05",
          "2021-02-06",
          "2021-02-07",
          "2021-02-08",
          "2021-02-09",
          "2021-02-10",
          "2021-02-11",
          "2021-02-12",
          "2021-02-13"
         ],
         "xaxis": "x",
         "y": [
          0,
          167998,
          167998,
          171355,
          171355,
          171355,
          171355,
          171355,
          160798,
          150242,
          148919,
          147598,
          146275,
          144954,
          143632,
          186329,
          233592,
          264192,
          266871,
          260397,
          267196,
          260899,
          310779,
          420827,
          458571,
          516734,
          590406,
          633010,
          677676,
          690271,
          724297,
          790604,
          875894,
          955106,
          1005521,
          1020379,
          1052511,
          1108227,
          1150898,
          1188964,
          1234304,
          1302724,
          1325305,
          1374518,
          1391033,
          1409787,
          1418613,
          1431077,
          1457368,
          1504925,
          1528796,
          1551841,
          1615322,
          1656357,
          1663895,
          1653763,
          1620829,
          1620934,
          1625852,
          1626034,
          1546171,
          1590478,
          1596303
         ],
         "yaxis": "y"
        },
        {
         "hovertemplate": "continent=Asia<br>date=%{x}<br>daily_vaccinations=%{y}<extra></extra>",
         "legendgroup": "Asia",
         "line": {
          "color": "#EF553B",
          "dash": "solid"
         },
         "mode": "lines",
         "name": "Asia",
         "orientation": "v",
         "showlegend": true,
         "type": "scatter",
         "x": [
          "2020-12-15",
          "2020-12-16",
          "2020-12-17",
          "2020-12-18",
          "2020-12-19",
          "2020-12-20",
          "2020-12-21",
          "2020-12-22",
          "2020-12-23",
          "2020-12-24",
          "2020-12-25",
          "2020-12-26",
          "2020-12-27",
          "2020-12-28",
          "2020-12-29",
          "2020-12-30",
          "2020-12-31",
          "2021-01-01",
          "2021-01-02",
          "2021-01-03",
          "2021-01-04",
          "2021-01-05",
          "2021-01-06",
          "2021-01-07",
          "2021-01-08",
          "2021-01-09",
          "2021-01-10",
          "2021-01-11",
          "2021-01-12",
          "2021-01-13",
          "2021-01-14",
          "2021-01-15",
          "2021-01-16",
          "2021-01-17",
          "2021-01-18",
          "2021-01-19",
          "2021-01-20",
          "2021-01-21",
          "2021-01-22",
          "2021-01-23",
          "2021-01-24",
          "2021-01-25",
          "2021-01-26",
          "2021-01-27",
          "2021-01-28",
          "2021-01-29",
          "2021-01-30",
          "2021-01-31",
          "2021-02-01",
          "2021-02-02",
          "2021-02-03",
          "2021-02-04",
          "2021-02-05",
          "2021-02-06",
          "2021-02-07",
          "2021-02-08",
          "2021-02-09",
          "2021-02-10",
          "2021-02-11",
          "2021-02-12",
          "2021-02-13"
         ],
         "xaxis": "x",
         "y": [
          0,
          187500,
          187500,
          187500,
          187500,
          194859,
          203616,
          213114,
          223789,
          242611,
          236640,
          233737,
          247166,
          262552,
          281052,
          293884,
          304707,
          353836,
          403901,
          454958,
          502086,
          542585,
          611269,
          688556,
          682418,
          684666,
          635468,
          587546,
          553588,
          546051,
          870463,
          945626,
          1096617,
          1054470,
          1174881,
          1267864,
          1329218,
          1374257,
          1415634,
          1461650,
          1519594,
          1596499,
          1632988,
          1746091,
          1709304,
          1665563,
          1587819,
          1486915,
          1655062,
          1839822,
          1993936,
          2173420,
          2296458,
          2485743,
          2640111,
          2546747,
          2471988,
          860009,
          834013,
          916142,
          959534
         ],
         "yaxis": "y"
        },
        {
         "hovertemplate": "continent=North America<br>date=%{x}<br>daily_vaccinations=%{y}<extra></extra>",
         "legendgroup": "North America",
         "line": {
          "color": "#00cc96",
          "dash": "solid"
         },
         "mode": "lines",
         "name": "North America",
         "orientation": "v",
         "showlegend": true,
         "type": "scatter",
         "x": [
          "2020-12-19",
          "2020-12-20",
          "2020-12-21",
          "2020-12-22",
          "2020-12-23",
          "2020-12-24",
          "2020-12-25",
          "2020-12-26",
          "2020-12-27",
          "2020-12-28",
          "2020-12-29",
          "2020-12-30",
          "2020-12-31",
          "2021-01-01",
          "2021-01-02",
          "2021-01-03",
          "2021-01-04",
          "2021-01-05",
          "2021-01-06",
          "2021-01-07",
          "2021-01-08",
          "2021-01-09",
          "2021-01-10",
          "2021-01-11",
          "2021-01-12",
          "2021-01-13",
          "2021-01-14",
          "2021-01-15",
          "2021-01-16",
          "2021-01-17",
          "2021-01-18",
          "2021-01-19",
          "2021-01-20",
          "2021-01-21",
          "2021-01-22",
          "2021-01-23",
          "2021-01-24",
          "2021-01-25",
          "2021-01-26",
          "2021-01-27",
          "2021-01-28",
          "2021-01-29",
          "2021-01-30",
          "2021-01-31",
          "2021-02-01",
          "2021-02-02",
          "2021-02-03",
          "2021-02-04",
          "2021-02-05",
          "2021-02-06",
          "2021-02-07",
          "2021-02-08",
          "2021-02-09",
          "2021-02-10",
          "2021-02-11",
          "2021-02-12",
          "2021-02-13"
         ],
         "xaxis": "x",
         "y": [
          0,
          0,
          57909,
          127432,
          150606,
          191001,
          215238,
          231396,
          211379,
          216147,
          235685,
          255223,
          278776,
          302329,
          325882,
          336949,
          348017,
          339372,
          358887,
          378253,
          419933,
          461263,
          546636,
          632287,
          641802,
          714798,
          754645,
          809721,
          826523,
          843311,
          860100,
          939258,
          920804,
          970646,
          1034328,
          1114701,
          1178050,
          1180673,
          1171748,
          1219116,
          1264755,
          1280504,
          1317519,
          1350496,
          1380442,
          1343103,
          1333940,
          1302571,
          1291894,
          1367842,
          1458282,
          1474437,
          1508851,
          1578525,
          1623005,
          1681971,
          1683597
         ],
         "yaxis": "y"
        },
        {
         "hovertemplate": "continent=South America<br>date=%{x}<br>daily_vaccinations=%{y}<extra></extra>",
         "legendgroup": "South America",
         "line": {
          "color": "#ab63fa",
          "dash": "solid"
         },
         "mode": "lines",
         "name": "South America",
         "orientation": "v",
         "showlegend": true,
         "type": "scatter",
         "x": [
          "2020-12-24",
          "2020-12-25",
          "2020-12-26",
          "2020-12-27",
          "2020-12-28",
          "2020-12-29",
          "2020-12-30",
          "2020-12-31",
          "2021-01-01",
          "2021-01-02",
          "2021-01-03",
          "2021-01-04",
          "2021-01-05",
          "2021-01-06",
          "2021-01-07",
          "2021-01-08",
          "2021-01-09",
          "2021-01-10",
          "2021-01-11",
          "2021-01-12",
          "2021-01-13",
          "2021-01-14",
          "2021-01-15",
          "2021-01-16",
          "2021-01-17",
          "2021-01-18",
          "2021-01-19",
          "2021-01-20",
          "2021-01-21",
          "2021-01-22",
          "2021-01-23",
          "2021-01-24",
          "2021-01-25",
          "2021-01-26",
          "2021-01-27",
          "2021-01-28",
          "2021-01-29",
          "2021-01-30",
          "2021-01-31",
          "2021-02-01",
          "2021-02-02",
          "2021-02-03",
          "2021-02-04",
          "2021-02-05",
          "2021-02-06",
          "2021-02-07",
          "2021-02-08",
          "2021-02-09",
          "2021-02-10",
          "2021-02-11",
          "2021-02-12",
          "2021-02-13"
         ],
         "xaxis": "x",
         "y": [
          0,
          6319,
          5500,
          4558,
          4237,
          5282,
          21222,
          21042,
          16129,
          13742,
          12678,
          12142,
          13355,
          13531,
          14098,
          17182,
          19383,
          21468,
          23436,
          22819,
          35838,
          55807,
          67584,
          72665,
          72679,
          76348,
          82072,
          73102,
          81333,
          91089,
          120898,
          130075,
          140280,
          157930,
          194711,
          216044,
          222930,
          231411,
          230631,
          222730,
          226615,
          244281,
          308732,
          302274,
          304234,
          320987,
          355410,
          396217,
          431865,
          409139,
          460061,
          472610
         ],
         "yaxis": "y"
        },
        {
         "hovertemplate": "continent=Africa<br>date=%{x}<br>daily_vaccinations=%{y}<extra></extra>",
         "legendgroup": "Africa",
         "line": {
          "color": "#FFA15A",
          "dash": "solid"
         },
         "mode": "lines",
         "name": "Africa",
         "orientation": "v",
         "showlegend": true,
         "type": "scatter",
         "x": [
          "2021-01-09",
          "2021-01-10",
          "2021-01-11",
          "2021-01-12",
          "2021-01-13",
          "2021-01-14",
          "2021-01-15",
          "2021-01-16",
          "2021-01-17",
          "2021-01-18",
          "2021-01-19",
          "2021-01-20",
          "2021-01-21",
          "2021-01-22",
          "2021-01-23",
          "2021-01-24",
          "2021-01-25",
          "2021-01-26",
          "2021-01-27",
          "2021-01-28",
          "2021-01-29",
          "2021-01-30",
          "2021-01-31",
          "2021-02-01",
          "2021-02-02",
          "2021-02-03",
          "2021-02-04",
          "2021-02-05",
          "2021-02-06",
          "2021-02-07",
          "2021-02-08",
          "2021-02-09",
          "2021-02-10",
          "2021-02-11",
          "2021-02-12",
          "2021-02-13"
         ],
         "xaxis": "x",
         "y": [
          0,
          500,
          500,
          500,
          500,
          600,
          667,
          1000,
          1118,
          1236,
          1354,
          1595,
          1718,
          1841,
          1622,
          1542,
          1682,
          1926,
          2024,
          2214,
          47245,
          47267,
          45998,
          54729,
          56216,
          56049,
          54662,
          56197,
          58159,
          59151,
          54703,
          56038,
          67846,
          77695,
          106504,
          138231
         ],
         "yaxis": "y"
        }
       ],
       "layout": {
        "legend": {
         "title": {
          "text": "continent"
         },
         "tracegroupgap": 0
        },
        "template": {
         "data": {
          "bar": [
           {
            "error_x": {
             "color": "#2a3f5f"
            },
            "error_y": {
             "color": "#2a3f5f"
            },
            "marker": {
             "line": {
              "color": "#E5ECF6",
              "width": 0.5
             }
            },
            "type": "bar"
           }
          ],
          "barpolar": [
           {
            "marker": {
             "line": {
              "color": "#E5ECF6",
              "width": 0.5
             }
            },
            "type": "barpolar"
           }
          ],
          "carpet": [
           {
            "aaxis": {
             "endlinecolor": "#2a3f5f",
             "gridcolor": "white",
             "linecolor": "white",
             "minorgridcolor": "white",
             "startlinecolor": "#2a3f5f"
            },
            "baxis": {
             "endlinecolor": "#2a3f5f",
             "gridcolor": "white",
             "linecolor": "white",
             "minorgridcolor": "white",
             "startlinecolor": "#2a3f5f"
            },
            "type": "carpet"
           }
          ],
          "choropleth": [
           {
            "colorbar": {
             "outlinewidth": 0,
             "ticks": ""
            },
            "type": "choropleth"
           }
          ],
          "contour": [
           {
            "colorbar": {
             "outlinewidth": 0,
             "ticks": ""
            },
            "colorscale": [
             [
              0,
              "#0d0887"
             ],
             [
              0.1111111111111111,
              "#46039f"
             ],
             [
              0.2222222222222222,
              "#7201a8"
             ],
             [
              0.3333333333333333,
              "#9c179e"
             ],
             [
              0.4444444444444444,
              "#bd3786"
             ],
             [
              0.5555555555555556,
              "#d8576b"
             ],
             [
              0.6666666666666666,
              "#ed7953"
             ],
             [
              0.7777777777777778,
              "#fb9f3a"
             ],
             [
              0.8888888888888888,
              "#fdca26"
             ],
             [
              1,
              "#f0f921"
             ]
            ],
            "type": "contour"
           }
          ],
          "contourcarpet": [
           {
            "colorbar": {
             "outlinewidth": 0,
             "ticks": ""
            },
            "type": "contourcarpet"
           }
          ],
          "heatmap": [
           {
            "colorbar": {
             "outlinewidth": 0,
             "ticks": ""
            },
            "colorscale": [
             [
              0,
              "#0d0887"
             ],
             [
              0.1111111111111111,
              "#46039f"
             ],
             [
              0.2222222222222222,
              "#7201a8"
             ],
             [
              0.3333333333333333,
              "#9c179e"
             ],
             [
              0.4444444444444444,
              "#bd3786"
             ],
             [
              0.5555555555555556,
              "#d8576b"
             ],
             [
              0.6666666666666666,
              "#ed7953"
             ],
             [
              0.7777777777777778,
              "#fb9f3a"
             ],
             [
              0.8888888888888888,
              "#fdca26"
             ],
             [
              1,
              "#f0f921"
             ]
            ],
            "type": "heatmap"
           }
          ],
          "heatmapgl": [
           {
            "colorbar": {
             "outlinewidth": 0,
             "ticks": ""
            },
            "colorscale": [
             [
              0,
              "#0d0887"
             ],
             [
              0.1111111111111111,
              "#46039f"
             ],
             [
              0.2222222222222222,
              "#7201a8"
             ],
             [
              0.3333333333333333,
              "#9c179e"
             ],
             [
              0.4444444444444444,
              "#bd3786"
             ],
             [
              0.5555555555555556,
              "#d8576b"
             ],
             [
              0.6666666666666666,
              "#ed7953"
             ],
             [
              0.7777777777777778,
              "#fb9f3a"
             ],
             [
              0.8888888888888888,
              "#fdca26"
             ],
             [
              1,
              "#f0f921"
             ]
            ],
            "type": "heatmapgl"
           }
          ],
          "histogram": [
           {
            "marker": {
             "colorbar": {
              "outlinewidth": 0,
              "ticks": ""
             }
            },
            "type": "histogram"
           }
          ],
          "histogram2d": [
           {
            "colorbar": {
             "outlinewidth": 0,
             "ticks": ""
            },
            "colorscale": [
             [
              0,
              "#0d0887"
             ],
             [
              0.1111111111111111,
              "#46039f"
             ],
             [
              0.2222222222222222,
              "#7201a8"
             ],
             [
              0.3333333333333333,
              "#9c179e"
             ],
             [
              0.4444444444444444,
              "#bd3786"
             ],
             [
              0.5555555555555556,
              "#d8576b"
             ],
             [
              0.6666666666666666,
              "#ed7953"
             ],
             [
              0.7777777777777778,
              "#fb9f3a"
             ],
             [
              0.8888888888888888,
              "#fdca26"
             ],
             [
              1,
              "#f0f921"
             ]
            ],
            "type": "histogram2d"
           }
          ],
          "histogram2dcontour": [
           {
            "colorbar": {
             "outlinewidth": 0,
             "ticks": ""
            },
            "colorscale": [
             [
              0,
              "#0d0887"
             ],
             [
              0.1111111111111111,
              "#46039f"
             ],
             [
              0.2222222222222222,
              "#7201a8"
             ],
             [
              0.3333333333333333,
              "#9c179e"
             ],
             [
              0.4444444444444444,
              "#bd3786"
             ],
             [
              0.5555555555555556,
              "#d8576b"
             ],
             [
              0.6666666666666666,
              "#ed7953"
             ],
             [
              0.7777777777777778,
              "#fb9f3a"
             ],
             [
              0.8888888888888888,
              "#fdca26"
             ],
             [
              1,
              "#f0f921"
             ]
            ],
            "type": "histogram2dcontour"
           }
          ],
          "mesh3d": [
           {
            "colorbar": {
             "outlinewidth": 0,
             "ticks": ""
            },
            "type": "mesh3d"
           }
          ],
          "parcoords": [
           {
            "line": {
             "colorbar": {
              "outlinewidth": 0,
              "ticks": ""
             }
            },
            "type": "parcoords"
           }
          ],
          "pie": [
           {
            "automargin": true,
            "type": "pie"
           }
          ],
          "scatter": [
           {
            "marker": {
             "colorbar": {
              "outlinewidth": 0,
              "ticks": ""
             }
            },
            "type": "scatter"
           }
          ],
          "scatter3d": [
           {
            "line": {
             "colorbar": {
              "outlinewidth": 0,
              "ticks": ""
             }
            },
            "marker": {
             "colorbar": {
              "outlinewidth": 0,
              "ticks": ""
             }
            },
            "type": "scatter3d"
           }
          ],
          "scattercarpet": [
           {
            "marker": {
             "colorbar": {
              "outlinewidth": 0,
              "ticks": ""
             }
            },
            "type": "scattercarpet"
           }
          ],
          "scattergeo": [
           {
            "marker": {
             "colorbar": {
              "outlinewidth": 0,
              "ticks": ""
             }
            },
            "type": "scattergeo"
           }
          ],
          "scattergl": [
           {
            "marker": {
             "colorbar": {
              "outlinewidth": 0,
              "ticks": ""
             }
            },
            "type": "scattergl"
           }
          ],
          "scattermapbox": [
           {
            "marker": {
             "colorbar": {
              "outlinewidth": 0,
              "ticks": ""
             }
            },
            "type": "scattermapbox"
           }
          ],
          "scatterpolar": [
           {
            "marker": {
             "colorbar": {
              "outlinewidth": 0,
              "ticks": ""
             }
            },
            "type": "scatterpolar"
           }
          ],
          "scatterpolargl": [
           {
            "marker": {
             "colorbar": {
              "outlinewidth": 0,
              "ticks": ""
             }
            },
            "type": "scatterpolargl"
           }
          ],
          "scatterternary": [
           {
            "marker": {
             "colorbar": {
              "outlinewidth": 0,
              "ticks": ""
             }
            },
            "type": "scatterternary"
           }
          ],
          "surface": [
           {
            "colorbar": {
             "outlinewidth": 0,
             "ticks": ""
            },
            "colorscale": [
             [
              0,
              "#0d0887"
             ],
             [
              0.1111111111111111,
              "#46039f"
             ],
             [
              0.2222222222222222,
              "#7201a8"
             ],
             [
              0.3333333333333333,
              "#9c179e"
             ],
             [
              0.4444444444444444,
              "#bd3786"
             ],
             [
              0.5555555555555556,
              "#d8576b"
             ],
             [
              0.6666666666666666,
              "#ed7953"
             ],
             [
              0.7777777777777778,
              "#fb9f3a"
             ],
             [
              0.8888888888888888,
              "#fdca26"
             ],
             [
              1,
              "#f0f921"
             ]
            ],
            "type": "surface"
           }
          ],
          "table": [
           {
            "cells": {
             "fill": {
              "color": "#EBF0F8"
             },
             "line": {
              "color": "white"
             }
            },
            "header": {
             "fill": {
              "color": "#C8D4E3"
             },
             "line": {
              "color": "white"
             }
            },
            "type": "table"
           }
          ]
         },
         "layout": {
          "annotationdefaults": {
           "arrowcolor": "#2a3f5f",
           "arrowhead": 0,
           "arrowwidth": 1
          },
          "autotypenumbers": "strict",
          "coloraxis": {
           "colorbar": {
            "outlinewidth": 0,
            "ticks": ""
           }
          },
          "colorscale": {
           "diverging": [
            [
             0,
             "#8e0152"
            ],
            [
             0.1,
             "#c51b7d"
            ],
            [
             0.2,
             "#de77ae"
            ],
            [
             0.3,
             "#f1b6da"
            ],
            [
             0.4,
             "#fde0ef"
            ],
            [
             0.5,
             "#f7f7f7"
            ],
            [
             0.6,
             "#e6f5d0"
            ],
            [
             0.7,
             "#b8e186"
            ],
            [
             0.8,
             "#7fbc41"
            ],
            [
             0.9,
             "#4d9221"
            ],
            [
             1,
             "#276419"
            ]
           ],
           "sequential": [
            [
             0,
             "#0d0887"
            ],
            [
             0.1111111111111111,
             "#46039f"
            ],
            [
             0.2222222222222222,
             "#7201a8"
            ],
            [
             0.3333333333333333,
             "#9c179e"
            ],
            [
             0.4444444444444444,
             "#bd3786"
            ],
            [
             0.5555555555555556,
             "#d8576b"
            ],
            [
             0.6666666666666666,
             "#ed7953"
            ],
            [
             0.7777777777777778,
             "#fb9f3a"
            ],
            [
             0.8888888888888888,
             "#fdca26"
            ],
            [
             1,
             "#f0f921"
            ]
           ],
           "sequentialminus": [
            [
             0,
             "#0d0887"
            ],
            [
             0.1111111111111111,
             "#46039f"
            ],
            [
             0.2222222222222222,
             "#7201a8"
            ],
            [
             0.3333333333333333,
             "#9c179e"
            ],
            [
             0.4444444444444444,
             "#bd3786"
            ],
            [
             0.5555555555555556,
             "#d8576b"
            ],
            [
             0.6666666666666666,
             "#ed7953"
            ],
            [
             0.7777777777777778,
             "#fb9f3a"
            ],
            [
             0.8888888888888888,
             "#fdca26"
            ],
            [
             1,
             "#f0f921"
            ]
           ]
          },
          "colorway": [
           "#636efa",
           "#EF553B",
           "#00cc96",
           "#ab63fa",
           "#FFA15A",
           "#19d3f3",
           "#FF6692",
           "#B6E880",
           "#FF97FF",
           "#FECB52"
          ],
          "font": {
           "color": "#2a3f5f"
          },
          "geo": {
           "bgcolor": "white",
           "lakecolor": "white",
           "landcolor": "#E5ECF6",
           "showlakes": true,
           "showland": true,
           "subunitcolor": "white"
          },
          "hoverlabel": {
           "align": "left"
          },
          "hovermode": "closest",
          "mapbox": {
           "style": "light"
          },
          "paper_bgcolor": "white",
          "plot_bgcolor": "#E5ECF6",
          "polar": {
           "angularaxis": {
            "gridcolor": "white",
            "linecolor": "white",
            "ticks": ""
           },
           "bgcolor": "#E5ECF6",
           "radialaxis": {
            "gridcolor": "white",
            "linecolor": "white",
            "ticks": ""
           }
          },
          "scene": {
           "xaxis": {
            "backgroundcolor": "#E5ECF6",
            "gridcolor": "white",
            "gridwidth": 2,
            "linecolor": "white",
            "showbackground": true,
            "ticks": "",
            "zerolinecolor": "white"
           },
           "yaxis": {
            "backgroundcolor": "#E5ECF6",
            "gridcolor": "white",
            "gridwidth": 2,
            "linecolor": "white",
            "showbackground": true,
            "ticks": "",
            "zerolinecolor": "white"
           },
           "zaxis": {
            "backgroundcolor": "#E5ECF6",
            "gridcolor": "white",
            "gridwidth": 2,
            "linecolor": "white",
            "showbackground": true,
            "ticks": "",
            "zerolinecolor": "white"
           }
          },
          "shapedefaults": {
           "line": {
            "color": "#2a3f5f"
           }
          },
          "ternary": {
           "aaxis": {
            "gridcolor": "white",
            "linecolor": "white",
            "ticks": ""
           },
           "baxis": {
            "gridcolor": "white",
            "linecolor": "white",
            "ticks": ""
           },
           "bgcolor": "#E5ECF6",
           "caxis": {
            "gridcolor": "white",
            "linecolor": "white",
            "ticks": ""
           }
          },
          "title": {
           "x": 0.05
          },
          "xaxis": {
           "automargin": true,
           "gridcolor": "white",
           "linecolor": "white",
           "ticks": "",
           "title": {
            "standoff": 15
           },
           "zerolinecolor": "white",
           "zerolinewidth": 2
          },
          "yaxis": {
           "automargin": true,
           "gridcolor": "white",
           "linecolor": "white",
           "ticks": "",
           "title": {
            "standoff": 15
           },
           "zerolinecolor": "white",
           "zerolinewidth": 2
          }
         }
        },
        "title": {
         "text": "Daily COVID-19 Vaccinations - Summary per Continent in the first three months"
        },
        "xaxis": {
         "anchor": "y",
         "domain": [
          0,
          1
         ],
         "title": {
          "text": "date"
         }
        },
        "yaxis": {
         "anchor": "x",
         "domain": [
          0,
          1
         ],
         "title": {
          "text": "daily_vaccinations"
         }
        }
       }
      },
      "text/html": [
       "<div>                            <div id=\"40f22a16-574e-4fae-83d6-739c334c466e\" class=\"plotly-graph-div\" style=\"height:525px; width:100%;\"></div>            <script type=\"text/javascript\">                require([\"plotly\"], function(Plotly) {                    window.PLOTLYENV=window.PLOTLYENV || {};                                    if (document.getElementById(\"40f22a16-574e-4fae-83d6-739c334c466e\")) {                    Plotly.newPlot(                        \"40f22a16-574e-4fae-83d6-739c334c466e\",                        [{\"hovertemplate\": \"continent=Europe<br>date=%{x}<br>daily_vaccinations=%{y}<extra></extra>\", \"legendgroup\": \"Europe\", \"line\": {\"color\": \"#636efa\", \"dash\": \"solid\"}, \"mode\": \"lines\", \"name\": \"Europe\", \"orientation\": \"v\", \"showlegend\": true, \"type\": \"scatter\", \"x\": [\"2020-12-13\", \"2020-12-14\", \"2020-12-15\", \"2020-12-16\", \"2020-12-17\", \"2020-12-18\", \"2020-12-19\", \"2020-12-20\", \"2020-12-21\", \"2020-12-22\", \"2020-12-23\", \"2020-12-24\", \"2020-12-25\", \"2020-12-26\", \"2020-12-27\", \"2020-12-28\", \"2020-12-29\", \"2020-12-30\", \"2020-12-31\", \"2021-01-01\", \"2021-01-02\", \"2021-01-03\", \"2021-01-04\", \"2021-01-05\", \"2021-01-06\", \"2021-01-07\", \"2021-01-08\", \"2021-01-09\", \"2021-01-10\", \"2021-01-11\", \"2021-01-12\", \"2021-01-13\", \"2021-01-14\", \"2021-01-15\", \"2021-01-16\", \"2021-01-17\", \"2021-01-18\", \"2021-01-19\", \"2021-01-20\", \"2021-01-21\", \"2021-01-22\", \"2021-01-23\", \"2021-01-24\", \"2021-01-25\", \"2021-01-26\", \"2021-01-27\", \"2021-01-28\", \"2021-01-29\", \"2021-01-30\", \"2021-01-31\", \"2021-02-01\", \"2021-02-02\", \"2021-02-03\", \"2021-02-04\", \"2021-02-05\", \"2021-02-06\", \"2021-02-07\", \"2021-02-08\", \"2021-02-09\", \"2021-02-10\", \"2021-02-11\", \"2021-02-12\", \"2021-02-13\"], \"xaxis\": \"x\", \"y\": [0.0, 167998.0, 167998.0, 171355.0, 171355.0, 171355.0, 171355.0, 171355.0, 160798.0, 150242.0, 148919.0, 147598.0, 146275.0, 144954.0, 143632.0, 186329.0, 233592.0, 264192.0, 266871.0, 260397.0, 267196.0, 260899.0, 310779.0, 420827.0, 458571.0, 516734.0, 590406.0, 633010.0, 677676.0, 690271.0, 724297.0, 790604.0, 875894.0, 955106.0, 1005521.0, 1020379.0, 1052511.0, 1108227.0, 1150898.0, 1188964.0, 1234304.0, 1302724.0, 1325305.0, 1374518.0, 1391033.0, 1409787.0, 1418613.0, 1431077.0, 1457368.0, 1504925.0, 1528796.0, 1551841.0, 1615322.0, 1656357.0, 1663895.0, 1653763.0, 1620829.0, 1620934.0, 1625852.0, 1626034.0, 1546171.0, 1590478.0, 1596303.0], \"yaxis\": \"y\"}, {\"hovertemplate\": \"continent=Asia<br>date=%{x}<br>daily_vaccinations=%{y}<extra></extra>\", \"legendgroup\": \"Asia\", \"line\": {\"color\": \"#EF553B\", \"dash\": \"solid\"}, \"mode\": \"lines\", \"name\": \"Asia\", \"orientation\": \"v\", \"showlegend\": true, \"type\": \"scatter\", \"x\": [\"2020-12-15\", \"2020-12-16\", \"2020-12-17\", \"2020-12-18\", \"2020-12-19\", \"2020-12-20\", \"2020-12-21\", \"2020-12-22\", \"2020-12-23\", \"2020-12-24\", \"2020-12-25\", \"2020-12-26\", \"2020-12-27\", \"2020-12-28\", \"2020-12-29\", \"2020-12-30\", \"2020-12-31\", \"2021-01-01\", \"2021-01-02\", \"2021-01-03\", \"2021-01-04\", \"2021-01-05\", \"2021-01-06\", \"2021-01-07\", \"2021-01-08\", \"2021-01-09\", \"2021-01-10\", \"2021-01-11\", \"2021-01-12\", \"2021-01-13\", \"2021-01-14\", \"2021-01-15\", \"2021-01-16\", \"2021-01-17\", \"2021-01-18\", \"2021-01-19\", \"2021-01-20\", \"2021-01-21\", \"2021-01-22\", \"2021-01-23\", \"2021-01-24\", \"2021-01-25\", \"2021-01-26\", \"2021-01-27\", \"2021-01-28\", \"2021-01-29\", \"2021-01-30\", \"2021-01-31\", \"2021-02-01\", \"2021-02-02\", \"2021-02-03\", \"2021-02-04\", \"2021-02-05\", \"2021-02-06\", \"2021-02-07\", \"2021-02-08\", \"2021-02-09\", \"2021-02-10\", \"2021-02-11\", \"2021-02-12\", \"2021-02-13\"], \"xaxis\": \"x\", \"y\": [0.0, 187500.0, 187500.0, 187500.0, 187500.0, 194859.0, 203616.0, 213114.0, 223789.0, 242611.0, 236640.0, 233737.0, 247166.0, 262552.0, 281052.0, 293884.0, 304707.0, 353836.0, 403901.0, 454958.0, 502086.0, 542585.0, 611269.0, 688556.0, 682418.0, 684666.0, 635468.0, 587546.0, 553588.0, 546051.0, 870463.0, 945626.0, 1096617.0, 1054470.0, 1174881.0, 1267864.0, 1329218.0, 1374257.0, 1415634.0, 1461650.0, 1519594.0, 1596499.0, 1632988.0, 1746091.0, 1709304.0, 1665563.0, 1587819.0, 1486915.0, 1655062.0, 1839822.0, 1993936.0, 2173420.0, 2296458.0, 2485743.0, 2640111.0, 2546747.0, 2471988.0, 860009.0, 834013.0, 916142.0, 959534.0], \"yaxis\": \"y\"}, {\"hovertemplate\": \"continent=North America<br>date=%{x}<br>daily_vaccinations=%{y}<extra></extra>\", \"legendgroup\": \"North America\", \"line\": {\"color\": \"#00cc96\", \"dash\": \"solid\"}, \"mode\": \"lines\", \"name\": \"North America\", \"orientation\": \"v\", \"showlegend\": true, \"type\": \"scatter\", \"x\": [\"2020-12-19\", \"2020-12-20\", \"2020-12-21\", \"2020-12-22\", \"2020-12-23\", \"2020-12-24\", \"2020-12-25\", \"2020-12-26\", \"2020-12-27\", \"2020-12-28\", \"2020-12-29\", \"2020-12-30\", \"2020-12-31\", \"2021-01-01\", \"2021-01-02\", \"2021-01-03\", \"2021-01-04\", \"2021-01-05\", \"2021-01-06\", \"2021-01-07\", \"2021-01-08\", \"2021-01-09\", \"2021-01-10\", \"2021-01-11\", \"2021-01-12\", \"2021-01-13\", \"2021-01-14\", \"2021-01-15\", \"2021-01-16\", \"2021-01-17\", \"2021-01-18\", \"2021-01-19\", \"2021-01-20\", \"2021-01-21\", \"2021-01-22\", \"2021-01-23\", \"2021-01-24\", \"2021-01-25\", \"2021-01-26\", \"2021-01-27\", \"2021-01-28\", \"2021-01-29\", \"2021-01-30\", \"2021-01-31\", \"2021-02-01\", \"2021-02-02\", \"2021-02-03\", \"2021-02-04\", \"2021-02-05\", \"2021-02-06\", \"2021-02-07\", \"2021-02-08\", \"2021-02-09\", \"2021-02-10\", \"2021-02-11\", \"2021-02-12\", \"2021-02-13\"], \"xaxis\": \"x\", \"y\": [0.0, 0.0, 57909.0, 127432.0, 150606.0, 191001.0, 215238.0, 231396.0, 211379.0, 216147.0, 235685.0, 255223.0, 278776.0, 302329.0, 325882.0, 336949.0, 348017.0, 339372.0, 358887.0, 378253.0, 419933.0, 461263.0, 546636.0, 632287.0, 641802.0, 714798.0, 754645.0, 809721.0, 826523.0, 843311.0, 860100.0, 939258.0, 920804.0, 970646.0, 1034328.0, 1114701.0, 1178050.0, 1180673.0, 1171748.0, 1219116.0, 1264755.0, 1280504.0, 1317519.0, 1350496.0, 1380442.0, 1343103.0, 1333940.0, 1302571.0, 1291894.0, 1367842.0, 1458282.0, 1474437.0, 1508851.0, 1578525.0, 1623005.0, 1681971.0, 1683597.0], \"yaxis\": \"y\"}, {\"hovertemplate\": \"continent=South America<br>date=%{x}<br>daily_vaccinations=%{y}<extra></extra>\", \"legendgroup\": \"South America\", \"line\": {\"color\": \"#ab63fa\", \"dash\": \"solid\"}, \"mode\": \"lines\", \"name\": \"South America\", \"orientation\": \"v\", \"showlegend\": true, \"type\": \"scatter\", \"x\": [\"2020-12-24\", \"2020-12-25\", \"2020-12-26\", \"2020-12-27\", \"2020-12-28\", \"2020-12-29\", \"2020-12-30\", \"2020-12-31\", \"2021-01-01\", \"2021-01-02\", \"2021-01-03\", \"2021-01-04\", \"2021-01-05\", \"2021-01-06\", \"2021-01-07\", \"2021-01-08\", \"2021-01-09\", \"2021-01-10\", \"2021-01-11\", \"2021-01-12\", \"2021-01-13\", \"2021-01-14\", \"2021-01-15\", \"2021-01-16\", \"2021-01-17\", \"2021-01-18\", \"2021-01-19\", \"2021-01-20\", \"2021-01-21\", \"2021-01-22\", \"2021-01-23\", \"2021-01-24\", \"2021-01-25\", \"2021-01-26\", \"2021-01-27\", \"2021-01-28\", \"2021-01-29\", \"2021-01-30\", \"2021-01-31\", \"2021-02-01\", \"2021-02-02\", \"2021-02-03\", \"2021-02-04\", \"2021-02-05\", \"2021-02-06\", \"2021-02-07\", \"2021-02-08\", \"2021-02-09\", \"2021-02-10\", \"2021-02-11\", \"2021-02-12\", \"2021-02-13\"], \"xaxis\": \"x\", \"y\": [0.0, 6319.0, 5500.0, 4558.0, 4237.0, 5282.0, 21222.0, 21042.0, 16129.0, 13742.0, 12678.0, 12142.0, 13355.0, 13531.0, 14098.0, 17182.0, 19383.0, 21468.0, 23436.0, 22819.0, 35838.0, 55807.0, 67584.0, 72665.0, 72679.0, 76348.0, 82072.0, 73102.0, 81333.0, 91089.0, 120898.0, 130075.0, 140280.0, 157930.0, 194711.0, 216044.0, 222930.0, 231411.0, 230631.0, 222730.0, 226615.0, 244281.0, 308732.0, 302274.0, 304234.0, 320987.0, 355410.0, 396217.0, 431865.0, 409139.0, 460061.0, 472610.0], \"yaxis\": \"y\"}, {\"hovertemplate\": \"continent=Africa<br>date=%{x}<br>daily_vaccinations=%{y}<extra></extra>\", \"legendgroup\": \"Africa\", \"line\": {\"color\": \"#FFA15A\", \"dash\": \"solid\"}, \"mode\": \"lines\", \"name\": \"Africa\", \"orientation\": \"v\", \"showlegend\": true, \"type\": \"scatter\", \"x\": [\"2021-01-09\", \"2021-01-10\", \"2021-01-11\", \"2021-01-12\", \"2021-01-13\", \"2021-01-14\", \"2021-01-15\", \"2021-01-16\", \"2021-01-17\", \"2021-01-18\", \"2021-01-19\", \"2021-01-20\", \"2021-01-21\", \"2021-01-22\", \"2021-01-23\", \"2021-01-24\", \"2021-01-25\", \"2021-01-26\", \"2021-01-27\", \"2021-01-28\", \"2021-01-29\", \"2021-01-30\", \"2021-01-31\", \"2021-02-01\", \"2021-02-02\", \"2021-02-03\", \"2021-02-04\", \"2021-02-05\", \"2021-02-06\", \"2021-02-07\", \"2021-02-08\", \"2021-02-09\", \"2021-02-10\", \"2021-02-11\", \"2021-02-12\", \"2021-02-13\"], \"xaxis\": \"x\", \"y\": [0.0, 500.0, 500.0, 500.0, 500.0, 600.0, 667.0, 1000.0, 1118.0, 1236.0, 1354.0, 1595.0, 1718.0, 1841.0, 1622.0, 1542.0, 1682.0, 1926.0, 2024.0, 2214.0, 47245.0, 47267.0, 45998.0, 54729.0, 56216.0, 56049.0, 54662.0, 56197.0, 58159.0, 59151.0, 54703.0, 56038.0, 67846.0, 77695.0, 106504.0, 138231.0], \"yaxis\": \"y\"}],                        {\"legend\": {\"title\": {\"text\": \"continent\"}, \"tracegroupgap\": 0}, \"template\": {\"data\": {\"bar\": [{\"error_x\": {\"color\": \"#2a3f5f\"}, \"error_y\": {\"color\": \"#2a3f5f\"}, \"marker\": {\"line\": {\"color\": \"#E5ECF6\", \"width\": 0.5}}, \"type\": \"bar\"}], \"barpolar\": [{\"marker\": {\"line\": {\"color\": \"#E5ECF6\", \"width\": 0.5}}, \"type\": \"barpolar\"}], \"carpet\": [{\"aaxis\": {\"endlinecolor\": \"#2a3f5f\", \"gridcolor\": \"white\", \"linecolor\": \"white\", \"minorgridcolor\": \"white\", \"startlinecolor\": \"#2a3f5f\"}, \"baxis\": {\"endlinecolor\": \"#2a3f5f\", \"gridcolor\": \"white\", \"linecolor\": \"white\", \"minorgridcolor\": \"white\", \"startlinecolor\": \"#2a3f5f\"}, \"type\": \"carpet\"}], \"choropleth\": [{\"colorbar\": {\"outlinewidth\": 0, \"ticks\": \"\"}, \"type\": \"choropleth\"}], \"contour\": [{\"colorbar\": {\"outlinewidth\": 0, \"ticks\": \"\"}, \"colorscale\": [[0.0, \"#0d0887\"], [0.1111111111111111, \"#46039f\"], [0.2222222222222222, \"#7201a8\"], [0.3333333333333333, \"#9c179e\"], [0.4444444444444444, \"#bd3786\"], [0.5555555555555556, \"#d8576b\"], [0.6666666666666666, \"#ed7953\"], [0.7777777777777778, \"#fb9f3a\"], [0.8888888888888888, \"#fdca26\"], [1.0, \"#f0f921\"]], \"type\": \"contour\"}], \"contourcarpet\": [{\"colorbar\": {\"outlinewidth\": 0, \"ticks\": \"\"}, \"type\": \"contourcarpet\"}], \"heatmap\": [{\"colorbar\": {\"outlinewidth\": 0, \"ticks\": \"\"}, \"colorscale\": [[0.0, \"#0d0887\"], [0.1111111111111111, \"#46039f\"], [0.2222222222222222, \"#7201a8\"], [0.3333333333333333, \"#9c179e\"], [0.4444444444444444, \"#bd3786\"], [0.5555555555555556, \"#d8576b\"], [0.6666666666666666, \"#ed7953\"], [0.7777777777777778, \"#fb9f3a\"], [0.8888888888888888, \"#fdca26\"], [1.0, \"#f0f921\"]], \"type\": \"heatmap\"}], \"heatmapgl\": [{\"colorbar\": {\"outlinewidth\": 0, \"ticks\": \"\"}, \"colorscale\": [[0.0, \"#0d0887\"], [0.1111111111111111, \"#46039f\"], [0.2222222222222222, \"#7201a8\"], [0.3333333333333333, \"#9c179e\"], [0.4444444444444444, \"#bd3786\"], [0.5555555555555556, \"#d8576b\"], [0.6666666666666666, \"#ed7953\"], [0.7777777777777778, \"#fb9f3a\"], [0.8888888888888888, \"#fdca26\"], [1.0, \"#f0f921\"]], \"type\": \"heatmapgl\"}], \"histogram\": [{\"marker\": {\"colorbar\": {\"outlinewidth\": 0, \"ticks\": \"\"}}, \"type\": \"histogram\"}], \"histogram2d\": [{\"colorbar\": {\"outlinewidth\": 0, \"ticks\": \"\"}, \"colorscale\": [[0.0, \"#0d0887\"], [0.1111111111111111, \"#46039f\"], [0.2222222222222222, \"#7201a8\"], [0.3333333333333333, \"#9c179e\"], [0.4444444444444444, \"#bd3786\"], [0.5555555555555556, \"#d8576b\"], [0.6666666666666666, \"#ed7953\"], [0.7777777777777778, \"#fb9f3a\"], [0.8888888888888888, \"#fdca26\"], [1.0, \"#f0f921\"]], \"type\": \"histogram2d\"}], \"histogram2dcontour\": [{\"colorbar\": {\"outlinewidth\": 0, \"ticks\": \"\"}, \"colorscale\": [[0.0, \"#0d0887\"], [0.1111111111111111, \"#46039f\"], [0.2222222222222222, \"#7201a8\"], [0.3333333333333333, \"#9c179e\"], [0.4444444444444444, \"#bd3786\"], [0.5555555555555556, \"#d8576b\"], [0.6666666666666666, \"#ed7953\"], [0.7777777777777778, \"#fb9f3a\"], [0.8888888888888888, \"#fdca26\"], [1.0, \"#f0f921\"]], \"type\": \"histogram2dcontour\"}], \"mesh3d\": [{\"colorbar\": {\"outlinewidth\": 0, \"ticks\": \"\"}, \"type\": \"mesh3d\"}], \"parcoords\": [{\"line\": {\"colorbar\": {\"outlinewidth\": 0, \"ticks\": \"\"}}, \"type\": \"parcoords\"}], \"pie\": [{\"automargin\": true, \"type\": \"pie\"}], \"scatter\": [{\"marker\": {\"colorbar\": {\"outlinewidth\": 0, \"ticks\": \"\"}}, \"type\": \"scatter\"}], \"scatter3d\": [{\"line\": {\"colorbar\": {\"outlinewidth\": 0, \"ticks\": \"\"}}, \"marker\": {\"colorbar\": {\"outlinewidth\": 0, \"ticks\": \"\"}}, \"type\": \"scatter3d\"}], \"scattercarpet\": [{\"marker\": {\"colorbar\": {\"outlinewidth\": 0, \"ticks\": \"\"}}, \"type\": \"scattercarpet\"}], \"scattergeo\": [{\"marker\": {\"colorbar\": {\"outlinewidth\": 0, \"ticks\": \"\"}}, \"type\": \"scattergeo\"}], \"scattergl\": [{\"marker\": {\"colorbar\": {\"outlinewidth\": 0, \"ticks\": \"\"}}, \"type\": \"scattergl\"}], \"scattermapbox\": [{\"marker\": {\"colorbar\": {\"outlinewidth\": 0, \"ticks\": \"\"}}, \"type\": \"scattermapbox\"}], \"scatterpolar\": [{\"marker\": {\"colorbar\": {\"outlinewidth\": 0, \"ticks\": \"\"}}, \"type\": \"scatterpolar\"}], \"scatterpolargl\": [{\"marker\": {\"colorbar\": {\"outlinewidth\": 0, \"ticks\": \"\"}}, \"type\": \"scatterpolargl\"}], \"scatterternary\": [{\"marker\": {\"colorbar\": {\"outlinewidth\": 0, \"ticks\": \"\"}}, \"type\": \"scatterternary\"}], \"surface\": [{\"colorbar\": {\"outlinewidth\": 0, \"ticks\": \"\"}, \"colorscale\": [[0.0, \"#0d0887\"], [0.1111111111111111, \"#46039f\"], [0.2222222222222222, \"#7201a8\"], [0.3333333333333333, \"#9c179e\"], [0.4444444444444444, \"#bd3786\"], [0.5555555555555556, \"#d8576b\"], [0.6666666666666666, \"#ed7953\"], [0.7777777777777778, \"#fb9f3a\"], [0.8888888888888888, \"#fdca26\"], [1.0, \"#f0f921\"]], \"type\": \"surface\"}], \"table\": [{\"cells\": {\"fill\": {\"color\": \"#EBF0F8\"}, \"line\": {\"color\": \"white\"}}, \"header\": {\"fill\": {\"color\": \"#C8D4E3\"}, \"line\": {\"color\": \"white\"}}, \"type\": \"table\"}]}, \"layout\": {\"annotationdefaults\": {\"arrowcolor\": \"#2a3f5f\", \"arrowhead\": 0, \"arrowwidth\": 1}, \"autotypenumbers\": \"strict\", \"coloraxis\": {\"colorbar\": {\"outlinewidth\": 0, \"ticks\": \"\"}}, \"colorscale\": {\"diverging\": [[0, \"#8e0152\"], [0.1, \"#c51b7d\"], [0.2, \"#de77ae\"], [0.3, \"#f1b6da\"], [0.4, \"#fde0ef\"], [0.5, \"#f7f7f7\"], [0.6, \"#e6f5d0\"], [0.7, \"#b8e186\"], [0.8, \"#7fbc41\"], [0.9, \"#4d9221\"], [1, \"#276419\"]], \"sequential\": [[0.0, \"#0d0887\"], [0.1111111111111111, \"#46039f\"], [0.2222222222222222, \"#7201a8\"], [0.3333333333333333, \"#9c179e\"], [0.4444444444444444, \"#bd3786\"], [0.5555555555555556, \"#d8576b\"], [0.6666666666666666, \"#ed7953\"], [0.7777777777777778, \"#fb9f3a\"], [0.8888888888888888, \"#fdca26\"], [1.0, \"#f0f921\"]], \"sequentialminus\": [[0.0, \"#0d0887\"], [0.1111111111111111, \"#46039f\"], [0.2222222222222222, \"#7201a8\"], [0.3333333333333333, \"#9c179e\"], [0.4444444444444444, \"#bd3786\"], [0.5555555555555556, \"#d8576b\"], [0.6666666666666666, \"#ed7953\"], [0.7777777777777778, \"#fb9f3a\"], [0.8888888888888888, \"#fdca26\"], [1.0, \"#f0f921\"]]}, \"colorway\": [\"#636efa\", \"#EF553B\", \"#00cc96\", \"#ab63fa\", \"#FFA15A\", \"#19d3f3\", \"#FF6692\", \"#B6E880\", \"#FF97FF\", \"#FECB52\"], \"font\": {\"color\": \"#2a3f5f\"}, \"geo\": {\"bgcolor\": \"white\", \"lakecolor\": \"white\", \"landcolor\": \"#E5ECF6\", \"showlakes\": true, \"showland\": true, \"subunitcolor\": \"white\"}, \"hoverlabel\": {\"align\": \"left\"}, \"hovermode\": \"closest\", \"mapbox\": {\"style\": \"light\"}, \"paper_bgcolor\": \"white\", \"plot_bgcolor\": \"#E5ECF6\", \"polar\": {\"angularaxis\": {\"gridcolor\": \"white\", \"linecolor\": \"white\", \"ticks\": \"\"}, \"bgcolor\": \"#E5ECF6\", \"radialaxis\": {\"gridcolor\": \"white\", \"linecolor\": \"white\", \"ticks\": \"\"}}, \"scene\": {\"xaxis\": {\"backgroundcolor\": \"#E5ECF6\", \"gridcolor\": \"white\", \"gridwidth\": 2, \"linecolor\": \"white\", \"showbackground\": true, \"ticks\": \"\", \"zerolinecolor\": \"white\"}, \"yaxis\": {\"backgroundcolor\": \"#E5ECF6\", \"gridcolor\": \"white\", \"gridwidth\": 2, \"linecolor\": \"white\", \"showbackground\": true, \"ticks\": \"\", \"zerolinecolor\": \"white\"}, \"zaxis\": {\"backgroundcolor\": \"#E5ECF6\", \"gridcolor\": \"white\", \"gridwidth\": 2, \"linecolor\": \"white\", \"showbackground\": true, \"ticks\": \"\", \"zerolinecolor\": \"white\"}}, \"shapedefaults\": {\"line\": {\"color\": \"#2a3f5f\"}}, \"ternary\": {\"aaxis\": {\"gridcolor\": \"white\", \"linecolor\": \"white\", \"ticks\": \"\"}, \"baxis\": {\"gridcolor\": \"white\", \"linecolor\": \"white\", \"ticks\": \"\"}, \"bgcolor\": \"#E5ECF6\", \"caxis\": {\"gridcolor\": \"white\", \"linecolor\": \"white\", \"ticks\": \"\"}}, \"title\": {\"x\": 0.05}, \"xaxis\": {\"automargin\": true, \"gridcolor\": \"white\", \"linecolor\": \"white\", \"ticks\": \"\", \"title\": {\"standoff\": 15}, \"zerolinecolor\": \"white\", \"zerolinewidth\": 2}, \"yaxis\": {\"automargin\": true, \"gridcolor\": \"white\", \"linecolor\": \"white\", \"ticks\": \"\", \"title\": {\"standoff\": 15}, \"zerolinecolor\": \"white\", \"zerolinewidth\": 2}}}, \"title\": {\"text\": \"Daily COVID-19 Vaccinations - Summary per Continent in the first three months\"}, \"xaxis\": {\"anchor\": \"y\", \"domain\": [0.0, 1.0], \"title\": {\"text\": \"date\"}}, \"yaxis\": {\"anchor\": \"x\", \"domain\": [0.0, 1.0], \"title\": {\"text\": \"daily_vaccinations\"}}},                        {\"responsive\": true}                    ).then(function(){\n",
       "                            \n",
       "var gd = document.getElementById('40f22a16-574e-4fae-83d6-739c334c466e');\n",
       "var x = new MutationObserver(function (mutations, observer) {{\n",
       "        var display = window.getComputedStyle(gd).display;\n",
       "        if (!display || display === 'none') {{\n",
       "            console.log([gd, 'removed!']);\n",
       "            Plotly.purge(gd);\n",
       "            observer.disconnect();\n",
       "        }}\n",
       "}});\n",
       "\n",
       "// Listen for the removal of the full notebook cells\n",
       "var notebookContainer = gd.closest('#notebook-container');\n",
       "if (notebookContainer) {{\n",
       "    x.observe(notebookContainer, {childList: true});\n",
       "}}\n",
       "\n",
       "// Listen for the clearing of the current output cell\n",
       "var outputEl = gd.closest('.output');\n",
       "if (outputEl) {{\n",
       "    x.observe(outputEl, {childList: true});\n",
       "}}\n",
       "\n",
       "                        })                };                });            </script>        </div>"
      ]
     },
     "metadata": {},
     "output_type": "display_data"
    }
   ],
   "source": [
    "plot_daily_vaccination_data(data = continents_daily_df,  \n",
    "                            region_column = 'continent',\n",
    "                            regions_list = all_continents,\n",
    "                            vaccination_metric = 'daily_vaccinations',\n",
    "                            plot_title = 'Daily COVID-19 Vaccinations - Summary per Continent in the first three months',\n",
    "                            min_date = '2020-12-13',\n",
    "                            max_date = '2021-02-13'\n",
    "                           )"
   ]
  },
  {
   "cell_type": "code",
   "execution_count": 38,
   "metadata": {
    "papermill": {
     "duration": 0.085924,
     "end_time": "2021-02-20T21:52:33.877689",
     "exception": false,
     "start_time": "2021-02-20T21:52:33.791765",
     "status": "completed"
    },
    "tags": []
   },
   "outputs": [
    {
     "name": "stdout",
     "output_type": "stream",
     "text": [
      "Maximum vaccinations in a day in a country - summary per continent: \n",
      "====================================================================\n",
      "\tEurope -> 0.45 million vaccinations in United Kingdom on 2021-02-12\n",
      "\tAsia -> 1.92 million vaccinations in China on 2021-02-07\n",
      "\tNorth America -> 1.72 million vaccinations in United States on 2021-02-16\n",
      "\tSouth America -> 0.26 million vaccinations in Brazil on 2021-02-19\n",
      "\tAfrica -> 0.2 million vaccinations in Morocco on 2021-02-18\n"
     ]
    }
   ],
   "source": [
    "print('Maximum vaccinations in a day in a country - summary per continent: \\n====================================================================')\n",
    "for continent in all_continents:\n",
    "    df = data[data.continent == continent].sort_values(by=['daily_vaccinations'], ascending=False).iloc[0]\n",
    "    print(f'\\t{df.continent} -> {round(int(df.daily_vaccinations)/1000000,2)} million vaccinations in {df.country} on {df.date}')"
   ]
  },
  {
   "cell_type": "code",
   "execution_count": 39,
   "metadata": {
    "papermill": {
     "duration": 0.181338,
     "end_time": "2021-02-20T21:52:34.122513",
     "exception": false,
     "start_time": "2021-02-20T21:52:33.941175",
     "status": "completed"
    },
    "tags": []
   },
   "outputs": [
    {
     "data": {
      "application/vnd.plotly.v1+json": {
       "config": {
        "plotlyServerURL": "https://plot.ly"
       },
       "data": [
        {
         "hovertemplate": "region=Northern Europe<br>date=%{x}<br>daily_vaccinations=%{y}<extra></extra>",
         "legendgroup": "Northern Europe",
         "line": {
          "color": "#636efa",
          "dash": "solid"
         },
         "mode": "lines",
         "name": "Northern Europe",
         "orientation": "v",
         "showlegend": true,
         "type": "scatter",
         "x": [
          "2020-12-13",
          "2020-12-14",
          "2020-12-15",
          "2020-12-16",
          "2020-12-17",
          "2020-12-18",
          "2020-12-19",
          "2020-12-20",
          "2020-12-21",
          "2020-12-22",
          "2020-12-23",
          "2020-12-24",
          "2020-12-25",
          "2020-12-26",
          "2020-12-27",
          "2020-12-28",
          "2020-12-29",
          "2020-12-30",
          "2020-12-31",
          "2021-01-01",
          "2021-01-02",
          "2021-01-03",
          "2021-01-04",
          "2021-01-05",
          "2021-01-06",
          "2021-01-07",
          "2021-01-08",
          "2021-01-09",
          "2021-01-10",
          "2021-01-11",
          "2021-01-12",
          "2021-01-13",
          "2021-01-14",
          "2021-01-15",
          "2021-01-16",
          "2021-01-17",
          "2021-01-18",
          "2021-01-19",
          "2021-01-20",
          "2021-01-21",
          "2021-01-22",
          "2021-01-23",
          "2021-01-24",
          "2021-01-25",
          "2021-01-26",
          "2021-01-27",
          "2021-01-28",
          "2021-01-29",
          "2021-01-30",
          "2021-01-31",
          "2021-02-01",
          "2021-02-02",
          "2021-02-03",
          "2021-02-04",
          "2021-02-05",
          "2021-02-06",
          "2021-02-07",
          "2021-02-08",
          "2021-02-09",
          "2021-02-10",
          "2021-02-11",
          "2021-02-12",
          "2021-02-13"
         ],
         "xaxis": "x",
         "y": [
          0,
          167998,
          167998,
          167998,
          167998,
          167998,
          167998,
          167998,
          157441,
          146885,
          136327,
          125771,
          115214,
          104658,
          94101,
          103974,
          110833,
          115016,
          116970,
          119314,
          122093,
          124459,
          160399,
          198344,
          238187,
          278191,
          317987,
          354924,
          391833,
          389754,
          402353,
          434739,
          477575,
          528316,
          563792,
          565275,
          579474,
          616170,
          637413,
          662454,
          699026,
          755244,
          767854,
          787974,
          777152,
          763902,
          767005,
          773321,
          808280,
          837343,
          858237,
          877347,
          925128,
          949343,
          952227,
          934610,
          921066,
          921129,
          932499,
          926605,
          930300,
          944430,
          931612
         ],
         "yaxis": "y"
        },
        {
         "hovertemplate": "region=Eastern Asia<br>date=%{x}<br>daily_vaccinations=%{y}<extra></extra>",
         "legendgroup": "Eastern Asia",
         "line": {
          "color": "#EF553B",
          "dash": "solid"
         },
         "mode": "lines",
         "name": "Eastern Asia",
         "orientation": "v",
         "showlegend": true,
         "type": "scatter",
         "x": [
          "2020-12-15",
          "2020-12-16",
          "2020-12-17",
          "2020-12-18",
          "2020-12-19",
          "2020-12-20",
          "2020-12-21",
          "2020-12-22",
          "2020-12-23",
          "2020-12-24",
          "2020-12-25",
          "2020-12-26",
          "2020-12-27",
          "2020-12-28",
          "2020-12-29",
          "2020-12-30",
          "2020-12-31",
          "2021-01-01",
          "2021-01-02",
          "2021-01-03",
          "2021-01-04",
          "2021-01-05",
          "2021-01-06",
          "2021-01-07",
          "2021-01-08",
          "2021-01-09",
          "2021-01-10",
          "2021-01-11",
          "2021-01-12",
          "2021-01-13",
          "2021-01-14",
          "2021-01-15",
          "2021-01-16",
          "2021-01-17",
          "2021-01-18",
          "2021-01-19",
          "2021-01-20",
          "2021-01-21",
          "2021-01-22",
          "2021-01-23",
          "2021-01-24",
          "2021-01-25",
          "2021-01-26",
          "2021-01-27",
          "2021-01-28",
          "2021-01-29",
          "2021-01-30",
          "2021-01-31",
          "2021-02-01",
          "2021-02-02",
          "2021-02-03",
          "2021-02-04",
          "2021-02-05",
          "2021-02-06",
          "2021-02-07",
          "2021-02-08",
          "2021-02-09",
          "2021-02-10",
          "2021-02-11",
          "2021-02-12",
          "2021-02-13"
         ],
         "xaxis": "x",
         "y": [
          0,
          187500,
          187500,
          187500,
          187500,
          187500,
          187500,
          187500,
          187500,
          187500,
          187500,
          187500,
          187500,
          187500,
          187500,
          187500,
          187500,
          232143,
          276786,
          321429,
          366071,
          410714,
          455357,
          500000,
          500000,
          500000,
          464286,
          428571,
          392857,
          357143,
          387755,
          418367,
          448980,
          515306,
          581633,
          647959,
          714286,
          770755,
          827224,
          883694,
          940163,
          996633,
          1053102,
          1109571,
          995097,
          880622,
          766148,
          651673,
          836020,
          1020367,
          1204714,
          1382583,
          1560452,
          1738321,
          1916190,
          1795238,
          1674881,
          376,
          302,
          266,
          244
         ],
         "yaxis": "y"
        },
        {
         "hovertemplate": "region=Eastern Europe<br>date=%{x}<br>daily_vaccinations=%{y}<extra></extra>",
         "legendgroup": "Eastern Europe",
         "line": {
          "color": "#00cc96",
          "dash": "solid"
         },
         "mode": "lines",
         "name": "Eastern Europe",
         "orientation": "v",
         "showlegend": true,
         "type": "scatter",
         "x": [
          "2020-12-15",
          "2020-12-16",
          "2020-12-17",
          "2020-12-18",
          "2020-12-19",
          "2020-12-20",
          "2020-12-21",
          "2020-12-22",
          "2020-12-23",
          "2020-12-24",
          "2020-12-25",
          "2020-12-26",
          "2020-12-27",
          "2020-12-28",
          "2020-12-29",
          "2020-12-30",
          "2020-12-31",
          "2021-01-01",
          "2021-01-02",
          "2021-01-03",
          "2021-01-04",
          "2021-01-05",
          "2021-01-06",
          "2021-01-07",
          "2021-01-08",
          "2021-01-09",
          "2021-01-10",
          "2021-01-11",
          "2021-01-12",
          "2021-01-13",
          "2021-01-14",
          "2021-01-15",
          "2021-01-16",
          "2021-01-17",
          "2021-01-18",
          "2021-01-19",
          "2021-01-20",
          "2021-01-21",
          "2021-01-22",
          "2021-01-23",
          "2021-01-24",
          "2021-01-25",
          "2021-01-26",
          "2021-01-27",
          "2021-01-28",
          "2021-01-29",
          "2021-01-30",
          "2021-01-31",
          "2021-02-01",
          "2021-02-02",
          "2021-02-03",
          "2021-02-04",
          "2021-02-05",
          "2021-02-06",
          "2021-02-07",
          "2021-02-08",
          "2021-02-09",
          "2021-02-10",
          "2021-02-11",
          "2021-02-12",
          "2021-02-13"
         ],
         "xaxis": "x",
         "y": [
          0,
          3357,
          3357,
          3357,
          3357,
          3357,
          3357,
          3357,
          12592,
          21827,
          31061,
          40296,
          49531,
          61049,
          77251,
          94258,
          91388,
          86889,
          84441,
          75288,
          74618,
          77119,
          75069,
          76342,
          75908,
          70322,
          72426,
          76591,
          80266,
          86271,
          100153,
          114775,
          129934,
          142705,
          154159,
          167406,
          181879,
          187183,
          192023,
          193832,
          195534,
          202378,
          216084,
          225558,
          233539,
          239196,
          241786,
          244923,
          242879,
          239206,
          239090,
          239982,
          238568,
          236238,
          233082,
          233781,
          227822,
          228683,
          128126,
          134314,
          138497
         ],
         "yaxis": "y"
        },
        {
         "hovertemplate": "region=Northern America<br>date=%{x}<br>daily_vaccinations=%{y}<extra></extra>",
         "legendgroup": "Northern America",
         "line": {
          "color": "#ab63fa",
          "dash": "solid"
         },
         "mode": "lines",
         "name": "Northern America",
         "orientation": "v",
         "showlegend": true,
         "type": "scatter",
         "x": [
          "2020-12-19",
          "2020-12-20",
          "2020-12-21",
          "2020-12-22",
          "2020-12-23",
          "2020-12-24",
          "2020-12-25",
          "2020-12-26",
          "2020-12-27",
          "2020-12-28",
          "2020-12-29",
          "2020-12-30",
          "2020-12-31",
          "2021-01-01",
          "2021-01-02",
          "2021-01-03",
          "2021-01-04",
          "2021-01-05",
          "2021-01-06",
          "2021-01-07",
          "2021-01-08",
          "2021-01-09",
          "2021-01-10",
          "2021-01-11",
          "2021-01-12",
          "2021-01-13",
          "2021-01-14",
          "2021-01-15",
          "2021-01-16",
          "2021-01-17",
          "2021-01-18",
          "2021-01-19",
          "2021-01-20",
          "2021-01-21",
          "2021-01-22",
          "2021-01-23",
          "2021-01-24",
          "2021-01-25",
          "2021-01-26",
          "2021-01-27",
          "2021-01-28",
          "2021-01-29",
          "2021-01-30",
          "2021-01-31",
          "2021-02-01",
          "2021-02-02",
          "2021-02-03",
          "2021-02-04",
          "2021-02-05",
          "2021-02-06",
          "2021-02-07",
          "2021-02-08",
          "2021-02-09",
          "2021-02-10",
          "2021-02-11",
          "2021-02-12",
          "2021-02-13"
         ],
         "xaxis": "x",
         "y": [
          0,
          0,
          57909,
          127432,
          150606,
          191001,
          215238,
          231396,
          211379,
          216147,
          235685,
          255223,
          278776,
          302329,
          325882,
          336949,
          348017,
          339372,
          358887,
          378253,
          419933,
          461263,
          546636,
          632287,
          641802,
          714798,
          754645,
          809721,
          826523,
          843311,
          860100,
          939258,
          920804,
          970646,
          1034328,
          1114701,
          1178050,
          1180673,
          1171748,
          1219116,
          1264755,
          1280504,
          1317519,
          1350496,
          1380442,
          1343103,
          1333940,
          1302571,
          1291894,
          1367842,
          1458282,
          1474437,
          1508851,
          1578525,
          1623005,
          1681971,
          1683597
         ],
         "yaxis": "y"
        },
        {
         "hovertemplate": "region=Western Asia<br>date=%{x}<br>daily_vaccinations=%{y}<extra></extra>",
         "legendgroup": "Western Asia",
         "line": {
          "color": "#FFA15A",
          "dash": "solid"
         },
         "mode": "lines",
         "name": "Western Asia",
         "orientation": "v",
         "showlegend": true,
         "type": "scatter",
         "x": [
          "2020-12-19",
          "2020-12-20",
          "2020-12-21",
          "2020-12-22",
          "2020-12-23",
          "2020-12-24",
          "2020-12-25",
          "2020-12-26",
          "2020-12-27",
          "2020-12-28",
          "2020-12-29",
          "2020-12-30",
          "2020-12-31",
          "2021-01-01",
          "2021-01-02",
          "2021-01-03",
          "2021-01-04",
          "2021-01-05",
          "2021-01-06",
          "2021-01-07",
          "2021-01-08",
          "2021-01-09",
          "2021-01-10",
          "2021-01-11",
          "2021-01-12",
          "2021-01-13",
          "2021-01-14",
          "2021-01-15",
          "2021-01-16",
          "2021-01-17",
          "2021-01-18",
          "2021-01-19",
          "2021-01-20",
          "2021-01-21",
          "2021-01-22",
          "2021-01-23",
          "2021-01-24",
          "2021-01-25",
          "2021-01-26",
          "2021-01-27",
          "2021-01-28",
          "2021-01-29",
          "2021-01-30",
          "2021-01-31",
          "2021-02-01",
          "2021-02-02",
          "2021-02-03",
          "2021-02-04",
          "2021-02-05",
          "2021-02-06",
          "2021-02-07",
          "2021-02-08",
          "2021-02-09",
          "2021-02-10",
          "2021-02-11",
          "2021-02-12",
          "2021-02-13"
         ],
         "xaxis": "x",
         "y": [
          0,
          7359,
          16116,
          25614,
          36289,
          55111,
          49140,
          46237,
          59666,
          75052,
          93552,
          106384,
          117207,
          121693,
          127115,
          133529,
          136015,
          131871,
          155912,
          188556,
          182418,
          184666,
          171182,
          158975,
          157931,
          171618,
          464988,
          509324,
          438392,
          408864,
          423687,
          432616,
          435055,
          411000,
          371174,
          360566,
          361922,
          356171,
          356098,
          354445,
          369392,
          394738,
          397657,
          411621,
          414653,
          390293,
          372663,
          383538,
          358094,
          362521,
          339007,
          324148,
          334828,
          347287,
          311508,
          377597,
          409437
         ],
         "yaxis": "y"
        },
        {
         "hovertemplate": "region=Latin America and the Caribbean<br>date=%{x}<br>daily_vaccinations=%{y}<extra></extra>",
         "legendgroup": "Latin America and the Caribbean",
         "line": {
          "color": "#19d3f3",
          "dash": "solid"
         },
         "mode": "lines",
         "name": "Latin America and the Caribbean",
         "orientation": "v",
         "showlegend": true,
         "type": "scatter",
         "x": [
          "2020-12-24",
          "2020-12-25",
          "2020-12-26",
          "2020-12-27",
          "2020-12-28",
          "2020-12-29",
          "2020-12-30",
          "2020-12-31",
          "2021-01-01",
          "2021-01-02",
          "2021-01-03",
          "2021-01-04",
          "2021-01-05",
          "2021-01-06",
          "2021-01-07",
          "2021-01-08",
          "2021-01-09",
          "2021-01-10",
          "2021-01-11",
          "2021-01-12",
          "2021-01-13",
          "2021-01-14",
          "2021-01-15",
          "2021-01-16",
          "2021-01-17",
          "2021-01-18",
          "2021-01-19",
          "2021-01-20",
          "2021-01-21",
          "2021-01-22",
          "2021-01-23",
          "2021-01-24",
          "2021-01-25",
          "2021-01-26",
          "2021-01-27",
          "2021-01-28",
          "2021-01-29",
          "2021-01-30",
          "2021-01-31",
          "2021-02-01",
          "2021-02-02",
          "2021-02-03",
          "2021-02-04",
          "2021-02-05",
          "2021-02-06",
          "2021-02-07",
          "2021-02-08",
          "2021-02-09",
          "2021-02-10",
          "2021-02-11",
          "2021-02-12",
          "2021-02-13"
         ],
         "xaxis": "x",
         "y": [
          0,
          6319,
          5500,
          4558,
          4237,
          5282,
          21222,
          21042,
          16129,
          13742,
          12678,
          12142,
          13355,
          13531,
          14098,
          17182,
          19383,
          21468,
          23436,
          22819,
          35838,
          55807,
          67584,
          72665,
          72679,
          76348,
          82072,
          73102,
          81333,
          91089,
          120898,
          130075,
          140280,
          157930,
          194711,
          216044,
          222930,
          231411,
          230631,
          222730,
          226615,
          244281,
          308732,
          302274,
          304234,
          320987,
          355410,
          396217,
          431865,
          409139,
          460061,
          472610
         ],
         "yaxis": "y"
        },
        {
         "hovertemplate": "region=Southern Europe<br>date=%{x}<br>daily_vaccinations=%{y}<extra></extra>",
         "legendgroup": "Southern Europe",
         "line": {
          "color": "#FF6692",
          "dash": "solid"
         },
         "mode": "lines",
         "name": "Southern Europe",
         "orientation": "v",
         "showlegend": true,
         "type": "scatter",
         "x": [
          "2020-12-27",
          "2020-12-28",
          "2020-12-29",
          "2020-12-30",
          "2020-12-31",
          "2021-01-01",
          "2021-01-02",
          "2021-01-03",
          "2021-01-04",
          "2021-01-05",
          "2021-01-06",
          "2021-01-07",
          "2021-01-08",
          "2021-01-09",
          "2021-01-10",
          "2021-01-11",
          "2021-01-12",
          "2021-01-13",
          "2021-01-14",
          "2021-01-15",
          "2021-01-16",
          "2021-01-17",
          "2021-01-18",
          "2021-01-19",
          "2021-01-20",
          "2021-01-21",
          "2021-01-22",
          "2021-01-23",
          "2021-01-24",
          "2021-01-25",
          "2021-01-26",
          "2021-01-27",
          "2021-01-28",
          "2021-01-29",
          "2021-01-30",
          "2021-01-31",
          "2021-02-01",
          "2021-02-02",
          "2021-02-03",
          "2021-02-04",
          "2021-02-05",
          "2021-02-06",
          "2021-02-07",
          "2021-02-08",
          "2021-02-09",
          "2021-02-10",
          "2021-02-11",
          "2021-02-12",
          "2021-02-13"
         ],
         "xaxis": "x",
         "y": [
          0,
          2520,
          14783,
          14872,
          18666,
          17359,
          21274,
          23686,
          33844,
          101289,
          99182,
          108318,
          131566,
          140145,
          143911,
          146600,
          150941,
          164005,
          171744,
          172459,
          171050,
          169454,
          166768,
          159997,
          148955,
          146271,
          140386,
          143339,
          149322,
          159589,
          174914,
          183542,
          192611,
          200350,
          202704,
          202193,
          202278,
          200760,
          209318,
          214592,
          210973,
          206890,
          201976,
          200721,
          194597,
          190653,
          198304,
          211418,
          224047
         ],
         "yaxis": "y"
        },
        {
         "hovertemplate": "region=Western Europe<br>date=%{x}<br>daily_vaccinations=%{y}<extra></extra>",
         "legendgroup": "Western Europe",
         "line": {
          "color": "#B6E880",
          "dash": "solid"
         },
         "mode": "lines",
         "name": "Western Europe",
         "orientation": "v",
         "showlegend": true,
         "type": "scatter",
         "x": [
          "2020-12-27",
          "2020-12-28",
          "2020-12-29",
          "2020-12-30",
          "2020-12-31",
          "2021-01-01",
          "2021-01-02",
          "2021-01-03",
          "2021-01-04",
          "2021-01-05",
          "2021-01-06",
          "2021-01-07",
          "2021-01-08",
          "2021-01-09",
          "2021-01-10",
          "2021-01-11",
          "2021-01-12",
          "2021-01-13",
          "2021-01-14",
          "2021-01-15",
          "2021-01-16",
          "2021-01-17",
          "2021-01-18",
          "2021-01-19",
          "2021-01-20",
          "2021-01-21",
          "2021-01-22",
          "2021-01-23",
          "2021-01-24",
          "2021-01-25",
          "2021-01-26",
          "2021-01-27",
          "2021-01-28",
          "2021-01-29",
          "2021-01-30",
          "2021-01-31",
          "2021-02-01",
          "2021-02-02",
          "2021-02-03",
          "2021-02-04",
          "2021-02-05",
          "2021-02-06",
          "2021-02-07",
          "2021-02-08",
          "2021-02-09",
          "2021-02-10",
          "2021-02-11",
          "2021-02-12",
          "2021-02-13"
         ],
         "xaxis": "x",
         "y": [
          0,
          18786,
          30725,
          40046,
          39847,
          36835,
          39388,
          37466,
          41918,
          44075,
          46133,
          53883,
          64945,
          67619,
          69506,
          77326,
          90737,
          105589,
          126422,
          139556,
          140745,
          142945,
          152110,
          164654,
          182651,
          193056,
          202869,
          210309,
          212595,
          224577,
          222883,
          236785,
          225458,
          218210,
          204598,
          220466,
          225402,
          234528,
          241786,
          252440,
          262127,
          276025,
          264705,
          265303,
          270934,
          280093,
          289441,
          300316,
          302147
         ],
         "yaxis": "y"
        },
        {
         "hovertemplate": "region=Sub-Saharan Africa<br>date=%{x}<br>daily_vaccinations=%{y}<extra></extra>",
         "legendgroup": "Sub-Saharan Africa",
         "line": {
          "color": "#FF97FF",
          "dash": "solid"
         },
         "mode": "lines",
         "name": "Sub-Saharan Africa",
         "orientation": "v",
         "showlegend": true,
         "type": "scatter",
         "x": [
          "2021-01-09",
          "2021-01-10",
          "2021-01-11",
          "2021-01-12",
          "2021-01-13",
          "2021-01-14",
          "2021-01-15",
          "2021-01-16",
          "2021-01-17",
          "2021-01-18",
          "2021-01-19",
          "2021-01-20",
          "2021-01-21",
          "2021-01-22",
          "2021-01-23",
          "2021-01-24",
          "2021-01-25",
          "2021-01-26",
          "2021-01-27",
          "2021-01-28",
          "2021-01-29",
          "2021-01-30",
          "2021-01-31",
          "2021-02-01",
          "2021-02-02",
          "2021-02-03",
          "2021-02-04",
          "2021-02-05",
          "2021-02-06",
          "2021-02-07",
          "2021-02-08",
          "2021-02-09",
          "2021-02-10",
          "2021-02-11",
          "2021-02-12",
          "2021-02-13"
         ],
         "xaxis": "x",
         "y": [
          0,
          500,
          500,
          500,
          500,
          600,
          667,
          1000,
          1118,
          1236,
          1354,
          1595,
          1718,
          1841,
          1622,
          1542,
          1463,
          1707,
          1805,
          1995,
          2026,
          2018,
          2109,
          2200,
          1939,
          1644,
          1287,
          1089,
          987,
          966,
          945,
          1163,
          1567,
          2005,
          2203,
          2401
         ],
         "yaxis": "y"
        },
        {
         "hovertemplate": "region=South-eastern Asia<br>date=%{x}<br>daily_vaccinations=%{y}<extra></extra>",
         "legendgroup": "South-eastern Asia",
         "line": {
          "color": "#FECB52",
          "dash": "solid"
         },
         "mode": "lines",
         "name": "South-eastern Asia",
         "orientation": "v",
         "showlegend": true,
         "type": "scatter",
         "x": [
          "2021-01-11",
          "2021-01-12",
          "2021-01-13",
          "2021-01-14",
          "2021-01-15",
          "2021-01-16",
          "2021-01-17",
          "2021-01-18",
          "2021-01-19",
          "2021-01-20",
          "2021-01-21",
          "2021-01-22",
          "2021-01-23",
          "2021-01-24",
          "2021-01-25",
          "2021-01-26",
          "2021-01-27",
          "2021-01-28",
          "2021-01-29",
          "2021-01-30",
          "2021-01-31",
          "2021-02-01",
          "2021-02-02",
          "2021-02-03",
          "2021-02-04",
          "2021-02-05",
          "2021-02-06",
          "2021-02-07",
          "2021-02-08",
          "2021-02-09",
          "2021-02-10",
          "2021-02-11",
          "2021-02-12",
          "2021-02-13"
         ],
         "xaxis": "x",
         "y": [
          0,
          2800,
          17290,
          17720,
          17935,
          18064,
          18150,
          18211,
          18580,
          18580,
          18580,
          18580,
          18673,
          18766,
          19444,
          30267,
          41831,
          56452,
          63498,
          75693,
          76901,
          84313,
          83469,
          69567,
          71319,
          74912,
          69328,
          68657,
          68591,
          69175,
          86746,
          81724,
          79762,
          80776
         ],
         "yaxis": "y"
        },
        {
         "hovertemplate": "region=Southern Asia<br>date=%{x}<br>daily_vaccinations=%{y}<extra></extra>",
         "legendgroup": "Southern Asia",
         "line": {
          "color": "#636efa",
          "dash": "solid"
         },
         "mode": "lines",
         "name": "Southern Asia",
         "orientation": "v",
         "showlegend": true,
         "type": "scatter",
         "x": [
          "2021-01-15",
          "2021-01-16",
          "2021-01-17",
          "2021-01-18",
          "2021-01-19",
          "2021-01-20",
          "2021-01-21",
          "2021-01-22",
          "2021-01-23",
          "2021-01-24",
          "2021-01-25",
          "2021-01-26",
          "2021-01-27",
          "2021-01-28",
          "2021-01-29",
          "2021-01-30",
          "2021-01-31",
          "2021-02-01",
          "2021-02-02",
          "2021-02-03",
          "2021-02-04",
          "2021-02-05",
          "2021-02-06",
          "2021-02-07",
          "2021-02-08",
          "2021-02-09",
          "2021-02-10",
          "2021-02-11",
          "2021-02-12",
          "2021-02-13"
         ],
         "xaxis": "x",
         "y": [
          0,
          191181,
          112150,
          151350,
          168709,
          161297,
          173922,
          198656,
          198717,
          198743,
          224251,
          193521,
          240244,
          288363,
          326705,
          348321,
          346720,
          320076,
          345693,
          346992,
          335980,
          303000,
          315573,
          316257,
          358770,
          393104,
          425600,
          440479,
          458517,
          469077
         ],
         "yaxis": "y"
        },
        {
         "hovertemplate": "region=Northern Africa<br>date=%{x}<br>daily_vaccinations=%{y}<extra></extra>",
         "legendgroup": "Northern Africa",
         "line": {
          "color": "#EF553B",
          "dash": "solid"
         },
         "mode": "lines",
         "name": "Northern Africa",
         "orientation": "v",
         "showlegend": true,
         "type": "scatter",
         "x": [
          "2021-01-24",
          "2021-01-25",
          "2021-01-26",
          "2021-01-27",
          "2021-01-28",
          "2021-01-29",
          "2021-01-30",
          "2021-01-31",
          "2021-02-01",
          "2021-02-02",
          "2021-02-03",
          "2021-02-04",
          "2021-02-05",
          "2021-02-06",
          "2021-02-07",
          "2021-02-08",
          "2021-02-09",
          "2021-02-10",
          "2021-02-11",
          "2021-02-12",
          "2021-02-13"
         ],
         "xaxis": "x",
         "y": [
          0,
          219,
          219,
          219,
          219,
          45219,
          45249,
          43889,
          52529,
          54277,
          54405,
          53375,
          55108,
          57172,
          58185,
          53758,
          54875,
          66279,
          75690,
          104301,
          135830
         ],
         "yaxis": "y"
        }
       ],
       "layout": {
        "legend": {
         "title": {
          "text": "region"
         },
         "tracegroupgap": 0
        },
        "template": {
         "data": {
          "bar": [
           {
            "error_x": {
             "color": "#2a3f5f"
            },
            "error_y": {
             "color": "#2a3f5f"
            },
            "marker": {
             "line": {
              "color": "#E5ECF6",
              "width": 0.5
             }
            },
            "type": "bar"
           }
          ],
          "barpolar": [
           {
            "marker": {
             "line": {
              "color": "#E5ECF6",
              "width": 0.5
             }
            },
            "type": "barpolar"
           }
          ],
          "carpet": [
           {
            "aaxis": {
             "endlinecolor": "#2a3f5f",
             "gridcolor": "white",
             "linecolor": "white",
             "minorgridcolor": "white",
             "startlinecolor": "#2a3f5f"
            },
            "baxis": {
             "endlinecolor": "#2a3f5f",
             "gridcolor": "white",
             "linecolor": "white",
             "minorgridcolor": "white",
             "startlinecolor": "#2a3f5f"
            },
            "type": "carpet"
           }
          ],
          "choropleth": [
           {
            "colorbar": {
             "outlinewidth": 0,
             "ticks": ""
            },
            "type": "choropleth"
           }
          ],
          "contour": [
           {
            "colorbar": {
             "outlinewidth": 0,
             "ticks": ""
            },
            "colorscale": [
             [
              0,
              "#0d0887"
             ],
             [
              0.1111111111111111,
              "#46039f"
             ],
             [
              0.2222222222222222,
              "#7201a8"
             ],
             [
              0.3333333333333333,
              "#9c179e"
             ],
             [
              0.4444444444444444,
              "#bd3786"
             ],
             [
              0.5555555555555556,
              "#d8576b"
             ],
             [
              0.6666666666666666,
              "#ed7953"
             ],
             [
              0.7777777777777778,
              "#fb9f3a"
             ],
             [
              0.8888888888888888,
              "#fdca26"
             ],
             [
              1,
              "#f0f921"
             ]
            ],
            "type": "contour"
           }
          ],
          "contourcarpet": [
           {
            "colorbar": {
             "outlinewidth": 0,
             "ticks": ""
            },
            "type": "contourcarpet"
           }
          ],
          "heatmap": [
           {
            "colorbar": {
             "outlinewidth": 0,
             "ticks": ""
            },
            "colorscale": [
             [
              0,
              "#0d0887"
             ],
             [
              0.1111111111111111,
              "#46039f"
             ],
             [
              0.2222222222222222,
              "#7201a8"
             ],
             [
              0.3333333333333333,
              "#9c179e"
             ],
             [
              0.4444444444444444,
              "#bd3786"
             ],
             [
              0.5555555555555556,
              "#d8576b"
             ],
             [
              0.6666666666666666,
              "#ed7953"
             ],
             [
              0.7777777777777778,
              "#fb9f3a"
             ],
             [
              0.8888888888888888,
              "#fdca26"
             ],
             [
              1,
              "#f0f921"
             ]
            ],
            "type": "heatmap"
           }
          ],
          "heatmapgl": [
           {
            "colorbar": {
             "outlinewidth": 0,
             "ticks": ""
            },
            "colorscale": [
             [
              0,
              "#0d0887"
             ],
             [
              0.1111111111111111,
              "#46039f"
             ],
             [
              0.2222222222222222,
              "#7201a8"
             ],
             [
              0.3333333333333333,
              "#9c179e"
             ],
             [
              0.4444444444444444,
              "#bd3786"
             ],
             [
              0.5555555555555556,
              "#d8576b"
             ],
             [
              0.6666666666666666,
              "#ed7953"
             ],
             [
              0.7777777777777778,
              "#fb9f3a"
             ],
             [
              0.8888888888888888,
              "#fdca26"
             ],
             [
              1,
              "#f0f921"
             ]
            ],
            "type": "heatmapgl"
           }
          ],
          "histogram": [
           {
            "marker": {
             "colorbar": {
              "outlinewidth": 0,
              "ticks": ""
             }
            },
            "type": "histogram"
           }
          ],
          "histogram2d": [
           {
            "colorbar": {
             "outlinewidth": 0,
             "ticks": ""
            },
            "colorscale": [
             [
              0,
              "#0d0887"
             ],
             [
              0.1111111111111111,
              "#46039f"
             ],
             [
              0.2222222222222222,
              "#7201a8"
             ],
             [
              0.3333333333333333,
              "#9c179e"
             ],
             [
              0.4444444444444444,
              "#bd3786"
             ],
             [
              0.5555555555555556,
              "#d8576b"
             ],
             [
              0.6666666666666666,
              "#ed7953"
             ],
             [
              0.7777777777777778,
              "#fb9f3a"
             ],
             [
              0.8888888888888888,
              "#fdca26"
             ],
             [
              1,
              "#f0f921"
             ]
            ],
            "type": "histogram2d"
           }
          ],
          "histogram2dcontour": [
           {
            "colorbar": {
             "outlinewidth": 0,
             "ticks": ""
            },
            "colorscale": [
             [
              0,
              "#0d0887"
             ],
             [
              0.1111111111111111,
              "#46039f"
             ],
             [
              0.2222222222222222,
              "#7201a8"
             ],
             [
              0.3333333333333333,
              "#9c179e"
             ],
             [
              0.4444444444444444,
              "#bd3786"
             ],
             [
              0.5555555555555556,
              "#d8576b"
             ],
             [
              0.6666666666666666,
              "#ed7953"
             ],
             [
              0.7777777777777778,
              "#fb9f3a"
             ],
             [
              0.8888888888888888,
              "#fdca26"
             ],
             [
              1,
              "#f0f921"
             ]
            ],
            "type": "histogram2dcontour"
           }
          ],
          "mesh3d": [
           {
            "colorbar": {
             "outlinewidth": 0,
             "ticks": ""
            },
            "type": "mesh3d"
           }
          ],
          "parcoords": [
           {
            "line": {
             "colorbar": {
              "outlinewidth": 0,
              "ticks": ""
             }
            },
            "type": "parcoords"
           }
          ],
          "pie": [
           {
            "automargin": true,
            "type": "pie"
           }
          ],
          "scatter": [
           {
            "marker": {
             "colorbar": {
              "outlinewidth": 0,
              "ticks": ""
             }
            },
            "type": "scatter"
           }
          ],
          "scatter3d": [
           {
            "line": {
             "colorbar": {
              "outlinewidth": 0,
              "ticks": ""
             }
            },
            "marker": {
             "colorbar": {
              "outlinewidth": 0,
              "ticks": ""
             }
            },
            "type": "scatter3d"
           }
          ],
          "scattercarpet": [
           {
            "marker": {
             "colorbar": {
              "outlinewidth": 0,
              "ticks": ""
             }
            },
            "type": "scattercarpet"
           }
          ],
          "scattergeo": [
           {
            "marker": {
             "colorbar": {
              "outlinewidth": 0,
              "ticks": ""
             }
            },
            "type": "scattergeo"
           }
          ],
          "scattergl": [
           {
            "marker": {
             "colorbar": {
              "outlinewidth": 0,
              "ticks": ""
             }
            },
            "type": "scattergl"
           }
          ],
          "scattermapbox": [
           {
            "marker": {
             "colorbar": {
              "outlinewidth": 0,
              "ticks": ""
             }
            },
            "type": "scattermapbox"
           }
          ],
          "scatterpolar": [
           {
            "marker": {
             "colorbar": {
              "outlinewidth": 0,
              "ticks": ""
             }
            },
            "type": "scatterpolar"
           }
          ],
          "scatterpolargl": [
           {
            "marker": {
             "colorbar": {
              "outlinewidth": 0,
              "ticks": ""
             }
            },
            "type": "scatterpolargl"
           }
          ],
          "scatterternary": [
           {
            "marker": {
             "colorbar": {
              "outlinewidth": 0,
              "ticks": ""
             }
            },
            "type": "scatterternary"
           }
          ],
          "surface": [
           {
            "colorbar": {
             "outlinewidth": 0,
             "ticks": ""
            },
            "colorscale": [
             [
              0,
              "#0d0887"
             ],
             [
              0.1111111111111111,
              "#46039f"
             ],
             [
              0.2222222222222222,
              "#7201a8"
             ],
             [
              0.3333333333333333,
              "#9c179e"
             ],
             [
              0.4444444444444444,
              "#bd3786"
             ],
             [
              0.5555555555555556,
              "#d8576b"
             ],
             [
              0.6666666666666666,
              "#ed7953"
             ],
             [
              0.7777777777777778,
              "#fb9f3a"
             ],
             [
              0.8888888888888888,
              "#fdca26"
             ],
             [
              1,
              "#f0f921"
             ]
            ],
            "type": "surface"
           }
          ],
          "table": [
           {
            "cells": {
             "fill": {
              "color": "#EBF0F8"
             },
             "line": {
              "color": "white"
             }
            },
            "header": {
             "fill": {
              "color": "#C8D4E3"
             },
             "line": {
              "color": "white"
             }
            },
            "type": "table"
           }
          ]
         },
         "layout": {
          "annotationdefaults": {
           "arrowcolor": "#2a3f5f",
           "arrowhead": 0,
           "arrowwidth": 1
          },
          "autotypenumbers": "strict",
          "coloraxis": {
           "colorbar": {
            "outlinewidth": 0,
            "ticks": ""
           }
          },
          "colorscale": {
           "diverging": [
            [
             0,
             "#8e0152"
            ],
            [
             0.1,
             "#c51b7d"
            ],
            [
             0.2,
             "#de77ae"
            ],
            [
             0.3,
             "#f1b6da"
            ],
            [
             0.4,
             "#fde0ef"
            ],
            [
             0.5,
             "#f7f7f7"
            ],
            [
             0.6,
             "#e6f5d0"
            ],
            [
             0.7,
             "#b8e186"
            ],
            [
             0.8,
             "#7fbc41"
            ],
            [
             0.9,
             "#4d9221"
            ],
            [
             1,
             "#276419"
            ]
           ],
           "sequential": [
            [
             0,
             "#0d0887"
            ],
            [
             0.1111111111111111,
             "#46039f"
            ],
            [
             0.2222222222222222,
             "#7201a8"
            ],
            [
             0.3333333333333333,
             "#9c179e"
            ],
            [
             0.4444444444444444,
             "#bd3786"
            ],
            [
             0.5555555555555556,
             "#d8576b"
            ],
            [
             0.6666666666666666,
             "#ed7953"
            ],
            [
             0.7777777777777778,
             "#fb9f3a"
            ],
            [
             0.8888888888888888,
             "#fdca26"
            ],
            [
             1,
             "#f0f921"
            ]
           ],
           "sequentialminus": [
            [
             0,
             "#0d0887"
            ],
            [
             0.1111111111111111,
             "#46039f"
            ],
            [
             0.2222222222222222,
             "#7201a8"
            ],
            [
             0.3333333333333333,
             "#9c179e"
            ],
            [
             0.4444444444444444,
             "#bd3786"
            ],
            [
             0.5555555555555556,
             "#d8576b"
            ],
            [
             0.6666666666666666,
             "#ed7953"
            ],
            [
             0.7777777777777778,
             "#fb9f3a"
            ],
            [
             0.8888888888888888,
             "#fdca26"
            ],
            [
             1,
             "#f0f921"
            ]
           ]
          },
          "colorway": [
           "#636efa",
           "#EF553B",
           "#00cc96",
           "#ab63fa",
           "#FFA15A",
           "#19d3f3",
           "#FF6692",
           "#B6E880",
           "#FF97FF",
           "#FECB52"
          ],
          "font": {
           "color": "#2a3f5f"
          },
          "geo": {
           "bgcolor": "white",
           "lakecolor": "white",
           "landcolor": "#E5ECF6",
           "showlakes": true,
           "showland": true,
           "subunitcolor": "white"
          },
          "hoverlabel": {
           "align": "left"
          },
          "hovermode": "closest",
          "mapbox": {
           "style": "light"
          },
          "paper_bgcolor": "white",
          "plot_bgcolor": "#E5ECF6",
          "polar": {
           "angularaxis": {
            "gridcolor": "white",
            "linecolor": "white",
            "ticks": ""
           },
           "bgcolor": "#E5ECF6",
           "radialaxis": {
            "gridcolor": "white",
            "linecolor": "white",
            "ticks": ""
           }
          },
          "scene": {
           "xaxis": {
            "backgroundcolor": "#E5ECF6",
            "gridcolor": "white",
            "gridwidth": 2,
            "linecolor": "white",
            "showbackground": true,
            "ticks": "",
            "zerolinecolor": "white"
           },
           "yaxis": {
            "backgroundcolor": "#E5ECF6",
            "gridcolor": "white",
            "gridwidth": 2,
            "linecolor": "white",
            "showbackground": true,
            "ticks": "",
            "zerolinecolor": "white"
           },
           "zaxis": {
            "backgroundcolor": "#E5ECF6",
            "gridcolor": "white",
            "gridwidth": 2,
            "linecolor": "white",
            "showbackground": true,
            "ticks": "",
            "zerolinecolor": "white"
           }
          },
          "shapedefaults": {
           "line": {
            "color": "#2a3f5f"
           }
          },
          "ternary": {
           "aaxis": {
            "gridcolor": "white",
            "linecolor": "white",
            "ticks": ""
           },
           "baxis": {
            "gridcolor": "white",
            "linecolor": "white",
            "ticks": ""
           },
           "bgcolor": "#E5ECF6",
           "caxis": {
            "gridcolor": "white",
            "linecolor": "white",
            "ticks": ""
           }
          },
          "title": {
           "x": 0.05
          },
          "xaxis": {
           "automargin": true,
           "gridcolor": "white",
           "linecolor": "white",
           "ticks": "",
           "title": {
            "standoff": 15
           },
           "zerolinecolor": "white",
           "zerolinewidth": 2
          },
          "yaxis": {
           "automargin": true,
           "gridcolor": "white",
           "linecolor": "white",
           "ticks": "",
           "title": {
            "standoff": 15
           },
           "zerolinecolor": "white",
           "zerolinewidth": 2
          }
         }
        },
        "title": {
         "text": "Daily COVID-19 Vaccinations - Summary per Region"
        },
        "xaxis": {
         "anchor": "y",
         "domain": [
          0,
          1
         ],
         "title": {
          "text": "date"
         }
        },
        "yaxis": {
         "anchor": "x",
         "domain": [
          0,
          1
         ],
         "title": {
          "text": "daily_vaccinations"
         }
        }
       }
      },
      "text/html": [
       "<div>                            <div id=\"e0bc6f61-95de-4f10-aba5-56e46283f085\" class=\"plotly-graph-div\" style=\"height:525px; width:100%;\"></div>            <script type=\"text/javascript\">                require([\"plotly\"], function(Plotly) {                    window.PLOTLYENV=window.PLOTLYENV || {};                                    if (document.getElementById(\"e0bc6f61-95de-4f10-aba5-56e46283f085\")) {                    Plotly.newPlot(                        \"e0bc6f61-95de-4f10-aba5-56e46283f085\",                        [{\"hovertemplate\": \"region=Northern Europe<br>date=%{x}<br>daily_vaccinations=%{y}<extra></extra>\", \"legendgroup\": \"Northern Europe\", \"line\": {\"color\": \"#636efa\", \"dash\": \"solid\"}, \"mode\": \"lines\", \"name\": \"Northern Europe\", \"orientation\": \"v\", \"showlegend\": true, \"type\": \"scatter\", \"x\": [\"2020-12-13\", \"2020-12-14\", \"2020-12-15\", \"2020-12-16\", \"2020-12-17\", \"2020-12-18\", \"2020-12-19\", \"2020-12-20\", \"2020-12-21\", \"2020-12-22\", \"2020-12-23\", \"2020-12-24\", \"2020-12-25\", \"2020-12-26\", \"2020-12-27\", \"2020-12-28\", \"2020-12-29\", \"2020-12-30\", \"2020-12-31\", \"2021-01-01\", \"2021-01-02\", \"2021-01-03\", \"2021-01-04\", \"2021-01-05\", \"2021-01-06\", \"2021-01-07\", \"2021-01-08\", \"2021-01-09\", \"2021-01-10\", \"2021-01-11\", \"2021-01-12\", \"2021-01-13\", \"2021-01-14\", \"2021-01-15\", \"2021-01-16\", \"2021-01-17\", \"2021-01-18\", \"2021-01-19\", \"2021-01-20\", \"2021-01-21\", \"2021-01-22\", \"2021-01-23\", \"2021-01-24\", \"2021-01-25\", \"2021-01-26\", \"2021-01-27\", \"2021-01-28\", \"2021-01-29\", \"2021-01-30\", \"2021-01-31\", \"2021-02-01\", \"2021-02-02\", \"2021-02-03\", \"2021-02-04\", \"2021-02-05\", \"2021-02-06\", \"2021-02-07\", \"2021-02-08\", \"2021-02-09\", \"2021-02-10\", \"2021-02-11\", \"2021-02-12\", \"2021-02-13\"], \"xaxis\": \"x\", \"y\": [0.0, 167998.0, 167998.0, 167998.0, 167998.0, 167998.0, 167998.0, 167998.0, 157441.0, 146885.0, 136327.0, 125771.0, 115214.0, 104658.0, 94101.0, 103974.0, 110833.0, 115016.0, 116970.0, 119314.0, 122093.0, 124459.0, 160399.0, 198344.0, 238187.0, 278191.0, 317987.0, 354924.0, 391833.0, 389754.0, 402353.0, 434739.0, 477575.0, 528316.0, 563792.0, 565275.0, 579474.0, 616170.0, 637413.0, 662454.0, 699026.0, 755244.0, 767854.0, 787974.0, 777152.0, 763902.0, 767005.0, 773321.0, 808280.0, 837343.0, 858237.0, 877347.0, 925128.0, 949343.0, 952227.0, 934610.0, 921066.0, 921129.0, 932499.0, 926605.0, 930300.0, 944430.0, 931612.0], \"yaxis\": \"y\"}, {\"hovertemplate\": \"region=Eastern Asia<br>date=%{x}<br>daily_vaccinations=%{y}<extra></extra>\", \"legendgroup\": \"Eastern Asia\", \"line\": {\"color\": \"#EF553B\", \"dash\": \"solid\"}, \"mode\": \"lines\", \"name\": \"Eastern Asia\", \"orientation\": \"v\", \"showlegend\": true, \"type\": \"scatter\", \"x\": [\"2020-12-15\", \"2020-12-16\", \"2020-12-17\", \"2020-12-18\", \"2020-12-19\", \"2020-12-20\", \"2020-12-21\", \"2020-12-22\", \"2020-12-23\", \"2020-12-24\", \"2020-12-25\", \"2020-12-26\", \"2020-12-27\", \"2020-12-28\", \"2020-12-29\", \"2020-12-30\", \"2020-12-31\", \"2021-01-01\", \"2021-01-02\", \"2021-01-03\", \"2021-01-04\", \"2021-01-05\", \"2021-01-06\", \"2021-01-07\", \"2021-01-08\", \"2021-01-09\", \"2021-01-10\", \"2021-01-11\", \"2021-01-12\", \"2021-01-13\", \"2021-01-14\", \"2021-01-15\", \"2021-01-16\", \"2021-01-17\", \"2021-01-18\", \"2021-01-19\", \"2021-01-20\", \"2021-01-21\", \"2021-01-22\", \"2021-01-23\", \"2021-01-24\", \"2021-01-25\", \"2021-01-26\", \"2021-01-27\", \"2021-01-28\", \"2021-01-29\", \"2021-01-30\", \"2021-01-31\", \"2021-02-01\", \"2021-02-02\", \"2021-02-03\", \"2021-02-04\", \"2021-02-05\", \"2021-02-06\", \"2021-02-07\", \"2021-02-08\", \"2021-02-09\", \"2021-02-10\", \"2021-02-11\", \"2021-02-12\", \"2021-02-13\"], \"xaxis\": \"x\", \"y\": [0.0, 187500.0, 187500.0, 187500.0, 187500.0, 187500.0, 187500.0, 187500.0, 187500.0, 187500.0, 187500.0, 187500.0, 187500.0, 187500.0, 187500.0, 187500.0, 187500.0, 232143.0, 276786.0, 321429.0, 366071.0, 410714.0, 455357.0, 500000.0, 500000.0, 500000.0, 464286.0, 428571.0, 392857.0, 357143.0, 387755.0, 418367.0, 448980.0, 515306.0, 581633.0, 647959.0, 714286.0, 770755.0, 827224.0, 883694.0, 940163.0, 996633.0, 1053102.0, 1109571.0, 995097.0, 880622.0, 766148.0, 651673.0, 836020.0, 1020367.0, 1204714.0, 1382583.0, 1560452.0, 1738321.0, 1916190.0, 1795238.0, 1674881.0, 376.0, 302.0, 266.0, 244.0], \"yaxis\": \"y\"}, {\"hovertemplate\": \"region=Eastern Europe<br>date=%{x}<br>daily_vaccinations=%{y}<extra></extra>\", \"legendgroup\": \"Eastern Europe\", \"line\": {\"color\": \"#00cc96\", \"dash\": \"solid\"}, \"mode\": \"lines\", \"name\": \"Eastern Europe\", \"orientation\": \"v\", \"showlegend\": true, \"type\": \"scatter\", \"x\": [\"2020-12-15\", \"2020-12-16\", \"2020-12-17\", \"2020-12-18\", \"2020-12-19\", \"2020-12-20\", \"2020-12-21\", \"2020-12-22\", \"2020-12-23\", \"2020-12-24\", \"2020-12-25\", \"2020-12-26\", \"2020-12-27\", \"2020-12-28\", \"2020-12-29\", \"2020-12-30\", \"2020-12-31\", \"2021-01-01\", \"2021-01-02\", \"2021-01-03\", \"2021-01-04\", \"2021-01-05\", \"2021-01-06\", \"2021-01-07\", \"2021-01-08\", \"2021-01-09\", \"2021-01-10\", \"2021-01-11\", \"2021-01-12\", \"2021-01-13\", \"2021-01-14\", \"2021-01-15\", \"2021-01-16\", \"2021-01-17\", \"2021-01-18\", \"2021-01-19\", \"2021-01-20\", \"2021-01-21\", \"2021-01-22\", \"2021-01-23\", \"2021-01-24\", \"2021-01-25\", \"2021-01-26\", \"2021-01-27\", \"2021-01-28\", \"2021-01-29\", \"2021-01-30\", \"2021-01-31\", \"2021-02-01\", \"2021-02-02\", \"2021-02-03\", \"2021-02-04\", \"2021-02-05\", \"2021-02-06\", \"2021-02-07\", \"2021-02-08\", \"2021-02-09\", \"2021-02-10\", \"2021-02-11\", \"2021-02-12\", \"2021-02-13\"], \"xaxis\": \"x\", \"y\": [0.0, 3357.0, 3357.0, 3357.0, 3357.0, 3357.0, 3357.0, 3357.0, 12592.0, 21827.0, 31061.0, 40296.0, 49531.0, 61049.0, 77251.0, 94258.0, 91388.0, 86889.0, 84441.0, 75288.0, 74618.0, 77119.0, 75069.0, 76342.0, 75908.0, 70322.0, 72426.0, 76591.0, 80266.0, 86271.0, 100153.0, 114775.0, 129934.0, 142705.0, 154159.0, 167406.0, 181879.0, 187183.0, 192023.0, 193832.0, 195534.0, 202378.0, 216084.0, 225558.0, 233539.0, 239196.0, 241786.0, 244923.0, 242879.0, 239206.0, 239090.0, 239982.0, 238568.0, 236238.0, 233082.0, 233781.0, 227822.0, 228683.0, 128126.0, 134314.0, 138497.0], \"yaxis\": \"y\"}, {\"hovertemplate\": \"region=Northern America<br>date=%{x}<br>daily_vaccinations=%{y}<extra></extra>\", \"legendgroup\": \"Northern America\", \"line\": {\"color\": \"#ab63fa\", \"dash\": \"solid\"}, \"mode\": \"lines\", \"name\": \"Northern America\", \"orientation\": \"v\", \"showlegend\": true, \"type\": \"scatter\", \"x\": [\"2020-12-19\", \"2020-12-20\", \"2020-12-21\", \"2020-12-22\", \"2020-12-23\", \"2020-12-24\", \"2020-12-25\", \"2020-12-26\", \"2020-12-27\", \"2020-12-28\", \"2020-12-29\", \"2020-12-30\", \"2020-12-31\", \"2021-01-01\", \"2021-01-02\", \"2021-01-03\", \"2021-01-04\", \"2021-01-05\", \"2021-01-06\", \"2021-01-07\", \"2021-01-08\", \"2021-01-09\", \"2021-01-10\", \"2021-01-11\", \"2021-01-12\", \"2021-01-13\", \"2021-01-14\", \"2021-01-15\", \"2021-01-16\", \"2021-01-17\", \"2021-01-18\", \"2021-01-19\", \"2021-01-20\", \"2021-01-21\", \"2021-01-22\", \"2021-01-23\", \"2021-01-24\", \"2021-01-25\", \"2021-01-26\", \"2021-01-27\", \"2021-01-28\", \"2021-01-29\", \"2021-01-30\", \"2021-01-31\", \"2021-02-01\", \"2021-02-02\", \"2021-02-03\", \"2021-02-04\", \"2021-02-05\", \"2021-02-06\", \"2021-02-07\", \"2021-02-08\", \"2021-02-09\", \"2021-02-10\", \"2021-02-11\", \"2021-02-12\", \"2021-02-13\"], \"xaxis\": \"x\", \"y\": [0.0, 0.0, 57909.0, 127432.0, 150606.0, 191001.0, 215238.0, 231396.0, 211379.0, 216147.0, 235685.0, 255223.0, 278776.0, 302329.0, 325882.0, 336949.0, 348017.0, 339372.0, 358887.0, 378253.0, 419933.0, 461263.0, 546636.0, 632287.0, 641802.0, 714798.0, 754645.0, 809721.0, 826523.0, 843311.0, 860100.0, 939258.0, 920804.0, 970646.0, 1034328.0, 1114701.0, 1178050.0, 1180673.0, 1171748.0, 1219116.0, 1264755.0, 1280504.0, 1317519.0, 1350496.0, 1380442.0, 1343103.0, 1333940.0, 1302571.0, 1291894.0, 1367842.0, 1458282.0, 1474437.0, 1508851.0, 1578525.0, 1623005.0, 1681971.0, 1683597.0], \"yaxis\": \"y\"}, {\"hovertemplate\": \"region=Western Asia<br>date=%{x}<br>daily_vaccinations=%{y}<extra></extra>\", \"legendgroup\": \"Western Asia\", \"line\": {\"color\": \"#FFA15A\", \"dash\": \"solid\"}, \"mode\": \"lines\", \"name\": \"Western Asia\", \"orientation\": \"v\", \"showlegend\": true, \"type\": \"scatter\", \"x\": [\"2020-12-19\", \"2020-12-20\", \"2020-12-21\", \"2020-12-22\", \"2020-12-23\", \"2020-12-24\", \"2020-12-25\", \"2020-12-26\", \"2020-12-27\", \"2020-12-28\", \"2020-12-29\", \"2020-12-30\", \"2020-12-31\", \"2021-01-01\", \"2021-01-02\", \"2021-01-03\", \"2021-01-04\", \"2021-01-05\", \"2021-01-06\", \"2021-01-07\", \"2021-01-08\", \"2021-01-09\", \"2021-01-10\", \"2021-01-11\", \"2021-01-12\", \"2021-01-13\", \"2021-01-14\", \"2021-01-15\", \"2021-01-16\", \"2021-01-17\", \"2021-01-18\", \"2021-01-19\", \"2021-01-20\", \"2021-01-21\", \"2021-01-22\", \"2021-01-23\", \"2021-01-24\", \"2021-01-25\", \"2021-01-26\", \"2021-01-27\", \"2021-01-28\", \"2021-01-29\", \"2021-01-30\", \"2021-01-31\", \"2021-02-01\", \"2021-02-02\", \"2021-02-03\", \"2021-02-04\", \"2021-02-05\", \"2021-02-06\", \"2021-02-07\", \"2021-02-08\", \"2021-02-09\", \"2021-02-10\", \"2021-02-11\", \"2021-02-12\", \"2021-02-13\"], \"xaxis\": \"x\", \"y\": [0.0, 7359.0, 16116.0, 25614.0, 36289.0, 55111.0, 49140.0, 46237.0, 59666.0, 75052.0, 93552.0, 106384.0, 117207.0, 121693.0, 127115.0, 133529.0, 136015.0, 131871.0, 155912.0, 188556.0, 182418.0, 184666.0, 171182.0, 158975.0, 157931.0, 171618.0, 464988.0, 509324.0, 438392.0, 408864.0, 423687.0, 432616.0, 435055.0, 411000.0, 371174.0, 360566.0, 361922.0, 356171.0, 356098.0, 354445.0, 369392.0, 394738.0, 397657.0, 411621.0, 414653.0, 390293.0, 372663.0, 383538.0, 358094.0, 362521.0, 339007.0, 324148.0, 334828.0, 347287.0, 311508.0, 377597.0, 409437.0], \"yaxis\": \"y\"}, {\"hovertemplate\": \"region=Latin America and the Caribbean<br>date=%{x}<br>daily_vaccinations=%{y}<extra></extra>\", \"legendgroup\": \"Latin America and the Caribbean\", \"line\": {\"color\": \"#19d3f3\", \"dash\": \"solid\"}, \"mode\": \"lines\", \"name\": \"Latin America and the Caribbean\", \"orientation\": \"v\", \"showlegend\": true, \"type\": \"scatter\", \"x\": [\"2020-12-24\", \"2020-12-25\", \"2020-12-26\", \"2020-12-27\", \"2020-12-28\", \"2020-12-29\", \"2020-12-30\", \"2020-12-31\", \"2021-01-01\", \"2021-01-02\", \"2021-01-03\", \"2021-01-04\", \"2021-01-05\", \"2021-01-06\", \"2021-01-07\", \"2021-01-08\", \"2021-01-09\", \"2021-01-10\", \"2021-01-11\", \"2021-01-12\", \"2021-01-13\", \"2021-01-14\", \"2021-01-15\", \"2021-01-16\", \"2021-01-17\", \"2021-01-18\", \"2021-01-19\", \"2021-01-20\", \"2021-01-21\", \"2021-01-22\", \"2021-01-23\", \"2021-01-24\", \"2021-01-25\", \"2021-01-26\", \"2021-01-27\", \"2021-01-28\", \"2021-01-29\", \"2021-01-30\", \"2021-01-31\", \"2021-02-01\", \"2021-02-02\", \"2021-02-03\", \"2021-02-04\", \"2021-02-05\", \"2021-02-06\", \"2021-02-07\", \"2021-02-08\", \"2021-02-09\", \"2021-02-10\", \"2021-02-11\", \"2021-02-12\", \"2021-02-13\"], \"xaxis\": \"x\", \"y\": [0.0, 6319.0, 5500.0, 4558.0, 4237.0, 5282.0, 21222.0, 21042.0, 16129.0, 13742.0, 12678.0, 12142.0, 13355.0, 13531.0, 14098.0, 17182.0, 19383.0, 21468.0, 23436.0, 22819.0, 35838.0, 55807.0, 67584.0, 72665.0, 72679.0, 76348.0, 82072.0, 73102.0, 81333.0, 91089.0, 120898.0, 130075.0, 140280.0, 157930.0, 194711.0, 216044.0, 222930.0, 231411.0, 230631.0, 222730.0, 226615.0, 244281.0, 308732.0, 302274.0, 304234.0, 320987.0, 355410.0, 396217.0, 431865.0, 409139.0, 460061.0, 472610.0], \"yaxis\": \"y\"}, {\"hovertemplate\": \"region=Southern Europe<br>date=%{x}<br>daily_vaccinations=%{y}<extra></extra>\", \"legendgroup\": \"Southern Europe\", \"line\": {\"color\": \"#FF6692\", \"dash\": \"solid\"}, \"mode\": \"lines\", \"name\": \"Southern Europe\", \"orientation\": \"v\", \"showlegend\": true, \"type\": \"scatter\", \"x\": [\"2020-12-27\", \"2020-12-28\", \"2020-12-29\", \"2020-12-30\", \"2020-12-31\", \"2021-01-01\", \"2021-01-02\", \"2021-01-03\", \"2021-01-04\", \"2021-01-05\", \"2021-01-06\", \"2021-01-07\", \"2021-01-08\", \"2021-01-09\", \"2021-01-10\", \"2021-01-11\", \"2021-01-12\", \"2021-01-13\", \"2021-01-14\", \"2021-01-15\", \"2021-01-16\", \"2021-01-17\", \"2021-01-18\", \"2021-01-19\", \"2021-01-20\", \"2021-01-21\", \"2021-01-22\", \"2021-01-23\", \"2021-01-24\", \"2021-01-25\", \"2021-01-26\", \"2021-01-27\", \"2021-01-28\", \"2021-01-29\", \"2021-01-30\", \"2021-01-31\", \"2021-02-01\", \"2021-02-02\", \"2021-02-03\", \"2021-02-04\", \"2021-02-05\", \"2021-02-06\", \"2021-02-07\", \"2021-02-08\", \"2021-02-09\", \"2021-02-10\", \"2021-02-11\", \"2021-02-12\", \"2021-02-13\"], \"xaxis\": \"x\", \"y\": [0.0, 2520.0, 14783.0, 14872.0, 18666.0, 17359.0, 21274.0, 23686.0, 33844.0, 101289.0, 99182.0, 108318.0, 131566.0, 140145.0, 143911.0, 146600.0, 150941.0, 164005.0, 171744.0, 172459.0, 171050.0, 169454.0, 166768.0, 159997.0, 148955.0, 146271.0, 140386.0, 143339.0, 149322.0, 159589.0, 174914.0, 183542.0, 192611.0, 200350.0, 202704.0, 202193.0, 202278.0, 200760.0, 209318.0, 214592.0, 210973.0, 206890.0, 201976.0, 200721.0, 194597.0, 190653.0, 198304.0, 211418.0, 224047.0], \"yaxis\": \"y\"}, {\"hovertemplate\": \"region=Western Europe<br>date=%{x}<br>daily_vaccinations=%{y}<extra></extra>\", \"legendgroup\": \"Western Europe\", \"line\": {\"color\": \"#B6E880\", \"dash\": \"solid\"}, \"mode\": \"lines\", \"name\": \"Western Europe\", \"orientation\": \"v\", \"showlegend\": true, \"type\": \"scatter\", \"x\": [\"2020-12-27\", \"2020-12-28\", \"2020-12-29\", \"2020-12-30\", \"2020-12-31\", \"2021-01-01\", \"2021-01-02\", \"2021-01-03\", \"2021-01-04\", \"2021-01-05\", \"2021-01-06\", \"2021-01-07\", \"2021-01-08\", \"2021-01-09\", \"2021-01-10\", \"2021-01-11\", \"2021-01-12\", \"2021-01-13\", \"2021-01-14\", \"2021-01-15\", \"2021-01-16\", \"2021-01-17\", \"2021-01-18\", \"2021-01-19\", \"2021-01-20\", \"2021-01-21\", \"2021-01-22\", \"2021-01-23\", \"2021-01-24\", \"2021-01-25\", \"2021-01-26\", \"2021-01-27\", \"2021-01-28\", \"2021-01-29\", \"2021-01-30\", \"2021-01-31\", \"2021-02-01\", \"2021-02-02\", \"2021-02-03\", \"2021-02-04\", \"2021-02-05\", \"2021-02-06\", \"2021-02-07\", \"2021-02-08\", \"2021-02-09\", \"2021-02-10\", \"2021-02-11\", \"2021-02-12\", \"2021-02-13\"], \"xaxis\": \"x\", \"y\": [0.0, 18786.0, 30725.0, 40046.0, 39847.0, 36835.0, 39388.0, 37466.0, 41918.0, 44075.0, 46133.0, 53883.0, 64945.0, 67619.0, 69506.0, 77326.0, 90737.0, 105589.0, 126422.0, 139556.0, 140745.0, 142945.0, 152110.0, 164654.0, 182651.0, 193056.0, 202869.0, 210309.0, 212595.0, 224577.0, 222883.0, 236785.0, 225458.0, 218210.0, 204598.0, 220466.0, 225402.0, 234528.0, 241786.0, 252440.0, 262127.0, 276025.0, 264705.0, 265303.0, 270934.0, 280093.0, 289441.0, 300316.0, 302147.0], \"yaxis\": \"y\"}, {\"hovertemplate\": \"region=Sub-Saharan Africa<br>date=%{x}<br>daily_vaccinations=%{y}<extra></extra>\", \"legendgroup\": \"Sub-Saharan Africa\", \"line\": {\"color\": \"#FF97FF\", \"dash\": \"solid\"}, \"mode\": \"lines\", \"name\": \"Sub-Saharan Africa\", \"orientation\": \"v\", \"showlegend\": true, \"type\": \"scatter\", \"x\": [\"2021-01-09\", \"2021-01-10\", \"2021-01-11\", \"2021-01-12\", \"2021-01-13\", \"2021-01-14\", \"2021-01-15\", \"2021-01-16\", \"2021-01-17\", \"2021-01-18\", \"2021-01-19\", \"2021-01-20\", \"2021-01-21\", \"2021-01-22\", \"2021-01-23\", \"2021-01-24\", \"2021-01-25\", \"2021-01-26\", \"2021-01-27\", \"2021-01-28\", \"2021-01-29\", \"2021-01-30\", \"2021-01-31\", \"2021-02-01\", \"2021-02-02\", \"2021-02-03\", \"2021-02-04\", \"2021-02-05\", \"2021-02-06\", \"2021-02-07\", \"2021-02-08\", \"2021-02-09\", \"2021-02-10\", \"2021-02-11\", \"2021-02-12\", \"2021-02-13\"], \"xaxis\": \"x\", \"y\": [0.0, 500.0, 500.0, 500.0, 500.0, 600.0, 667.0, 1000.0, 1118.0, 1236.0, 1354.0, 1595.0, 1718.0, 1841.0, 1622.0, 1542.0, 1463.0, 1707.0, 1805.0, 1995.0, 2026.0, 2018.0, 2109.0, 2200.0, 1939.0, 1644.0, 1287.0, 1089.0, 987.0, 966.0, 945.0, 1163.0, 1567.0, 2005.0, 2203.0, 2401.0], \"yaxis\": \"y\"}, {\"hovertemplate\": \"region=South-eastern Asia<br>date=%{x}<br>daily_vaccinations=%{y}<extra></extra>\", \"legendgroup\": \"South-eastern Asia\", \"line\": {\"color\": \"#FECB52\", \"dash\": \"solid\"}, \"mode\": \"lines\", \"name\": \"South-eastern Asia\", \"orientation\": \"v\", \"showlegend\": true, \"type\": \"scatter\", \"x\": [\"2021-01-11\", \"2021-01-12\", \"2021-01-13\", \"2021-01-14\", \"2021-01-15\", \"2021-01-16\", \"2021-01-17\", \"2021-01-18\", \"2021-01-19\", \"2021-01-20\", \"2021-01-21\", \"2021-01-22\", \"2021-01-23\", \"2021-01-24\", \"2021-01-25\", \"2021-01-26\", \"2021-01-27\", \"2021-01-28\", \"2021-01-29\", \"2021-01-30\", \"2021-01-31\", \"2021-02-01\", \"2021-02-02\", \"2021-02-03\", \"2021-02-04\", \"2021-02-05\", \"2021-02-06\", \"2021-02-07\", \"2021-02-08\", \"2021-02-09\", \"2021-02-10\", \"2021-02-11\", \"2021-02-12\", \"2021-02-13\"], \"xaxis\": \"x\", \"y\": [0.0, 2800.0, 17290.0, 17720.0, 17935.0, 18064.0, 18150.0, 18211.0, 18580.0, 18580.0, 18580.0, 18580.0, 18673.0, 18766.0, 19444.0, 30267.0, 41831.0, 56452.0, 63498.0, 75693.0, 76901.0, 84313.0, 83469.0, 69567.0, 71319.0, 74912.0, 69328.0, 68657.0, 68591.0, 69175.0, 86746.0, 81724.0, 79762.0, 80776.0], \"yaxis\": \"y\"}, {\"hovertemplate\": \"region=Southern Asia<br>date=%{x}<br>daily_vaccinations=%{y}<extra></extra>\", \"legendgroup\": \"Southern Asia\", \"line\": {\"color\": \"#636efa\", \"dash\": \"solid\"}, \"mode\": \"lines\", \"name\": \"Southern Asia\", \"orientation\": \"v\", \"showlegend\": true, \"type\": \"scatter\", \"x\": [\"2021-01-15\", \"2021-01-16\", \"2021-01-17\", \"2021-01-18\", \"2021-01-19\", \"2021-01-20\", \"2021-01-21\", \"2021-01-22\", \"2021-01-23\", \"2021-01-24\", \"2021-01-25\", \"2021-01-26\", \"2021-01-27\", \"2021-01-28\", \"2021-01-29\", \"2021-01-30\", \"2021-01-31\", \"2021-02-01\", \"2021-02-02\", \"2021-02-03\", \"2021-02-04\", \"2021-02-05\", \"2021-02-06\", \"2021-02-07\", \"2021-02-08\", \"2021-02-09\", \"2021-02-10\", \"2021-02-11\", \"2021-02-12\", \"2021-02-13\"], \"xaxis\": \"x\", \"y\": [0.0, 191181.0, 112150.0, 151350.0, 168709.0, 161297.0, 173922.0, 198656.0, 198717.0, 198743.0, 224251.0, 193521.0, 240244.0, 288363.0, 326705.0, 348321.0, 346720.0, 320076.0, 345693.0, 346992.0, 335980.0, 303000.0, 315573.0, 316257.0, 358770.0, 393104.0, 425600.0, 440479.0, 458517.0, 469077.0], \"yaxis\": \"y\"}, {\"hovertemplate\": \"region=Northern Africa<br>date=%{x}<br>daily_vaccinations=%{y}<extra></extra>\", \"legendgroup\": \"Northern Africa\", \"line\": {\"color\": \"#EF553B\", \"dash\": \"solid\"}, \"mode\": \"lines\", \"name\": \"Northern Africa\", \"orientation\": \"v\", \"showlegend\": true, \"type\": \"scatter\", \"x\": [\"2021-01-24\", \"2021-01-25\", \"2021-01-26\", \"2021-01-27\", \"2021-01-28\", \"2021-01-29\", \"2021-01-30\", \"2021-01-31\", \"2021-02-01\", \"2021-02-02\", \"2021-02-03\", \"2021-02-04\", \"2021-02-05\", \"2021-02-06\", \"2021-02-07\", \"2021-02-08\", \"2021-02-09\", \"2021-02-10\", \"2021-02-11\", \"2021-02-12\", \"2021-02-13\"], \"xaxis\": \"x\", \"y\": [0.0, 219.0, 219.0, 219.0, 219.0, 45219.0, 45249.0, 43889.0, 52529.0, 54277.0, 54405.0, 53375.0, 55108.0, 57172.0, 58185.0, 53758.0, 54875.0, 66279.0, 75690.0, 104301.0, 135830.0], \"yaxis\": \"y\"}],                        {\"legend\": {\"title\": {\"text\": \"region\"}, \"tracegroupgap\": 0}, \"template\": {\"data\": {\"bar\": [{\"error_x\": {\"color\": \"#2a3f5f\"}, \"error_y\": {\"color\": \"#2a3f5f\"}, \"marker\": {\"line\": {\"color\": \"#E5ECF6\", \"width\": 0.5}}, \"type\": \"bar\"}], \"barpolar\": [{\"marker\": {\"line\": {\"color\": \"#E5ECF6\", \"width\": 0.5}}, \"type\": \"barpolar\"}], \"carpet\": [{\"aaxis\": {\"endlinecolor\": \"#2a3f5f\", \"gridcolor\": \"white\", \"linecolor\": \"white\", \"minorgridcolor\": \"white\", \"startlinecolor\": \"#2a3f5f\"}, \"baxis\": {\"endlinecolor\": \"#2a3f5f\", \"gridcolor\": \"white\", \"linecolor\": \"white\", \"minorgridcolor\": \"white\", \"startlinecolor\": \"#2a3f5f\"}, \"type\": \"carpet\"}], \"choropleth\": [{\"colorbar\": {\"outlinewidth\": 0, \"ticks\": \"\"}, \"type\": \"choropleth\"}], \"contour\": [{\"colorbar\": {\"outlinewidth\": 0, \"ticks\": \"\"}, \"colorscale\": [[0.0, \"#0d0887\"], [0.1111111111111111, \"#46039f\"], [0.2222222222222222, \"#7201a8\"], [0.3333333333333333, \"#9c179e\"], [0.4444444444444444, \"#bd3786\"], [0.5555555555555556, \"#d8576b\"], [0.6666666666666666, \"#ed7953\"], [0.7777777777777778, \"#fb9f3a\"], [0.8888888888888888, \"#fdca26\"], [1.0, \"#f0f921\"]], \"type\": \"contour\"}], \"contourcarpet\": [{\"colorbar\": {\"outlinewidth\": 0, \"ticks\": \"\"}, \"type\": \"contourcarpet\"}], \"heatmap\": [{\"colorbar\": {\"outlinewidth\": 0, \"ticks\": \"\"}, \"colorscale\": [[0.0, \"#0d0887\"], [0.1111111111111111, \"#46039f\"], [0.2222222222222222, \"#7201a8\"], [0.3333333333333333, \"#9c179e\"], [0.4444444444444444, \"#bd3786\"], [0.5555555555555556, \"#d8576b\"], [0.6666666666666666, \"#ed7953\"], [0.7777777777777778, \"#fb9f3a\"], [0.8888888888888888, \"#fdca26\"], [1.0, \"#f0f921\"]], \"type\": \"heatmap\"}], \"heatmapgl\": [{\"colorbar\": {\"outlinewidth\": 0, \"ticks\": \"\"}, \"colorscale\": [[0.0, \"#0d0887\"], [0.1111111111111111, \"#46039f\"], [0.2222222222222222, \"#7201a8\"], [0.3333333333333333, \"#9c179e\"], [0.4444444444444444, \"#bd3786\"], [0.5555555555555556, \"#d8576b\"], [0.6666666666666666, \"#ed7953\"], [0.7777777777777778, \"#fb9f3a\"], [0.8888888888888888, \"#fdca26\"], [1.0, \"#f0f921\"]], \"type\": \"heatmapgl\"}], \"histogram\": [{\"marker\": {\"colorbar\": {\"outlinewidth\": 0, \"ticks\": \"\"}}, \"type\": \"histogram\"}], \"histogram2d\": [{\"colorbar\": {\"outlinewidth\": 0, \"ticks\": \"\"}, \"colorscale\": [[0.0, \"#0d0887\"], [0.1111111111111111, \"#46039f\"], [0.2222222222222222, \"#7201a8\"], [0.3333333333333333, \"#9c179e\"], [0.4444444444444444, \"#bd3786\"], [0.5555555555555556, \"#d8576b\"], [0.6666666666666666, \"#ed7953\"], [0.7777777777777778, \"#fb9f3a\"], [0.8888888888888888, \"#fdca26\"], [1.0, \"#f0f921\"]], \"type\": \"histogram2d\"}], \"histogram2dcontour\": [{\"colorbar\": {\"outlinewidth\": 0, \"ticks\": \"\"}, \"colorscale\": [[0.0, \"#0d0887\"], [0.1111111111111111, \"#46039f\"], [0.2222222222222222, \"#7201a8\"], [0.3333333333333333, \"#9c179e\"], [0.4444444444444444, \"#bd3786\"], [0.5555555555555556, \"#d8576b\"], [0.6666666666666666, \"#ed7953\"], [0.7777777777777778, \"#fb9f3a\"], [0.8888888888888888, \"#fdca26\"], [1.0, \"#f0f921\"]], \"type\": \"histogram2dcontour\"}], \"mesh3d\": [{\"colorbar\": {\"outlinewidth\": 0, \"ticks\": \"\"}, \"type\": \"mesh3d\"}], \"parcoords\": [{\"line\": {\"colorbar\": {\"outlinewidth\": 0, \"ticks\": \"\"}}, \"type\": \"parcoords\"}], \"pie\": [{\"automargin\": true, \"type\": \"pie\"}], \"scatter\": [{\"marker\": {\"colorbar\": {\"outlinewidth\": 0, \"ticks\": \"\"}}, \"type\": \"scatter\"}], \"scatter3d\": [{\"line\": {\"colorbar\": {\"outlinewidth\": 0, \"ticks\": \"\"}}, \"marker\": {\"colorbar\": {\"outlinewidth\": 0, \"ticks\": \"\"}}, \"type\": \"scatter3d\"}], \"scattercarpet\": [{\"marker\": {\"colorbar\": {\"outlinewidth\": 0, \"ticks\": \"\"}}, \"type\": \"scattercarpet\"}], \"scattergeo\": [{\"marker\": {\"colorbar\": {\"outlinewidth\": 0, \"ticks\": \"\"}}, \"type\": \"scattergeo\"}], \"scattergl\": [{\"marker\": {\"colorbar\": {\"outlinewidth\": 0, \"ticks\": \"\"}}, \"type\": \"scattergl\"}], \"scattermapbox\": [{\"marker\": {\"colorbar\": {\"outlinewidth\": 0, \"ticks\": \"\"}}, \"type\": \"scattermapbox\"}], \"scatterpolar\": [{\"marker\": {\"colorbar\": {\"outlinewidth\": 0, \"ticks\": \"\"}}, \"type\": \"scatterpolar\"}], \"scatterpolargl\": [{\"marker\": {\"colorbar\": {\"outlinewidth\": 0, \"ticks\": \"\"}}, \"type\": \"scatterpolargl\"}], \"scatterternary\": [{\"marker\": {\"colorbar\": {\"outlinewidth\": 0, \"ticks\": \"\"}}, \"type\": \"scatterternary\"}], \"surface\": [{\"colorbar\": {\"outlinewidth\": 0, \"ticks\": \"\"}, \"colorscale\": [[0.0, \"#0d0887\"], [0.1111111111111111, \"#46039f\"], [0.2222222222222222, \"#7201a8\"], [0.3333333333333333, \"#9c179e\"], [0.4444444444444444, \"#bd3786\"], [0.5555555555555556, \"#d8576b\"], [0.6666666666666666, \"#ed7953\"], [0.7777777777777778, \"#fb9f3a\"], [0.8888888888888888, \"#fdca26\"], [1.0, \"#f0f921\"]], \"type\": \"surface\"}], \"table\": [{\"cells\": {\"fill\": {\"color\": \"#EBF0F8\"}, \"line\": {\"color\": \"white\"}}, \"header\": {\"fill\": {\"color\": \"#C8D4E3\"}, \"line\": {\"color\": \"white\"}}, \"type\": \"table\"}]}, \"layout\": {\"annotationdefaults\": {\"arrowcolor\": \"#2a3f5f\", \"arrowhead\": 0, \"arrowwidth\": 1}, \"autotypenumbers\": \"strict\", \"coloraxis\": {\"colorbar\": {\"outlinewidth\": 0, \"ticks\": \"\"}}, \"colorscale\": {\"diverging\": [[0, \"#8e0152\"], [0.1, \"#c51b7d\"], [0.2, \"#de77ae\"], [0.3, \"#f1b6da\"], [0.4, \"#fde0ef\"], [0.5, \"#f7f7f7\"], [0.6, \"#e6f5d0\"], [0.7, \"#b8e186\"], [0.8, \"#7fbc41\"], [0.9, \"#4d9221\"], [1, \"#276419\"]], \"sequential\": [[0.0, \"#0d0887\"], [0.1111111111111111, \"#46039f\"], [0.2222222222222222, \"#7201a8\"], [0.3333333333333333, \"#9c179e\"], [0.4444444444444444, \"#bd3786\"], [0.5555555555555556, \"#d8576b\"], [0.6666666666666666, \"#ed7953\"], [0.7777777777777778, \"#fb9f3a\"], [0.8888888888888888, \"#fdca26\"], [1.0, \"#f0f921\"]], \"sequentialminus\": [[0.0, \"#0d0887\"], [0.1111111111111111, \"#46039f\"], [0.2222222222222222, \"#7201a8\"], [0.3333333333333333, \"#9c179e\"], [0.4444444444444444, \"#bd3786\"], [0.5555555555555556, \"#d8576b\"], [0.6666666666666666, \"#ed7953\"], [0.7777777777777778, \"#fb9f3a\"], [0.8888888888888888, \"#fdca26\"], [1.0, \"#f0f921\"]]}, \"colorway\": [\"#636efa\", \"#EF553B\", \"#00cc96\", \"#ab63fa\", \"#FFA15A\", \"#19d3f3\", \"#FF6692\", \"#B6E880\", \"#FF97FF\", \"#FECB52\"], \"font\": {\"color\": \"#2a3f5f\"}, \"geo\": {\"bgcolor\": \"white\", \"lakecolor\": \"white\", \"landcolor\": \"#E5ECF6\", \"showlakes\": true, \"showland\": true, \"subunitcolor\": \"white\"}, \"hoverlabel\": {\"align\": \"left\"}, \"hovermode\": \"closest\", \"mapbox\": {\"style\": \"light\"}, \"paper_bgcolor\": \"white\", \"plot_bgcolor\": \"#E5ECF6\", \"polar\": {\"angularaxis\": {\"gridcolor\": \"white\", \"linecolor\": \"white\", \"ticks\": \"\"}, \"bgcolor\": \"#E5ECF6\", \"radialaxis\": {\"gridcolor\": \"white\", \"linecolor\": \"white\", \"ticks\": \"\"}}, \"scene\": {\"xaxis\": {\"backgroundcolor\": \"#E5ECF6\", \"gridcolor\": \"white\", \"gridwidth\": 2, \"linecolor\": \"white\", \"showbackground\": true, \"ticks\": \"\", \"zerolinecolor\": \"white\"}, \"yaxis\": {\"backgroundcolor\": \"#E5ECF6\", \"gridcolor\": \"white\", \"gridwidth\": 2, \"linecolor\": \"white\", \"showbackground\": true, \"ticks\": \"\", \"zerolinecolor\": \"white\"}, \"zaxis\": {\"backgroundcolor\": \"#E5ECF6\", \"gridcolor\": \"white\", \"gridwidth\": 2, \"linecolor\": \"white\", \"showbackground\": true, \"ticks\": \"\", \"zerolinecolor\": \"white\"}}, \"shapedefaults\": {\"line\": {\"color\": \"#2a3f5f\"}}, \"ternary\": {\"aaxis\": {\"gridcolor\": \"white\", \"linecolor\": \"white\", \"ticks\": \"\"}, \"baxis\": {\"gridcolor\": \"white\", \"linecolor\": \"white\", \"ticks\": \"\"}, \"bgcolor\": \"#E5ECF6\", \"caxis\": {\"gridcolor\": \"white\", \"linecolor\": \"white\", \"ticks\": \"\"}}, \"title\": {\"x\": 0.05}, \"xaxis\": {\"automargin\": true, \"gridcolor\": \"white\", \"linecolor\": \"white\", \"ticks\": \"\", \"title\": {\"standoff\": 15}, \"zerolinecolor\": \"white\", \"zerolinewidth\": 2}, \"yaxis\": {\"automargin\": true, \"gridcolor\": \"white\", \"linecolor\": \"white\", \"ticks\": \"\", \"title\": {\"standoff\": 15}, \"zerolinecolor\": \"white\", \"zerolinewidth\": 2}}}, \"title\": {\"text\": \"Daily COVID-19 Vaccinations - Summary per Region\"}, \"xaxis\": {\"anchor\": \"y\", \"domain\": [0.0, 1.0], \"title\": {\"text\": \"date\"}}, \"yaxis\": {\"anchor\": \"x\", \"domain\": [0.0, 1.0], \"title\": {\"text\": \"daily_vaccinations\"}}},                        {\"responsive\": true}                    ).then(function(){\n",
       "                            \n",
       "var gd = document.getElementById('e0bc6f61-95de-4f10-aba5-56e46283f085');\n",
       "var x = new MutationObserver(function (mutations, observer) {{\n",
       "        var display = window.getComputedStyle(gd).display;\n",
       "        if (!display || display === 'none') {{\n",
       "            console.log([gd, 'removed!']);\n",
       "            Plotly.purge(gd);\n",
       "            observer.disconnect();\n",
       "        }}\n",
       "}});\n",
       "\n",
       "// Listen for the removal of the full notebook cells\n",
       "var notebookContainer = gd.closest('#notebook-container');\n",
       "if (notebookContainer) {{\n",
       "    x.observe(notebookContainer, {childList: true});\n",
       "}}\n",
       "\n",
       "// Listen for the clearing of the current output cell\n",
       "var outputEl = gd.closest('.output');\n",
       "if (outputEl) {{\n",
       "    x.observe(outputEl, {childList: true});\n",
       "}}\n",
       "\n",
       "                        })                };                });            </script>        </div>"
      ]
     },
     "metadata": {},
     "output_type": "display_data"
    }
   ],
   "source": [
    "plot_daily_vaccination_data(data = regions_daily_df,  \n",
    "                            region_column = 'region',\n",
    "                            regions_list = all_regions,\n",
    "                            vaccination_metric = 'daily_vaccinations',\n",
    "                            plot_title = 'Daily COVID-19 Vaccinations - Summary per Region',\n",
    "                            min_date = '2020-12-13',\n",
    "                            max_date = '2021-02-13'\n",
    "                           )"
   ]
  },
  {
   "cell_type": "code",
   "execution_count": 40,
   "metadata": {
    "papermill": {
     "duration": 0.10013,
     "end_time": "2021-02-20T21:52:34.286801",
     "exception": false,
     "start_time": "2021-02-20T21:52:34.186671",
     "status": "completed"
    },
    "tags": []
   },
   "outputs": [
    {
     "name": "stdout",
     "output_type": "stream",
     "text": [
      "Maximum vaccinations in a country in a day - summary per region: \n",
      "================================================================\n",
      "\tNorthern Europe -> 0.4452 million vaccinations in United Kingdom on 2021-02-12\n",
      "\tEastern Asia -> 1.9162 million vaccinations in China on 2021-02-07\n",
      "\tEastern Europe -> 0.1036 million vaccinations in Russia on 2021-02-01\n",
      "\tNorthern America -> 1.7163 million vaccinations in United States on 2021-02-16\n",
      "\tWestern Asia -> 0.4356 million vaccinations in Turkey on 2021-02-18\n",
      "\tLatin America and the Caribbean -> 0.2627 million vaccinations in Brazil on 2021-02-19\n",
      "\tSouthern Europe -> 0.1385 million vaccinations in Serbia on 2021-02-19\n",
      "\tWestern Europe -> 0.1255 million vaccinations in Germany on 2021-02-16\n",
      "\tSub-Saharan Africa -> 0.0024 million vaccinations in Seychelles on 2021-02-13\n",
      "\tSouth-eastern Asia -> 0.0847 million vaccinations in Indonesia on 2021-02-15\n",
      "\tSouthern Asia -> 0.3925 million vaccinations in India on 2021-02-19\n",
      "\tNorthern Africa -> 0.1968 million vaccinations in Morocco on 2021-02-18\n"
     ]
    }
   ],
   "source": [
    "print('Maximum vaccinations in a country in a day - summary per region: \\n================================================================')\n",
    "for region in all_regions:\n",
    "    df = data[data.region == region].sort_values(by=['daily_vaccinations'], ascending=False).iloc[0]\n",
    "    print(f'\\t{df.region} -> {round(int(df.daily_vaccinations)/1000000,4)} million vaccinations in {df.country} on {df.date}')"
   ]
  },
  {
   "cell_type": "markdown",
   "metadata": {
    "papermill": {
     "duration": 0.073781,
     "end_time": "2021-02-20T21:52:34.430032",
     "exception": false,
     "start_time": "2021-02-20T21:52:34.356251",
     "status": "completed"
    },
    "tags": []
   },
   "source": [
    "<img src=\"https://cdn.pixabay.com/photo/2016/03/31/19/17/cartoon-1294877_960_720.png\" width=\"25px\" style=”float:left;margin:0;”> **Tip**:\n",
    "\n",
    "\n",
    "You can interact with the plot. You can visualize the progress by region in a specific continent by selecting the regions from the legend. Alternatively, only the regions of interest can be plotted."
   ]
  },
  {
   "cell_type": "code",
   "execution_count": 41,
   "metadata": {
    "papermill": {
     "duration": 0.079895,
     "end_time": "2021-02-20T21:52:34.581484",
     "exception": false,
     "start_time": "2021-02-20T21:52:34.501589",
     "status": "completed"
    },
    "tags": []
   },
   "outputs": [],
   "source": [
    "Europe = ['Northern Europe', 'Eastern Europe', 'Western Europe', 'Southern Europe']\n",
    "Asia = ['Eastern Asia', 'Western Asia', 'South-eastern Asia', 'Southern Asia']\n",
    "Africa = ['Sub-Saharan Africa', 'Northern Africa']\n",
    "Americas = ['Northern America', 'Latin America and the Caribbean']"
   ]
  },
  {
   "cell_type": "code",
   "execution_count": 42,
   "metadata": {
    "papermill": {
     "duration": 0.17357,
     "end_time": "2021-02-20T21:52:34.836974",
     "exception": false,
     "start_time": "2021-02-20T21:52:34.663404",
     "status": "completed"
    },
    "tags": []
   },
   "outputs": [
    {
     "data": {
      "application/vnd.plotly.v1+json": {
       "config": {
        "plotlyServerURL": "https://plot.ly"
       },
       "data": [
        {
         "hovertemplate": "region=Northern Europe<br>date=%{x}<br>daily_vaccinations=%{y}<extra></extra>",
         "legendgroup": "Northern Europe",
         "line": {
          "color": "#636efa",
          "dash": "solid"
         },
         "mode": "lines",
         "name": "Northern Europe",
         "orientation": "v",
         "showlegend": true,
         "type": "scatter",
         "x": [
          "2020-12-13",
          "2020-12-14",
          "2020-12-15",
          "2020-12-16",
          "2020-12-17",
          "2020-12-18",
          "2020-12-19",
          "2020-12-20",
          "2020-12-21",
          "2020-12-22",
          "2020-12-23",
          "2020-12-24",
          "2020-12-25",
          "2020-12-26",
          "2020-12-27",
          "2020-12-28",
          "2020-12-29",
          "2020-12-30",
          "2020-12-31",
          "2021-01-01",
          "2021-01-02",
          "2021-01-03",
          "2021-01-04",
          "2021-01-05",
          "2021-01-06",
          "2021-01-07",
          "2021-01-08",
          "2021-01-09",
          "2021-01-10",
          "2021-01-11",
          "2021-01-12",
          "2021-01-13",
          "2021-01-14",
          "2021-01-15",
          "2021-01-16",
          "2021-01-17",
          "2021-01-18",
          "2021-01-19",
          "2021-01-20",
          "2021-01-21",
          "2021-01-22",
          "2021-01-23",
          "2021-01-24",
          "2021-01-25",
          "2021-01-26",
          "2021-01-27",
          "2021-01-28",
          "2021-01-29",
          "2021-01-30",
          "2021-01-31",
          "2021-02-01",
          "2021-02-02",
          "2021-02-03",
          "2021-02-04",
          "2021-02-05",
          "2021-02-06",
          "2021-02-07",
          "2021-02-08",
          "2021-02-09",
          "2021-02-10",
          "2021-02-11",
          "2021-02-12",
          "2021-02-13"
         ],
         "xaxis": "x",
         "y": [
          0,
          167998,
          167998,
          167998,
          167998,
          167998,
          167998,
          167998,
          157441,
          146885,
          136327,
          125771,
          115214,
          104658,
          94101,
          103974,
          110833,
          115016,
          116970,
          119314,
          122093,
          124459,
          160399,
          198344,
          238187,
          278191,
          317987,
          354924,
          391833,
          389754,
          402353,
          434739,
          477575,
          528316,
          563792,
          565275,
          579474,
          616170,
          637413,
          662454,
          699026,
          755244,
          767854,
          787974,
          777152,
          763902,
          767005,
          773321,
          808280,
          837343,
          858237,
          877347,
          925128,
          949343,
          952227,
          934610,
          921066,
          921129,
          932499,
          926605,
          930300,
          944430,
          931612
         ],
         "yaxis": "y"
        },
        {
         "hovertemplate": "region=Eastern Europe<br>date=%{x}<br>daily_vaccinations=%{y}<extra></extra>",
         "legendgroup": "Eastern Europe",
         "line": {
          "color": "#EF553B",
          "dash": "solid"
         },
         "mode": "lines",
         "name": "Eastern Europe",
         "orientation": "v",
         "showlegend": true,
         "type": "scatter",
         "x": [
          "2020-12-15",
          "2020-12-16",
          "2020-12-17",
          "2020-12-18",
          "2020-12-19",
          "2020-12-20",
          "2020-12-21",
          "2020-12-22",
          "2020-12-23",
          "2020-12-24",
          "2020-12-25",
          "2020-12-26",
          "2020-12-27",
          "2020-12-28",
          "2020-12-29",
          "2020-12-30",
          "2020-12-31",
          "2021-01-01",
          "2021-01-02",
          "2021-01-03",
          "2021-01-04",
          "2021-01-05",
          "2021-01-06",
          "2021-01-07",
          "2021-01-08",
          "2021-01-09",
          "2021-01-10",
          "2021-01-11",
          "2021-01-12",
          "2021-01-13",
          "2021-01-14",
          "2021-01-15",
          "2021-01-16",
          "2021-01-17",
          "2021-01-18",
          "2021-01-19",
          "2021-01-20",
          "2021-01-21",
          "2021-01-22",
          "2021-01-23",
          "2021-01-24",
          "2021-01-25",
          "2021-01-26",
          "2021-01-27",
          "2021-01-28",
          "2021-01-29",
          "2021-01-30",
          "2021-01-31",
          "2021-02-01",
          "2021-02-02",
          "2021-02-03",
          "2021-02-04",
          "2021-02-05",
          "2021-02-06",
          "2021-02-07",
          "2021-02-08",
          "2021-02-09",
          "2021-02-10",
          "2021-02-11",
          "2021-02-12",
          "2021-02-13"
         ],
         "xaxis": "x",
         "y": [
          0,
          3357,
          3357,
          3357,
          3357,
          3357,
          3357,
          3357,
          12592,
          21827,
          31061,
          40296,
          49531,
          61049,
          77251,
          94258,
          91388,
          86889,
          84441,
          75288,
          74618,
          77119,
          75069,
          76342,
          75908,
          70322,
          72426,
          76591,
          80266,
          86271,
          100153,
          114775,
          129934,
          142705,
          154159,
          167406,
          181879,
          187183,
          192023,
          193832,
          195534,
          202378,
          216084,
          225558,
          233539,
          239196,
          241786,
          244923,
          242879,
          239206,
          239090,
          239982,
          238568,
          236238,
          233082,
          233781,
          227822,
          228683,
          128126,
          134314,
          138497
         ],
         "yaxis": "y"
        },
        {
         "hovertemplate": "region=Southern Europe<br>date=%{x}<br>daily_vaccinations=%{y}<extra></extra>",
         "legendgroup": "Southern Europe",
         "line": {
          "color": "#00cc96",
          "dash": "solid"
         },
         "mode": "lines",
         "name": "Southern Europe",
         "orientation": "v",
         "showlegend": true,
         "type": "scatter",
         "x": [
          "2020-12-27",
          "2020-12-28",
          "2020-12-29",
          "2020-12-30",
          "2020-12-31",
          "2021-01-01",
          "2021-01-02",
          "2021-01-03",
          "2021-01-04",
          "2021-01-05",
          "2021-01-06",
          "2021-01-07",
          "2021-01-08",
          "2021-01-09",
          "2021-01-10",
          "2021-01-11",
          "2021-01-12",
          "2021-01-13",
          "2021-01-14",
          "2021-01-15",
          "2021-01-16",
          "2021-01-17",
          "2021-01-18",
          "2021-01-19",
          "2021-01-20",
          "2021-01-21",
          "2021-01-22",
          "2021-01-23",
          "2021-01-24",
          "2021-01-25",
          "2021-01-26",
          "2021-01-27",
          "2021-01-28",
          "2021-01-29",
          "2021-01-30",
          "2021-01-31",
          "2021-02-01",
          "2021-02-02",
          "2021-02-03",
          "2021-02-04",
          "2021-02-05",
          "2021-02-06",
          "2021-02-07",
          "2021-02-08",
          "2021-02-09",
          "2021-02-10",
          "2021-02-11",
          "2021-02-12",
          "2021-02-13"
         ],
         "xaxis": "x",
         "y": [
          0,
          2520,
          14783,
          14872,
          18666,
          17359,
          21274,
          23686,
          33844,
          101289,
          99182,
          108318,
          131566,
          140145,
          143911,
          146600,
          150941,
          164005,
          171744,
          172459,
          171050,
          169454,
          166768,
          159997,
          148955,
          146271,
          140386,
          143339,
          149322,
          159589,
          174914,
          183542,
          192611,
          200350,
          202704,
          202193,
          202278,
          200760,
          209318,
          214592,
          210973,
          206890,
          201976,
          200721,
          194597,
          190653,
          198304,
          211418,
          224047
         ],
         "yaxis": "y"
        },
        {
         "hovertemplate": "region=Western Europe<br>date=%{x}<br>daily_vaccinations=%{y}<extra></extra>",
         "legendgroup": "Western Europe",
         "line": {
          "color": "#ab63fa",
          "dash": "solid"
         },
         "mode": "lines",
         "name": "Western Europe",
         "orientation": "v",
         "showlegend": true,
         "type": "scatter",
         "x": [
          "2020-12-27",
          "2020-12-28",
          "2020-12-29",
          "2020-12-30",
          "2020-12-31",
          "2021-01-01",
          "2021-01-02",
          "2021-01-03",
          "2021-01-04",
          "2021-01-05",
          "2021-01-06",
          "2021-01-07",
          "2021-01-08",
          "2021-01-09",
          "2021-01-10",
          "2021-01-11",
          "2021-01-12",
          "2021-01-13",
          "2021-01-14",
          "2021-01-15",
          "2021-01-16",
          "2021-01-17",
          "2021-01-18",
          "2021-01-19",
          "2021-01-20",
          "2021-01-21",
          "2021-01-22",
          "2021-01-23",
          "2021-01-24",
          "2021-01-25",
          "2021-01-26",
          "2021-01-27",
          "2021-01-28",
          "2021-01-29",
          "2021-01-30",
          "2021-01-31",
          "2021-02-01",
          "2021-02-02",
          "2021-02-03",
          "2021-02-04",
          "2021-02-05",
          "2021-02-06",
          "2021-02-07",
          "2021-02-08",
          "2021-02-09",
          "2021-02-10",
          "2021-02-11",
          "2021-02-12",
          "2021-02-13"
         ],
         "xaxis": "x",
         "y": [
          0,
          18786,
          30725,
          40046,
          39847,
          36835,
          39388,
          37466,
          41918,
          44075,
          46133,
          53883,
          64945,
          67619,
          69506,
          77326,
          90737,
          105589,
          126422,
          139556,
          140745,
          142945,
          152110,
          164654,
          182651,
          193056,
          202869,
          210309,
          212595,
          224577,
          222883,
          236785,
          225458,
          218210,
          204598,
          220466,
          225402,
          234528,
          241786,
          252440,
          262127,
          276025,
          264705,
          265303,
          270934,
          280093,
          289441,
          300316,
          302147
         ],
         "yaxis": "y"
        }
       ],
       "layout": {
        "legend": {
         "title": {
          "text": "region"
         },
         "tracegroupgap": 0
        },
        "template": {
         "data": {
          "bar": [
           {
            "error_x": {
             "color": "#2a3f5f"
            },
            "error_y": {
             "color": "#2a3f5f"
            },
            "marker": {
             "line": {
              "color": "#E5ECF6",
              "width": 0.5
             }
            },
            "type": "bar"
           }
          ],
          "barpolar": [
           {
            "marker": {
             "line": {
              "color": "#E5ECF6",
              "width": 0.5
             }
            },
            "type": "barpolar"
           }
          ],
          "carpet": [
           {
            "aaxis": {
             "endlinecolor": "#2a3f5f",
             "gridcolor": "white",
             "linecolor": "white",
             "minorgridcolor": "white",
             "startlinecolor": "#2a3f5f"
            },
            "baxis": {
             "endlinecolor": "#2a3f5f",
             "gridcolor": "white",
             "linecolor": "white",
             "minorgridcolor": "white",
             "startlinecolor": "#2a3f5f"
            },
            "type": "carpet"
           }
          ],
          "choropleth": [
           {
            "colorbar": {
             "outlinewidth": 0,
             "ticks": ""
            },
            "type": "choropleth"
           }
          ],
          "contour": [
           {
            "colorbar": {
             "outlinewidth": 0,
             "ticks": ""
            },
            "colorscale": [
             [
              0,
              "#0d0887"
             ],
             [
              0.1111111111111111,
              "#46039f"
             ],
             [
              0.2222222222222222,
              "#7201a8"
             ],
             [
              0.3333333333333333,
              "#9c179e"
             ],
             [
              0.4444444444444444,
              "#bd3786"
             ],
             [
              0.5555555555555556,
              "#d8576b"
             ],
             [
              0.6666666666666666,
              "#ed7953"
             ],
             [
              0.7777777777777778,
              "#fb9f3a"
             ],
             [
              0.8888888888888888,
              "#fdca26"
             ],
             [
              1,
              "#f0f921"
             ]
            ],
            "type": "contour"
           }
          ],
          "contourcarpet": [
           {
            "colorbar": {
             "outlinewidth": 0,
             "ticks": ""
            },
            "type": "contourcarpet"
           }
          ],
          "heatmap": [
           {
            "colorbar": {
             "outlinewidth": 0,
             "ticks": ""
            },
            "colorscale": [
             [
              0,
              "#0d0887"
             ],
             [
              0.1111111111111111,
              "#46039f"
             ],
             [
              0.2222222222222222,
              "#7201a8"
             ],
             [
              0.3333333333333333,
              "#9c179e"
             ],
             [
              0.4444444444444444,
              "#bd3786"
             ],
             [
              0.5555555555555556,
              "#d8576b"
             ],
             [
              0.6666666666666666,
              "#ed7953"
             ],
             [
              0.7777777777777778,
              "#fb9f3a"
             ],
             [
              0.8888888888888888,
              "#fdca26"
             ],
             [
              1,
              "#f0f921"
             ]
            ],
            "type": "heatmap"
           }
          ],
          "heatmapgl": [
           {
            "colorbar": {
             "outlinewidth": 0,
             "ticks": ""
            },
            "colorscale": [
             [
              0,
              "#0d0887"
             ],
             [
              0.1111111111111111,
              "#46039f"
             ],
             [
              0.2222222222222222,
              "#7201a8"
             ],
             [
              0.3333333333333333,
              "#9c179e"
             ],
             [
              0.4444444444444444,
              "#bd3786"
             ],
             [
              0.5555555555555556,
              "#d8576b"
             ],
             [
              0.6666666666666666,
              "#ed7953"
             ],
             [
              0.7777777777777778,
              "#fb9f3a"
             ],
             [
              0.8888888888888888,
              "#fdca26"
             ],
             [
              1,
              "#f0f921"
             ]
            ],
            "type": "heatmapgl"
           }
          ],
          "histogram": [
           {
            "marker": {
             "colorbar": {
              "outlinewidth": 0,
              "ticks": ""
             }
            },
            "type": "histogram"
           }
          ],
          "histogram2d": [
           {
            "colorbar": {
             "outlinewidth": 0,
             "ticks": ""
            },
            "colorscale": [
             [
              0,
              "#0d0887"
             ],
             [
              0.1111111111111111,
              "#46039f"
             ],
             [
              0.2222222222222222,
              "#7201a8"
             ],
             [
              0.3333333333333333,
              "#9c179e"
             ],
             [
              0.4444444444444444,
              "#bd3786"
             ],
             [
              0.5555555555555556,
              "#d8576b"
             ],
             [
              0.6666666666666666,
              "#ed7953"
             ],
             [
              0.7777777777777778,
              "#fb9f3a"
             ],
             [
              0.8888888888888888,
              "#fdca26"
             ],
             [
              1,
              "#f0f921"
             ]
            ],
            "type": "histogram2d"
           }
          ],
          "histogram2dcontour": [
           {
            "colorbar": {
             "outlinewidth": 0,
             "ticks": ""
            },
            "colorscale": [
             [
              0,
              "#0d0887"
             ],
             [
              0.1111111111111111,
              "#46039f"
             ],
             [
              0.2222222222222222,
              "#7201a8"
             ],
             [
              0.3333333333333333,
              "#9c179e"
             ],
             [
              0.4444444444444444,
              "#bd3786"
             ],
             [
              0.5555555555555556,
              "#d8576b"
             ],
             [
              0.6666666666666666,
              "#ed7953"
             ],
             [
              0.7777777777777778,
              "#fb9f3a"
             ],
             [
              0.8888888888888888,
              "#fdca26"
             ],
             [
              1,
              "#f0f921"
             ]
            ],
            "type": "histogram2dcontour"
           }
          ],
          "mesh3d": [
           {
            "colorbar": {
             "outlinewidth": 0,
             "ticks": ""
            },
            "type": "mesh3d"
           }
          ],
          "parcoords": [
           {
            "line": {
             "colorbar": {
              "outlinewidth": 0,
              "ticks": ""
             }
            },
            "type": "parcoords"
           }
          ],
          "pie": [
           {
            "automargin": true,
            "type": "pie"
           }
          ],
          "scatter": [
           {
            "marker": {
             "colorbar": {
              "outlinewidth": 0,
              "ticks": ""
             }
            },
            "type": "scatter"
           }
          ],
          "scatter3d": [
           {
            "line": {
             "colorbar": {
              "outlinewidth": 0,
              "ticks": ""
             }
            },
            "marker": {
             "colorbar": {
              "outlinewidth": 0,
              "ticks": ""
             }
            },
            "type": "scatter3d"
           }
          ],
          "scattercarpet": [
           {
            "marker": {
             "colorbar": {
              "outlinewidth": 0,
              "ticks": ""
             }
            },
            "type": "scattercarpet"
           }
          ],
          "scattergeo": [
           {
            "marker": {
             "colorbar": {
              "outlinewidth": 0,
              "ticks": ""
             }
            },
            "type": "scattergeo"
           }
          ],
          "scattergl": [
           {
            "marker": {
             "colorbar": {
              "outlinewidth": 0,
              "ticks": ""
             }
            },
            "type": "scattergl"
           }
          ],
          "scattermapbox": [
           {
            "marker": {
             "colorbar": {
              "outlinewidth": 0,
              "ticks": ""
             }
            },
            "type": "scattermapbox"
           }
          ],
          "scatterpolar": [
           {
            "marker": {
             "colorbar": {
              "outlinewidth": 0,
              "ticks": ""
             }
            },
            "type": "scatterpolar"
           }
          ],
          "scatterpolargl": [
           {
            "marker": {
             "colorbar": {
              "outlinewidth": 0,
              "ticks": ""
             }
            },
            "type": "scatterpolargl"
           }
          ],
          "scatterternary": [
           {
            "marker": {
             "colorbar": {
              "outlinewidth": 0,
              "ticks": ""
             }
            },
            "type": "scatterternary"
           }
          ],
          "surface": [
           {
            "colorbar": {
             "outlinewidth": 0,
             "ticks": ""
            },
            "colorscale": [
             [
              0,
              "#0d0887"
             ],
             [
              0.1111111111111111,
              "#46039f"
             ],
             [
              0.2222222222222222,
              "#7201a8"
             ],
             [
              0.3333333333333333,
              "#9c179e"
             ],
             [
              0.4444444444444444,
              "#bd3786"
             ],
             [
              0.5555555555555556,
              "#d8576b"
             ],
             [
              0.6666666666666666,
              "#ed7953"
             ],
             [
              0.7777777777777778,
              "#fb9f3a"
             ],
             [
              0.8888888888888888,
              "#fdca26"
             ],
             [
              1,
              "#f0f921"
             ]
            ],
            "type": "surface"
           }
          ],
          "table": [
           {
            "cells": {
             "fill": {
              "color": "#EBF0F8"
             },
             "line": {
              "color": "white"
             }
            },
            "header": {
             "fill": {
              "color": "#C8D4E3"
             },
             "line": {
              "color": "white"
             }
            },
            "type": "table"
           }
          ]
         },
         "layout": {
          "annotationdefaults": {
           "arrowcolor": "#2a3f5f",
           "arrowhead": 0,
           "arrowwidth": 1
          },
          "autotypenumbers": "strict",
          "coloraxis": {
           "colorbar": {
            "outlinewidth": 0,
            "ticks": ""
           }
          },
          "colorscale": {
           "diverging": [
            [
             0,
             "#8e0152"
            ],
            [
             0.1,
             "#c51b7d"
            ],
            [
             0.2,
             "#de77ae"
            ],
            [
             0.3,
             "#f1b6da"
            ],
            [
             0.4,
             "#fde0ef"
            ],
            [
             0.5,
             "#f7f7f7"
            ],
            [
             0.6,
             "#e6f5d0"
            ],
            [
             0.7,
             "#b8e186"
            ],
            [
             0.8,
             "#7fbc41"
            ],
            [
             0.9,
             "#4d9221"
            ],
            [
             1,
             "#276419"
            ]
           ],
           "sequential": [
            [
             0,
             "#0d0887"
            ],
            [
             0.1111111111111111,
             "#46039f"
            ],
            [
             0.2222222222222222,
             "#7201a8"
            ],
            [
             0.3333333333333333,
             "#9c179e"
            ],
            [
             0.4444444444444444,
             "#bd3786"
            ],
            [
             0.5555555555555556,
             "#d8576b"
            ],
            [
             0.6666666666666666,
             "#ed7953"
            ],
            [
             0.7777777777777778,
             "#fb9f3a"
            ],
            [
             0.8888888888888888,
             "#fdca26"
            ],
            [
             1,
             "#f0f921"
            ]
           ],
           "sequentialminus": [
            [
             0,
             "#0d0887"
            ],
            [
             0.1111111111111111,
             "#46039f"
            ],
            [
             0.2222222222222222,
             "#7201a8"
            ],
            [
             0.3333333333333333,
             "#9c179e"
            ],
            [
             0.4444444444444444,
             "#bd3786"
            ],
            [
             0.5555555555555556,
             "#d8576b"
            ],
            [
             0.6666666666666666,
             "#ed7953"
            ],
            [
             0.7777777777777778,
             "#fb9f3a"
            ],
            [
             0.8888888888888888,
             "#fdca26"
            ],
            [
             1,
             "#f0f921"
            ]
           ]
          },
          "colorway": [
           "#636efa",
           "#EF553B",
           "#00cc96",
           "#ab63fa",
           "#FFA15A",
           "#19d3f3",
           "#FF6692",
           "#B6E880",
           "#FF97FF",
           "#FECB52"
          ],
          "font": {
           "color": "#2a3f5f"
          },
          "geo": {
           "bgcolor": "white",
           "lakecolor": "white",
           "landcolor": "#E5ECF6",
           "showlakes": true,
           "showland": true,
           "subunitcolor": "white"
          },
          "hoverlabel": {
           "align": "left"
          },
          "hovermode": "closest",
          "mapbox": {
           "style": "light"
          },
          "paper_bgcolor": "white",
          "plot_bgcolor": "#E5ECF6",
          "polar": {
           "angularaxis": {
            "gridcolor": "white",
            "linecolor": "white",
            "ticks": ""
           },
           "bgcolor": "#E5ECF6",
           "radialaxis": {
            "gridcolor": "white",
            "linecolor": "white",
            "ticks": ""
           }
          },
          "scene": {
           "xaxis": {
            "backgroundcolor": "#E5ECF6",
            "gridcolor": "white",
            "gridwidth": 2,
            "linecolor": "white",
            "showbackground": true,
            "ticks": "",
            "zerolinecolor": "white"
           },
           "yaxis": {
            "backgroundcolor": "#E5ECF6",
            "gridcolor": "white",
            "gridwidth": 2,
            "linecolor": "white",
            "showbackground": true,
            "ticks": "",
            "zerolinecolor": "white"
           },
           "zaxis": {
            "backgroundcolor": "#E5ECF6",
            "gridcolor": "white",
            "gridwidth": 2,
            "linecolor": "white",
            "showbackground": true,
            "ticks": "",
            "zerolinecolor": "white"
           }
          },
          "shapedefaults": {
           "line": {
            "color": "#2a3f5f"
           }
          },
          "ternary": {
           "aaxis": {
            "gridcolor": "white",
            "linecolor": "white",
            "ticks": ""
           },
           "baxis": {
            "gridcolor": "white",
            "linecolor": "white",
            "ticks": ""
           },
           "bgcolor": "#E5ECF6",
           "caxis": {
            "gridcolor": "white",
            "linecolor": "white",
            "ticks": ""
           }
          },
          "title": {
           "x": 0.05
          },
          "xaxis": {
           "automargin": true,
           "gridcolor": "white",
           "linecolor": "white",
           "ticks": "",
           "title": {
            "standoff": 15
           },
           "zerolinecolor": "white",
           "zerolinewidth": 2
          },
          "yaxis": {
           "automargin": true,
           "gridcolor": "white",
           "linecolor": "white",
           "ticks": "",
           "title": {
            "standoff": 15
           },
           "zerolinecolor": "white",
           "zerolinewidth": 2
          }
         }
        },
        "title": {
         "text": "Daily COVID-19 Vaccinations - Summary per Region in Europe"
        },
        "xaxis": {
         "anchor": "y",
         "domain": [
          0,
          1
         ],
         "title": {
          "text": "date"
         }
        },
        "yaxis": {
         "anchor": "x",
         "domain": [
          0,
          1
         ],
         "title": {
          "text": "daily_vaccinations"
         }
        }
       }
      },
      "text/html": [
       "<div>                            <div id=\"8f731fbd-539b-4c28-aa94-0b7990320ebd\" class=\"plotly-graph-div\" style=\"height:525px; width:100%;\"></div>            <script type=\"text/javascript\">                require([\"plotly\"], function(Plotly) {                    window.PLOTLYENV=window.PLOTLYENV || {};                                    if (document.getElementById(\"8f731fbd-539b-4c28-aa94-0b7990320ebd\")) {                    Plotly.newPlot(                        \"8f731fbd-539b-4c28-aa94-0b7990320ebd\",                        [{\"hovertemplate\": \"region=Northern Europe<br>date=%{x}<br>daily_vaccinations=%{y}<extra></extra>\", \"legendgroup\": \"Northern Europe\", \"line\": {\"color\": \"#636efa\", \"dash\": \"solid\"}, \"mode\": \"lines\", \"name\": \"Northern Europe\", \"orientation\": \"v\", \"showlegend\": true, \"type\": \"scatter\", \"x\": [\"2020-12-13\", \"2020-12-14\", \"2020-12-15\", \"2020-12-16\", \"2020-12-17\", \"2020-12-18\", \"2020-12-19\", \"2020-12-20\", \"2020-12-21\", \"2020-12-22\", \"2020-12-23\", \"2020-12-24\", \"2020-12-25\", \"2020-12-26\", \"2020-12-27\", \"2020-12-28\", \"2020-12-29\", \"2020-12-30\", \"2020-12-31\", \"2021-01-01\", \"2021-01-02\", \"2021-01-03\", \"2021-01-04\", \"2021-01-05\", \"2021-01-06\", \"2021-01-07\", \"2021-01-08\", \"2021-01-09\", \"2021-01-10\", \"2021-01-11\", \"2021-01-12\", \"2021-01-13\", \"2021-01-14\", \"2021-01-15\", \"2021-01-16\", \"2021-01-17\", \"2021-01-18\", \"2021-01-19\", \"2021-01-20\", \"2021-01-21\", \"2021-01-22\", \"2021-01-23\", \"2021-01-24\", \"2021-01-25\", \"2021-01-26\", \"2021-01-27\", \"2021-01-28\", \"2021-01-29\", \"2021-01-30\", \"2021-01-31\", \"2021-02-01\", \"2021-02-02\", \"2021-02-03\", \"2021-02-04\", \"2021-02-05\", \"2021-02-06\", \"2021-02-07\", \"2021-02-08\", \"2021-02-09\", \"2021-02-10\", \"2021-02-11\", \"2021-02-12\", \"2021-02-13\"], \"xaxis\": \"x\", \"y\": [0.0, 167998.0, 167998.0, 167998.0, 167998.0, 167998.0, 167998.0, 167998.0, 157441.0, 146885.0, 136327.0, 125771.0, 115214.0, 104658.0, 94101.0, 103974.0, 110833.0, 115016.0, 116970.0, 119314.0, 122093.0, 124459.0, 160399.0, 198344.0, 238187.0, 278191.0, 317987.0, 354924.0, 391833.0, 389754.0, 402353.0, 434739.0, 477575.0, 528316.0, 563792.0, 565275.0, 579474.0, 616170.0, 637413.0, 662454.0, 699026.0, 755244.0, 767854.0, 787974.0, 777152.0, 763902.0, 767005.0, 773321.0, 808280.0, 837343.0, 858237.0, 877347.0, 925128.0, 949343.0, 952227.0, 934610.0, 921066.0, 921129.0, 932499.0, 926605.0, 930300.0, 944430.0, 931612.0], \"yaxis\": \"y\"}, {\"hovertemplate\": \"region=Eastern Europe<br>date=%{x}<br>daily_vaccinations=%{y}<extra></extra>\", \"legendgroup\": \"Eastern Europe\", \"line\": {\"color\": \"#EF553B\", \"dash\": \"solid\"}, \"mode\": \"lines\", \"name\": \"Eastern Europe\", \"orientation\": \"v\", \"showlegend\": true, \"type\": \"scatter\", \"x\": [\"2020-12-15\", \"2020-12-16\", \"2020-12-17\", \"2020-12-18\", \"2020-12-19\", \"2020-12-20\", \"2020-12-21\", \"2020-12-22\", \"2020-12-23\", \"2020-12-24\", \"2020-12-25\", \"2020-12-26\", \"2020-12-27\", \"2020-12-28\", \"2020-12-29\", \"2020-12-30\", \"2020-12-31\", \"2021-01-01\", \"2021-01-02\", \"2021-01-03\", \"2021-01-04\", \"2021-01-05\", \"2021-01-06\", \"2021-01-07\", \"2021-01-08\", \"2021-01-09\", \"2021-01-10\", \"2021-01-11\", \"2021-01-12\", \"2021-01-13\", \"2021-01-14\", \"2021-01-15\", \"2021-01-16\", \"2021-01-17\", \"2021-01-18\", \"2021-01-19\", \"2021-01-20\", \"2021-01-21\", \"2021-01-22\", \"2021-01-23\", \"2021-01-24\", \"2021-01-25\", \"2021-01-26\", \"2021-01-27\", \"2021-01-28\", \"2021-01-29\", \"2021-01-30\", \"2021-01-31\", \"2021-02-01\", \"2021-02-02\", \"2021-02-03\", \"2021-02-04\", \"2021-02-05\", \"2021-02-06\", \"2021-02-07\", \"2021-02-08\", \"2021-02-09\", \"2021-02-10\", \"2021-02-11\", \"2021-02-12\", \"2021-02-13\"], \"xaxis\": \"x\", \"y\": [0.0, 3357.0, 3357.0, 3357.0, 3357.0, 3357.0, 3357.0, 3357.0, 12592.0, 21827.0, 31061.0, 40296.0, 49531.0, 61049.0, 77251.0, 94258.0, 91388.0, 86889.0, 84441.0, 75288.0, 74618.0, 77119.0, 75069.0, 76342.0, 75908.0, 70322.0, 72426.0, 76591.0, 80266.0, 86271.0, 100153.0, 114775.0, 129934.0, 142705.0, 154159.0, 167406.0, 181879.0, 187183.0, 192023.0, 193832.0, 195534.0, 202378.0, 216084.0, 225558.0, 233539.0, 239196.0, 241786.0, 244923.0, 242879.0, 239206.0, 239090.0, 239982.0, 238568.0, 236238.0, 233082.0, 233781.0, 227822.0, 228683.0, 128126.0, 134314.0, 138497.0], \"yaxis\": \"y\"}, {\"hovertemplate\": \"region=Southern Europe<br>date=%{x}<br>daily_vaccinations=%{y}<extra></extra>\", \"legendgroup\": \"Southern Europe\", \"line\": {\"color\": \"#00cc96\", \"dash\": \"solid\"}, \"mode\": \"lines\", \"name\": \"Southern Europe\", \"orientation\": \"v\", \"showlegend\": true, \"type\": \"scatter\", \"x\": [\"2020-12-27\", \"2020-12-28\", \"2020-12-29\", \"2020-12-30\", \"2020-12-31\", \"2021-01-01\", \"2021-01-02\", \"2021-01-03\", \"2021-01-04\", \"2021-01-05\", \"2021-01-06\", \"2021-01-07\", \"2021-01-08\", \"2021-01-09\", \"2021-01-10\", \"2021-01-11\", \"2021-01-12\", \"2021-01-13\", \"2021-01-14\", \"2021-01-15\", \"2021-01-16\", \"2021-01-17\", \"2021-01-18\", \"2021-01-19\", \"2021-01-20\", \"2021-01-21\", \"2021-01-22\", \"2021-01-23\", \"2021-01-24\", \"2021-01-25\", \"2021-01-26\", \"2021-01-27\", \"2021-01-28\", \"2021-01-29\", \"2021-01-30\", \"2021-01-31\", \"2021-02-01\", \"2021-02-02\", \"2021-02-03\", \"2021-02-04\", \"2021-02-05\", \"2021-02-06\", \"2021-02-07\", \"2021-02-08\", \"2021-02-09\", \"2021-02-10\", \"2021-02-11\", \"2021-02-12\", \"2021-02-13\"], \"xaxis\": \"x\", \"y\": [0.0, 2520.0, 14783.0, 14872.0, 18666.0, 17359.0, 21274.0, 23686.0, 33844.0, 101289.0, 99182.0, 108318.0, 131566.0, 140145.0, 143911.0, 146600.0, 150941.0, 164005.0, 171744.0, 172459.0, 171050.0, 169454.0, 166768.0, 159997.0, 148955.0, 146271.0, 140386.0, 143339.0, 149322.0, 159589.0, 174914.0, 183542.0, 192611.0, 200350.0, 202704.0, 202193.0, 202278.0, 200760.0, 209318.0, 214592.0, 210973.0, 206890.0, 201976.0, 200721.0, 194597.0, 190653.0, 198304.0, 211418.0, 224047.0], \"yaxis\": \"y\"}, {\"hovertemplate\": \"region=Western Europe<br>date=%{x}<br>daily_vaccinations=%{y}<extra></extra>\", \"legendgroup\": \"Western Europe\", \"line\": {\"color\": \"#ab63fa\", \"dash\": \"solid\"}, \"mode\": \"lines\", \"name\": \"Western Europe\", \"orientation\": \"v\", \"showlegend\": true, \"type\": \"scatter\", \"x\": [\"2020-12-27\", \"2020-12-28\", \"2020-12-29\", \"2020-12-30\", \"2020-12-31\", \"2021-01-01\", \"2021-01-02\", \"2021-01-03\", \"2021-01-04\", \"2021-01-05\", \"2021-01-06\", \"2021-01-07\", \"2021-01-08\", \"2021-01-09\", \"2021-01-10\", \"2021-01-11\", \"2021-01-12\", \"2021-01-13\", \"2021-01-14\", \"2021-01-15\", \"2021-01-16\", \"2021-01-17\", \"2021-01-18\", \"2021-01-19\", \"2021-01-20\", \"2021-01-21\", \"2021-01-22\", \"2021-01-23\", \"2021-01-24\", \"2021-01-25\", \"2021-01-26\", \"2021-01-27\", \"2021-01-28\", \"2021-01-29\", \"2021-01-30\", \"2021-01-31\", \"2021-02-01\", \"2021-02-02\", \"2021-02-03\", \"2021-02-04\", \"2021-02-05\", \"2021-02-06\", \"2021-02-07\", \"2021-02-08\", \"2021-02-09\", \"2021-02-10\", \"2021-02-11\", \"2021-02-12\", \"2021-02-13\"], \"xaxis\": \"x\", \"y\": [0.0, 18786.0, 30725.0, 40046.0, 39847.0, 36835.0, 39388.0, 37466.0, 41918.0, 44075.0, 46133.0, 53883.0, 64945.0, 67619.0, 69506.0, 77326.0, 90737.0, 105589.0, 126422.0, 139556.0, 140745.0, 142945.0, 152110.0, 164654.0, 182651.0, 193056.0, 202869.0, 210309.0, 212595.0, 224577.0, 222883.0, 236785.0, 225458.0, 218210.0, 204598.0, 220466.0, 225402.0, 234528.0, 241786.0, 252440.0, 262127.0, 276025.0, 264705.0, 265303.0, 270934.0, 280093.0, 289441.0, 300316.0, 302147.0], \"yaxis\": \"y\"}],                        {\"legend\": {\"title\": {\"text\": \"region\"}, \"tracegroupgap\": 0}, \"template\": {\"data\": {\"bar\": [{\"error_x\": {\"color\": \"#2a3f5f\"}, \"error_y\": {\"color\": \"#2a3f5f\"}, \"marker\": {\"line\": {\"color\": \"#E5ECF6\", \"width\": 0.5}}, \"type\": \"bar\"}], \"barpolar\": [{\"marker\": {\"line\": {\"color\": \"#E5ECF6\", \"width\": 0.5}}, \"type\": \"barpolar\"}], \"carpet\": [{\"aaxis\": {\"endlinecolor\": \"#2a3f5f\", \"gridcolor\": \"white\", \"linecolor\": \"white\", \"minorgridcolor\": \"white\", \"startlinecolor\": \"#2a3f5f\"}, \"baxis\": {\"endlinecolor\": \"#2a3f5f\", \"gridcolor\": \"white\", \"linecolor\": \"white\", \"minorgridcolor\": \"white\", \"startlinecolor\": \"#2a3f5f\"}, \"type\": \"carpet\"}], \"choropleth\": [{\"colorbar\": {\"outlinewidth\": 0, \"ticks\": \"\"}, \"type\": \"choropleth\"}], \"contour\": [{\"colorbar\": {\"outlinewidth\": 0, \"ticks\": \"\"}, \"colorscale\": [[0.0, \"#0d0887\"], [0.1111111111111111, \"#46039f\"], [0.2222222222222222, \"#7201a8\"], [0.3333333333333333, \"#9c179e\"], [0.4444444444444444, \"#bd3786\"], [0.5555555555555556, \"#d8576b\"], [0.6666666666666666, \"#ed7953\"], [0.7777777777777778, \"#fb9f3a\"], [0.8888888888888888, \"#fdca26\"], [1.0, \"#f0f921\"]], \"type\": \"contour\"}], \"contourcarpet\": [{\"colorbar\": {\"outlinewidth\": 0, \"ticks\": \"\"}, \"type\": \"contourcarpet\"}], \"heatmap\": [{\"colorbar\": {\"outlinewidth\": 0, \"ticks\": \"\"}, \"colorscale\": [[0.0, \"#0d0887\"], [0.1111111111111111, \"#46039f\"], [0.2222222222222222, \"#7201a8\"], [0.3333333333333333, \"#9c179e\"], [0.4444444444444444, \"#bd3786\"], [0.5555555555555556, \"#d8576b\"], [0.6666666666666666, \"#ed7953\"], [0.7777777777777778, \"#fb9f3a\"], [0.8888888888888888, \"#fdca26\"], [1.0, \"#f0f921\"]], \"type\": \"heatmap\"}], \"heatmapgl\": [{\"colorbar\": {\"outlinewidth\": 0, \"ticks\": \"\"}, \"colorscale\": [[0.0, \"#0d0887\"], [0.1111111111111111, \"#46039f\"], [0.2222222222222222, \"#7201a8\"], [0.3333333333333333, \"#9c179e\"], [0.4444444444444444, \"#bd3786\"], [0.5555555555555556, \"#d8576b\"], [0.6666666666666666, \"#ed7953\"], [0.7777777777777778, \"#fb9f3a\"], [0.8888888888888888, \"#fdca26\"], [1.0, \"#f0f921\"]], \"type\": \"heatmapgl\"}], \"histogram\": [{\"marker\": {\"colorbar\": {\"outlinewidth\": 0, \"ticks\": \"\"}}, \"type\": \"histogram\"}], \"histogram2d\": [{\"colorbar\": {\"outlinewidth\": 0, \"ticks\": \"\"}, \"colorscale\": [[0.0, \"#0d0887\"], [0.1111111111111111, \"#46039f\"], [0.2222222222222222, \"#7201a8\"], [0.3333333333333333, \"#9c179e\"], [0.4444444444444444, \"#bd3786\"], [0.5555555555555556, \"#d8576b\"], [0.6666666666666666, \"#ed7953\"], [0.7777777777777778, \"#fb9f3a\"], [0.8888888888888888, \"#fdca26\"], [1.0, \"#f0f921\"]], \"type\": \"histogram2d\"}], \"histogram2dcontour\": [{\"colorbar\": {\"outlinewidth\": 0, \"ticks\": \"\"}, \"colorscale\": [[0.0, \"#0d0887\"], [0.1111111111111111, \"#46039f\"], [0.2222222222222222, \"#7201a8\"], [0.3333333333333333, \"#9c179e\"], [0.4444444444444444, \"#bd3786\"], [0.5555555555555556, \"#d8576b\"], [0.6666666666666666, \"#ed7953\"], [0.7777777777777778, \"#fb9f3a\"], [0.8888888888888888, \"#fdca26\"], [1.0, \"#f0f921\"]], \"type\": \"histogram2dcontour\"}], \"mesh3d\": [{\"colorbar\": {\"outlinewidth\": 0, \"ticks\": \"\"}, \"type\": \"mesh3d\"}], \"parcoords\": [{\"line\": {\"colorbar\": {\"outlinewidth\": 0, \"ticks\": \"\"}}, \"type\": \"parcoords\"}], \"pie\": [{\"automargin\": true, \"type\": \"pie\"}], \"scatter\": [{\"marker\": {\"colorbar\": {\"outlinewidth\": 0, \"ticks\": \"\"}}, \"type\": \"scatter\"}], \"scatter3d\": [{\"line\": {\"colorbar\": {\"outlinewidth\": 0, \"ticks\": \"\"}}, \"marker\": {\"colorbar\": {\"outlinewidth\": 0, \"ticks\": \"\"}}, \"type\": \"scatter3d\"}], \"scattercarpet\": [{\"marker\": {\"colorbar\": {\"outlinewidth\": 0, \"ticks\": \"\"}}, \"type\": \"scattercarpet\"}], \"scattergeo\": [{\"marker\": {\"colorbar\": {\"outlinewidth\": 0, \"ticks\": \"\"}}, \"type\": \"scattergeo\"}], \"scattergl\": [{\"marker\": {\"colorbar\": {\"outlinewidth\": 0, \"ticks\": \"\"}}, \"type\": \"scattergl\"}], \"scattermapbox\": [{\"marker\": {\"colorbar\": {\"outlinewidth\": 0, \"ticks\": \"\"}}, \"type\": \"scattermapbox\"}], \"scatterpolar\": [{\"marker\": {\"colorbar\": {\"outlinewidth\": 0, \"ticks\": \"\"}}, \"type\": \"scatterpolar\"}], \"scatterpolargl\": [{\"marker\": {\"colorbar\": {\"outlinewidth\": 0, \"ticks\": \"\"}}, \"type\": \"scatterpolargl\"}], \"scatterternary\": [{\"marker\": {\"colorbar\": {\"outlinewidth\": 0, \"ticks\": \"\"}}, \"type\": \"scatterternary\"}], \"surface\": [{\"colorbar\": {\"outlinewidth\": 0, \"ticks\": \"\"}, \"colorscale\": [[0.0, \"#0d0887\"], [0.1111111111111111, \"#46039f\"], [0.2222222222222222, \"#7201a8\"], [0.3333333333333333, \"#9c179e\"], [0.4444444444444444, \"#bd3786\"], [0.5555555555555556, \"#d8576b\"], [0.6666666666666666, \"#ed7953\"], [0.7777777777777778, \"#fb9f3a\"], [0.8888888888888888, \"#fdca26\"], [1.0, \"#f0f921\"]], \"type\": \"surface\"}], \"table\": [{\"cells\": {\"fill\": {\"color\": \"#EBF0F8\"}, \"line\": {\"color\": \"white\"}}, \"header\": {\"fill\": {\"color\": \"#C8D4E3\"}, \"line\": {\"color\": \"white\"}}, \"type\": \"table\"}]}, \"layout\": {\"annotationdefaults\": {\"arrowcolor\": \"#2a3f5f\", \"arrowhead\": 0, \"arrowwidth\": 1}, \"autotypenumbers\": \"strict\", \"coloraxis\": {\"colorbar\": {\"outlinewidth\": 0, \"ticks\": \"\"}}, \"colorscale\": {\"diverging\": [[0, \"#8e0152\"], [0.1, \"#c51b7d\"], [0.2, \"#de77ae\"], [0.3, \"#f1b6da\"], [0.4, \"#fde0ef\"], [0.5, \"#f7f7f7\"], [0.6, \"#e6f5d0\"], [0.7, \"#b8e186\"], [0.8, \"#7fbc41\"], [0.9, \"#4d9221\"], [1, \"#276419\"]], \"sequential\": [[0.0, \"#0d0887\"], [0.1111111111111111, \"#46039f\"], [0.2222222222222222, \"#7201a8\"], [0.3333333333333333, \"#9c179e\"], [0.4444444444444444, \"#bd3786\"], [0.5555555555555556, \"#d8576b\"], [0.6666666666666666, \"#ed7953\"], [0.7777777777777778, \"#fb9f3a\"], [0.8888888888888888, \"#fdca26\"], [1.0, \"#f0f921\"]], \"sequentialminus\": [[0.0, \"#0d0887\"], [0.1111111111111111, \"#46039f\"], [0.2222222222222222, \"#7201a8\"], [0.3333333333333333, \"#9c179e\"], [0.4444444444444444, \"#bd3786\"], [0.5555555555555556, \"#d8576b\"], [0.6666666666666666, \"#ed7953\"], [0.7777777777777778, \"#fb9f3a\"], [0.8888888888888888, \"#fdca26\"], [1.0, \"#f0f921\"]]}, \"colorway\": [\"#636efa\", \"#EF553B\", \"#00cc96\", \"#ab63fa\", \"#FFA15A\", \"#19d3f3\", \"#FF6692\", \"#B6E880\", \"#FF97FF\", \"#FECB52\"], \"font\": {\"color\": \"#2a3f5f\"}, \"geo\": {\"bgcolor\": \"white\", \"lakecolor\": \"white\", \"landcolor\": \"#E5ECF6\", \"showlakes\": true, \"showland\": true, \"subunitcolor\": \"white\"}, \"hoverlabel\": {\"align\": \"left\"}, \"hovermode\": \"closest\", \"mapbox\": {\"style\": \"light\"}, \"paper_bgcolor\": \"white\", \"plot_bgcolor\": \"#E5ECF6\", \"polar\": {\"angularaxis\": {\"gridcolor\": \"white\", \"linecolor\": \"white\", \"ticks\": \"\"}, \"bgcolor\": \"#E5ECF6\", \"radialaxis\": {\"gridcolor\": \"white\", \"linecolor\": \"white\", \"ticks\": \"\"}}, \"scene\": {\"xaxis\": {\"backgroundcolor\": \"#E5ECF6\", \"gridcolor\": \"white\", \"gridwidth\": 2, \"linecolor\": \"white\", \"showbackground\": true, \"ticks\": \"\", \"zerolinecolor\": \"white\"}, \"yaxis\": {\"backgroundcolor\": \"#E5ECF6\", \"gridcolor\": \"white\", \"gridwidth\": 2, \"linecolor\": \"white\", \"showbackground\": true, \"ticks\": \"\", \"zerolinecolor\": \"white\"}, \"zaxis\": {\"backgroundcolor\": \"#E5ECF6\", \"gridcolor\": \"white\", \"gridwidth\": 2, \"linecolor\": \"white\", \"showbackground\": true, \"ticks\": \"\", \"zerolinecolor\": \"white\"}}, \"shapedefaults\": {\"line\": {\"color\": \"#2a3f5f\"}}, \"ternary\": {\"aaxis\": {\"gridcolor\": \"white\", \"linecolor\": \"white\", \"ticks\": \"\"}, \"baxis\": {\"gridcolor\": \"white\", \"linecolor\": \"white\", \"ticks\": \"\"}, \"bgcolor\": \"#E5ECF6\", \"caxis\": {\"gridcolor\": \"white\", \"linecolor\": \"white\", \"ticks\": \"\"}}, \"title\": {\"x\": 0.05}, \"xaxis\": {\"automargin\": true, \"gridcolor\": \"white\", \"linecolor\": \"white\", \"ticks\": \"\", \"title\": {\"standoff\": 15}, \"zerolinecolor\": \"white\", \"zerolinewidth\": 2}, \"yaxis\": {\"automargin\": true, \"gridcolor\": \"white\", \"linecolor\": \"white\", \"ticks\": \"\", \"title\": {\"standoff\": 15}, \"zerolinecolor\": \"white\", \"zerolinewidth\": 2}}}, \"title\": {\"text\": \"Daily COVID-19 Vaccinations - Summary per Region in Europe\"}, \"xaxis\": {\"anchor\": \"y\", \"domain\": [0.0, 1.0], \"title\": {\"text\": \"date\"}}, \"yaxis\": {\"anchor\": \"x\", \"domain\": [0.0, 1.0], \"title\": {\"text\": \"daily_vaccinations\"}}},                        {\"responsive\": true}                    ).then(function(){\n",
       "                            \n",
       "var gd = document.getElementById('8f731fbd-539b-4c28-aa94-0b7990320ebd');\n",
       "var x = new MutationObserver(function (mutations, observer) {{\n",
       "        var display = window.getComputedStyle(gd).display;\n",
       "        if (!display || display === 'none') {{\n",
       "            console.log([gd, 'removed!']);\n",
       "            Plotly.purge(gd);\n",
       "            observer.disconnect();\n",
       "        }}\n",
       "}});\n",
       "\n",
       "// Listen for the removal of the full notebook cells\n",
       "var notebookContainer = gd.closest('#notebook-container');\n",
       "if (notebookContainer) {{\n",
       "    x.observe(notebookContainer, {childList: true});\n",
       "}}\n",
       "\n",
       "// Listen for the clearing of the current output cell\n",
       "var outputEl = gd.closest('.output');\n",
       "if (outputEl) {{\n",
       "    x.observe(outputEl, {childList: true});\n",
       "}}\n",
       "\n",
       "                        })                };                });            </script>        </div>"
      ]
     },
     "metadata": {},
     "output_type": "display_data"
    }
   ],
   "source": [
    "plot_daily_vaccination_data(data = regions_daily_df,  \n",
    "                            region_column = 'region',\n",
    "                            regions_list = Europe,\n",
    "                            vaccination_metric = 'daily_vaccinations',\n",
    "                            plot_title = 'Daily COVID-19 Vaccinations - Summary per Region in Europe'\n",
    "                           )"
   ]
  },
  {
   "cell_type": "markdown",
   "metadata": {
    "papermill": {
     "duration": 0.066494,
     "end_time": "2021-02-20T21:52:34.978181",
     "exception": false,
     "start_time": "2021-02-20T21:52:34.911687",
     "status": "completed"
    },
    "tags": []
   },
   "source": [
    "### 2.3. Where is the vaccination program more advanced?\n",
    "\n",
    "___"
   ]
  },
  {
   "cell_type": "markdown",
   "metadata": {
    "papermill": {
     "duration": 0.067299,
     "end_time": "2021-02-20T21:52:35.112984",
     "exception": false,
     "start_time": "2021-02-20T21:52:35.045685",
     "status": "completed"
    },
    "tags": []
   },
   "source": [
    "We've seen where are vaccinated more people per day, but in terms of total people vaccinated per hundred, how is it going?"
   ]
  },
  {
   "cell_type": "code",
   "execution_count": 43,
   "metadata": {
    "papermill": {
     "duration": 0.297292,
     "end_time": "2021-02-20T21:52:35.478732",
     "exception": false,
     "start_time": "2021-02-20T21:52:35.181440",
     "status": "completed"
    },
    "tags": []
   },
   "outputs": [
    {
     "data": {
      "image/png": "[encoded data removed]",
      "text/plain": [
       "<Figure size 1080x360 with 1 Axes>"
      ]
     },
     "metadata": {
      "needs_background": "light"
     },
     "output_type": "display_data"
    }
   ],
   "source": [
    "uk_countries = ['England', 'Scotland', 'Wales', 'Northern Ireland', 'Jersey', 'Isle of Man', 'Bermuda', 'Gibraltar']\n",
    "data[~data.country.isin(uk_countries)].groupby(['country']).agg({'people_vaccinated_per_hundred':'max'}).sort_values(by='people_vaccinated_per_hundred', ascending=False)[:10].plot.barh(color=\"teal\", figsize=(15,5))\n",
    "plt.title('people_vaccinated_per_hundred- Top 10')\n",
    "plt.legend('')\n",
    "plt.xlabel('percentage of people vaccinated (%)')\n",
    "plt.show()"
   ]
  },
  {
   "cell_type": "markdown",
   "metadata": {
    "papermill": {
     "duration": 0.068797,
     "end_time": "2021-02-20T21:52:35.617051",
     "exception": false,
     "start_time": "2021-02-20T21:52:35.548254",
     "status": "completed"
    },
    "tags": []
   },
   "source": [
    "When it comes to the percentage of people vaccinated, after three months Israel is the leader, followed by Seychelles(that has only ~98k inhabitants) and then by the United Kingdom."
   ]
  },
  {
   "cell_type": "markdown",
   "metadata": {
    "papermill": {
     "duration": 0.068333,
     "end_time": "2021-02-20T21:52:35.755096",
     "exception": false,
     "start_time": "2021-02-20T21:52:35.686763",
     "status": "completed"
    },
    "tags": []
   },
   "source": [
    "Below there is the progress of *people_vaccinated_per_houndred* only on Europe and North America, because of the missing data in other continents."
   ]
  },
  {
   "cell_type": "code",
   "execution_count": 44,
   "metadata": {
    "papermill": {
     "duration": 0.157914,
     "end_time": "2021-02-20T21:52:35.981407",
     "exception": false,
     "start_time": "2021-02-20T21:52:35.823493",
     "status": "completed"
    },
    "tags": []
   },
   "outputs": [
    {
     "data": {
      "application/vnd.plotly.v1+json": {
       "config": {
        "plotlyServerURL": "https://plot.ly"
       },
       "data": [
        {
         "hovertemplate": "region=Northern Europe<br>date=%{x}<br>people_vaccinated_per_hundred=%{y}<extra></extra>",
         "legendgroup": "Northern Europe",
         "line": {
          "color": "#636efa",
          "dash": "solid"
         },
         "mode": "lines",
         "name": "Northern Europe",
         "orientation": "v",
         "showlegend": true,
         "type": "scatter",
         "x": [
          "2020-12-13",
          "2020-12-14",
          "2020-12-15",
          "2020-12-16",
          "2020-12-17",
          "2020-12-18",
          "2020-12-19",
          "2020-12-20",
          "2020-12-21",
          "2020-12-22",
          "2020-12-23",
          "2020-12-24",
          "2020-12-25",
          "2020-12-26",
          "2020-12-27",
          "2020-12-28",
          "2020-12-29",
          "2020-12-30",
          "2020-12-31",
          "2021-01-01",
          "2021-01-02",
          "2021-01-03",
          "2021-01-04",
          "2021-01-05",
          "2021-01-06",
          "2021-01-07",
          "2021-01-08",
          "2021-01-09",
          "2021-01-10",
          "2021-01-11",
          "2021-01-12",
          "2021-01-13",
          "2021-01-14",
          "2021-01-15",
          "2021-01-16",
          "2021-01-17",
          "2021-01-18",
          "2021-01-19",
          "2021-01-20",
          "2021-01-21",
          "2021-01-22",
          "2021-01-23",
          "2021-01-24",
          "2021-01-25",
          "2021-01-26",
          "2021-01-27",
          "2021-01-28",
          "2021-01-29",
          "2021-01-30",
          "2021-01-31",
          "2021-02-01",
          "2021-02-02",
          "2021-02-03",
          "2021-02-04",
          "2021-02-05",
          "2021-02-06",
          "2021-02-07",
          "2021-02-08",
          "2021-02-09",
          "2021-02-10",
          "2021-02-11",
          "2021-02-12",
          "2021-02-13"
         ],
         "xaxis": "x",
         "y": [
          0.20599999999999996,
          0.944,
          0.944,
          0.9440000000000002,
          0.944,
          0.944,
          0.944,
          0.944,
          1.5,
          1.5,
          1.5,
          1.5,
          1.4999999999999998,
          1.5,
          0.8577777777777779,
          1.1290909090909091,
          1.1590909090909092,
          1.2074999999999998,
          1.51,
          1.5146153846153847,
          1.5261538461538464,
          1.5338461538461536,
          1.9414285714285717,
          1.965714285714286,
          2.014285714285714,
          2.0585714285714287,
          2.0885714285714285,
          2.0921428571428575,
          2.095,
          2.2399999999999998,
          2.373571428571428,
          2.572857142857143,
          2.8021428571428575,
          3.0214285714285714,
          3.132142857142857,
          3.202142857142858,
          3.407142857142857,
          3.5814285714285714,
          3.767857142857143,
          4.110666666666668,
          4.312666666666668,
          4.499333333333334,
          5.071764705882352,
          5.9411764705882355,
          6.120588235294116,
          6.321764705882353,
          6.639411764705883,
          6.9511111111111115,
          7.239999999999999,
          7.351666666666666,
          7.883333333333332,
          8.077222222222222,
          8.371666666666666,
          8.688333333333333,
          8.945555555555554,
          9.223333333333334,
          9.381111111111112,
          9.892222222222223,
          10.167222222222222,
          10.461111111111109,
          10.928235294117645,
          11.25823529411765,
          11.540000000000001
         ],
         "yaxis": "y"
        },
        {
         "hovertemplate": "region=Eastern Europe<br>date=%{x}<br>people_vaccinated_per_hundred=%{y}<extra></extra>",
         "legendgroup": "Eastern Europe",
         "line": {
          "color": "#EF553B",
          "dash": "solid"
         },
         "mode": "lines",
         "name": "Eastern Europe",
         "orientation": "v",
         "showlegend": true,
         "type": "scatter",
         "x": [
          "2020-12-15",
          "2020-12-16",
          "2020-12-17",
          "2020-12-18",
          "2020-12-19",
          "2020-12-20",
          "2020-12-21",
          "2020-12-22",
          "2020-12-23",
          "2020-12-24",
          "2020-12-25",
          "2020-12-26",
          "2020-12-27",
          "2020-12-28",
          "2020-12-29",
          "2020-12-30",
          "2020-12-31",
          "2021-01-01",
          "2021-01-02",
          "2021-01-03",
          "2021-01-04",
          "2021-01-05",
          "2021-01-06",
          "2021-01-07",
          "2021-01-08",
          "2021-01-09",
          "2021-01-10",
          "2021-01-11",
          "2021-01-12",
          "2021-01-13",
          "2021-01-14",
          "2021-01-15",
          "2021-01-16",
          "2021-01-17",
          "2021-01-18",
          "2021-01-19",
          "2021-01-20",
          "2021-01-21",
          "2021-01-22",
          "2021-01-23",
          "2021-01-24",
          "2021-01-25",
          "2021-01-26",
          "2021-01-27",
          "2021-01-28",
          "2021-01-29",
          "2021-01-30",
          "2021-01-31",
          "2021-02-01",
          "2021-02-02",
          "2021-02-03",
          "2021-02-04",
          "2021-02-05",
          "2021-02-06",
          "2021-02-07",
          "2021-02-08",
          "2021-02-09",
          "2021-02-10",
          "2021-02-11",
          "2021-02-12",
          "2021-02-13"
         ],
         "xaxis": "x",
         "y": [
          0.02,
          0.04,
          0.04,
          0.04,
          0.04,
          0.04,
          0.04,
          0.04,
          0.55,
          0.55,
          0.55,
          0.55,
          0.28,
          0.388,
          0.33499999999999996,
          0.36500000000000005,
          0.375,
          0.3766666666666667,
          0.38166666666666677,
          0.4066666666666667,
          0.37857142857142856,
          0.41714285714285715,
          0.4628571428571428,
          0.5257142857142857,
          0.5771428571428572,
          0.5914285714285714,
          0.6071428571428571,
          0.6657142857142857,
          0.7457142857142858,
          0.8185714285714285,
          0.9985714285714286,
          1.0614285714285714,
          1.087142857142857,
          1.1014285714285712,
          1.17,
          1.2471428571428569,
          1.332857142857143,
          1.42,
          1.5042857142857144,
          1.5414285714285714,
          1.5685714285714283,
          1.6400000000000001,
          1.7314285714285713,
          1.8228571428571427,
          1.917142857142857,
          2.0100000000000002,
          2.067142857142857,
          2.108571428571428,
          2.1657142857142855,
          2.2328571428571427,
          2.302857142857143,
          2.3899999999999997,
          2.4614285714285713,
          2.487142857142857,
          2.501428571428572,
          2.5714285714285716,
          2.607142857142857,
          2.6885714285714286,
          2.955,
          3.0483333333333333,
          3.0833333333333335
         ],
         "yaxis": "y"
        },
        {
         "hovertemplate": "region=Northern America<br>date=%{x}<br>people_vaccinated_per_hundred=%{y}<extra></extra>",
         "legendgroup": "Northern America",
         "line": {
          "color": "#00cc96",
          "dash": "solid"
         },
         "mode": "lines",
         "name": "Northern America",
         "orientation": "v",
         "showlegend": true,
         "type": "scatter",
         "x": [
          "2020-12-19",
          "2020-12-20",
          "2020-12-21",
          "2020-12-22",
          "2020-12-23",
          "2020-12-24",
          "2020-12-25",
          "2020-12-26",
          "2020-12-27",
          "2020-12-28",
          "2020-12-29",
          "2020-12-30",
          "2020-12-31",
          "2021-01-01",
          "2021-01-02",
          "2021-01-03",
          "2021-01-04",
          "2021-01-05",
          "2021-01-06",
          "2021-01-07",
          "2021-01-08",
          "2021-01-09",
          "2021-01-10",
          "2021-01-11",
          "2021-01-12",
          "2021-01-13",
          "2021-01-14",
          "2021-01-15",
          "2021-01-16",
          "2021-01-17",
          "2021-01-18",
          "2021-01-19",
          "2021-01-20",
          "2021-01-21",
          "2021-01-22",
          "2021-01-23",
          "2021-01-24",
          "2021-01-25",
          "2021-01-26",
          "2021-01-27",
          "2021-01-28",
          "2021-01-29",
          "2021-01-30",
          "2021-01-31",
          "2021-02-01",
          "2021-02-02",
          "2021-02-03",
          "2021-02-04",
          "2021-02-05",
          "2021-02-06",
          "2021-02-07",
          "2021-02-08",
          "2021-02-09",
          "2021-02-10",
          "2021-02-11",
          "2021-02-12",
          "2021-02-13"
         ],
         "xaxis": "x",
         "y": [
          0.02,
          0.17,
          0.18,
          0.3,
          0.3,
          0.58,
          0.58,
          0.33499999999999996,
          0.64,
          0.64,
          0.84,
          0.84,
          1.26,
          1.26,
          0.735,
          1.36,
          1.36,
          1.45,
          1.59,
          1.77,
          2,
          1.625,
          1.345,
          2.6799999999999997,
          2.316666666666667,
          2.3533333333333335,
          2.3533333333333335,
          2.4433333333333334,
          2.7433333333333336,
          3.61,
          3.61,
          3.61,
          3.6766666666666663,
          3.753333333333334,
          3.8733333333333335,
          3.986666666666667,
          5.22,
          5.296666666666667,
          5.36,
          5.2175,
          5.54,
          5.653333333333333,
          5.776666666666667,
          7.326666666666667,
          7.406666666666667,
          7.45,
          7.5200000000000005,
          7.593333333333334,
          7.693333333333334,
          7.830000000000001,
          8.503333333333332,
          8.58,
          8.633333333333333,
          8.723333333333334,
          8.816666666666668,
          8.926666666666668,
          9.049999999999999
         ],
         "yaxis": "y"
        },
        {
         "hovertemplate": "region=Southern Europe<br>date=%{x}<br>people_vaccinated_per_hundred=%{y}<extra></extra>",
         "legendgroup": "Southern Europe",
         "line": {
          "color": "#ab63fa",
          "dash": "solid"
         },
         "mode": "lines",
         "name": "Southern Europe",
         "orientation": "v",
         "showlegend": true,
         "type": "scatter",
         "x": [
          "2020-12-27",
          "2020-12-28",
          "2020-12-29",
          "2020-12-30",
          "2020-12-31",
          "2021-01-01",
          "2021-01-02",
          "2021-01-03",
          "2021-01-04",
          "2021-01-05",
          "2021-01-06",
          "2021-01-07",
          "2021-01-08",
          "2021-01-09",
          "2021-01-10",
          "2021-01-11",
          "2021-01-12",
          "2021-01-13",
          "2021-01-14",
          "2021-01-15",
          "2021-01-16",
          "2021-01-17",
          "2021-01-18",
          "2021-01-19",
          "2021-01-20",
          "2021-01-21",
          "2021-01-22",
          "2021-01-23",
          "2021-01-24",
          "2021-01-25",
          "2021-01-26",
          "2021-01-27",
          "2021-01-28",
          "2021-01-29",
          "2021-01-30",
          "2021-01-31",
          "2021-02-01",
          "2021-02-02",
          "2021-02-03",
          "2021-02-04",
          "2021-02-05",
          "2021-02-06",
          "2021-02-07",
          "2021-02-08",
          "2021-02-09",
          "2021-02-10",
          "2021-02-11",
          "2021-02-12",
          "2021-02-13"
         ],
         "xaxis": "x",
         "y": [
          0.14500000000000002,
          0.105,
          0.1475,
          0.184,
          0.24200000000000005,
          0.246,
          0.266,
          0.284,
          0.32833333333333337,
          0.3999999999999999,
          0.515,
          0.6383333333333333,
          0.6557142857142857,
          0.7971428571428572,
          0.7866666666666666,
          1.1622222222222218,
          1.5599999999999998,
          2.5033333333333334,
          2.5955555555555554,
          2.7155555555555555,
          3.141111111111111,
          3.123,
          3.335,
          3.564999999999999,
          3.633,
          4.0280000000000005,
          4.418000000000001,
          4.813000000000001,
          5.061,
          4.798181818181819,
          5.117272727272728,
          5.245454545454546,
          5.66909090909091,
          5.886363636363638,
          5.917272727272728,
          6.021818181818182,
          6.062727272727273,
          6.158181818181817,
          6.242727272727273,
          6.325454545454545,
          6.4327272727272735,
          6.495454545454546,
          6.524545454545454,
          6.726363636363637,
          6.871818181818182,
          7.184545454545456,
          7.467272727272728,
          7.6054545454545455,
          8.43
         ],
         "yaxis": "y"
        },
        {
         "hovertemplate": "region=Western Europe<br>date=%{x}<br>people_vaccinated_per_hundred=%{y}<extra></extra>",
         "legendgroup": "Western Europe",
         "line": {
          "color": "#FFA15A",
          "dash": "solid"
         },
         "mode": "lines",
         "name": "Western Europe",
         "orientation": "v",
         "showlegend": true,
         "type": "scatter",
         "x": [
          "2020-12-27",
          "2020-12-28",
          "2020-12-29",
          "2020-12-30",
          "2020-12-31",
          "2021-01-01",
          "2021-01-02",
          "2021-01-03",
          "2021-01-04",
          "2021-01-05",
          "2021-01-06",
          "2021-01-07",
          "2021-01-08",
          "2021-01-09",
          "2021-01-10",
          "2021-01-11",
          "2021-01-12",
          "2021-01-13",
          "2021-01-14",
          "2021-01-15",
          "2021-01-16",
          "2021-01-17",
          "2021-01-18",
          "2021-01-19",
          "2021-01-20",
          "2021-01-21",
          "2021-01-22",
          "2021-01-23",
          "2021-01-24",
          "2021-01-25",
          "2021-01-26",
          "2021-01-27",
          "2021-01-28",
          "2021-01-29",
          "2021-01-30",
          "2021-01-31",
          "2021-02-01",
          "2021-02-02",
          "2021-02-03",
          "2021-02-04",
          "2021-02-05",
          "2021-02-06",
          "2021-02-07",
          "2021-02-08",
          "2021-02-09",
          "2021-02-10",
          "2021-02-11",
          "2021-02-12",
          "2021-02-13"
         ],
         "xaxis": "x",
         "y": [
          0.015,
          0.016666666666666666,
          0.03333333333333333,
          0.0925,
          0.135,
          0.14250000000000002,
          0.16,
          0.1675,
          0.1825,
          0.2,
          0.23,
          0.27249999999999996,
          0.3225,
          0.35250000000000004,
          0.308,
          0.352,
          0.43,
          0.538,
          0.656,
          0.774,
          0.8240000000000001,
          0.8539999999999999,
          0.942,
          1.0719999999999998,
          1.228,
          1.3960000000000001,
          1.548,
          1.61,
          2.2033333333333336,
          2.25,
          2.3433333333333333,
          2.43,
          2.5283333333333333,
          2.6183333333333336,
          2.651666666666667,
          2.665,
          2.7100000000000004,
          2.776666666666667,
          2.8433333333333337,
          2.9150000000000005,
          2.98,
          3.0066666666666673,
          3.018333333333333,
          3.0500000000000003,
          3.1,
          3.17,
          3.2550000000000003,
          3.34,
          3.3716666666666666
         ],
         "yaxis": "y"
        }
       ],
       "layout": {
        "legend": {
         "title": {
          "text": "region"
         },
         "tracegroupgap": 0
        },
        "template": {
         "data": {
          "bar": [
           {
            "error_x": {
             "color": "#2a3f5f"
            },
            "error_y": {
             "color": "#2a3f5f"
            },
            "marker": {
             "line": {
              "color": "#E5ECF6",
              "width": 0.5
             }
            },
            "type": "bar"
           }
          ],
          "barpolar": [
           {
            "marker": {
             "line": {
              "color": "#E5ECF6",
              "width": 0.5
             }
            },
            "type": "barpolar"
           }
          ],
          "carpet": [
           {
            "aaxis": {
             "endlinecolor": "#2a3f5f",
             "gridcolor": "white",
             "linecolor": "white",
             "minorgridcolor": "white",
             "startlinecolor": "#2a3f5f"
            },
            "baxis": {
             "endlinecolor": "#2a3f5f",
             "gridcolor": "white",
             "linecolor": "white",
             "minorgridcolor": "white",
             "startlinecolor": "#2a3f5f"
            },
            "type": "carpet"
           }
          ],
          "choropleth": [
           {
            "colorbar": {
             "outlinewidth": 0,
             "ticks": ""
            },
            "type": "choropleth"
           }
          ],
          "contour": [
           {
            "colorbar": {
             "outlinewidth": 0,
             "ticks": ""
            },
            "colorscale": [
             [
              0,
              "#0d0887"
             ],
             [
              0.1111111111111111,
              "#46039f"
             ],
             [
              0.2222222222222222,
              "#7201a8"
             ],
             [
              0.3333333333333333,
              "#9c179e"
             ],
             [
              0.4444444444444444,
              "#bd3786"
             ],
             [
              0.5555555555555556,
              "#d8576b"
             ],
             [
              0.6666666666666666,
              "#ed7953"
             ],
             [
              0.7777777777777778,
              "#fb9f3a"
             ],
             [
              0.8888888888888888,
              "#fdca26"
             ],
             [
              1,
              "#f0f921"
             ]
            ],
            "type": "contour"
           }
          ],
          "contourcarpet": [
           {
            "colorbar": {
             "outlinewidth": 0,
             "ticks": ""
            },
            "type": "contourcarpet"
           }
          ],
          "heatmap": [
           {
            "colorbar": {
             "outlinewidth": 0,
             "ticks": ""
            },
            "colorscale": [
             [
              0,
              "#0d0887"
             ],
             [
              0.1111111111111111,
              "#46039f"
             ],
             [
              0.2222222222222222,
              "#7201a8"
             ],
             [
              0.3333333333333333,
              "#9c179e"
             ],
             [
              0.4444444444444444,
              "#bd3786"
             ],
             [
              0.5555555555555556,
              "#d8576b"
             ],
             [
              0.6666666666666666,
              "#ed7953"
             ],
             [
              0.7777777777777778,
              "#fb9f3a"
             ],
             [
              0.8888888888888888,
              "#fdca26"
             ],
             [
              1,
              "#f0f921"
             ]
            ],
            "type": "heatmap"
           }
          ],
          "heatmapgl": [
           {
            "colorbar": {
             "outlinewidth": 0,
             "ticks": ""
            },
            "colorscale": [
             [
              0,
              "#0d0887"
             ],
             [
              0.1111111111111111,
              "#46039f"
             ],
             [
              0.2222222222222222,
              "#7201a8"
             ],
             [
              0.3333333333333333,
              "#9c179e"
             ],
             [
              0.4444444444444444,
              "#bd3786"
             ],
             [
              0.5555555555555556,
              "#d8576b"
             ],
             [
              0.6666666666666666,
              "#ed7953"
             ],
             [
              0.7777777777777778,
              "#fb9f3a"
             ],
             [
              0.8888888888888888,
              "#fdca26"
             ],
             [
              1,
              "#f0f921"
             ]
            ],
            "type": "heatmapgl"
           }
          ],
          "histogram": [
           {
            "marker": {
             "colorbar": {
              "outlinewidth": 0,
              "ticks": ""
             }
            },
            "type": "histogram"
           }
          ],
          "histogram2d": [
           {
            "colorbar": {
             "outlinewidth": 0,
             "ticks": ""
            },
            "colorscale": [
             [
              0,
              "#0d0887"
             ],
             [
              0.1111111111111111,
              "#46039f"
             ],
             [
              0.2222222222222222,
              "#7201a8"
             ],
             [
              0.3333333333333333,
              "#9c179e"
             ],
             [
              0.4444444444444444,
              "#bd3786"
             ],
             [
              0.5555555555555556,
              "#d8576b"
             ],
             [
              0.6666666666666666,
              "#ed7953"
             ],
             [
              0.7777777777777778,
              "#fb9f3a"
             ],
             [
              0.8888888888888888,
              "#fdca26"
             ],
             [
              1,
              "#f0f921"
             ]
            ],
            "type": "histogram2d"
           }
          ],
          "histogram2dcontour": [
           {
            "colorbar": {
             "outlinewidth": 0,
             "ticks": ""
            },
            "colorscale": [
             [
              0,
              "#0d0887"
             ],
             [
              0.1111111111111111,
              "#46039f"
             ],
             [
              0.2222222222222222,
              "#7201a8"
             ],
             [
              0.3333333333333333,
              "#9c179e"
             ],
             [
              0.4444444444444444,
              "#bd3786"
             ],
             [
              0.5555555555555556,
              "#d8576b"
             ],
             [
              0.6666666666666666,
              "#ed7953"
             ],
             [
              0.7777777777777778,
              "#fb9f3a"
             ],
             [
              0.8888888888888888,
              "#fdca26"
             ],
             [
              1,
              "#f0f921"
             ]
            ],
            "type": "histogram2dcontour"
           }
          ],
          "mesh3d": [
           {
            "colorbar": {
             "outlinewidth": 0,
             "ticks": ""
            },
            "type": "mesh3d"
           }
          ],
          "parcoords": [
           {
            "line": {
             "colorbar": {
              "outlinewidth": 0,
              "ticks": ""
             }
            },
            "type": "parcoords"
           }
          ],
          "pie": [
           {
            "automargin": true,
            "type": "pie"
           }
          ],
          "scatter": [
           {
            "marker": {
             "colorbar": {
              "outlinewidth": 0,
              "ticks": ""
             }
            },
            "type": "scatter"
           }
          ],
          "scatter3d": [
           {
            "line": {
             "colorbar": {
              "outlinewidth": 0,
              "ticks": ""
             }
            },
            "marker": {
             "colorbar": {
              "outlinewidth": 0,
              "ticks": ""
             }
            },
            "type": "scatter3d"
           }
          ],
          "scattercarpet": [
           {
            "marker": {
             "colorbar": {
              "outlinewidth": 0,
              "ticks": ""
             }
            },
            "type": "scattercarpet"
           }
          ],
          "scattergeo": [
           {
            "marker": {
             "colorbar": {
              "outlinewidth": 0,
              "ticks": ""
             }
            },
            "type": "scattergeo"
           }
          ],
          "scattergl": [
           {
            "marker": {
             "colorbar": {
              "outlinewidth": 0,
              "ticks": ""
             }
            },
            "type": "scattergl"
           }
          ],
          "scattermapbox": [
           {
            "marker": {
             "colorbar": {
              "outlinewidth": 0,
              "ticks": ""
             }
            },
            "type": "scattermapbox"
           }
          ],
          "scatterpolar": [
           {
            "marker": {
             "colorbar": {
              "outlinewidth": 0,
              "ticks": ""
             }
            },
            "type": "scatterpolar"
           }
          ],
          "scatterpolargl": [
           {
            "marker": {
             "colorbar": {
              "outlinewidth": 0,
              "ticks": ""
             }
            },
            "type": "scatterpolargl"
           }
          ],
          "scatterternary": [
           {
            "marker": {
             "colorbar": {
              "outlinewidth": 0,
              "ticks": ""
             }
            },
            "type": "scatterternary"
           }
          ],
          "surface": [
           {
            "colorbar": {
             "outlinewidth": 0,
             "ticks": ""
            },
            "colorscale": [
             [
              0,
              "#0d0887"
             ],
             [
              0.1111111111111111,
              "#46039f"
             ],
             [
              0.2222222222222222,
              "#7201a8"
             ],
             [
              0.3333333333333333,
              "#9c179e"
             ],
             [
              0.4444444444444444,
              "#bd3786"
             ],
             [
              0.5555555555555556,
              "#d8576b"
             ],
             [
              0.6666666666666666,
              "#ed7953"
             ],
             [
              0.7777777777777778,
              "#fb9f3a"
             ],
             [
              0.8888888888888888,
              "#fdca26"
             ],
             [
              1,
              "#f0f921"
             ]
            ],
            "type": "surface"
           }
          ],
          "table": [
           {
            "cells": {
             "fill": {
              "color": "#EBF0F8"
             },
             "line": {
              "color": "white"
             }
            },
            "header": {
             "fill": {
              "color": "#C8D4E3"
             },
             "line": {
              "color": "white"
             }
            },
            "type": "table"
           }
          ]
         },
         "layout": {
          "annotationdefaults": {
           "arrowcolor": "#2a3f5f",
           "arrowhead": 0,
           "arrowwidth": 1
          },
          "autotypenumbers": "strict",
          "coloraxis": {
           "colorbar": {
            "outlinewidth": 0,
            "ticks": ""
           }
          },
          "colorscale": {
           "diverging": [
            [
             0,
             "#8e0152"
            ],
            [
             0.1,
             "#c51b7d"
            ],
            [
             0.2,
             "#de77ae"
            ],
            [
             0.3,
             "#f1b6da"
            ],
            [
             0.4,
             "#fde0ef"
            ],
            [
             0.5,
             "#f7f7f7"
            ],
            [
             0.6,
             "#e6f5d0"
            ],
            [
             0.7,
             "#b8e186"
            ],
            [
             0.8,
             "#7fbc41"
            ],
            [
             0.9,
             "#4d9221"
            ],
            [
             1,
             "#276419"
            ]
           ],
           "sequential": [
            [
             0,
             "#0d0887"
            ],
            [
             0.1111111111111111,
             "#46039f"
            ],
            [
             0.2222222222222222,
             "#7201a8"
            ],
            [
             0.3333333333333333,
             "#9c179e"
            ],
            [
             0.4444444444444444,
             "#bd3786"
            ],
            [
             0.5555555555555556,
             "#d8576b"
            ],
            [
             0.6666666666666666,
             "#ed7953"
            ],
            [
             0.7777777777777778,
             "#fb9f3a"
            ],
            [
             0.8888888888888888,
             "#fdca26"
            ],
            [
             1,
             "#f0f921"
            ]
           ],
           "sequentialminus": [
            [
             0,
             "#0d0887"
            ],
            [
             0.1111111111111111,
             "#46039f"
            ],
            [
             0.2222222222222222,
             "#7201a8"
            ],
            [
             0.3333333333333333,
             "#9c179e"
            ],
            [
             0.4444444444444444,
             "#bd3786"
            ],
            [
             0.5555555555555556,
             "#d8576b"
            ],
            [
             0.6666666666666666,
             "#ed7953"
            ],
            [
             0.7777777777777778,
             "#fb9f3a"
            ],
            [
             0.8888888888888888,
             "#fdca26"
            ],
            [
             1,
             "#f0f921"
            ]
           ]
          },
          "colorway": [
           "#636efa",
           "#EF553B",
           "#00cc96",
           "#ab63fa",
           "#FFA15A",
           "#19d3f3",
           "#FF6692",
           "#B6E880",
           "#FF97FF",
           "#FECB52"
          ],
          "font": {
           "color": "#2a3f5f"
          },
          "geo": {
           "bgcolor": "white",
           "lakecolor": "white",
           "landcolor": "#E5ECF6",
           "showlakes": true,
           "showland": true,
           "subunitcolor": "white"
          },
          "hoverlabel": {
           "align": "left"
          },
          "hovermode": "closest",
          "mapbox": {
           "style": "light"
          },
          "paper_bgcolor": "white",
          "plot_bgcolor": "#E5ECF6",
          "polar": {
           "angularaxis": {
            "gridcolor": "white",
            "linecolor": "white",
            "ticks": ""
           },
           "bgcolor": "#E5ECF6",
           "radialaxis": {
            "gridcolor": "white",
            "linecolor": "white",
            "ticks": ""
           }
          },
          "scene": {
           "xaxis": {
            "backgroundcolor": "#E5ECF6",
            "gridcolor": "white",
            "gridwidth": 2,
            "linecolor": "white",
            "showbackground": true,
            "ticks": "",
            "zerolinecolor": "white"
           },
           "yaxis": {
            "backgroundcolor": "#E5ECF6",
            "gridcolor": "white",
            "gridwidth": 2,
            "linecolor": "white",
            "showbackground": true,
            "ticks": "",
            "zerolinecolor": "white"
           },
           "zaxis": {
            "backgroundcolor": "#E5ECF6",
            "gridcolor": "white",
            "gridwidth": 2,
            "linecolor": "white",
            "showbackground": true,
            "ticks": "",
            "zerolinecolor": "white"
           }
          },
          "shapedefaults": {
           "line": {
            "color": "#2a3f5f"
           }
          },
          "ternary": {
           "aaxis": {
            "gridcolor": "white",
            "linecolor": "white",
            "ticks": ""
           },
           "baxis": {
            "gridcolor": "white",
            "linecolor": "white",
            "ticks": ""
           },
           "bgcolor": "#E5ECF6",
           "caxis": {
            "gridcolor": "white",
            "linecolor": "white",
            "ticks": ""
           }
          },
          "title": {
           "x": 0.05
          },
          "xaxis": {
           "automargin": true,
           "gridcolor": "white",
           "linecolor": "white",
           "ticks": "",
           "title": {
            "standoff": 15
           },
           "zerolinecolor": "white",
           "zerolinewidth": 2
          },
          "yaxis": {
           "automargin": true,
           "gridcolor": "white",
           "linecolor": "white",
           "ticks": "",
           "title": {
            "standoff": 15
           },
           "zerolinecolor": "white",
           "zerolinewidth": 2
          }
         }
        },
        "title": {
         "text": "people_vaccinated_per_hundred evolution in the first three months"
        },
        "xaxis": {
         "anchor": "y",
         "domain": [
          0,
          1
         ],
         "title": {
          "text": "date"
         }
        },
        "yaxis": {
         "anchor": "x",
         "domain": [
          0,
          1
         ],
         "title": {
          "text": "people_vaccinated_per_hundred"
         }
        }
       }
      },
      "text/html": [
       "<div>                            <div id=\"fca05daa-7915-4222-badc-ed090bdc52f7\" class=\"plotly-graph-div\" style=\"height:525px; width:100%;\"></div>            <script type=\"text/javascript\">                require([\"plotly\"], function(Plotly) {                    window.PLOTLYENV=window.PLOTLYENV || {};                                    if (document.getElementById(\"fca05daa-7915-4222-badc-ed090bdc52f7\")) {                    Plotly.newPlot(                        \"fca05daa-7915-4222-badc-ed090bdc52f7\",                        [{\"hovertemplate\": \"region=Northern Europe<br>date=%{x}<br>people_vaccinated_per_hundred=%{y}<extra></extra>\", \"legendgroup\": \"Northern Europe\", \"line\": {\"color\": \"#636efa\", \"dash\": \"solid\"}, \"mode\": \"lines\", \"name\": \"Northern Europe\", \"orientation\": \"v\", \"showlegend\": true, \"type\": \"scatter\", \"x\": [\"2020-12-13\", \"2020-12-14\", \"2020-12-15\", \"2020-12-16\", \"2020-12-17\", \"2020-12-18\", \"2020-12-19\", \"2020-12-20\", \"2020-12-21\", \"2020-12-22\", \"2020-12-23\", \"2020-12-24\", \"2020-12-25\", \"2020-12-26\", \"2020-12-27\", \"2020-12-28\", \"2020-12-29\", \"2020-12-30\", \"2020-12-31\", \"2021-01-01\", \"2021-01-02\", \"2021-01-03\", \"2021-01-04\", \"2021-01-05\", \"2021-01-06\", \"2021-01-07\", \"2021-01-08\", \"2021-01-09\", \"2021-01-10\", \"2021-01-11\", \"2021-01-12\", \"2021-01-13\", \"2021-01-14\", \"2021-01-15\", \"2021-01-16\", \"2021-01-17\", \"2021-01-18\", \"2021-01-19\", \"2021-01-20\", \"2021-01-21\", \"2021-01-22\", \"2021-01-23\", \"2021-01-24\", \"2021-01-25\", \"2021-01-26\", \"2021-01-27\", \"2021-01-28\", \"2021-01-29\", \"2021-01-30\", \"2021-01-31\", \"2021-02-01\", \"2021-02-02\", \"2021-02-03\", \"2021-02-04\", \"2021-02-05\", \"2021-02-06\", \"2021-02-07\", \"2021-02-08\", \"2021-02-09\", \"2021-02-10\", \"2021-02-11\", \"2021-02-12\", \"2021-02-13\"], \"xaxis\": \"x\", \"y\": [0.20599999999999996, 0.944, 0.944, 0.9440000000000002, 0.944, 0.944, 0.944, 0.944, 1.5, 1.5, 1.5, 1.5, 1.4999999999999998, 1.5, 0.8577777777777779, 1.1290909090909091, 1.1590909090909092, 1.2074999999999998, 1.51, 1.5146153846153847, 1.5261538461538464, 1.5338461538461536, 1.9414285714285717, 1.965714285714286, 2.014285714285714, 2.0585714285714287, 2.0885714285714285, 2.0921428571428575, 2.095, 2.2399999999999998, 2.373571428571428, 2.572857142857143, 2.8021428571428575, 3.0214285714285714, 3.132142857142857, 3.202142857142858, 3.407142857142857, 3.5814285714285714, 3.767857142857143, 4.110666666666668, 4.312666666666668, 4.499333333333334, 5.071764705882352, 5.9411764705882355, 6.120588235294116, 6.321764705882353, 6.639411764705883, 6.9511111111111115, 7.239999999999999, 7.351666666666666, 7.883333333333332, 8.077222222222222, 8.371666666666666, 8.688333333333333, 8.945555555555554, 9.223333333333334, 9.381111111111112, 9.892222222222223, 10.167222222222222, 10.461111111111109, 10.928235294117645, 11.25823529411765, 11.540000000000001], \"yaxis\": \"y\"}, {\"hovertemplate\": \"region=Eastern Europe<br>date=%{x}<br>people_vaccinated_per_hundred=%{y}<extra></extra>\", \"legendgroup\": \"Eastern Europe\", \"line\": {\"color\": \"#EF553B\", \"dash\": \"solid\"}, \"mode\": \"lines\", \"name\": \"Eastern Europe\", \"orientation\": \"v\", \"showlegend\": true, \"type\": \"scatter\", \"x\": [\"2020-12-15\", \"2020-12-16\", \"2020-12-17\", \"2020-12-18\", \"2020-12-19\", \"2020-12-20\", \"2020-12-21\", \"2020-12-22\", \"2020-12-23\", \"2020-12-24\", \"2020-12-25\", \"2020-12-26\", \"2020-12-27\", \"2020-12-28\", \"2020-12-29\", \"2020-12-30\", \"2020-12-31\", \"2021-01-01\", \"2021-01-02\", \"2021-01-03\", \"2021-01-04\", \"2021-01-05\", \"2021-01-06\", \"2021-01-07\", \"2021-01-08\", \"2021-01-09\", \"2021-01-10\", \"2021-01-11\", \"2021-01-12\", \"2021-01-13\", \"2021-01-14\", \"2021-01-15\", \"2021-01-16\", \"2021-01-17\", \"2021-01-18\", \"2021-01-19\", \"2021-01-20\", \"2021-01-21\", \"2021-01-22\", \"2021-01-23\", \"2021-01-24\", \"2021-01-25\", \"2021-01-26\", \"2021-01-27\", \"2021-01-28\", \"2021-01-29\", \"2021-01-30\", \"2021-01-31\", \"2021-02-01\", \"2021-02-02\", \"2021-02-03\", \"2021-02-04\", \"2021-02-05\", \"2021-02-06\", \"2021-02-07\", \"2021-02-08\", \"2021-02-09\", \"2021-02-10\", \"2021-02-11\", \"2021-02-12\", \"2021-02-13\"], \"xaxis\": \"x\", \"y\": [0.02, 0.04, 0.04, 0.04, 0.04, 0.04, 0.04, 0.04, 0.55, 0.55, 0.55, 0.55, 0.28, 0.388, 0.33499999999999996, 0.36500000000000005, 0.375, 0.3766666666666667, 0.38166666666666677, 0.4066666666666667, 0.37857142857142856, 0.41714285714285715, 0.4628571428571428, 0.5257142857142857, 0.5771428571428572, 0.5914285714285714, 0.6071428571428571, 0.6657142857142857, 0.7457142857142858, 0.8185714285714285, 0.9985714285714286, 1.0614285714285714, 1.087142857142857, 1.1014285714285712, 1.17, 1.2471428571428569, 1.332857142857143, 1.42, 1.5042857142857144, 1.5414285714285714, 1.5685714285714283, 1.6400000000000001, 1.7314285714285713, 1.8228571428571427, 1.917142857142857, 2.0100000000000002, 2.067142857142857, 2.108571428571428, 2.1657142857142855, 2.2328571428571427, 2.302857142857143, 2.3899999999999997, 2.4614285714285713, 2.487142857142857, 2.501428571428572, 2.5714285714285716, 2.607142857142857, 2.6885714285714286, 2.955, 3.0483333333333333, 3.0833333333333335], \"yaxis\": \"y\"}, {\"hovertemplate\": \"region=Northern America<br>date=%{x}<br>people_vaccinated_per_hundred=%{y}<extra></extra>\", \"legendgroup\": \"Northern America\", \"line\": {\"color\": \"#00cc96\", \"dash\": \"solid\"}, \"mode\": \"lines\", \"name\": \"Northern America\", \"orientation\": \"v\", \"showlegend\": true, \"type\": \"scatter\", \"x\": [\"2020-12-19\", \"2020-12-20\", \"2020-12-21\", \"2020-12-22\", \"2020-12-23\", \"2020-12-24\", \"2020-12-25\", \"2020-12-26\", \"2020-12-27\", \"2020-12-28\", \"2020-12-29\", \"2020-12-30\", \"2020-12-31\", \"2021-01-01\", \"2021-01-02\", \"2021-01-03\", \"2021-01-04\", \"2021-01-05\", \"2021-01-06\", \"2021-01-07\", \"2021-01-08\", \"2021-01-09\", \"2021-01-10\", \"2021-01-11\", \"2021-01-12\", \"2021-01-13\", \"2021-01-14\", \"2021-01-15\", \"2021-01-16\", \"2021-01-17\", \"2021-01-18\", \"2021-01-19\", \"2021-01-20\", \"2021-01-21\", \"2021-01-22\", \"2021-01-23\", \"2021-01-24\", \"2021-01-25\", \"2021-01-26\", \"2021-01-27\", \"2021-01-28\", \"2021-01-29\", \"2021-01-30\", \"2021-01-31\", \"2021-02-01\", \"2021-02-02\", \"2021-02-03\", \"2021-02-04\", \"2021-02-05\", \"2021-02-06\", \"2021-02-07\", \"2021-02-08\", \"2021-02-09\", \"2021-02-10\", \"2021-02-11\", \"2021-02-12\", \"2021-02-13\"], \"xaxis\": \"x\", \"y\": [0.02, 0.17, 0.18, 0.3, 0.3, 0.58, 0.58, 0.33499999999999996, 0.64, 0.64, 0.84, 0.84, 1.26, 1.26, 0.735, 1.36, 1.36, 1.45, 1.59, 1.77, 2.0, 1.625, 1.345, 2.6799999999999997, 2.316666666666667, 2.3533333333333335, 2.3533333333333335, 2.4433333333333334, 2.7433333333333336, 3.61, 3.61, 3.61, 3.6766666666666663, 3.753333333333334, 3.8733333333333335, 3.986666666666667, 5.22, 5.296666666666667, 5.36, 5.2175, 5.54, 5.653333333333333, 5.776666666666667, 7.326666666666667, 7.406666666666667, 7.45, 7.5200000000000005, 7.593333333333334, 7.693333333333334, 7.830000000000001, 8.503333333333332, 8.58, 8.633333333333333, 8.723333333333334, 8.816666666666668, 8.926666666666668, 9.049999999999999], \"yaxis\": \"y\"}, {\"hovertemplate\": \"region=Southern Europe<br>date=%{x}<br>people_vaccinated_per_hundred=%{y}<extra></extra>\", \"legendgroup\": \"Southern Europe\", \"line\": {\"color\": \"#ab63fa\", \"dash\": \"solid\"}, \"mode\": \"lines\", \"name\": \"Southern Europe\", \"orientation\": \"v\", \"showlegend\": true, \"type\": \"scatter\", \"x\": [\"2020-12-27\", \"2020-12-28\", \"2020-12-29\", \"2020-12-30\", \"2020-12-31\", \"2021-01-01\", \"2021-01-02\", \"2021-01-03\", \"2021-01-04\", \"2021-01-05\", \"2021-01-06\", \"2021-01-07\", \"2021-01-08\", \"2021-01-09\", \"2021-01-10\", \"2021-01-11\", \"2021-01-12\", \"2021-01-13\", \"2021-01-14\", \"2021-01-15\", \"2021-01-16\", \"2021-01-17\", \"2021-01-18\", \"2021-01-19\", \"2021-01-20\", \"2021-01-21\", \"2021-01-22\", \"2021-01-23\", \"2021-01-24\", \"2021-01-25\", \"2021-01-26\", \"2021-01-27\", \"2021-01-28\", \"2021-01-29\", \"2021-01-30\", \"2021-01-31\", \"2021-02-01\", \"2021-02-02\", \"2021-02-03\", \"2021-02-04\", \"2021-02-05\", \"2021-02-06\", \"2021-02-07\", \"2021-02-08\", \"2021-02-09\", \"2021-02-10\", \"2021-02-11\", \"2021-02-12\", \"2021-02-13\"], \"xaxis\": \"x\", \"y\": [0.14500000000000002, 0.105, 0.1475, 0.184, 0.24200000000000005, 0.246, 0.266, 0.284, 0.32833333333333337, 0.3999999999999999, 0.515, 0.6383333333333333, 0.6557142857142857, 0.7971428571428572, 0.7866666666666666, 1.1622222222222218, 1.5599999999999998, 2.5033333333333334, 2.5955555555555554, 2.7155555555555555, 3.141111111111111, 3.123, 3.335, 3.564999999999999, 3.633, 4.0280000000000005, 4.418000000000001, 4.813000000000001, 5.061, 4.798181818181819, 5.117272727272728, 5.245454545454546, 5.66909090909091, 5.886363636363638, 5.917272727272728, 6.021818181818182, 6.062727272727273, 6.158181818181817, 6.242727272727273, 6.325454545454545, 6.4327272727272735, 6.495454545454546, 6.524545454545454, 6.726363636363637, 6.871818181818182, 7.184545454545456, 7.467272727272728, 7.6054545454545455, 8.43], \"yaxis\": \"y\"}, {\"hovertemplate\": \"region=Western Europe<br>date=%{x}<br>people_vaccinated_per_hundred=%{y}<extra></extra>\", \"legendgroup\": \"Western Europe\", \"line\": {\"color\": \"#FFA15A\", \"dash\": \"solid\"}, \"mode\": \"lines\", \"name\": \"Western Europe\", \"orientation\": \"v\", \"showlegend\": true, \"type\": \"scatter\", \"x\": [\"2020-12-27\", \"2020-12-28\", \"2020-12-29\", \"2020-12-30\", \"2020-12-31\", \"2021-01-01\", \"2021-01-02\", \"2021-01-03\", \"2021-01-04\", \"2021-01-05\", \"2021-01-06\", \"2021-01-07\", \"2021-01-08\", \"2021-01-09\", \"2021-01-10\", \"2021-01-11\", \"2021-01-12\", \"2021-01-13\", \"2021-01-14\", \"2021-01-15\", \"2021-01-16\", \"2021-01-17\", \"2021-01-18\", \"2021-01-19\", \"2021-01-20\", \"2021-01-21\", \"2021-01-22\", \"2021-01-23\", \"2021-01-24\", \"2021-01-25\", \"2021-01-26\", \"2021-01-27\", \"2021-01-28\", \"2021-01-29\", \"2021-01-30\", \"2021-01-31\", \"2021-02-01\", \"2021-02-02\", \"2021-02-03\", \"2021-02-04\", \"2021-02-05\", \"2021-02-06\", \"2021-02-07\", \"2021-02-08\", \"2021-02-09\", \"2021-02-10\", \"2021-02-11\", \"2021-02-12\", \"2021-02-13\"], \"xaxis\": \"x\", \"y\": [0.015, 0.016666666666666666, 0.03333333333333333, 0.0925, 0.135, 0.14250000000000002, 0.16, 0.1675, 0.1825, 0.2, 0.23, 0.27249999999999996, 0.3225, 0.35250000000000004, 0.308, 0.352, 0.43, 0.538, 0.656, 0.774, 0.8240000000000001, 0.8539999999999999, 0.942, 1.0719999999999998, 1.228, 1.3960000000000001, 1.548, 1.61, 2.2033333333333336, 2.25, 2.3433333333333333, 2.43, 2.5283333333333333, 2.6183333333333336, 2.651666666666667, 2.665, 2.7100000000000004, 2.776666666666667, 2.8433333333333337, 2.9150000000000005, 2.98, 3.0066666666666673, 3.018333333333333, 3.0500000000000003, 3.1, 3.17, 3.2550000000000003, 3.34, 3.3716666666666666], \"yaxis\": \"y\"}],                        {\"legend\": {\"title\": {\"text\": \"region\"}, \"tracegroupgap\": 0}, \"template\": {\"data\": {\"bar\": [{\"error_x\": {\"color\": \"#2a3f5f\"}, \"error_y\": {\"color\": \"#2a3f5f\"}, \"marker\": {\"line\": {\"color\": \"#E5ECF6\", \"width\": 0.5}}, \"type\": \"bar\"}], \"barpolar\": [{\"marker\": {\"line\": {\"color\": \"#E5ECF6\", \"width\": 0.5}}, \"type\": \"barpolar\"}], \"carpet\": [{\"aaxis\": {\"endlinecolor\": \"#2a3f5f\", \"gridcolor\": \"white\", \"linecolor\": \"white\", \"minorgridcolor\": \"white\", \"startlinecolor\": \"#2a3f5f\"}, \"baxis\": {\"endlinecolor\": \"#2a3f5f\", \"gridcolor\": \"white\", \"linecolor\": \"white\", \"minorgridcolor\": \"white\", \"startlinecolor\": \"#2a3f5f\"}, \"type\": \"carpet\"}], \"choropleth\": [{\"colorbar\": {\"outlinewidth\": 0, \"ticks\": \"\"}, \"type\": \"choropleth\"}], \"contour\": [{\"colorbar\": {\"outlinewidth\": 0, \"ticks\": \"\"}, \"colorscale\": [[0.0, \"#0d0887\"], [0.1111111111111111, \"#46039f\"], [0.2222222222222222, \"#7201a8\"], [0.3333333333333333, \"#9c179e\"], [0.4444444444444444, \"#bd3786\"], [0.5555555555555556, \"#d8576b\"], [0.6666666666666666, \"#ed7953\"], [0.7777777777777778, \"#fb9f3a\"], [0.8888888888888888, \"#fdca26\"], [1.0, \"#f0f921\"]], \"type\": \"contour\"}], \"contourcarpet\": [{\"colorbar\": {\"outlinewidth\": 0, \"ticks\": \"\"}, \"type\": \"contourcarpet\"}], \"heatmap\": [{\"colorbar\": {\"outlinewidth\": 0, \"ticks\": \"\"}, \"colorscale\": [[0.0, \"#0d0887\"], [0.1111111111111111, \"#46039f\"], [0.2222222222222222, \"#7201a8\"], [0.3333333333333333, \"#9c179e\"], [0.4444444444444444, \"#bd3786\"], [0.5555555555555556, \"#d8576b\"], [0.6666666666666666, \"#ed7953\"], [0.7777777777777778, \"#fb9f3a\"], [0.8888888888888888, \"#fdca26\"], [1.0, \"#f0f921\"]], \"type\": \"heatmap\"}], \"heatmapgl\": [{\"colorbar\": {\"outlinewidth\": 0, \"ticks\": \"\"}, \"colorscale\": [[0.0, \"#0d0887\"], [0.1111111111111111, \"#46039f\"], [0.2222222222222222, \"#7201a8\"], [0.3333333333333333, \"#9c179e\"], [0.4444444444444444, \"#bd3786\"], [0.5555555555555556, \"#d8576b\"], [0.6666666666666666, \"#ed7953\"], [0.7777777777777778, \"#fb9f3a\"], [0.8888888888888888, \"#fdca26\"], [1.0, \"#f0f921\"]], \"type\": \"heatmapgl\"}], \"histogram\": [{\"marker\": {\"colorbar\": {\"outlinewidth\": 0, \"ticks\": \"\"}}, \"type\": \"histogram\"}], \"histogram2d\": [{\"colorbar\": {\"outlinewidth\": 0, \"ticks\": \"\"}, \"colorscale\": [[0.0, \"#0d0887\"], [0.1111111111111111, \"#46039f\"], [0.2222222222222222, \"#7201a8\"], [0.3333333333333333, \"#9c179e\"], [0.4444444444444444, \"#bd3786\"], [0.5555555555555556, \"#d8576b\"], [0.6666666666666666, \"#ed7953\"], [0.7777777777777778, \"#fb9f3a\"], [0.8888888888888888, \"#fdca26\"], [1.0, \"#f0f921\"]], \"type\": \"histogram2d\"}], \"histogram2dcontour\": [{\"colorbar\": {\"outlinewidth\": 0, \"ticks\": \"\"}, \"colorscale\": [[0.0, \"#0d0887\"], [0.1111111111111111, \"#46039f\"], [0.2222222222222222, \"#7201a8\"], [0.3333333333333333, \"#9c179e\"], [0.4444444444444444, \"#bd3786\"], [0.5555555555555556, \"#d8576b\"], [0.6666666666666666, \"#ed7953\"], [0.7777777777777778, \"#fb9f3a\"], [0.8888888888888888, \"#fdca26\"], [1.0, \"#f0f921\"]], \"type\": \"histogram2dcontour\"}], \"mesh3d\": [{\"colorbar\": {\"outlinewidth\": 0, \"ticks\": \"\"}, \"type\": \"mesh3d\"}], \"parcoords\": [{\"line\": {\"colorbar\": {\"outlinewidth\": 0, \"ticks\": \"\"}}, \"type\": \"parcoords\"}], \"pie\": [{\"automargin\": true, \"type\": \"pie\"}], \"scatter\": [{\"marker\": {\"colorbar\": {\"outlinewidth\": 0, \"ticks\": \"\"}}, \"type\": \"scatter\"}], \"scatter3d\": [{\"line\": {\"colorbar\": {\"outlinewidth\": 0, \"ticks\": \"\"}}, \"marker\": {\"colorbar\": {\"outlinewidth\": 0, \"ticks\": \"\"}}, \"type\": \"scatter3d\"}], \"scattercarpet\": [{\"marker\": {\"colorbar\": {\"outlinewidth\": 0, \"ticks\": \"\"}}, \"type\": \"scattercarpet\"}], \"scattergeo\": [{\"marker\": {\"colorbar\": {\"outlinewidth\": 0, \"ticks\": \"\"}}, \"type\": \"scattergeo\"}], \"scattergl\": [{\"marker\": {\"colorbar\": {\"outlinewidth\": 0, \"ticks\": \"\"}}, \"type\": \"scattergl\"}], \"scattermapbox\": [{\"marker\": {\"colorbar\": {\"outlinewidth\": 0, \"ticks\": \"\"}}, \"type\": \"scattermapbox\"}], \"scatterpolar\": [{\"marker\": {\"colorbar\": {\"outlinewidth\": 0, \"ticks\": \"\"}}, \"type\": \"scatterpolar\"}], \"scatterpolargl\": [{\"marker\": {\"colorbar\": {\"outlinewidth\": 0, \"ticks\": \"\"}}, \"type\": \"scatterpolargl\"}], \"scatterternary\": [{\"marker\": {\"colorbar\": {\"outlinewidth\": 0, \"ticks\": \"\"}}, \"type\": \"scatterternary\"}], \"surface\": [{\"colorbar\": {\"outlinewidth\": 0, \"ticks\": \"\"}, \"colorscale\": [[0.0, \"#0d0887\"], [0.1111111111111111, \"#46039f\"], [0.2222222222222222, \"#7201a8\"], [0.3333333333333333, \"#9c179e\"], [0.4444444444444444, \"#bd3786\"], [0.5555555555555556, \"#d8576b\"], [0.6666666666666666, \"#ed7953\"], [0.7777777777777778, \"#fb9f3a\"], [0.8888888888888888, \"#fdca26\"], [1.0, \"#f0f921\"]], \"type\": \"surface\"}], \"table\": [{\"cells\": {\"fill\": {\"color\": \"#EBF0F8\"}, \"line\": {\"color\": \"white\"}}, \"header\": {\"fill\": {\"color\": \"#C8D4E3\"}, \"line\": {\"color\": \"white\"}}, \"type\": \"table\"}]}, \"layout\": {\"annotationdefaults\": {\"arrowcolor\": \"#2a3f5f\", \"arrowhead\": 0, \"arrowwidth\": 1}, \"autotypenumbers\": \"strict\", \"coloraxis\": {\"colorbar\": {\"outlinewidth\": 0, \"ticks\": \"\"}}, \"colorscale\": {\"diverging\": [[0, \"#8e0152\"], [0.1, \"#c51b7d\"], [0.2, \"#de77ae\"], [0.3, \"#f1b6da\"], [0.4, \"#fde0ef\"], [0.5, \"#f7f7f7\"], [0.6, \"#e6f5d0\"], [0.7, \"#b8e186\"], [0.8, \"#7fbc41\"], [0.9, \"#4d9221\"], [1, \"#276419\"]], \"sequential\": [[0.0, \"#0d0887\"], [0.1111111111111111, \"#46039f\"], [0.2222222222222222, \"#7201a8\"], [0.3333333333333333, \"#9c179e\"], [0.4444444444444444, \"#bd3786\"], [0.5555555555555556, \"#d8576b\"], [0.6666666666666666, \"#ed7953\"], [0.7777777777777778, \"#fb9f3a\"], [0.8888888888888888, \"#fdca26\"], [1.0, \"#f0f921\"]], \"sequentialminus\": [[0.0, \"#0d0887\"], [0.1111111111111111, \"#46039f\"], [0.2222222222222222, \"#7201a8\"], [0.3333333333333333, \"#9c179e\"], [0.4444444444444444, \"#bd3786\"], [0.5555555555555556, \"#d8576b\"], [0.6666666666666666, \"#ed7953\"], [0.7777777777777778, \"#fb9f3a\"], [0.8888888888888888, \"#fdca26\"], [1.0, \"#f0f921\"]]}, \"colorway\": [\"#636efa\", \"#EF553B\", \"#00cc96\", \"#ab63fa\", \"#FFA15A\", \"#19d3f3\", \"#FF6692\", \"#B6E880\", \"#FF97FF\", \"#FECB52\"], \"font\": {\"color\": \"#2a3f5f\"}, \"geo\": {\"bgcolor\": \"white\", \"lakecolor\": \"white\", \"landcolor\": \"#E5ECF6\", \"showlakes\": true, \"showland\": true, \"subunitcolor\": \"white\"}, \"hoverlabel\": {\"align\": \"left\"}, \"hovermode\": \"closest\", \"mapbox\": {\"style\": \"light\"}, \"paper_bgcolor\": \"white\", \"plot_bgcolor\": \"#E5ECF6\", \"polar\": {\"angularaxis\": {\"gridcolor\": \"white\", \"linecolor\": \"white\", \"ticks\": \"\"}, \"bgcolor\": \"#E5ECF6\", \"radialaxis\": {\"gridcolor\": \"white\", \"linecolor\": \"white\", \"ticks\": \"\"}}, \"scene\": {\"xaxis\": {\"backgroundcolor\": \"#E5ECF6\", \"gridcolor\": \"white\", \"gridwidth\": 2, \"linecolor\": \"white\", \"showbackground\": true, \"ticks\": \"\", \"zerolinecolor\": \"white\"}, \"yaxis\": {\"backgroundcolor\": \"#E5ECF6\", \"gridcolor\": \"white\", \"gridwidth\": 2, \"linecolor\": \"white\", \"showbackground\": true, \"ticks\": \"\", \"zerolinecolor\": \"white\"}, \"zaxis\": {\"backgroundcolor\": \"#E5ECF6\", \"gridcolor\": \"white\", \"gridwidth\": 2, \"linecolor\": \"white\", \"showbackground\": true, \"ticks\": \"\", \"zerolinecolor\": \"white\"}}, \"shapedefaults\": {\"line\": {\"color\": \"#2a3f5f\"}}, \"ternary\": {\"aaxis\": {\"gridcolor\": \"white\", \"linecolor\": \"white\", \"ticks\": \"\"}, \"baxis\": {\"gridcolor\": \"white\", \"linecolor\": \"white\", \"ticks\": \"\"}, \"bgcolor\": \"#E5ECF6\", \"caxis\": {\"gridcolor\": \"white\", \"linecolor\": \"white\", \"ticks\": \"\"}}, \"title\": {\"x\": 0.05}, \"xaxis\": {\"automargin\": true, \"gridcolor\": \"white\", \"linecolor\": \"white\", \"ticks\": \"\", \"title\": {\"standoff\": 15}, \"zerolinecolor\": \"white\", \"zerolinewidth\": 2}, \"yaxis\": {\"automargin\": true, \"gridcolor\": \"white\", \"linecolor\": \"white\", \"ticks\": \"\", \"title\": {\"standoff\": 15}, \"zerolinecolor\": \"white\", \"zerolinewidth\": 2}}}, \"title\": {\"text\": \"people_vaccinated_per_hundred evolution in the first three months\"}, \"xaxis\": {\"anchor\": \"y\", \"domain\": [0.0, 1.0], \"title\": {\"text\": \"date\"}}, \"yaxis\": {\"anchor\": \"x\", \"domain\": [0.0, 1.0], \"title\": {\"text\": \"people_vaccinated_per_hundred\"}}},                        {\"responsive\": true}                    ).then(function(){\n",
       "                            \n",
       "var gd = document.getElementById('fca05daa-7915-4222-badc-ed090bdc52f7');\n",
       "var x = new MutationObserver(function (mutations, observer) {{\n",
       "        var display = window.getComputedStyle(gd).display;\n",
       "        if (!display || display === 'none') {{\n",
       "            console.log([gd, 'removed!']);\n",
       "            Plotly.purge(gd);\n",
       "            observer.disconnect();\n",
       "        }}\n",
       "}});\n",
       "\n",
       "// Listen for the removal of the full notebook cells\n",
       "var notebookContainer = gd.closest('#notebook-container');\n",
       "if (notebookContainer) {{\n",
       "    x.observe(notebookContainer, {childList: true});\n",
       "}}\n",
       "\n",
       "// Listen for the clearing of the current output cell\n",
       "var outputEl = gd.closest('.output');\n",
       "if (outputEl) {{\n",
       "    x.observe(outputEl, {childList: true});\n",
       "}}\n",
       "\n",
       "                        })                };                });            </script>        </div>"
      ]
     },
     "metadata": {},
     "output_type": "display_data"
    }
   ],
   "source": [
    "plot_daily_vaccination_data(data = regions_daily_df,  \n",
    "                            region_column = 'region',\n",
    "                            regions_list = Europe + ['Northern America'],\n",
    "                            vaccination_metric = 'people_vaccinated_per_hundred',\n",
    "                            plot_title = 'people_vaccinated_per_hundred evolution in the first three months',\n",
    "                           )"
   ]
  },
  {
   "cell_type": "markdown",
   "metadata": {
    "papermill": {
     "duration": 0.067882,
     "end_time": "2021-02-20T21:52:36.117377",
     "exception": false,
     "start_time": "2021-02-20T21:52:36.049495",
     "status": "completed"
    },
    "tags": []
   },
   "source": [
    "**Analysis per country: when will we have 25% of population vaccinated?**"
   ]
  },
  {
   "cell_type": "markdown",
   "metadata": {
    "papermill": {
     "duration": 0.06773,
     "end_time": "2021-02-20T21:52:36.253135",
     "exception": false,
     "start_time": "2021-02-20T21:52:36.185405",
     "status": "completed"
    },
    "tags": []
   },
   "source": [
    "To answer This question, I will make timeseries predictions using [Facebook's Prophet](https://facebook.github.io/prophet/)."
   ]
  },
  {
   "cell_type": "code",
   "execution_count": null,
   "metadata": {
    "papermill": {
     "duration": 0.080047,
     "end_time": "2021-02-20T21:52:36.401487",
     "exception": false,
     "start_time": "2021-02-20T21:52:36.321440",
     "status": "completed"
    },
    "tags": []
   },
   "outputs": [],
   "source": [
    "def fbprophet_predict_and_plot(data, region_column, region, vaccination_metric, min_date = '2020-12-13', max_date='2021-02-13', future_days=10, plot=True):\n",
    "    '''\n",
    "    Plots or returns FbProphet predictions for a vaccination metric\n",
    "\n",
    "    INPUT \n",
    "    data : Pandas dataframe\n",
    "        a dataframe holding the data to be used for training and plotting \n",
    "        must contain a date column (unique dates), a region column and a vaccination related metric\n",
    "    region_column : string\n",
    "        name of the region column (continent/region/country)\n",
    "    region : string\n",
    "        region of interest - the region to get predictions and plots for\n",
    "        must be a value of region_column\n",
    "    vaccination_metric : string\n",
    "        name of the vaccination metric column (daily_vaccinations/people_fully_vaccinated_per_hundred)\n",
    "    min_date : string\n",
    "        lower date limit for the training data\n",
    "    max_date : string\n",
    "        upper date limit for the training data\n",
    "    future_days : integer\n",
    "        number of days to forecast\n",
    "    plot : boolean\n",
    "        whether you want a plot or the forecast\n",
    "    '''\n",
    "    df = data[(data[region_column] == region) & (data.date <= max_date) & (data.date >= min_date)]\n",
    "    df = df[['date', vaccination_metric]]\n",
    "    df.columns = ['ds', 'y']\n",
    "    model = Prophet(interval_width = 0.95)\n",
    "    model.fit(df)\n",
    "    future = model.make_future_dataframe(periods=future_days)\n",
    "    forecast = model.predict(future)\n",
    "    if plot:\n",
    "        fig = plot_plotly(model, forecast)\n",
    "        fig.show()\n",
    "    else:\n",
    "        return forecast"
   ]
  },
  {
   "cell_type": "markdown",
   "metadata": {
    "papermill": {
     "duration": 0.070832,
     "end_time": "2021-02-20T21:52:36.550998",
     "exception": false,
     "start_time": "2021-02-20T21:52:36.480166",
     "status": "completed"
    },
    "tags": []
   },
   "source": [
    "United States may have 25% of the population vaccinated by April 5, according to the predictions below"
   ]
  },
  {
   "cell_type": "code",
   "execution_count": null,
   "metadata": {
    "papermill": {
     "duration": 5.003065,
     "end_time": "2021-02-20T21:52:41.625169",
     "exception": false,
     "start_time": "2021-02-20T21:52:36.622104",
     "status": "completed"
    },
    "tags": []
   },
   "outputs": [],
   "source": [
    "fbprophet_predict_and_plot(data = data, \n",
    "                           region_column = 'country',\n",
    "                           region = 'United States',\n",
    "                           vaccination_metric = 'people_vaccinated_per_hundred',\n",
    "                           future_days = 55,\n",
    "                          )"
   ]
  },
  {
   "cell_type": "markdown",
   "metadata": {
    "papermill": {
     "duration": 0.068564,
     "end_time": "2021-02-20T21:52:41.763368",
     "exception": false,
     "start_time": "2021-02-20T21:52:41.694804",
     "status": "completed"
    },
    "tags": []
   },
   "source": [
    "Next, I will use the defined function to make similar predictions for countries in Europe and North America that have values for *people_vaccinated_per_hundred*"
   ]
  },
  {
   "cell_type": "code",
   "execution_count": null,
   "metadata": {
    "papermill": {
     "duration": 0.085382,
     "end_time": "2021-02-20T21:52:41.918011",
     "exception": false,
     "start_time": "2021-02-20T21:52:41.832629",
     "status": "completed"
    },
    "tags": []
   },
   "outputs": [],
   "source": [
    "#all countries in Europe and United States\n",
    "all_countries_EU_US = list(data[data.continent.isin(['Europe', 'North America'])].country.unique())\n",
    "#removing countries from UK\n",
    "all_countries_EU_US = [country for country in all_countries_EU_US if country not in uk_countries]"
   ]
  },
  {
   "cell_type": "code",
   "execution_count": null,
   "metadata": {
    "papermill": {
     "duration": 0.078099,
     "end_time": "2021-02-20T21:52:42.066539",
     "exception": false,
     "start_time": "2021-02-20T21:52:41.988440",
     "status": "completed"
    },
    "tags": []
   },
   "outputs": [],
   "source": [
    "names = []\n",
    "dates = []"
   ]
  },
  {
   "cell_type": "code",
   "execution_count": null,
   "metadata": {
    "papermill": {
     "duration": 176.676186,
     "end_time": "2021-02-20T21:55:38.811959",
     "exception": false,
     "start_time": "2021-02-20T21:52:42.135773",
     "status": "completed"
    },
    "tags": []
   },
   "outputs": [],
   "source": [
    "for country in all_countries_EU_US:\n",
    "    \n",
    "    #if there are no people_vaccinated_per_hundred values for country, skip country\n",
    "    if data[(data['people_vaccinated_per_hundred'].notnull()) & (data['country'] == country)].shape[0] > 2:\n",
    "    \n",
    "        min_date = data[(data['country'] == country)].date.min()\n",
    "\n",
    "        forecast = fbprophet_predict_and_plot(data = data, \n",
    "                                              region_column = 'country',\n",
    "                                              region = country,\n",
    "                                              vaccination_metric = 'people_vaccinated_per_hundred',\n",
    "                                              min_date = min_date,\n",
    "                                              future_days = 300,\n",
    "                                              plot = False,\n",
    "                                             )\n",
    "\n",
    "        if not forecast.loc[forecast.yhat > 25].empty:\n",
    "            names.append(country)\n",
    "            dates.append(forecast.loc[forecast.yhat > 25].ds.min().date())"
   ]
  },
  {
   "cell_type": "markdown",
   "metadata": {
    "papermill": {
     "duration": 0.070281,
     "end_time": "2021-02-20T21:55:38.953641",
     "exception": false,
     "start_time": "2021-02-20T21:55:38.883360",
     "status": "completed"
    },
    "tags": []
   },
   "source": [
    "Timeline based on the predictions"
   ]
  },
  {
   "cell_type": "code",
   "execution_count": null,
   "metadata": {
    "_kg_hide-input": true,
    "papermill": {
     "duration": 0.465072,
     "end_time": "2021-02-20T21:55:39.488938",
     "exception": false,
     "start_time": "2021-02-20T21:55:39.023866",
     "status": "completed"
    },
    "tags": []
   },
   "outputs": [],
   "source": [
    "#the code below is taken from https://matplotlib.org/stable/gallery/lines_bars_and_markers/timeline.html\n",
    "\n",
    "# Choose some nice levels\n",
    "levels = np.tile([-5, 5, -3, 3, -1, 1],\n",
    "                 int(np.ceil(len(dates)/6)))[:len(dates)]\n",
    "\n",
    "# Create figure and plot a stem plot with the date\n",
    "fig, ax = plt.subplots(figsize=(25, 7), constrained_layout=True)\n",
    "ax.set(title=\"When can we have 25% of people vaccinated?\")\n",
    "\n",
    "markerline, stemline, baseline = ax.stem(dates, levels,\n",
    "                                         linefmt=\"C3-\", basefmt=\"k-\",\n",
    "                                         use_line_collection=True)\n",
    "\n",
    "plt.setp(markerline, mec=\"k\", mfc=\"w\", zorder=3)\n",
    "\n",
    "# Shift the markers to the baseline by replacing the y-data by zeros.\n",
    "markerline.set_ydata(np.zeros(len(dates)))\n",
    "\n",
    "# annotate lines\n",
    "vert = np.array(['top', 'bottom'])[(levels > 0).astype(int)]\n",
    "vert[13] = 'top' #addded cheat - might fix later\n",
    "for d, l, r, va in zip(dates, levels, names, vert):\n",
    "    ax.annotate(r, xy=(d, l), xytext=(-3, np.sign(l)*3),\n",
    "                textcoords=\"offset points\", va=va, ha=\"right\")\n",
    "\n",
    "# remove y axis and spines\n",
    "ax.get_yaxis().set_visible(False)\n",
    "for spine in [\"left\", \"top\", \"right\"]:\n",
    "    ax.spines[spine].set_visible(False)\n",
    "\n",
    "ax.margins(y=0.1)\n",
    "plt.show()"
   ]
  },
  {
   "cell_type": "markdown",
   "metadata": {
    "papermill": {
     "duration": 0.074739,
     "end_time": "2021-02-20T21:55:39.638569",
     "exception": false,
     "start_time": "2021-02-20T21:55:39.563830",
     "status": "completed"
    },
    "tags": []
   },
   "source": [
    "Where will we be when summer starts?\n",
    "\n",
    "Below there are predictions of the percentage of people vaccinated per country, until June:"
   ]
  },
  {
   "cell_type": "code",
   "execution_count": null,
   "metadata": {
    "papermill": {
     "duration": 131.316147,
     "end_time": "2021-02-20T21:57:51.027176",
     "exception": false,
     "start_time": "2021-02-20T21:55:39.711029",
     "status": "completed"
    },
    "tags": []
   },
   "outputs": [],
   "source": [
    "print('Predicted percentage of people vaccinated until June: \\n======================================================')\n",
    "\n",
    "for country in all_countries_EU_US:\n",
    "    \n",
    "    #if there are no people_vaccinated_per_hundred values for country, skip country\n",
    "    if data[(data['people_vaccinated_per_hundred'].notnull()) & (data['country'] == country)].shape[0] > 2:\n",
    "    \n",
    "        min_date = data[(data['country'] == country)].date.min()\n",
    "\n",
    "        forecast = fbprophet_predict_and_plot(data = data, \n",
    "                                              region_column = 'country',\n",
    "                                              region = country,\n",
    "                                              vaccination_metric = 'people_vaccinated_per_hundred',\n",
    "                                              min_date = min_date,\n",
    "                                              future_days = 150,\n",
    "                                              plot = False,\n",
    "                                             )\n",
    "    \n",
    "        #print predicted percentage of vaccinated people until June\n",
    "        print('\\t', country, '\\t', round(float(forecast.loc[forecast.ds == '2021-06-01'].yhat),2), '%')"
   ]
  },
  {
   "cell_type": "markdown",
   "metadata": {
    "papermill": {
     "duration": 0.083344,
     "end_time": "2021-02-20T21:57:51.194625",
     "exception": false,
     "start_time": "2021-02-20T21:57:51.111281",
     "status": "completed"
    },
    "tags": []
   },
   "source": [
    "... until then ..."
   ]
  },
  {
   "cell_type": "markdown",
   "metadata": {
    "papermill": {
     "duration": 0.08283,
     "end_time": "2021-02-20T21:57:51.360399",
     "exception": false,
     "start_time": "2021-02-20T21:57:51.277569",
     "status": "completed"
    },
    "tags": []
   },
   "source": [
    "<img src=\"https://worldfinancialreview.com/wp-content/uploads/2020/06/virus-1.jpg\" width=\"500px\">"
   ]
  },
  {
   "cell_type": "markdown",
   "metadata": {
    "papermill": {
     "duration": 0.083812,
     "end_time": "2021-02-20T21:57:51.527793",
     "exception": false,
     "start_time": "2021-02-20T21:57:51.443981",
     "status": "completed"
    },
    "tags": []
   },
   "source": [
    "The world is doing a great job bringing this pandemic to an end and the medical progress is impressive. However, we noticed that it is a real challenge to make the vaccines available all over the globe and that there is a difference between the progress in each continent.\n",
    "\n",
    "According to the predictions in this notebook, a lot of countries would reach the 25% of population vaccinated threshold only at the end of this year or even in 2022. This won’t be ideal, but maybe in the near future we will witness day by day improvements when it comes to the availability of the vaccine and the number of people vaccinated in a day. Also, the fact that more types of vaccines are tested, accepted and used in the world can strengthen our hope to go back to a normal life.\n",
    "\n",
    "Until then, take care, don’t forget to wear a mask and hold on, because the end of this pandemic may be closer than we imagine. I hope the notebook was insightful, and as I am new to Kaggle, I would really appreciate some feedback. :)"
   ]
  }
 ],
 "metadata": {
  "kernelspec": {
   "display_name": "Python 3",
   "language": "python",
   "name": "python3"
  },
  "language_info": {
   "codemirror_mode": {
    "name": "ipython",
    "version": 3
   },
   "file_extension": ".py",
   "mimetype": "text/x-python",
   "name": "python",
   "nbconvert_exporter": "python",
   "pygments_lexer": "ipython3",
   "version": "3.8.5"
  },
  "papermill": {
   "default_parameters": {},
   "duration": 335.864876,
   "end_time": "2021-02-20T21:57:52.422136",
   "environment_variables": {},
   "exception": null,
   "input_path": "__notebook__.ipynb",
   "output_path": "__notebook__.ipynb",
   "parameters": {},
   "start_time": "2021-02-20T21:52:16.557260",
   "version": "2.2.2"
  }
 },
 "nbformat": 4,
 "nbformat_minor": 4
}
