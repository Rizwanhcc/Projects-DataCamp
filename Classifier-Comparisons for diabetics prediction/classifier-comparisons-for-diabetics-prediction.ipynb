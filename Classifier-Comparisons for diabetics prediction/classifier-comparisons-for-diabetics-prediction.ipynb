{
 "cells": [
  {
   "cell_type": "markdown",
   "metadata": {
    "papermill": {
     "duration": 0.013712,
     "end_time": "2021-02-09T09:10:32.671911",
     "exception": false,
     "start_time": "2021-02-09T09:10:32.658199",
     "status": "completed"
    },
    "tags": []
   },
   "source": [
    "# Predicting early stage diabetics\n",
    "\n",
    "We need to go through the following steps for predicting early stage diabetics:\n",
    "1. Data wrangling\n",
    "2. Data preprocessing\n",
    "3. evaluating machine learning models\n",
    "4. creating ensamble model for robustness\n"
   ]
  },
  {
   "cell_type": "markdown",
   "metadata": {
    "papermill": {
     "duration": 0.011422,
     "end_time": "2021-02-09T09:10:32.695311",
     "exception": false,
     "start_time": "2021-02-09T09:10:32.683889",
     "status": "completed"
    },
    "tags": []
   },
   "source": [
    "## Load the data set into memory\n",
    "\n",
    "This is a very small dataset consisting only 520 instances and cosumes approximately 70 KB so we can load all of it into memory, but for huge datasets we need to process them chunk by chunk."
   ]
  },
  {
   "cell_type": "code",
   "execution_count": 1,
   "metadata": {
    "_cell_guid": "b1076dfc-b9ad-4769-8c92-a6c4dae69d19",
    "_uuid": "8f2839f25d086af736a60e9eeb907d3b93b6e0e5",
    "papermill": {
     "duration": 0.982406,
     "end_time": "2021-02-09T09:10:33.689667",
     "exception": false,
     "start_time": "2021-02-09T09:10:32.707261",
     "status": "completed"
    },
    "tags": []
   },
   "outputs": [],
   "source": [
    "import numpy as np\n",
    "import pandas as pd\n",
    "import seaborn as sns\n",
    "import matplotlib.pyplot as plt"
   ]
  },
  {
   "cell_type": "code",
   "execution_count": 4,
   "metadata": {
    "_cell_guid": "b1076dfc-b9ad-4769-8c92-a6c4dae69d19",
    "_uuid": "8f2839f25d086af736a60e9eeb907d3b93b6e0e5",
    "papermill": {
     "duration": 0.099028,
     "end_time": "2021-02-09T09:10:33.800963",
     "exception": false,
     "start_time": "2021-02-09T09:10:33.701935",
     "status": "completed"
    },
    "tags": []
   },
   "outputs": [
    {
     "data": {
      "text/html": [
       "<div>\n",
       "<style scoped>\n",
       "    .dataframe tbody tr th:only-of-type {\n",
       "        vertical-align: middle;\n",
       "    }\n",
       "\n",
       "    .dataframe tbody tr th {\n",
       "        vertical-align: top;\n",
       "    }\n",
       "\n",
       "    .dataframe thead th {\n",
       "        text-align: right;\n",
       "    }\n",
       "</style>\n",
       "<table border=\"1\" class=\"dataframe\">\n",
       "  <thead>\n",
       "    <tr style=\"text-align: right;\">\n",
       "      <th></th>\n",
       "      <th>Age</th>\n",
       "      <th>Gender</th>\n",
       "      <th>Polyuria</th>\n",
       "      <th>Polydipsia</th>\n",
       "      <th>sudden weight loss</th>\n",
       "      <th>weakness</th>\n",
       "      <th>Polyphagia</th>\n",
       "      <th>Genital thrush</th>\n",
       "      <th>visual blurring</th>\n",
       "      <th>Itching</th>\n",
       "      <th>Irritability</th>\n",
       "      <th>delayed healing</th>\n",
       "      <th>partial paresis</th>\n",
       "      <th>muscle stiffness</th>\n",
       "      <th>Alopecia</th>\n",
       "      <th>Obesity</th>\n",
       "      <th>class</th>\n",
       "    </tr>\n",
       "  </thead>\n",
       "  <tbody>\n",
       "    <tr>\n",
       "      <th>0</th>\n",
       "      <td>40</td>\n",
       "      <td>Male</td>\n",
       "      <td>No</td>\n",
       "      <td>Yes</td>\n",
       "      <td>No</td>\n",
       "      <td>Yes</td>\n",
       "      <td>No</td>\n",
       "      <td>No</td>\n",
       "      <td>No</td>\n",
       "      <td>Yes</td>\n",
       "      <td>No</td>\n",
       "      <td>Yes</td>\n",
       "      <td>No</td>\n",
       "      <td>Yes</td>\n",
       "      <td>Yes</td>\n",
       "      <td>Yes</td>\n",
       "      <td>Positive</td>\n",
       "    </tr>\n",
       "    <tr>\n",
       "      <th>1</th>\n",
       "      <td>58</td>\n",
       "      <td>Male</td>\n",
       "      <td>No</td>\n",
       "      <td>No</td>\n",
       "      <td>No</td>\n",
       "      <td>Yes</td>\n",
       "      <td>No</td>\n",
       "      <td>No</td>\n",
       "      <td>Yes</td>\n",
       "      <td>No</td>\n",
       "      <td>No</td>\n",
       "      <td>No</td>\n",
       "      <td>Yes</td>\n",
       "      <td>No</td>\n",
       "      <td>Yes</td>\n",
       "      <td>No</td>\n",
       "      <td>Positive</td>\n",
       "    </tr>\n",
       "    <tr>\n",
       "      <th>2</th>\n",
       "      <td>41</td>\n",
       "      <td>Male</td>\n",
       "      <td>Yes</td>\n",
       "      <td>No</td>\n",
       "      <td>No</td>\n",
       "      <td>Yes</td>\n",
       "      <td>Yes</td>\n",
       "      <td>No</td>\n",
       "      <td>No</td>\n",
       "      <td>Yes</td>\n",
       "      <td>No</td>\n",
       "      <td>Yes</td>\n",
       "      <td>No</td>\n",
       "      <td>Yes</td>\n",
       "      <td>Yes</td>\n",
       "      <td>No</td>\n",
       "      <td>Positive</td>\n",
       "    </tr>\n",
       "    <tr>\n",
       "      <th>3</th>\n",
       "      <td>45</td>\n",
       "      <td>Male</td>\n",
       "      <td>No</td>\n",
       "      <td>No</td>\n",
       "      <td>Yes</td>\n",
       "      <td>Yes</td>\n",
       "      <td>Yes</td>\n",
       "      <td>Yes</td>\n",
       "      <td>No</td>\n",
       "      <td>Yes</td>\n",
       "      <td>No</td>\n",
       "      <td>Yes</td>\n",
       "      <td>No</td>\n",
       "      <td>No</td>\n",
       "      <td>No</td>\n",
       "      <td>No</td>\n",
       "      <td>Positive</td>\n",
       "    </tr>\n",
       "    <tr>\n",
       "      <th>4</th>\n",
       "      <td>60</td>\n",
       "      <td>Male</td>\n",
       "      <td>Yes</td>\n",
       "      <td>Yes</td>\n",
       "      <td>Yes</td>\n",
       "      <td>Yes</td>\n",
       "      <td>Yes</td>\n",
       "      <td>No</td>\n",
       "      <td>Yes</td>\n",
       "      <td>Yes</td>\n",
       "      <td>Yes</td>\n",
       "      <td>Yes</td>\n",
       "      <td>Yes</td>\n",
       "      <td>Yes</td>\n",
       "      <td>Yes</td>\n",
       "      <td>Yes</td>\n",
       "      <td>Positive</td>\n",
       "    </tr>\n",
       "  </tbody>\n",
       "</table>\n",
       "</div>"
      ],
      "text/plain": [
       "   Age Gender Polyuria Polydipsia sudden weight loss weakness Polyphagia  \\\n",
       "0   40   Male       No        Yes                 No      Yes         No   \n",
       "1   58   Male       No         No                 No      Yes         No   \n",
       "2   41   Male      Yes         No                 No      Yes        Yes   \n",
       "3   45   Male       No         No                Yes      Yes        Yes   \n",
       "4   60   Male      Yes        Yes                Yes      Yes        Yes   \n",
       "\n",
       "  Genital thrush visual blurring Itching Irritability delayed healing  \\\n",
       "0             No              No     Yes           No             Yes   \n",
       "1             No             Yes      No           No              No   \n",
       "2             No              No     Yes           No             Yes   \n",
       "3            Yes              No     Yes           No             Yes   \n",
       "4             No             Yes     Yes          Yes             Yes   \n",
       "\n",
       "  partial paresis muscle stiffness Alopecia Obesity     class  \n",
       "0              No              Yes      Yes     Yes  Positive  \n",
       "1             Yes               No      Yes      No  Positive  \n",
       "2              No              Yes      Yes      No  Positive  \n",
       "3              No               No       No      No  Positive  \n",
       "4             Yes              Yes      Yes     Yes  Positive  "
      ]
     },
     "execution_count": 4,
     "metadata": {},
     "output_type": "execute_result"
    }
   ],
   "source": [
    "#import os\n",
    "#for dirname, _, filenames in os.walk('/kaggle/input'):\n",
    "#    for filename in filenames:\n",
    "#        print(os.path.join(dirname, filename))\n",
    "\n",
    "df = pd.read_csv(\"diabetes_data_upload.csv\")\n",
    "df.head()"
   ]
  },
  {
   "cell_type": "markdown",
   "metadata": {
    "papermill": {
     "duration": 0.012292,
     "end_time": "2021-02-09T09:10:33.826292",
     "exception": false,
     "start_time": "2021-02-09T09:10:33.814000",
     "status": "completed"
    },
    "tags": []
   },
   "source": [
    "## Data Wrangling\n",
    "\n",
    "Data wrangling is the process of gathering, selecting, and transforming data to answer an analytical question. Also known as data cleaning or munging, legend has it that this wrangling costs analytics professionals as much as 80% of their time, leaving only 20% for exploration and modeling.\n",
    "\n",
    "But the dataset is pre cleaned and there is no missing data. As a result, it is quite an easy step here and there is not much to do."
   ]
  },
  {
   "cell_type": "code",
   "execution_count": 3,
   "metadata": {
    "execution": {
     "iopub.execute_input": "2021-02-09T09:10:33.856430Z",
     "iopub.status.busy": "2021-02-09T09:10:33.855483Z",
     "iopub.status.idle": "2021-02-09T09:10:33.877809Z",
     "shell.execute_reply": "2021-02-09T09:10:33.878374Z"
    },
    "papermill": {
     "duration": 0.039748,
     "end_time": "2021-02-09T09:10:33.878546",
     "exception": false,
     "start_time": "2021-02-09T09:10:33.838798",
     "status": "completed"
    },
    "tags": []
   },
   "outputs": [
    {
     "name": "stdout",
     "output_type": "stream",
     "text": [
      "<class 'pandas.core.frame.DataFrame'>\n",
      "RangeIndex: 520 entries, 0 to 519\n",
      "Data columns (total 17 columns):\n",
      " #   Column              Non-Null Count  Dtype \n",
      "---  ------              --------------  ----- \n",
      " 0   Age                 520 non-null    int64 \n",
      " 1   Gender              520 non-null    object\n",
      " 2   Polyuria            520 non-null    object\n",
      " 3   Polydipsia          520 non-null    object\n",
      " 4   sudden weight loss  520 non-null    object\n",
      " 5   weakness            520 non-null    object\n",
      " 6   Polyphagia          520 non-null    object\n",
      " 7   Genital thrush      520 non-null    object\n",
      " 8   visual blurring     520 non-null    object\n",
      " 9   Itching             520 non-null    object\n",
      " 10  Irritability        520 non-null    object\n",
      " 11  delayed healing     520 non-null    object\n",
      " 12  partial paresis     520 non-null    object\n",
      " 13  muscle stiffness    520 non-null    object\n",
      " 14  Alopecia            520 non-null    object\n",
      " 15  Obesity             520 non-null    object\n",
      " 16  class               520 non-null    object\n",
      "dtypes: int64(1), object(16)\n",
      "memory usage: 69.2+ KB\n"
     ]
    }
   ],
   "source": [
    "# Check the data types of the columns and if there is any null value.\n",
    "df.info()"
   ]
  },
  {
   "cell_type": "markdown",
   "metadata": {
    "papermill": {
     "duration": 0.012646,
     "end_time": "2021-02-09T09:10:33.904848",
     "exception": false,
     "start_time": "2021-02-09T09:10:33.892202",
     "status": "completed"
    },
    "tags": []
   },
   "source": [
    "## Exploratory Data Analysis\n",
    "\n",
    "In this section, we will try to infer about the trends in the dataset using data visualization and statistics. \n",
    "\n",
    "We can see that every columns without age consists of boolean values. So at first we need to encode them by using *LabelEncoder*. As these are boolean categorical values we cannot use [*pandas.DataFrame.describe*](https://pandas.pydata.org/pandas-docs/stable/reference/api/pandas.DataFrame.describe.html) to infer about the descriptive statistics including those that summarize the central tendency, dispersion and shape of a dataset’s distribution, excluding NaN values.\n",
    "\n",
    "Rather we can analyze the frequency of attributes over different age groups and gender."
   ]
  },
  {
   "cell_type": "code",
   "execution_count": 4,
   "metadata": {
    "execution": {
     "iopub.execute_input": "2021-02-09T09:10:33.936094Z",
     "iopub.status.busy": "2021-02-09T09:10:33.935350Z",
     "iopub.status.idle": "2021-02-09T09:10:34.124818Z",
     "shell.execute_reply": "2021-02-09T09:10:34.124248Z"
    },
    "papermill": {
     "duration": 0.206977,
     "end_time": "2021-02-09T09:10:34.124995",
     "exception": false,
     "start_time": "2021-02-09T09:10:33.918018",
     "status": "completed"
    },
    "tags": []
   },
   "outputs": [],
   "source": [
    "from sklearn import preprocessing\n",
    "label_encoder = preprocessing.LabelEncoder()\n",
    "for column  in df.columns[1:]:\n",
    "    df[column]= label_encoder.fit_transform(df[column])"
   ]
  },
  {
   "cell_type": "code",
   "execution_count": 5,
   "metadata": {
    "execution": {
     "iopub.execute_input": "2021-02-09T09:10:34.158679Z",
     "iopub.status.busy": "2021-02-09T09:10:34.157721Z",
     "iopub.status.idle": "2021-02-09T09:10:34.166476Z",
     "shell.execute_reply": "2021-02-09T09:10:34.165876Z"
    },
    "papermill": {
     "duration": 0.027151,
     "end_time": "2021-02-09T09:10:34.166624",
     "exception": false,
     "start_time": "2021-02-09T09:10:34.139473",
     "status": "completed"
    },
    "tags": []
   },
   "outputs": [
    {
     "data": {
      "text/plain": [
       "count    520.000000\n",
       "mean      48.028846\n",
       "std       12.151466\n",
       "min       16.000000\n",
       "25%       39.000000\n",
       "50%       47.500000\n",
       "75%       57.000000\n",
       "max       90.000000\n",
       "Name: Age, dtype: float64"
      ]
     },
     "execution_count": 5,
     "metadata": {},
     "output_type": "execute_result"
    }
   ],
   "source": [
    "# descriptive statistics of the Age column\n",
    "df.Age.describe()"
   ]
  },
  {
   "cell_type": "code",
   "execution_count": 6,
   "metadata": {
    "execution": {
     "iopub.execute_input": "2021-02-09T09:10:34.196978Z",
     "iopub.status.busy": "2021-02-09T09:10:34.196346Z",
     "iopub.status.idle": "2021-02-09T09:10:34.576021Z",
     "shell.execute_reply": "2021-02-09T09:10:34.575489Z"
    },
    "papermill": {
     "duration": 0.395788,
     "end_time": "2021-02-09T09:10:34.576166",
     "exception": false,
     "start_time": "2021-02-09T09:10:34.180378",
     "status": "completed"
    },
    "tags": []
   },
   "outputs": [
    {
     "data": {
      "image/png": "[encoded data removed]",
      "text/plain": [
       "<Figure size 360x360 with 1 Axes>"
      ]
     },
     "metadata": {
      "needs_background": "light"
     },
     "output_type": "display_data"
    }
   ],
   "source": [
    "# Distribution of patients age. \n",
    "sns.displot(x='Age', kind ='hist', data= df, bins = 10, kde = True);"
   ]
  },
  {
   "cell_type": "markdown",
   "metadata": {
    "papermill": {
     "duration": 0.014094,
     "end_time": "2021-02-09T09:10:34.604720",
     "exception": false,
     "start_time": "2021-02-09T09:10:34.590626",
     "status": "completed"
    },
    "tags": []
   },
   "source": [
    "## Data Pre processing and Feature Important analysis\n",
    "\n",
    "the dataset is already pre-processed and there is not much to do. But we can check what are the most important features of this data set by: Finding out the pearson correlation between features and Class Feature importance techniues to reduce computational cost.\n"
   ]
  },
  {
   "cell_type": "markdown",
   "metadata": {
    "papermill": {
     "duration": 0.014193,
     "end_time": "2021-02-09T09:10:34.633353",
     "exception": false,
     "start_time": "2021-02-09T09:10:34.619160",
     "status": "completed"
    },
    "tags": []
   },
   "source": [
    "### Correlation analysis\n",
    "\n",
    "Correlation is not casuation but we can infer which features attributes most in defining the class. So that, we can also reduce relatively insignificant features for reducing load in machine learning models. we have taken pearson correlation coefficient "
   ]
  },
  {
   "cell_type": "code",
   "execution_count": 7,
   "metadata": {
    "execution": {
     "iopub.execute_input": "2021-02-09T09:10:34.668878Z",
     "iopub.status.busy": "2021-02-09T09:10:34.667966Z",
     "iopub.status.idle": "2021-02-09T09:10:34.681667Z",
     "shell.execute_reply": "2021-02-09T09:10:34.681196Z"
    },
    "papermill": {
     "duration": 0.034004,
     "end_time": "2021-02-09T09:10:34.681797",
     "exception": false,
     "start_time": "2021-02-09T09:10:34.647793",
     "status": "completed"
    },
    "tags": []
   },
   "outputs": [
    {
     "data": {
      "text/plain": [
       "Polyuria              0.665922\n",
       "Polydipsia            0.648734\n",
       "Gender                0.449233\n",
       "sudden weight loss    0.436568\n",
       "partial paresis       0.432288\n",
       "Polyphagia            0.342504\n",
       "Irritability          0.299467\n",
       "Alopecia              0.267512\n",
       "visual blurring       0.251300\n",
       "weakness              0.243275\n",
       "muscle stiffness      0.122474\n",
       "Genital thrush        0.110288\n",
       "Age                   0.108679\n",
       "Obesity               0.072173\n",
       "delayed healing       0.046980\n",
       "Itching               0.013384\n",
       "dtype: float64"
      ]
     },
     "execution_count": 7,
     "metadata": {},
     "output_type": "execute_result"
    }
   ],
   "source": [
    "# taking the abosulute values of the correlating features to find out top 5 features\n",
    "np.abs(df.iloc[:,:-1].corrwith(df['class'])).sort_values(ascending = False)"
   ]
  },
  {
   "cell_type": "markdown",
   "metadata": {
    "papermill": {
     "duration": 0.014632,
     "end_time": "2021-02-09T09:10:34.711874",
     "exception": false,
     "start_time": "2021-02-09T09:10:34.697242",
     "status": "completed"
    },
    "tags": []
   },
   "source": [
    "### Feture importance\n",
    "\n",
    "which features are important is analyzed using RandomForestClassifier from sklearn.ensemble method. This is done in the Predictive analytics section bellow. From that we can see that *Age* is one of the most important factors but it is not quite correlated with the target variable *Class*.\n",
    "\n",
    "So, we should not rely on only one method in determing important features for predicting the target."
   ]
  },
  {
   "cell_type": "markdown",
   "metadata": {
    "papermill": {
     "duration": 0.016843,
     "end_time": "2021-02-09T09:10:34.743444",
     "exception": false,
     "start_time": "2021-02-09T09:10:34.726601",
     "status": "completed"
    },
    "tags": []
   },
   "source": [
    "## Predictive Analytics\n",
    "\n",
    "In predictive analytics, we need to come to an strategy for making a robust classifier to classify the likelyhood of a person having early stage diabetics by using new features. In this project, our goal should be minimizing false positives even if it reduces over all accuracy.\n",
    "\n",
    "In this step we need to:\n",
    "* split the dataset in training and testing dataset\n",
    "* find out the classification accuracy of a naive classifier\n",
    "* compare differnt classifier usign F1 score, precision, recall, accuracy and confusion matrix.\n",
    "* create an ensemble classifier using the top three classifiers "
   ]
  },
  {
   "cell_type": "code",
   "execution_count": 8,
   "metadata": {
    "execution": {
     "iopub.execute_input": "2021-02-09T09:10:34.777472Z",
     "iopub.status.busy": "2021-02-09T09:10:34.776807Z",
     "iopub.status.idle": "2021-02-09T09:10:34.855101Z",
     "shell.execute_reply": "2021-02-09T09:10:34.854123Z"
    },
    "papermill": {
     "duration": 0.096867,
     "end_time": "2021-02-09T09:10:34.855252",
     "exception": false,
     "start_time": "2021-02-09T09:10:34.758385",
     "status": "completed"
    },
    "tags": []
   },
   "outputs": [],
   "source": [
    "# importing necessary libraries\n",
    "from sklearn.metrics import accuracy_score\n",
    "from sklearn.model_selection import train_test_split\n",
    "from sklearn.model_selection import cross_val_predict, cross_val_score\n",
    "from sklearn.model_selection import KFold, ShuffleSplit\n",
    "from sklearn.metrics import classification_report, confusion_matrix"
   ]
  },
  {
   "cell_type": "code",
   "execution_count": 9,
   "metadata": {
    "execution": {
     "iopub.execute_input": "2021-02-09T09:10:34.891339Z",
     "iopub.status.busy": "2021-02-09T09:10:34.890703Z",
     "iopub.status.idle": "2021-02-09T09:10:34.897911Z",
     "shell.execute_reply": "2021-02-09T09:10:34.898596Z"
    },
    "papermill": {
     "duration": 0.028493,
     "end_time": "2021-02-09T09:10:34.898817",
     "exception": false,
     "start_time": "2021-02-09T09:10:34.870324",
     "status": "completed"
    },
    "tags": []
   },
   "outputs": [
    {
     "name": "stdout",
     "output_type": "stream",
     "text": [
      "(390, 16) (390,)\n",
      "(130, 16) (130,)\n"
     ]
    }
   ],
   "source": [
    "predictors = df.drop(['class'], axis= 1)\n",
    "target = df['class']\n",
    "x_train, x_val, y_train, y_val = train_test_split(predictors, target, test_size = 0.25, random_state = 0)\n",
    "print(x_train.shape, y_train.shape)\n",
    "print(x_val.shape, y_val.shape)"
   ]
  },
  {
   "cell_type": "markdown",
   "metadata": {
    "papermill": {
     "duration": 0.014799,
     "end_time": "2021-02-09T09:10:34.929743",
     "exception": false,
     "start_time": "2021-02-09T09:10:34.914944",
     "status": "completed"
    },
    "tags": []
   },
   "source": [
    "## Creating a Baseline Regression Model\n",
    "\n",
    "DummyRegressor allows us to create a very simple model that we can use as a baseline to compare against our actual model. This can often be useful to simulate a “naive” existing prediction process in a product or system.\n",
    "\n",
    "score returns the coefficient of determination $(R-squared, R^2)$. The closer $R^2$ is to 1, the more of the variance in the target vector that is explained by\n",
    "the features."
   ]
  },
  {
   "cell_type": "code",
   "execution_count": 10,
   "metadata": {
    "execution": {
     "iopub.execute_input": "2021-02-09T09:10:34.966058Z",
     "iopub.status.busy": "2021-02-09T09:10:34.965349Z",
     "iopub.status.idle": "2021-02-09T09:10:34.975642Z",
     "shell.execute_reply": "2021-02-09T09:10:34.975170Z"
    },
    "papermill": {
     "duration": 0.030858,
     "end_time": "2021-02-09T09:10:34.975782",
     "exception": false,
     "start_time": "2021-02-09T09:10:34.944924",
     "status": "completed"
    },
    "tags": []
   },
   "outputs": [
    {
     "data": {
      "text/plain": [
       "-0.015444015444015413"
      ]
     },
     "execution_count": 10,
     "metadata": {},
     "output_type": "execute_result"
    }
   ],
   "source": [
    "from sklearn.dummy import DummyRegressor\n",
    "\n",
    "dummy = DummyRegressor(strategy='mean')\n",
    "dummy.fit(x_train, y_train)\n",
    "dummy.score(x_val, y_val)"
   ]
  },
  {
   "cell_type": "code",
   "execution_count": 11,
   "metadata": {
    "execution": {
     "iopub.execute_input": "2021-02-09T09:10:35.011517Z",
     "iopub.status.busy": "2021-02-09T09:10:35.010920Z",
     "iopub.status.idle": "2021-02-09T09:10:35.014172Z",
     "shell.execute_reply": "2021-02-09T09:10:35.013567Z"
    },
    "papermill": {
     "duration": 0.022799,
     "end_time": "2021-02-09T09:10:35.014310",
     "exception": false,
     "start_time": "2021-02-09T09:10:34.991511",
     "status": "completed"
    },
    "tags": []
   },
   "outputs": [],
   "source": [
    "\n",
    "model =[]\n",
    "accuracy=[]\n",
    "std=[]"
   ]
  },
  {
   "cell_type": "code",
   "execution_count": 12,
   "metadata": {
    "execution": {
     "iopub.execute_input": "2021-02-09T09:10:35.048774Z",
     "iopub.status.busy": "2021-02-09T09:10:35.048181Z",
     "iopub.status.idle": "2021-02-09T09:10:35.054345Z",
     "shell.execute_reply": "2021-02-09T09:10:35.054862Z"
    },
    "papermill": {
     "duration": 0.025035,
     "end_time": "2021-02-09T09:10:35.055042",
     "exception": false,
     "start_time": "2021-02-09T09:10:35.030007",
     "status": "completed"
    },
    "tags": []
   },
   "outputs": [],
   "source": [
    "def model_accuracy(classifier = None, predictors=None, target= None, n_splits = 10):\n",
    "    # helper function for Model Evaluation\n",
    "    \n",
    "    kf = KFold(n_splits=10, shuffle=True, random_state=1)\n",
    "    \n",
    "    y_pred = cross_val_predict(classifier, predictors, target, cv=kf)\n",
    "    scores = cross_val_score(classifier, predictors, target, cv=kf)\n",
    "    \n",
    "    print(\"{0:.2f} accuracy with a standard deviation of {0:.2f}\".format(scores.mean(), scores.std()))\n",
    "    \n",
    "    print(classification_report(target, y_pred))\n",
    "    cf_matrix = confusion_matrix(target, y_pred)\n",
    "    \n",
    "    \n",
    "    # plot\n",
    "    sns.set_style('ticks')\n",
    "    fig, ax = plt.subplots()\n",
    "    \n",
    "    sns.heatmap(cf_matrix,annot=True, ax=ax, fmt='g', cmap='Blues')\n",
    "    \n",
    "    return (scores.mean(), scores.std())"
   ]
  },
  {
   "cell_type": "code",
   "execution_count": 13,
   "metadata": {
    "execution": {
     "iopub.execute_input": "2021-02-09T09:10:35.089866Z",
     "iopub.status.busy": "2021-02-09T09:10:35.089254Z",
     "iopub.status.idle": "2021-02-09T09:10:35.344229Z",
     "shell.execute_reply": "2021-02-09T09:10:35.344667Z"
    },
    "papermill": {
     "duration": 0.273794,
     "end_time": "2021-02-09T09:10:35.344859",
     "exception": false,
     "start_time": "2021-02-09T09:10:35.071065",
     "status": "completed"
    },
    "tags": []
   },
   "outputs": [
    {
     "name": "stdout",
     "output_type": "stream",
     "text": [
      "0.88 accuracy with a standard deviation of 0.88\n",
      "              precision    recall  f1-score   support\n",
      "\n",
      "           0       0.85      0.83      0.84       200\n",
      "           1       0.90      0.91      0.90       320\n",
      "\n",
      "    accuracy                           0.88       520\n",
      "   macro avg       0.87      0.87      0.87       520\n",
      "weighted avg       0.88      0.88      0.88       520\n",
      "\n"
     ]
    },
    {
     "data": {
      "image/png": "[encoded data removed]",
      "text/plain": [
       "<Figure size 432x288 with 2 Axes>"
      ]
     },
     "metadata": {},
     "output_type": "display_data"
    }
   ],
   "source": [
    "from sklearn.naive_bayes import GaussianNB\n",
    "clf_GNB = GaussianNB()\n",
    "accuracy_GNB = model_accuracy(classifier=clf_GNB, predictors=predictors, target=target)\n",
    "\n",
    "model.append('GaussianNB')\n",
    "accuracy.append(accuracy_GNB[0])\n",
    "std.append(accuracy_GNB[1])"
   ]
  },
  {
   "cell_type": "code",
   "execution_count": 14,
   "metadata": {
    "execution": {
     "iopub.execute_input": "2021-02-09T09:10:35.383405Z",
     "iopub.status.busy": "2021-02-09T09:10:35.382674Z",
     "iopub.status.idle": "2021-02-09T09:10:36.271764Z",
     "shell.execute_reply": "2021-02-09T09:10:36.272412Z"
    },
    "papermill": {
     "duration": 0.911013,
     "end_time": "2021-02-09T09:10:36.272658",
     "exception": false,
     "start_time": "2021-02-09T09:10:35.361645",
     "status": "completed"
    },
    "tags": []
   },
   "outputs": [
    {
     "name": "stdout",
     "output_type": "stream",
     "text": [
      "0.92 accuracy with a standard deviation of 0.92\n",
      "              precision    recall  f1-score   support\n",
      "\n",
      "           0       0.90      0.91      0.90       200\n",
      "           1       0.94      0.93      0.94       320\n",
      "\n",
      "    accuracy                           0.92       520\n",
      "   macro avg       0.92      0.92      0.92       520\n",
      "weighted avg       0.92      0.92      0.92       520\n",
      "\n"
     ]
    },
    {
     "data": {
      "image/png": "[encoded data removed]",
      "text/plain": [
       "<Figure size 432x288 with 2 Axes>"
      ]
     },
     "metadata": {},
     "output_type": "display_data"
    }
   ],
   "source": [
    "from sklearn.linear_model import LogisticRegression\n",
    "clf_LR= LogisticRegression(max_iter=1000, )\n",
    "accuracy_LR = model_accuracy(classifier=clf_LR, predictors=predictors, target=target)\n",
    "model.append('LogisticRegression')\n",
    "accuracy.append(accuracy_LR[0])\n",
    "std.append(accuracy_LR[1])"
   ]
  },
  {
   "cell_type": "code",
   "execution_count": 15,
   "metadata": {
    "execution": {
     "iopub.execute_input": "2021-02-09T09:10:36.314499Z",
     "iopub.status.busy": "2021-02-09T09:10:36.313893Z",
     "iopub.status.idle": "2021-02-09T09:10:36.680917Z",
     "shell.execute_reply": "2021-02-09T09:10:36.680284Z"
    },
    "papermill": {
     "duration": 0.389702,
     "end_time": "2021-02-09T09:10:36.681052",
     "exception": false,
     "start_time": "2021-02-09T09:10:36.291350",
     "status": "completed"
    },
    "tags": []
   },
   "outputs": [
    {
     "name": "stdout",
     "output_type": "stream",
     "text": [
      "0.97 accuracy with a standard deviation of 0.97\n",
      "              precision    recall  f1-score   support\n",
      "\n",
      "           0       0.96      0.97      0.96       200\n",
      "           1       0.98      0.97      0.98       320\n",
      "\n",
      "    accuracy                           0.97       520\n",
      "   macro avg       0.97      0.97      0.97       520\n",
      "weighted avg       0.97      0.97      0.97       520\n",
      "\n"
     ]
    },
    {
     "data": {
      "image/png": "[encoded data removed]",
      "text/plain": [
       "<Figure size 432x288 with 2 Axes>"
      ]
     },
     "metadata": {},
     "output_type": "display_data"
    }
   ],
   "source": [
    "from sklearn.tree import DecisionTreeClassifier\n",
    "clf_DT = DecisionTreeClassifier()\n",
    "accuracy_DT = model_accuracy(classifier=clf_DT, predictors=predictors, target=target)\n",
    "\n",
    "model.append('DecisionTreeClassifier')\n",
    "accuracy.append(accuracy_DT[0])\n",
    "std.append(accuracy_DT[1])"
   ]
  },
  {
   "cell_type": "code",
   "execution_count": 16,
   "metadata": {
    "execution": {
     "iopub.execute_input": "2021-02-09T09:10:36.722943Z",
     "iopub.status.busy": "2021-02-09T09:10:36.722333Z",
     "iopub.status.idle": "2021-02-09T09:10:40.008387Z",
     "shell.execute_reply": "2021-02-09T09:10:40.008862Z"
    },
    "papermill": {
     "duration": 3.309663,
     "end_time": "2021-02-09T09:10:40.009044",
     "exception": false,
     "start_time": "2021-02-09T09:10:36.699381",
     "status": "completed"
    },
    "tags": []
   },
   "outputs": [
    {
     "name": "stdout",
     "output_type": "stream",
     "text": [
      "0.98 accuracy with a standard deviation of 0.98\n",
      "              precision    recall  f1-score   support\n",
      "\n",
      "           0       0.98      0.98      0.98       200\n",
      "           1       0.99      0.98      0.99       320\n",
      "\n",
      "    accuracy                           0.98       520\n",
      "   macro avg       0.98      0.98      0.98       520\n",
      "weighted avg       0.98      0.98      0.98       520\n",
      "\n"
     ]
    },
    {
     "data": {
      "image/png": "[encoded data removed]",
      "text/plain": [
       "<Figure size 432x288 with 2 Axes>"
      ]
     },
     "metadata": {},
     "output_type": "display_data"
    }
   ],
   "source": [
    "from sklearn.ensemble import RandomForestClassifier\n",
    "clf_RF = RandomForestClassifier()\n",
    "accuracy_RF = model_accuracy(classifier=clf_RF, predictors=predictors, target=target)\n",
    "\n",
    "model.append('RandomForestClassifier')\n",
    "accuracy.append(accuracy_RF[0])\n",
    "std.append(accuracy_RF[1])"
   ]
  },
  {
   "cell_type": "code",
   "execution_count": 17,
   "metadata": {
    "execution": {
     "iopub.execute_input": "2021-02-09T09:10:40.067361Z",
     "iopub.status.busy": "2021-02-09T09:10:40.056343Z",
     "iopub.status.idle": "2021-02-09T09:10:41.578381Z",
     "shell.execute_reply": "2021-02-09T09:10:41.577589Z"
    },
    "papermill": {
     "duration": 1.550115,
     "end_time": "2021-02-09T09:10:41.578523",
     "exception": false,
     "start_time": "2021-02-09T09:10:40.028408",
     "status": "completed"
    },
    "tags": []
   },
   "outputs": [
    {
     "data": {
      "image/png": "[encoded data removed]",
      "text/plain": [
       "<Figure size 432x288 with 1 Axes>"
      ]
     },
     "metadata": {},
     "output_type": "display_data"
    }
   ],
   "source": [
    "# plotting feature importances\n",
    "\n",
    "from sklearn.ensemble import RandomForestClassifier\n",
    "\n",
    "# fitting the model\n",
    "model_RF = RandomForestClassifier(n_estimators=500, n_jobs=-1, random_state=42)\n",
    "model_RF.fit(x_train, y_train)\n",
    "\n",
    "features = df.drop('class', axis=1).columns\n",
    "importances = model_RF.feature_importances_\n",
    "indices = np.argsort(importances)\n",
    "\n",
    "plt.figure()\n",
    "plt.title('Feature Importances')\n",
    "plt.barh(range(len(indices)), importances[indices], color='b', align='center')\n",
    "plt.yticks(range(len(indices)), [features[i] for i in indices])\n",
    "plt.xlabel('Relative Importance')\n",
    "plt.show()"
   ]
  },
  {
   "cell_type": "code",
   "execution_count": 18,
   "metadata": {
    "execution": {
     "iopub.execute_input": "2021-02-09T09:10:41.629757Z",
     "iopub.status.busy": "2021-02-09T09:10:41.629046Z",
     "iopub.status.idle": "2021-02-09T09:10:43.672366Z",
     "shell.execute_reply": "2021-02-09T09:10:43.672781Z"
    },
    "papermill": {
     "duration": 2.07403,
     "end_time": "2021-02-09T09:10:43.672992",
     "exception": false,
     "start_time": "2021-02-09T09:10:41.598962",
     "status": "completed"
    },
    "tags": []
   },
   "outputs": [
    {
     "name": "stdout",
     "output_type": "stream",
     "text": [
      "0.97 accuracy with a standard deviation of 0.97\n",
      "              precision    recall  f1-score   support\n",
      "\n",
      "           0       0.97      0.97      0.97       200\n",
      "           1       0.98      0.98      0.98       320\n",
      "\n",
      "    accuracy                           0.97       520\n",
      "   macro avg       0.97      0.97      0.97       520\n",
      "weighted avg       0.98      0.97      0.98       520\n",
      "\n"
     ]
    },
    {
     "data": {
      "image/png": "[encoded data removed]",
      "text/plain": [
       "<Figure size 432x288 with 2 Axes>"
      ]
     },
     "metadata": {},
     "output_type": "display_data"
    }
   ],
   "source": [
    "from sklearn.ensemble import GradientBoostingClassifier\n",
    "clf_GBC = GradientBoostingClassifier()\n",
    "accuracy_GBC = model_accuracy(classifier=clf_GBC, predictors=predictors, target=target)\n",
    "\n",
    "model.append('GradientBoostingClassifier')\n",
    "accuracy.append(accuracy_GBC[0])\n",
    "std.append(accuracy_GBC[1])"
   ]
  },
  {
   "cell_type": "code",
   "execution_count": 19,
   "metadata": {
    "execution": {
     "iopub.execute_input": "2021-02-09T09:10:43.728385Z",
     "iopub.status.busy": "2021-02-09T09:10:43.727319Z",
     "iopub.status.idle": "2021-02-09T09:10:43.732656Z",
     "shell.execute_reply": "2021-02-09T09:10:43.732134Z"
    },
    "papermill": {
     "duration": 0.038506,
     "end_time": "2021-02-09T09:10:43.732808",
     "exception": false,
     "start_time": "2021-02-09T09:10:43.694302",
     "status": "completed"
    },
    "tags": []
   },
   "outputs": [
    {
     "data": {
      "text/html": [
       "<div>\n",
       "<style scoped>\n",
       "    .dataframe tbody tr th:only-of-type {\n",
       "        vertical-align: middle;\n",
       "    }\n",
       "\n",
       "    .dataframe tbody tr th {\n",
       "        vertical-align: top;\n",
       "    }\n",
       "\n",
       "    .dataframe thead th {\n",
       "        text-align: right;\n",
       "    }\n",
       "</style>\n",
       "<table border=\"1\" class=\"dataframe\">\n",
       "  <thead>\n",
       "    <tr style=\"text-align: right;\">\n",
       "      <th></th>\n",
       "      <th>model_name</th>\n",
       "      <th>accuracy</th>\n",
       "      <th>std</th>\n",
       "    </tr>\n",
       "  </thead>\n",
       "  <tbody>\n",
       "    <tr>\n",
       "      <th>3</th>\n",
       "      <td>RandomForestClassifier</td>\n",
       "      <td>0.984615</td>\n",
       "      <td>0.020712</td>\n",
       "    </tr>\n",
       "    <tr>\n",
       "      <th>4</th>\n",
       "      <td>GradientBoostingClassifier</td>\n",
       "      <td>0.975000</td>\n",
       "      <td>0.022835</td>\n",
       "    </tr>\n",
       "    <tr>\n",
       "      <th>2</th>\n",
       "      <td>DecisionTreeClassifier</td>\n",
       "      <td>0.967308</td>\n",
       "      <td>0.017308</td>\n",
       "    </tr>\n",
       "    <tr>\n",
       "      <th>1</th>\n",
       "      <td>LogisticRegression</td>\n",
       "      <td>0.923077</td>\n",
       "      <td>0.032179</td>\n",
       "    </tr>\n",
       "    <tr>\n",
       "      <th>0</th>\n",
       "      <td>GaussianNB</td>\n",
       "      <td>0.878846</td>\n",
       "      <td>0.055769</td>\n",
       "    </tr>\n",
       "  </tbody>\n",
       "</table>\n",
       "</div>"
      ],
      "text/plain": [
       "                   model_name  accuracy       std\n",
       "3      RandomForestClassifier  0.984615  0.020712\n",
       "4  GradientBoostingClassifier  0.975000  0.022835\n",
       "2      DecisionTreeClassifier  0.967308  0.017308\n",
       "1          LogisticRegression  0.923077  0.032179\n",
       "0                  GaussianNB  0.878846  0.055769"
      ]
     },
     "execution_count": 19,
     "metadata": {},
     "output_type": "execute_result"
    }
   ],
   "source": [
    "classifiers= {'model_name': model, 'accuracy': accuracy, 'std': std}\n",
    "df_comp = pd.DataFrame(classifiers)\n",
    "df_comp.sort_values(by='accuracy', ascending=False)"
   ]
  }
 ],
 "metadata": {
  "kernelspec": {
   "display_name": "Python 3",
   "language": "python",
   "name": "python3"
  },
  "language_info": {
   "codemirror_mode": {
    "name": "ipython",
    "version": 3
   },
   "file_extension": ".py",
   "mimetype": "text/x-python",
   "name": "python",
   "nbconvert_exporter": "python",
   "pygments_lexer": "ipython3",
   "version": "3.8.5"
  },
  "papermill": {
   "default_parameters": {},
   "duration": 17.710986,
   "end_time": "2021-02-09T09:10:44.466069",
   "environment_variables": {},
   "exception": null,
   "input_path": "__notebook__.ipynb",
   "output_path": "__notebook__.ipynb",
   "parameters": {},
   "start_time": "2021-02-09T09:10:26.755083",
   "version": "2.2.2"
  }
 },
 "nbformat": 4,
 "nbformat_minor": 4
}
